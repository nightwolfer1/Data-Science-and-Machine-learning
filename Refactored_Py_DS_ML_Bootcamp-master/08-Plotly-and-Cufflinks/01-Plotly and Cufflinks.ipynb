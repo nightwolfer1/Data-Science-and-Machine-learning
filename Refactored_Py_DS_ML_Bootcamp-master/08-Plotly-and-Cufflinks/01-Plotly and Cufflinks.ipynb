{
 "cells": [
  {
   "cell_type": "markdown",
   "metadata": {},
   "source": [
    "___\n",
    "\n",
    "<a href='http://www.pieriandata.com'> <img src='../Pierian_Data_Logo.png' /></a>\n",
    "___\n",
    "# Plotly and Cufflinks"
   ]
  },
  {
   "cell_type": "markdown",
   "metadata": {},
   "source": [
    "Plotly is a library that allows you to create interactive plots that you can use in dashboards or websites (you can save them as html files or static images).\n",
    "\n",
    "## Installation\n",
    "\n",
    "In order for this all to work, you'll need to install plotly and cufflinks to call plots directly off of a pandas dataframe. These libraries are not currently available through **conda** but are available through **pip**. Install the libraries at your command line/terminal using:\n",
    "\n",
    "    pip install plotly\n",
    "    pip install cufflinks\n",
    "\n",
    "** NOTE: Make sure you only have one installation of Python on your computer when you do this, otherwise the installation may not work. **\n",
    "\n",
    "## Imports and Set-up"
   ]
  },
  {
   "cell_type": "code",
   "execution_count": 2,
   "metadata": {},
   "outputs": [],
   "source": [
    "import pandas as pd\n",
    "import numpy as np\n",
    "%matplotlib inline"
   ]
  },
  {
   "cell_type": "code",
   "execution_count": 1,
   "metadata": {},
   "outputs": [
    {
     "data": {
      "text/plain": [
       "'C:\\\\Users\\\\nightwolfer\\\\git\\\\Python_Machine_learning\\\\Refactored_Py_DS_ML_Bootcamp-master\\\\08-Plotly-and-Cufflinks'"
      ]
     },
     "execution_count": 1,
     "metadata": {},
     "output_type": "execute_result"
    }
   ],
   "source": []
  },
  {
   "cell_type": "code",
   "execution_count": 3,
   "metadata": {},
   "outputs": [
    {
     "name": "stdout",
     "output_type": "stream",
     "text": [
      "4.11.0\n"
     ]
    }
   ],
   "source": [
    "from plotly import __version__\n",
    "from plotly.offline import download_plotlyjs, init_notebook_mode, plot, iplot\n",
    "\n",
    "print(__version__) # requires version >= 1.9.0"
   ]
  },
  {
   "cell_type": "code",
   "execution_count": 4,
   "metadata": {},
   "outputs": [],
   "source": [
    "import cufflinks as cf"
   ]
  },
  {
   "cell_type": "code",
   "execution_count": 5,
   "metadata": {},
   "outputs": [
    {
     "data": {
      "text/html": [
       "        <script type=\"text/javascript\">\n",
       "        window.PlotlyConfig = {MathJaxConfig: 'local'};\n",
       "        if (window.MathJax) {MathJax.Hub.Config({SVG: {font: \"STIX-Web\"}});}\n",
       "        if (typeof require !== 'undefined') {\n",
       "        require.undef(\"plotly\");\n",
       "        requirejs.config({\n",
       "            paths: {\n",
       "                'plotly': ['https://cdn.plot.ly/plotly-latest.min']\n",
       "            }\n",
       "        });\n",
       "        require(['plotly'], function(Plotly) {\n",
       "            window._Plotly = Plotly;\n",
       "        });\n",
       "        }\n",
       "        </script>\n",
       "        "
      ]
     },
     "metadata": {},
     "output_type": "display_data"
    }
   ],
   "source": [
    "# For Notebooks\n",
    "init_notebook_mode(connected=True)"
   ]
  },
  {
   "cell_type": "code",
   "execution_count": 6,
   "metadata": {},
   "outputs": [
    {
     "data": {
      "text/html": [
       "        <script type=\"text/javascript\">\n",
       "        window.PlotlyConfig = {MathJaxConfig: 'local'};\n",
       "        if (window.MathJax) {MathJax.Hub.Config({SVG: {font: \"STIX-Web\"}});}\n",
       "        if (typeof require !== 'undefined') {\n",
       "        require.undef(\"plotly\");\n",
       "        requirejs.config({\n",
       "            paths: {\n",
       "                'plotly': ['https://cdn.plot.ly/plotly-latest.min']\n",
       "            }\n",
       "        });\n",
       "        require(['plotly'], function(Plotly) {\n",
       "            window._Plotly = Plotly;\n",
       "        });\n",
       "        }\n",
       "        </script>\n",
       "        "
      ]
     },
     "metadata": {},
     "output_type": "display_data"
    }
   ],
   "source": [
    "# For offline use\n",
    "cf.go_offline()"
   ]
  },
  {
   "cell_type": "markdown",
   "metadata": {},
   "source": [
    "### Fake Data"
   ]
  },
  {
   "cell_type": "code",
   "execution_count": 7,
   "metadata": {},
   "outputs": [],
   "source": [
    "df = pd.DataFrame(np.random.randn(100,4),columns='A B C D'.split())"
   ]
  },
  {
   "cell_type": "code",
   "execution_count": 8,
   "metadata": {},
   "outputs": [
    {
     "data": {
      "text/html": [
       "<div>\n",
       "<style scoped>\n",
       "    .dataframe tbody tr th:only-of-type {\n",
       "        vertical-align: middle;\n",
       "    }\n",
       "\n",
       "    .dataframe tbody tr th {\n",
       "        vertical-align: top;\n",
       "    }\n",
       "\n",
       "    .dataframe thead th {\n",
       "        text-align: right;\n",
       "    }\n",
       "</style>\n",
       "<table border=\"1\" class=\"dataframe\">\n",
       "  <thead>\n",
       "    <tr style=\"text-align: right;\">\n",
       "      <th></th>\n",
       "      <th>A</th>\n",
       "      <th>B</th>\n",
       "      <th>C</th>\n",
       "      <th>D</th>\n",
       "    </tr>\n",
       "  </thead>\n",
       "  <tbody>\n",
       "    <tr>\n",
       "      <th>0</th>\n",
       "      <td>1.030627</td>\n",
       "      <td>-1.317186</td>\n",
       "      <td>0.083792</td>\n",
       "      <td>-0.692063</td>\n",
       "    </tr>\n",
       "    <tr>\n",
       "      <th>1</th>\n",
       "      <td>-0.009780</td>\n",
       "      <td>0.762438</td>\n",
       "      <td>0.214879</td>\n",
       "      <td>-1.232897</td>\n",
       "    </tr>\n",
       "    <tr>\n",
       "      <th>2</th>\n",
       "      <td>-0.279077</td>\n",
       "      <td>-0.265987</td>\n",
       "      <td>0.050378</td>\n",
       "      <td>-0.133380</td>\n",
       "    </tr>\n",
       "    <tr>\n",
       "      <th>3</th>\n",
       "      <td>-1.013974</td>\n",
       "      <td>-0.526497</td>\n",
       "      <td>0.875634</td>\n",
       "      <td>-0.107183</td>\n",
       "    </tr>\n",
       "    <tr>\n",
       "      <th>4</th>\n",
       "      <td>0.090069</td>\n",
       "      <td>0.107750</td>\n",
       "      <td>0.859047</td>\n",
       "      <td>-1.186996</td>\n",
       "    </tr>\n",
       "  </tbody>\n",
       "</table>\n",
       "</div>"
      ],
      "text/plain": [
       "          A         B         C         D\n",
       "0  1.030627 -1.317186  0.083792 -0.692063\n",
       "1 -0.009780  0.762438  0.214879 -1.232897\n",
       "2 -0.279077 -0.265987  0.050378 -0.133380\n",
       "3 -1.013974 -0.526497  0.875634 -0.107183\n",
       "4  0.090069  0.107750  0.859047 -1.186996"
      ]
     },
     "execution_count": 8,
     "metadata": {},
     "output_type": "execute_result"
    }
   ],
   "source": [
    "df.head()"
   ]
  },
  {
   "cell_type": "code",
   "execution_count": 9,
   "metadata": {},
   "outputs": [],
   "source": [
    "df2 = pd.DataFrame({'Category':['A','B','C'],'Values':[32,43,50]})"
   ]
  },
  {
   "cell_type": "code",
   "execution_count": 10,
   "metadata": {},
   "outputs": [
    {
     "data": {
      "text/html": [
       "<div>\n",
       "<style scoped>\n",
       "    .dataframe tbody tr th:only-of-type {\n",
       "        vertical-align: middle;\n",
       "    }\n",
       "\n",
       "    .dataframe tbody tr th {\n",
       "        vertical-align: top;\n",
       "    }\n",
       "\n",
       "    .dataframe thead th {\n",
       "        text-align: right;\n",
       "    }\n",
       "</style>\n",
       "<table border=\"1\" class=\"dataframe\">\n",
       "  <thead>\n",
       "    <tr style=\"text-align: right;\">\n",
       "      <th></th>\n",
       "      <th>Category</th>\n",
       "      <th>Values</th>\n",
       "    </tr>\n",
       "  </thead>\n",
       "  <tbody>\n",
       "    <tr>\n",
       "      <th>0</th>\n",
       "      <td>A</td>\n",
       "      <td>32</td>\n",
       "    </tr>\n",
       "    <tr>\n",
       "      <th>1</th>\n",
       "      <td>B</td>\n",
       "      <td>43</td>\n",
       "    </tr>\n",
       "    <tr>\n",
       "      <th>2</th>\n",
       "      <td>C</td>\n",
       "      <td>50</td>\n",
       "    </tr>\n",
       "  </tbody>\n",
       "</table>\n",
       "</div>"
      ],
      "text/plain": [
       "  Category  Values\n",
       "0        A      32\n",
       "1        B      43\n",
       "2        C      50"
      ]
     },
     "execution_count": 10,
     "metadata": {},
     "output_type": "execute_result"
    }
   ],
   "source": [
    "df2.head()"
   ]
  },
  {
   "cell_type": "markdown",
   "metadata": {},
   "source": [
    "## Using Cufflinks and iplot()\n",
    "\n",
    "* scatter\n",
    "* bar\n",
    "* box\n",
    "* spread\n",
    "* ratio\n",
    "* heatmap\n",
    "* surface\n",
    "* histogram\n",
    "* bubble"
   ]
  },
  {
   "cell_type": "markdown",
   "metadata": {},
   "source": [
    "## Scatter"
   ]
  },
  {
   "cell_type": "code",
   "execution_count": 11,
   "metadata": {},
   "outputs": [
    {
     "data": {
      "application/vnd.plotly.v1+json": {
       "config": {
        "linkText": "Export to plot.ly",
        "plotlyServerURL": "https://plot.ly",
        "showLink": true
       },
       "data": [
        {
         "line": {
          "color": "rgba(255, 153, 51, 1.0)",
          "dash": "solid",
          "shape": "linear",
          "width": 1.3
         },
         "marker": {
          "size": 10,
          "symbol": "circle"
         },
         "mode": "markers",
         "name": "B",
         "text": "",
         "type": "scatter",
         "x": [
          1.0306268310521411,
          -0.009779592803279932,
          -0.2790768811322032,
          -1.0139740466904634,
          0.0900692504783834,
          -0.2535851169626924,
          -1.6467454574663618,
          1.7307237074588178,
          1.9502548897209437,
          -0.19755479047900773,
          0.2398666841948917,
          0.7010948394146828,
          -1.1451707605139148,
          0.46661900006528834,
          -0.8657550022928382,
          -1.6038650824285154,
          0.27757731154907933,
          -0.3431836968023546,
          -0.23005393886187692,
          1.0417258828980622,
          -0.8420841231491191,
          0.8152608031368365,
          -0.9625178400335987,
          -1.1404010459367615,
          0.050065537297441697,
          -2.370511621398351,
          -0.14919235354725413,
          0.41704549449768563,
          -0.6054188923136063,
          1.1554385786210146,
          0.7844642545459046,
          -1.475697549467589,
          0.04357284219822051,
          0.6794088833644034,
          0.6088565243362992,
          -1.1236414266064494,
          -0.8645947981730004,
          -0.189315236879113,
          -1.6210608672291478,
          0.9826668024309222,
          -0.6583173023179347,
          -0.5261504456906693,
          -0.03469245259160687,
          -0.6441359781479439,
          2.1734528796420545,
          -0.695189681213425,
          -0.46387873617425734,
          -1.4406688499833342,
          -1.2366946841550048,
          -0.10445908435134638,
          1.4251663204192084,
          0.5459100358998471,
          -0.8142886165167468,
          1.6532780391932245,
          -0.1756159152534916,
          1.3322517121474091,
          -1.4189570454958202,
          -0.4365752199462574,
          0.9537908960745699,
          -0.3539941043674274,
          -1.7317323557753117,
          -1.6056342883818238,
          -0.14249131405174065,
          0.757385761017589,
          0.9217206398940825,
          0.8344690988574576,
          -1.2899900493073886,
          -0.5943831892006142,
          -0.30372445542656695,
          -0.6417063779059349,
          -0.7037207687010433,
          1.1647604326551553,
          1.6423197600571988,
          1.5706789394322735,
          0.1367178711685339,
          -0.27323866815150344,
          -0.6314346286156403,
          0.4479905105725482,
          0.5890067573599885,
          0.2851593629595951,
          0.21447051208841894,
          -0.33151322309343284,
          0.5286453144797023,
          -1.06397649923059,
          0.5211095633016483,
          0.11631777499822968,
          0.42275350128486044,
          -0.6165342792073051,
          -1.6774563192891445,
          -0.4449128911114853,
          -0.3718594486932189,
          -0.3548745644616727,
          -0.0653257564023129,
          -1.380490514092773,
          1.2171934013759687,
          -0.19344980330040593,
          -1.0615002168273389,
          -0.7803014574950484,
          1.0018898744196458,
          -0.005603546937125365
         ],
         "y": [
          -1.3171858117403332,
          0.7624380978698583,
          -0.26598712621796905,
          -0.5264968283634126,
          0.10775038884771772,
          -0.41831917087155723,
          -0.13336026616854868,
          -2.052679358839702,
          -0.2308750629501153,
          0.2902137081421649,
          0.5462280675460035,
          1.565509826018809,
          -1.4187648886808986,
          -1.423344160179114,
          0.5147971814034639,
          -1.1955784398830605,
          0.08841387852632229,
          0.9668380080455504,
          -2.0063648569849772,
          0.6808736919461532,
          0.18781766388703022,
          0.5614171365614565,
          -0.6444394608278725,
          -0.9555977425121828,
          0.5299791506581135,
          0.41850851624872903,
          -1.5661227844941723,
          0.5843187666974453,
          -1.4004706879941347,
          0.8719603928383804,
          0.12816736803148948,
          -0.6104649553361966,
          0.39821361249434495,
          0.3606846856900817,
          0.7413036225859474,
          0.1627576812495385,
          -0.11822845890206685,
          0.7059999893225765,
          0.7170034475706563,
          -0.5027599164597009,
          0.10001385944510605,
          0.005207958097552748,
          1.6930322553144348,
          0.29635397928301377,
          0.30803560854128187,
          -0.36681447693814095,
          -1.890051113809245,
          0.7540909096954302,
          -0.1773227273363077,
          -0.23349584546769653,
          -0.5713628964543889,
          -1.4716137756569088,
          0.9304562545373743,
          0.4995878163784225,
          0.65980085367938,
          -1.4262329597400663,
          0.4473009688035141,
          0.9388857213269526,
          -0.449652377171511,
          -0.41019978026484133,
          1.3454325846951676,
          -1.734053342435024,
          -0.35576304849981377,
          1.9486922219268799,
          0.5737692643406617,
          0.9393293725888838,
          -0.8987704602488126,
          -1.2179927775473998,
          -0.3154686479242465,
          0.11496694956077251,
          0.868292857634255,
          0.38527378173858845,
          0.6327010724068767,
          0.6067968510291968,
          0.1742604029204123,
          0.7507414554072483,
          0.0793466639492751,
          0.05341761777299585,
          -1.1964557802321034,
          1.6445281574639363,
          0.71006173073308,
          0.09181605215087117,
          0.15398334088760324,
          -0.3343350278170103,
          -1.4134082457416612,
          0.5162593987334545,
          -1.0231974241693471,
          1.736265472251738,
          -1.2743123078491674,
          -1.1200108534882374,
          0.284539525306163,
          0.28641559822266427,
          -0.10302174914339148,
          1.1760968400628866,
          0.31675765561830554,
          1.1281775757982864,
          -0.9114292516561148,
          -0.09818298589490093,
          1.4896167556584419,
          0.1509599741757448
         ]
        }
       ],
       "layout": {
        "legend": {
         "bgcolor": "#F5F6F9",
         "font": {
          "color": "#4D5663"
         }
        },
        "paper_bgcolor": "#F5F6F9",
        "plot_bgcolor": "#F5F6F9",
        "template": {
         "data": {
          "bar": [
           {
            "error_x": {
             "color": "#2a3f5f"
            },
            "error_y": {
             "color": "#2a3f5f"
            },
            "marker": {
             "line": {
              "color": "#E5ECF6",
              "width": 0.5
             }
            },
            "type": "bar"
           }
          ],
          "barpolar": [
           {
            "marker": {
             "line": {
              "color": "#E5ECF6",
              "width": 0.5
             }
            },
            "type": "barpolar"
           }
          ],
          "carpet": [
           {
            "aaxis": {
             "endlinecolor": "#2a3f5f",
             "gridcolor": "white",
             "linecolor": "white",
             "minorgridcolor": "white",
             "startlinecolor": "#2a3f5f"
            },
            "baxis": {
             "endlinecolor": "#2a3f5f",
             "gridcolor": "white",
             "linecolor": "white",
             "minorgridcolor": "white",
             "startlinecolor": "#2a3f5f"
            },
            "type": "carpet"
           }
          ],
          "choropleth": [
           {
            "colorbar": {
             "outlinewidth": 0,
             "ticks": ""
            },
            "type": "choropleth"
           }
          ],
          "contour": [
           {
            "colorbar": {
             "outlinewidth": 0,
             "ticks": ""
            },
            "colorscale": [
             [
              0,
              "#0d0887"
             ],
             [
              0.1111111111111111,
              "#46039f"
             ],
             [
              0.2222222222222222,
              "#7201a8"
             ],
             [
              0.3333333333333333,
              "#9c179e"
             ],
             [
              0.4444444444444444,
              "#bd3786"
             ],
             [
              0.5555555555555556,
              "#d8576b"
             ],
             [
              0.6666666666666666,
              "#ed7953"
             ],
             [
              0.7777777777777778,
              "#fb9f3a"
             ],
             [
              0.8888888888888888,
              "#fdca26"
             ],
             [
              1,
              "#f0f921"
             ]
            ],
            "type": "contour"
           }
          ],
          "contourcarpet": [
           {
            "colorbar": {
             "outlinewidth": 0,
             "ticks": ""
            },
            "type": "contourcarpet"
           }
          ],
          "heatmap": [
           {
            "colorbar": {
             "outlinewidth": 0,
             "ticks": ""
            },
            "colorscale": [
             [
              0,
              "#0d0887"
             ],
             [
              0.1111111111111111,
              "#46039f"
             ],
             [
              0.2222222222222222,
              "#7201a8"
             ],
             [
              0.3333333333333333,
              "#9c179e"
             ],
             [
              0.4444444444444444,
              "#bd3786"
             ],
             [
              0.5555555555555556,
              "#d8576b"
             ],
             [
              0.6666666666666666,
              "#ed7953"
             ],
             [
              0.7777777777777778,
              "#fb9f3a"
             ],
             [
              0.8888888888888888,
              "#fdca26"
             ],
             [
              1,
              "#f0f921"
             ]
            ],
            "type": "heatmap"
           }
          ],
          "heatmapgl": [
           {
            "colorbar": {
             "outlinewidth": 0,
             "ticks": ""
            },
            "colorscale": [
             [
              0,
              "#0d0887"
             ],
             [
              0.1111111111111111,
              "#46039f"
             ],
             [
              0.2222222222222222,
              "#7201a8"
             ],
             [
              0.3333333333333333,
              "#9c179e"
             ],
             [
              0.4444444444444444,
              "#bd3786"
             ],
             [
              0.5555555555555556,
              "#d8576b"
             ],
             [
              0.6666666666666666,
              "#ed7953"
             ],
             [
              0.7777777777777778,
              "#fb9f3a"
             ],
             [
              0.8888888888888888,
              "#fdca26"
             ],
             [
              1,
              "#f0f921"
             ]
            ],
            "type": "heatmapgl"
           }
          ],
          "histogram": [
           {
            "marker": {
             "colorbar": {
              "outlinewidth": 0,
              "ticks": ""
             }
            },
            "type": "histogram"
           }
          ],
          "histogram2d": [
           {
            "colorbar": {
             "outlinewidth": 0,
             "ticks": ""
            },
            "colorscale": [
             [
              0,
              "#0d0887"
             ],
             [
              0.1111111111111111,
              "#46039f"
             ],
             [
              0.2222222222222222,
              "#7201a8"
             ],
             [
              0.3333333333333333,
              "#9c179e"
             ],
             [
              0.4444444444444444,
              "#bd3786"
             ],
             [
              0.5555555555555556,
              "#d8576b"
             ],
             [
              0.6666666666666666,
              "#ed7953"
             ],
             [
              0.7777777777777778,
              "#fb9f3a"
             ],
             [
              0.8888888888888888,
              "#fdca26"
             ],
             [
              1,
              "#f0f921"
             ]
            ],
            "type": "histogram2d"
           }
          ],
          "histogram2dcontour": [
           {
            "colorbar": {
             "outlinewidth": 0,
             "ticks": ""
            },
            "colorscale": [
             [
              0,
              "#0d0887"
             ],
             [
              0.1111111111111111,
              "#46039f"
             ],
             [
              0.2222222222222222,
              "#7201a8"
             ],
             [
              0.3333333333333333,
              "#9c179e"
             ],
             [
              0.4444444444444444,
              "#bd3786"
             ],
             [
              0.5555555555555556,
              "#d8576b"
             ],
             [
              0.6666666666666666,
              "#ed7953"
             ],
             [
              0.7777777777777778,
              "#fb9f3a"
             ],
             [
              0.8888888888888888,
              "#fdca26"
             ],
             [
              1,
              "#f0f921"
             ]
            ],
            "type": "histogram2dcontour"
           }
          ],
          "mesh3d": [
           {
            "colorbar": {
             "outlinewidth": 0,
             "ticks": ""
            },
            "type": "mesh3d"
           }
          ],
          "parcoords": [
           {
            "line": {
             "colorbar": {
              "outlinewidth": 0,
              "ticks": ""
             }
            },
            "type": "parcoords"
           }
          ],
          "pie": [
           {
            "automargin": true,
            "type": "pie"
           }
          ],
          "scatter": [
           {
            "marker": {
             "colorbar": {
              "outlinewidth": 0,
              "ticks": ""
             }
            },
            "type": "scatter"
           }
          ],
          "scatter3d": [
           {
            "line": {
             "colorbar": {
              "outlinewidth": 0,
              "ticks": ""
             }
            },
            "marker": {
             "colorbar": {
              "outlinewidth": 0,
              "ticks": ""
             }
            },
            "type": "scatter3d"
           }
          ],
          "scattercarpet": [
           {
            "marker": {
             "colorbar": {
              "outlinewidth": 0,
              "ticks": ""
             }
            },
            "type": "scattercarpet"
           }
          ],
          "scattergeo": [
           {
            "marker": {
             "colorbar": {
              "outlinewidth": 0,
              "ticks": ""
             }
            },
            "type": "scattergeo"
           }
          ],
          "scattergl": [
           {
            "marker": {
             "colorbar": {
              "outlinewidth": 0,
              "ticks": ""
             }
            },
            "type": "scattergl"
           }
          ],
          "scattermapbox": [
           {
            "marker": {
             "colorbar": {
              "outlinewidth": 0,
              "ticks": ""
             }
            },
            "type": "scattermapbox"
           }
          ],
          "scatterpolar": [
           {
            "marker": {
             "colorbar": {
              "outlinewidth": 0,
              "ticks": ""
             }
            },
            "type": "scatterpolar"
           }
          ],
          "scatterpolargl": [
           {
            "marker": {
             "colorbar": {
              "outlinewidth": 0,
              "ticks": ""
             }
            },
            "type": "scatterpolargl"
           }
          ],
          "scatterternary": [
           {
            "marker": {
             "colorbar": {
              "outlinewidth": 0,
              "ticks": ""
             }
            },
            "type": "scatterternary"
           }
          ],
          "surface": [
           {
            "colorbar": {
             "outlinewidth": 0,
             "ticks": ""
            },
            "colorscale": [
             [
              0,
              "#0d0887"
             ],
             [
              0.1111111111111111,
              "#46039f"
             ],
             [
              0.2222222222222222,
              "#7201a8"
             ],
             [
              0.3333333333333333,
              "#9c179e"
             ],
             [
              0.4444444444444444,
              "#bd3786"
             ],
             [
              0.5555555555555556,
              "#d8576b"
             ],
             [
              0.6666666666666666,
              "#ed7953"
             ],
             [
              0.7777777777777778,
              "#fb9f3a"
             ],
             [
              0.8888888888888888,
              "#fdca26"
             ],
             [
              1,
              "#f0f921"
             ]
            ],
            "type": "surface"
           }
          ],
          "table": [
           {
            "cells": {
             "fill": {
              "color": "#EBF0F8"
             },
             "line": {
              "color": "white"
             }
            },
            "header": {
             "fill": {
              "color": "#C8D4E3"
             },
             "line": {
              "color": "white"
             }
            },
            "type": "table"
           }
          ]
         },
         "layout": {
          "annotationdefaults": {
           "arrowcolor": "#2a3f5f",
           "arrowhead": 0,
           "arrowwidth": 1
          },
          "coloraxis": {
           "colorbar": {
            "outlinewidth": 0,
            "ticks": ""
           }
          },
          "colorscale": {
           "diverging": [
            [
             0,
             "#8e0152"
            ],
            [
             0.1,
             "#c51b7d"
            ],
            [
             0.2,
             "#de77ae"
            ],
            [
             0.3,
             "#f1b6da"
            ],
            [
             0.4,
             "#fde0ef"
            ],
            [
             0.5,
             "#f7f7f7"
            ],
            [
             0.6,
             "#e6f5d0"
            ],
            [
             0.7,
             "#b8e186"
            ],
            [
             0.8,
             "#7fbc41"
            ],
            [
             0.9,
             "#4d9221"
            ],
            [
             1,
             "#276419"
            ]
           ],
           "sequential": [
            [
             0,
             "#0d0887"
            ],
            [
             0.1111111111111111,
             "#46039f"
            ],
            [
             0.2222222222222222,
             "#7201a8"
            ],
            [
             0.3333333333333333,
             "#9c179e"
            ],
            [
             0.4444444444444444,
             "#bd3786"
            ],
            [
             0.5555555555555556,
             "#d8576b"
            ],
            [
             0.6666666666666666,
             "#ed7953"
            ],
            [
             0.7777777777777778,
             "#fb9f3a"
            ],
            [
             0.8888888888888888,
             "#fdca26"
            ],
            [
             1,
             "#f0f921"
            ]
           ],
           "sequentialminus": [
            [
             0,
             "#0d0887"
            ],
            [
             0.1111111111111111,
             "#46039f"
            ],
            [
             0.2222222222222222,
             "#7201a8"
            ],
            [
             0.3333333333333333,
             "#9c179e"
            ],
            [
             0.4444444444444444,
             "#bd3786"
            ],
            [
             0.5555555555555556,
             "#d8576b"
            ],
            [
             0.6666666666666666,
             "#ed7953"
            ],
            [
             0.7777777777777778,
             "#fb9f3a"
            ],
            [
             0.8888888888888888,
             "#fdca26"
            ],
            [
             1,
             "#f0f921"
            ]
           ]
          },
          "colorway": [
           "#636efa",
           "#EF553B",
           "#00cc96",
           "#ab63fa",
           "#FFA15A",
           "#19d3f3",
           "#FF6692",
           "#B6E880",
           "#FF97FF",
           "#FECB52"
          ],
          "font": {
           "color": "#2a3f5f"
          },
          "geo": {
           "bgcolor": "white",
           "lakecolor": "white",
           "landcolor": "#E5ECF6",
           "showlakes": true,
           "showland": true,
           "subunitcolor": "white"
          },
          "hoverlabel": {
           "align": "left"
          },
          "hovermode": "closest",
          "mapbox": {
           "style": "light"
          },
          "paper_bgcolor": "white",
          "plot_bgcolor": "#E5ECF6",
          "polar": {
           "angularaxis": {
            "gridcolor": "white",
            "linecolor": "white",
            "ticks": ""
           },
           "bgcolor": "#E5ECF6",
           "radialaxis": {
            "gridcolor": "white",
            "linecolor": "white",
            "ticks": ""
           }
          },
          "scene": {
           "xaxis": {
            "backgroundcolor": "#E5ECF6",
            "gridcolor": "white",
            "gridwidth": 2,
            "linecolor": "white",
            "showbackground": true,
            "ticks": "",
            "zerolinecolor": "white"
           },
           "yaxis": {
            "backgroundcolor": "#E5ECF6",
            "gridcolor": "white",
            "gridwidth": 2,
            "linecolor": "white",
            "showbackground": true,
            "ticks": "",
            "zerolinecolor": "white"
           },
           "zaxis": {
            "backgroundcolor": "#E5ECF6",
            "gridcolor": "white",
            "gridwidth": 2,
            "linecolor": "white",
            "showbackground": true,
            "ticks": "",
            "zerolinecolor": "white"
           }
          },
          "shapedefaults": {
           "line": {
            "color": "#2a3f5f"
           }
          },
          "ternary": {
           "aaxis": {
            "gridcolor": "white",
            "linecolor": "white",
            "ticks": ""
           },
           "baxis": {
            "gridcolor": "white",
            "linecolor": "white",
            "ticks": ""
           },
           "bgcolor": "#E5ECF6",
           "caxis": {
            "gridcolor": "white",
            "linecolor": "white",
            "ticks": ""
           }
          },
          "title": {
           "x": 0.05
          },
          "xaxis": {
           "automargin": true,
           "gridcolor": "white",
           "linecolor": "white",
           "ticks": "",
           "title": {
            "standoff": 15
           },
           "zerolinecolor": "white",
           "zerolinewidth": 2
          },
          "yaxis": {
           "automargin": true,
           "gridcolor": "white",
           "linecolor": "white",
           "ticks": "",
           "title": {
            "standoff": 15
           },
           "zerolinecolor": "white",
           "zerolinewidth": 2
          }
         }
        },
        "title": {
         "font": {
          "color": "#4D5663"
         }
        },
        "xaxis": {
         "gridcolor": "#E1E5ED",
         "showgrid": true,
         "tickfont": {
          "color": "#4D5663"
         },
         "title": {
          "font": {
           "color": "#4D5663"
          },
          "text": ""
         },
         "zerolinecolor": "#E1E5ED"
        },
        "yaxis": {
         "gridcolor": "#E1E5ED",
         "showgrid": true,
         "tickfont": {
          "color": "#4D5663"
         },
         "title": {
          "font": {
           "color": "#4D5663"
          },
          "text": ""
         },
         "zerolinecolor": "#E1E5ED"
        }
       }
      },
      "text/html": [
       "<div>                            <div id=\"24d0bbac-f598-4344-a141-caf493b7808b\" class=\"plotly-graph-div\" style=\"height:525px; width:100%;\"></div>            <script type=\"text/javascript\">                require([\"plotly\"], function(Plotly) {                    window.PLOTLYENV=window.PLOTLYENV || {};\n",
       "                    window.PLOTLYENV.BASE_URL='https://plot.ly';                                    if (document.getElementById(\"24d0bbac-f598-4344-a141-caf493b7808b\")) {                    Plotly.newPlot(                        \"24d0bbac-f598-4344-a141-caf493b7808b\",                        [{\"line\": {\"color\": \"rgba(255, 153, 51, 1.0)\", \"dash\": \"solid\", \"shape\": \"linear\", \"width\": 1.3}, \"marker\": {\"size\": 10, \"symbol\": \"circle\"}, \"mode\": \"markers\", \"name\": \"B\", \"text\": \"\", \"type\": \"scatter\", \"x\": [1.0306268310521411, -0.009779592803279932, -0.2790768811322032, -1.0139740466904634, 0.0900692504783834, -0.2535851169626924, -1.6467454574663618, 1.7307237074588178, 1.9502548897209437, -0.19755479047900773, 0.2398666841948917, 0.7010948394146828, -1.1451707605139148, 0.46661900006528834, -0.8657550022928382, -1.6038650824285154, 0.27757731154907933, -0.3431836968023546, -0.23005393886187692, 1.0417258828980622, -0.8420841231491191, 0.8152608031368365, -0.9625178400335987, -1.1404010459367615, 0.050065537297441697, -2.370511621398351, -0.14919235354725413, 0.41704549449768563, -0.6054188923136063, 1.1554385786210146, 0.7844642545459046, -1.475697549467589, 0.04357284219822051, 0.6794088833644034, 0.6088565243362992, -1.1236414266064494, -0.8645947981730004, -0.189315236879113, -1.6210608672291478, 0.9826668024309222, -0.6583173023179347, -0.5261504456906693, -0.03469245259160687, -0.6441359781479439, 2.1734528796420545, -0.695189681213425, -0.46387873617425734, -1.4406688499833342, -1.2366946841550048, -0.10445908435134638, 1.4251663204192084, 0.5459100358998471, -0.8142886165167468, 1.6532780391932245, -0.1756159152534916, 1.3322517121474091, -1.4189570454958202, -0.4365752199462574, 0.9537908960745699, -0.3539941043674274, -1.7317323557753117, -1.6056342883818238, -0.14249131405174065, 0.757385761017589, 0.9217206398940825, 0.8344690988574576, -1.2899900493073886, -0.5943831892006142, -0.30372445542656695, -0.6417063779059349, -0.7037207687010433, 1.1647604326551553, 1.6423197600571988, 1.5706789394322735, 0.1367178711685339, -0.27323866815150344, -0.6314346286156403, 0.4479905105725482, 0.5890067573599885, 0.2851593629595951, 0.21447051208841894, -0.33151322309343284, 0.5286453144797023, -1.06397649923059, 0.5211095633016483, 0.11631777499822968, 0.42275350128486044, -0.6165342792073051, -1.6774563192891445, -0.4449128911114853, -0.3718594486932189, -0.3548745644616727, -0.0653257564023129, -1.380490514092773, 1.2171934013759687, -0.19344980330040593, -1.0615002168273389, -0.7803014574950484, 1.0018898744196458, -0.005603546937125365], \"y\": [-1.3171858117403332, 0.7624380978698583, -0.26598712621796905, -0.5264968283634126, 0.10775038884771772, -0.41831917087155723, -0.13336026616854868, -2.052679358839702, -0.2308750629501153, 0.2902137081421649, 0.5462280675460035, 1.565509826018809, -1.4187648886808986, -1.423344160179114, 0.5147971814034639, -1.1955784398830605, 0.08841387852632229, 0.9668380080455504, -2.0063648569849772, 0.6808736919461532, 0.18781766388703022, 0.5614171365614565, -0.6444394608278725, -0.9555977425121828, 0.5299791506581135, 0.41850851624872903, -1.5661227844941723, 0.5843187666974453, -1.4004706879941347, 0.8719603928383804, 0.12816736803148948, -0.6104649553361966, 0.39821361249434495, 0.3606846856900817, 0.7413036225859474, 0.1627576812495385, -0.11822845890206685, 0.7059999893225765, 0.7170034475706563, -0.5027599164597009, 0.10001385944510605, 0.005207958097552748, 1.6930322553144348, 0.29635397928301377, 0.30803560854128187, -0.36681447693814095, -1.890051113809245, 0.7540909096954302, -0.1773227273363077, -0.23349584546769653, -0.5713628964543889, -1.4716137756569088, 0.9304562545373743, 0.4995878163784225, 0.65980085367938, -1.4262329597400663, 0.4473009688035141, 0.9388857213269526, -0.449652377171511, -0.41019978026484133, 1.3454325846951676, -1.734053342435024, -0.35576304849981377, 1.9486922219268799, 0.5737692643406617, 0.9393293725888838, -0.8987704602488126, -1.2179927775473998, -0.3154686479242465, 0.11496694956077251, 0.868292857634255, 0.38527378173858845, 0.6327010724068767, 0.6067968510291968, 0.1742604029204123, 0.7507414554072483, 0.0793466639492751, 0.05341761777299585, -1.1964557802321034, 1.6445281574639363, 0.71006173073308, 0.09181605215087117, 0.15398334088760324, -0.3343350278170103, -1.4134082457416612, 0.5162593987334545, -1.0231974241693471, 1.736265472251738, -1.2743123078491674, -1.1200108534882374, 0.284539525306163, 0.28641559822266427, -0.10302174914339148, 1.1760968400628866, 0.31675765561830554, 1.1281775757982864, -0.9114292516561148, -0.09818298589490093, 1.4896167556584419, 0.1509599741757448]}],                        {\"legend\": {\"bgcolor\": \"#F5F6F9\", \"font\": {\"color\": \"#4D5663\"}}, \"paper_bgcolor\": \"#F5F6F9\", \"plot_bgcolor\": \"#F5F6F9\", \"template\": {\"data\": {\"bar\": [{\"error_x\": {\"color\": \"#2a3f5f\"}, \"error_y\": {\"color\": \"#2a3f5f\"}, \"marker\": {\"line\": {\"color\": \"#E5ECF6\", \"width\": 0.5}}, \"type\": \"bar\"}], \"barpolar\": [{\"marker\": {\"line\": {\"color\": \"#E5ECF6\", \"width\": 0.5}}, \"type\": \"barpolar\"}], \"carpet\": [{\"aaxis\": {\"endlinecolor\": \"#2a3f5f\", \"gridcolor\": \"white\", \"linecolor\": \"white\", \"minorgridcolor\": \"white\", \"startlinecolor\": \"#2a3f5f\"}, \"baxis\": {\"endlinecolor\": \"#2a3f5f\", \"gridcolor\": \"white\", \"linecolor\": \"white\", \"minorgridcolor\": \"white\", \"startlinecolor\": \"#2a3f5f\"}, \"type\": \"carpet\"}], \"choropleth\": [{\"colorbar\": {\"outlinewidth\": 0, \"ticks\": \"\"}, \"type\": \"choropleth\"}], \"contour\": [{\"colorbar\": {\"outlinewidth\": 0, \"ticks\": \"\"}, \"colorscale\": [[0.0, \"#0d0887\"], [0.1111111111111111, \"#46039f\"], [0.2222222222222222, \"#7201a8\"], [0.3333333333333333, \"#9c179e\"], [0.4444444444444444, \"#bd3786\"], [0.5555555555555556, \"#d8576b\"], [0.6666666666666666, \"#ed7953\"], [0.7777777777777778, \"#fb9f3a\"], [0.8888888888888888, \"#fdca26\"], [1.0, \"#f0f921\"]], \"type\": \"contour\"}], \"contourcarpet\": [{\"colorbar\": {\"outlinewidth\": 0, \"ticks\": \"\"}, \"type\": \"contourcarpet\"}], \"heatmap\": [{\"colorbar\": {\"outlinewidth\": 0, \"ticks\": \"\"}, \"colorscale\": [[0.0, \"#0d0887\"], [0.1111111111111111, \"#46039f\"], [0.2222222222222222, \"#7201a8\"], [0.3333333333333333, \"#9c179e\"], [0.4444444444444444, \"#bd3786\"], [0.5555555555555556, \"#d8576b\"], [0.6666666666666666, \"#ed7953\"], [0.7777777777777778, \"#fb9f3a\"], [0.8888888888888888, \"#fdca26\"], [1.0, \"#f0f921\"]], \"type\": \"heatmap\"}], \"heatmapgl\": [{\"colorbar\": {\"outlinewidth\": 0, \"ticks\": \"\"}, \"colorscale\": [[0.0, \"#0d0887\"], [0.1111111111111111, \"#46039f\"], [0.2222222222222222, \"#7201a8\"], [0.3333333333333333, \"#9c179e\"], [0.4444444444444444, \"#bd3786\"], [0.5555555555555556, \"#d8576b\"], [0.6666666666666666, \"#ed7953\"], [0.7777777777777778, \"#fb9f3a\"], [0.8888888888888888, \"#fdca26\"], [1.0, \"#f0f921\"]], \"type\": \"heatmapgl\"}], \"histogram\": [{\"marker\": {\"colorbar\": {\"outlinewidth\": 0, \"ticks\": \"\"}}, \"type\": \"histogram\"}], \"histogram2d\": [{\"colorbar\": {\"outlinewidth\": 0, \"ticks\": \"\"}, \"colorscale\": [[0.0, \"#0d0887\"], [0.1111111111111111, \"#46039f\"], [0.2222222222222222, \"#7201a8\"], [0.3333333333333333, \"#9c179e\"], [0.4444444444444444, \"#bd3786\"], [0.5555555555555556, \"#d8576b\"], [0.6666666666666666, \"#ed7953\"], [0.7777777777777778, \"#fb9f3a\"], [0.8888888888888888, \"#fdca26\"], [1.0, \"#f0f921\"]], \"type\": \"histogram2d\"}], \"histogram2dcontour\": [{\"colorbar\": {\"outlinewidth\": 0, \"ticks\": \"\"}, \"colorscale\": [[0.0, \"#0d0887\"], [0.1111111111111111, \"#46039f\"], [0.2222222222222222, \"#7201a8\"], [0.3333333333333333, \"#9c179e\"], [0.4444444444444444, \"#bd3786\"], [0.5555555555555556, \"#d8576b\"], [0.6666666666666666, \"#ed7953\"], [0.7777777777777778, \"#fb9f3a\"], [0.8888888888888888, \"#fdca26\"], [1.0, \"#f0f921\"]], \"type\": \"histogram2dcontour\"}], \"mesh3d\": [{\"colorbar\": {\"outlinewidth\": 0, \"ticks\": \"\"}, \"type\": \"mesh3d\"}], \"parcoords\": [{\"line\": {\"colorbar\": {\"outlinewidth\": 0, \"ticks\": \"\"}}, \"type\": \"parcoords\"}], \"pie\": [{\"automargin\": true, \"type\": \"pie\"}], \"scatter\": [{\"marker\": {\"colorbar\": {\"outlinewidth\": 0, \"ticks\": \"\"}}, \"type\": \"scatter\"}], \"scatter3d\": [{\"line\": {\"colorbar\": {\"outlinewidth\": 0, \"ticks\": \"\"}}, \"marker\": {\"colorbar\": {\"outlinewidth\": 0, \"ticks\": \"\"}}, \"type\": \"scatter3d\"}], \"scattercarpet\": [{\"marker\": {\"colorbar\": {\"outlinewidth\": 0, \"ticks\": \"\"}}, \"type\": \"scattercarpet\"}], \"scattergeo\": [{\"marker\": {\"colorbar\": {\"outlinewidth\": 0, \"ticks\": \"\"}}, \"type\": \"scattergeo\"}], \"scattergl\": [{\"marker\": {\"colorbar\": {\"outlinewidth\": 0, \"ticks\": \"\"}}, \"type\": \"scattergl\"}], \"scattermapbox\": [{\"marker\": {\"colorbar\": {\"outlinewidth\": 0, \"ticks\": \"\"}}, \"type\": \"scattermapbox\"}], \"scatterpolar\": [{\"marker\": {\"colorbar\": {\"outlinewidth\": 0, \"ticks\": \"\"}}, \"type\": \"scatterpolar\"}], \"scatterpolargl\": [{\"marker\": {\"colorbar\": {\"outlinewidth\": 0, \"ticks\": \"\"}}, \"type\": \"scatterpolargl\"}], \"scatterternary\": [{\"marker\": {\"colorbar\": {\"outlinewidth\": 0, \"ticks\": \"\"}}, \"type\": \"scatterternary\"}], \"surface\": [{\"colorbar\": {\"outlinewidth\": 0, \"ticks\": \"\"}, \"colorscale\": [[0.0, \"#0d0887\"], [0.1111111111111111, \"#46039f\"], [0.2222222222222222, \"#7201a8\"], [0.3333333333333333, \"#9c179e\"], [0.4444444444444444, \"#bd3786\"], [0.5555555555555556, \"#d8576b\"], [0.6666666666666666, \"#ed7953\"], [0.7777777777777778, \"#fb9f3a\"], [0.8888888888888888, \"#fdca26\"], [1.0, \"#f0f921\"]], \"type\": \"surface\"}], \"table\": [{\"cells\": {\"fill\": {\"color\": \"#EBF0F8\"}, \"line\": {\"color\": \"white\"}}, \"header\": {\"fill\": {\"color\": \"#C8D4E3\"}, \"line\": {\"color\": \"white\"}}, \"type\": \"table\"}]}, \"layout\": {\"annotationdefaults\": {\"arrowcolor\": \"#2a3f5f\", \"arrowhead\": 0, \"arrowwidth\": 1}, \"coloraxis\": {\"colorbar\": {\"outlinewidth\": 0, \"ticks\": \"\"}}, \"colorscale\": {\"diverging\": [[0, \"#8e0152\"], [0.1, \"#c51b7d\"], [0.2, \"#de77ae\"], [0.3, \"#f1b6da\"], [0.4, \"#fde0ef\"], [0.5, \"#f7f7f7\"], [0.6, \"#e6f5d0\"], [0.7, \"#b8e186\"], [0.8, \"#7fbc41\"], [0.9, \"#4d9221\"], [1, \"#276419\"]], \"sequential\": [[0.0, \"#0d0887\"], [0.1111111111111111, \"#46039f\"], [0.2222222222222222, \"#7201a8\"], [0.3333333333333333, \"#9c179e\"], [0.4444444444444444, \"#bd3786\"], [0.5555555555555556, \"#d8576b\"], [0.6666666666666666, \"#ed7953\"], [0.7777777777777778, \"#fb9f3a\"], [0.8888888888888888, \"#fdca26\"], [1.0, \"#f0f921\"]], \"sequentialminus\": [[0.0, \"#0d0887\"], [0.1111111111111111, \"#46039f\"], [0.2222222222222222, \"#7201a8\"], [0.3333333333333333, \"#9c179e\"], [0.4444444444444444, \"#bd3786\"], [0.5555555555555556, \"#d8576b\"], [0.6666666666666666, \"#ed7953\"], [0.7777777777777778, \"#fb9f3a\"], [0.8888888888888888, \"#fdca26\"], [1.0, \"#f0f921\"]]}, \"colorway\": [\"#636efa\", \"#EF553B\", \"#00cc96\", \"#ab63fa\", \"#FFA15A\", \"#19d3f3\", \"#FF6692\", \"#B6E880\", \"#FF97FF\", \"#FECB52\"], \"font\": {\"color\": \"#2a3f5f\"}, \"geo\": {\"bgcolor\": \"white\", \"lakecolor\": \"white\", \"landcolor\": \"#E5ECF6\", \"showlakes\": true, \"showland\": true, \"subunitcolor\": \"white\"}, \"hoverlabel\": {\"align\": \"left\"}, \"hovermode\": \"closest\", \"mapbox\": {\"style\": \"light\"}, \"paper_bgcolor\": \"white\", \"plot_bgcolor\": \"#E5ECF6\", \"polar\": {\"angularaxis\": {\"gridcolor\": \"white\", \"linecolor\": \"white\", \"ticks\": \"\"}, \"bgcolor\": \"#E5ECF6\", \"radialaxis\": {\"gridcolor\": \"white\", \"linecolor\": \"white\", \"ticks\": \"\"}}, \"scene\": {\"xaxis\": {\"backgroundcolor\": \"#E5ECF6\", \"gridcolor\": \"white\", \"gridwidth\": 2, \"linecolor\": \"white\", \"showbackground\": true, \"ticks\": \"\", \"zerolinecolor\": \"white\"}, \"yaxis\": {\"backgroundcolor\": \"#E5ECF6\", \"gridcolor\": \"white\", \"gridwidth\": 2, \"linecolor\": \"white\", \"showbackground\": true, \"ticks\": \"\", \"zerolinecolor\": \"white\"}, \"zaxis\": {\"backgroundcolor\": \"#E5ECF6\", \"gridcolor\": \"white\", \"gridwidth\": 2, \"linecolor\": \"white\", \"showbackground\": true, \"ticks\": \"\", \"zerolinecolor\": \"white\"}}, \"shapedefaults\": {\"line\": {\"color\": \"#2a3f5f\"}}, \"ternary\": {\"aaxis\": {\"gridcolor\": \"white\", \"linecolor\": \"white\", \"ticks\": \"\"}, \"baxis\": {\"gridcolor\": \"white\", \"linecolor\": \"white\", \"ticks\": \"\"}, \"bgcolor\": \"#E5ECF6\", \"caxis\": {\"gridcolor\": \"white\", \"linecolor\": \"white\", \"ticks\": \"\"}}, \"title\": {\"x\": 0.05}, \"xaxis\": {\"automargin\": true, \"gridcolor\": \"white\", \"linecolor\": \"white\", \"ticks\": \"\", \"title\": {\"standoff\": 15}, \"zerolinecolor\": \"white\", \"zerolinewidth\": 2}, \"yaxis\": {\"automargin\": true, \"gridcolor\": \"white\", \"linecolor\": \"white\", \"ticks\": \"\", \"title\": {\"standoff\": 15}, \"zerolinecolor\": \"white\", \"zerolinewidth\": 2}}}, \"title\": {\"font\": {\"color\": \"#4D5663\"}}, \"xaxis\": {\"gridcolor\": \"#E1E5ED\", \"showgrid\": true, \"tickfont\": {\"color\": \"#4D5663\"}, \"title\": {\"font\": {\"color\": \"#4D5663\"}, \"text\": \"\"}, \"zerolinecolor\": \"#E1E5ED\"}, \"yaxis\": {\"gridcolor\": \"#E1E5ED\", \"showgrid\": true, \"tickfont\": {\"color\": \"#4D5663\"}, \"title\": {\"font\": {\"color\": \"#4D5663\"}, \"text\": \"\"}, \"zerolinecolor\": \"#E1E5ED\"}},                        {\"showLink\": true, \"linkText\": \"Export to plot.ly\", \"plotlyServerURL\": \"https://plot.ly\", \"responsive\": true}                    ).then(function(){\n",
       "                            \n",
       "var gd = document.getElementById('24d0bbac-f598-4344-a141-caf493b7808b');\n",
       "var x = new MutationObserver(function (mutations, observer) {{\n",
       "        var display = window.getComputedStyle(gd).display;\n",
       "        if (!display || display === 'none') {{\n",
       "            console.log([gd, 'removed!']);\n",
       "            Plotly.purge(gd);\n",
       "            observer.disconnect();\n",
       "        }}\n",
       "}});\n",
       "\n",
       "// Listen for the removal of the full notebook cells\n",
       "var notebookContainer = gd.closest('#notebook-container');\n",
       "if (notebookContainer) {{\n",
       "    x.observe(notebookContainer, {childList: true});\n",
       "}}\n",
       "\n",
       "// Listen for the clearing of the current output cell\n",
       "var outputEl = gd.closest('.output');\n",
       "if (outputEl) {{\n",
       "    x.observe(outputEl, {childList: true});\n",
       "}}\n",
       "\n",
       "                        })                };                });            </script>        </div>"
      ]
     },
     "metadata": {},
     "output_type": "display_data"
    }
   ],
   "source": [
    "df.iplot(kind='scatter',x='A',y='B',mode='markers',size=10)"
   ]
  },
  {
   "cell_type": "markdown",
   "metadata": {},
   "source": [
    "## Bar Plots"
   ]
  },
  {
   "cell_type": "code",
   "execution_count": 12,
   "metadata": {},
   "outputs": [
    {
     "data": {
      "application/vnd.plotly.v1+json": {
       "config": {
        "linkText": "Export to plot.ly",
        "plotlyServerURL": "https://plot.ly",
        "showLink": true
       },
       "data": [
        {
         "marker": {
          "color": "rgba(255, 153, 51, 0.6)",
          "line": {
           "color": "rgba(255, 153, 51, 1.0)",
           "width": 1
          }
         },
         "name": "Values",
         "orientation": "v",
         "text": "",
         "type": "bar",
         "x": [
          "A",
          "B",
          "C"
         ],
         "y": [
          32,
          43,
          50
         ]
        }
       ],
       "layout": {
        "legend": {
         "bgcolor": "#F5F6F9",
         "font": {
          "color": "#4D5663"
         }
        },
        "paper_bgcolor": "#F5F6F9",
        "plot_bgcolor": "#F5F6F9",
        "template": {
         "data": {
          "bar": [
           {
            "error_x": {
             "color": "#2a3f5f"
            },
            "error_y": {
             "color": "#2a3f5f"
            },
            "marker": {
             "line": {
              "color": "#E5ECF6",
              "width": 0.5
             }
            },
            "type": "bar"
           }
          ],
          "barpolar": [
           {
            "marker": {
             "line": {
              "color": "#E5ECF6",
              "width": 0.5
             }
            },
            "type": "barpolar"
           }
          ],
          "carpet": [
           {
            "aaxis": {
             "endlinecolor": "#2a3f5f",
             "gridcolor": "white",
             "linecolor": "white",
             "minorgridcolor": "white",
             "startlinecolor": "#2a3f5f"
            },
            "baxis": {
             "endlinecolor": "#2a3f5f",
             "gridcolor": "white",
             "linecolor": "white",
             "minorgridcolor": "white",
             "startlinecolor": "#2a3f5f"
            },
            "type": "carpet"
           }
          ],
          "choropleth": [
           {
            "colorbar": {
             "outlinewidth": 0,
             "ticks": ""
            },
            "type": "choropleth"
           }
          ],
          "contour": [
           {
            "colorbar": {
             "outlinewidth": 0,
             "ticks": ""
            },
            "colorscale": [
             [
              0,
              "#0d0887"
             ],
             [
              0.1111111111111111,
              "#46039f"
             ],
             [
              0.2222222222222222,
              "#7201a8"
             ],
             [
              0.3333333333333333,
              "#9c179e"
             ],
             [
              0.4444444444444444,
              "#bd3786"
             ],
             [
              0.5555555555555556,
              "#d8576b"
             ],
             [
              0.6666666666666666,
              "#ed7953"
             ],
             [
              0.7777777777777778,
              "#fb9f3a"
             ],
             [
              0.8888888888888888,
              "#fdca26"
             ],
             [
              1,
              "#f0f921"
             ]
            ],
            "type": "contour"
           }
          ],
          "contourcarpet": [
           {
            "colorbar": {
             "outlinewidth": 0,
             "ticks": ""
            },
            "type": "contourcarpet"
           }
          ],
          "heatmap": [
           {
            "colorbar": {
             "outlinewidth": 0,
             "ticks": ""
            },
            "colorscale": [
             [
              0,
              "#0d0887"
             ],
             [
              0.1111111111111111,
              "#46039f"
             ],
             [
              0.2222222222222222,
              "#7201a8"
             ],
             [
              0.3333333333333333,
              "#9c179e"
             ],
             [
              0.4444444444444444,
              "#bd3786"
             ],
             [
              0.5555555555555556,
              "#d8576b"
             ],
             [
              0.6666666666666666,
              "#ed7953"
             ],
             [
              0.7777777777777778,
              "#fb9f3a"
             ],
             [
              0.8888888888888888,
              "#fdca26"
             ],
             [
              1,
              "#f0f921"
             ]
            ],
            "type": "heatmap"
           }
          ],
          "heatmapgl": [
           {
            "colorbar": {
             "outlinewidth": 0,
             "ticks": ""
            },
            "colorscale": [
             [
              0,
              "#0d0887"
             ],
             [
              0.1111111111111111,
              "#46039f"
             ],
             [
              0.2222222222222222,
              "#7201a8"
             ],
             [
              0.3333333333333333,
              "#9c179e"
             ],
             [
              0.4444444444444444,
              "#bd3786"
             ],
             [
              0.5555555555555556,
              "#d8576b"
             ],
             [
              0.6666666666666666,
              "#ed7953"
             ],
             [
              0.7777777777777778,
              "#fb9f3a"
             ],
             [
              0.8888888888888888,
              "#fdca26"
             ],
             [
              1,
              "#f0f921"
             ]
            ],
            "type": "heatmapgl"
           }
          ],
          "histogram": [
           {
            "marker": {
             "colorbar": {
              "outlinewidth": 0,
              "ticks": ""
             }
            },
            "type": "histogram"
           }
          ],
          "histogram2d": [
           {
            "colorbar": {
             "outlinewidth": 0,
             "ticks": ""
            },
            "colorscale": [
             [
              0,
              "#0d0887"
             ],
             [
              0.1111111111111111,
              "#46039f"
             ],
             [
              0.2222222222222222,
              "#7201a8"
             ],
             [
              0.3333333333333333,
              "#9c179e"
             ],
             [
              0.4444444444444444,
              "#bd3786"
             ],
             [
              0.5555555555555556,
              "#d8576b"
             ],
             [
              0.6666666666666666,
              "#ed7953"
             ],
             [
              0.7777777777777778,
              "#fb9f3a"
             ],
             [
              0.8888888888888888,
              "#fdca26"
             ],
             [
              1,
              "#f0f921"
             ]
            ],
            "type": "histogram2d"
           }
          ],
          "histogram2dcontour": [
           {
            "colorbar": {
             "outlinewidth": 0,
             "ticks": ""
            },
            "colorscale": [
             [
              0,
              "#0d0887"
             ],
             [
              0.1111111111111111,
              "#46039f"
             ],
             [
              0.2222222222222222,
              "#7201a8"
             ],
             [
              0.3333333333333333,
              "#9c179e"
             ],
             [
              0.4444444444444444,
              "#bd3786"
             ],
             [
              0.5555555555555556,
              "#d8576b"
             ],
             [
              0.6666666666666666,
              "#ed7953"
             ],
             [
              0.7777777777777778,
              "#fb9f3a"
             ],
             [
              0.8888888888888888,
              "#fdca26"
             ],
             [
              1,
              "#f0f921"
             ]
            ],
            "type": "histogram2dcontour"
           }
          ],
          "mesh3d": [
           {
            "colorbar": {
             "outlinewidth": 0,
             "ticks": ""
            },
            "type": "mesh3d"
           }
          ],
          "parcoords": [
           {
            "line": {
             "colorbar": {
              "outlinewidth": 0,
              "ticks": ""
             }
            },
            "type": "parcoords"
           }
          ],
          "pie": [
           {
            "automargin": true,
            "type": "pie"
           }
          ],
          "scatter": [
           {
            "marker": {
             "colorbar": {
              "outlinewidth": 0,
              "ticks": ""
             }
            },
            "type": "scatter"
           }
          ],
          "scatter3d": [
           {
            "line": {
             "colorbar": {
              "outlinewidth": 0,
              "ticks": ""
             }
            },
            "marker": {
             "colorbar": {
              "outlinewidth": 0,
              "ticks": ""
             }
            },
            "type": "scatter3d"
           }
          ],
          "scattercarpet": [
           {
            "marker": {
             "colorbar": {
              "outlinewidth": 0,
              "ticks": ""
             }
            },
            "type": "scattercarpet"
           }
          ],
          "scattergeo": [
           {
            "marker": {
             "colorbar": {
              "outlinewidth": 0,
              "ticks": ""
             }
            },
            "type": "scattergeo"
           }
          ],
          "scattergl": [
           {
            "marker": {
             "colorbar": {
              "outlinewidth": 0,
              "ticks": ""
             }
            },
            "type": "scattergl"
           }
          ],
          "scattermapbox": [
           {
            "marker": {
             "colorbar": {
              "outlinewidth": 0,
              "ticks": ""
             }
            },
            "type": "scattermapbox"
           }
          ],
          "scatterpolar": [
           {
            "marker": {
             "colorbar": {
              "outlinewidth": 0,
              "ticks": ""
             }
            },
            "type": "scatterpolar"
           }
          ],
          "scatterpolargl": [
           {
            "marker": {
             "colorbar": {
              "outlinewidth": 0,
              "ticks": ""
             }
            },
            "type": "scatterpolargl"
           }
          ],
          "scatterternary": [
           {
            "marker": {
             "colorbar": {
              "outlinewidth": 0,
              "ticks": ""
             }
            },
            "type": "scatterternary"
           }
          ],
          "surface": [
           {
            "colorbar": {
             "outlinewidth": 0,
             "ticks": ""
            },
            "colorscale": [
             [
              0,
              "#0d0887"
             ],
             [
              0.1111111111111111,
              "#46039f"
             ],
             [
              0.2222222222222222,
              "#7201a8"
             ],
             [
              0.3333333333333333,
              "#9c179e"
             ],
             [
              0.4444444444444444,
              "#bd3786"
             ],
             [
              0.5555555555555556,
              "#d8576b"
             ],
             [
              0.6666666666666666,
              "#ed7953"
             ],
             [
              0.7777777777777778,
              "#fb9f3a"
             ],
             [
              0.8888888888888888,
              "#fdca26"
             ],
             [
              1,
              "#f0f921"
             ]
            ],
            "type": "surface"
           }
          ],
          "table": [
           {
            "cells": {
             "fill": {
              "color": "#EBF0F8"
             },
             "line": {
              "color": "white"
             }
            },
            "header": {
             "fill": {
              "color": "#C8D4E3"
             },
             "line": {
              "color": "white"
             }
            },
            "type": "table"
           }
          ]
         },
         "layout": {
          "annotationdefaults": {
           "arrowcolor": "#2a3f5f",
           "arrowhead": 0,
           "arrowwidth": 1
          },
          "coloraxis": {
           "colorbar": {
            "outlinewidth": 0,
            "ticks": ""
           }
          },
          "colorscale": {
           "diverging": [
            [
             0,
             "#8e0152"
            ],
            [
             0.1,
             "#c51b7d"
            ],
            [
             0.2,
             "#de77ae"
            ],
            [
             0.3,
             "#f1b6da"
            ],
            [
             0.4,
             "#fde0ef"
            ],
            [
             0.5,
             "#f7f7f7"
            ],
            [
             0.6,
             "#e6f5d0"
            ],
            [
             0.7,
             "#b8e186"
            ],
            [
             0.8,
             "#7fbc41"
            ],
            [
             0.9,
             "#4d9221"
            ],
            [
             1,
             "#276419"
            ]
           ],
           "sequential": [
            [
             0,
             "#0d0887"
            ],
            [
             0.1111111111111111,
             "#46039f"
            ],
            [
             0.2222222222222222,
             "#7201a8"
            ],
            [
             0.3333333333333333,
             "#9c179e"
            ],
            [
             0.4444444444444444,
             "#bd3786"
            ],
            [
             0.5555555555555556,
             "#d8576b"
            ],
            [
             0.6666666666666666,
             "#ed7953"
            ],
            [
             0.7777777777777778,
             "#fb9f3a"
            ],
            [
             0.8888888888888888,
             "#fdca26"
            ],
            [
             1,
             "#f0f921"
            ]
           ],
           "sequentialminus": [
            [
             0,
             "#0d0887"
            ],
            [
             0.1111111111111111,
             "#46039f"
            ],
            [
             0.2222222222222222,
             "#7201a8"
            ],
            [
             0.3333333333333333,
             "#9c179e"
            ],
            [
             0.4444444444444444,
             "#bd3786"
            ],
            [
             0.5555555555555556,
             "#d8576b"
            ],
            [
             0.6666666666666666,
             "#ed7953"
            ],
            [
             0.7777777777777778,
             "#fb9f3a"
            ],
            [
             0.8888888888888888,
             "#fdca26"
            ],
            [
             1,
             "#f0f921"
            ]
           ]
          },
          "colorway": [
           "#636efa",
           "#EF553B",
           "#00cc96",
           "#ab63fa",
           "#FFA15A",
           "#19d3f3",
           "#FF6692",
           "#B6E880",
           "#FF97FF",
           "#FECB52"
          ],
          "font": {
           "color": "#2a3f5f"
          },
          "geo": {
           "bgcolor": "white",
           "lakecolor": "white",
           "landcolor": "#E5ECF6",
           "showlakes": true,
           "showland": true,
           "subunitcolor": "white"
          },
          "hoverlabel": {
           "align": "left"
          },
          "hovermode": "closest",
          "mapbox": {
           "style": "light"
          },
          "paper_bgcolor": "white",
          "plot_bgcolor": "#E5ECF6",
          "polar": {
           "angularaxis": {
            "gridcolor": "white",
            "linecolor": "white",
            "ticks": ""
           },
           "bgcolor": "#E5ECF6",
           "radialaxis": {
            "gridcolor": "white",
            "linecolor": "white",
            "ticks": ""
           }
          },
          "scene": {
           "xaxis": {
            "backgroundcolor": "#E5ECF6",
            "gridcolor": "white",
            "gridwidth": 2,
            "linecolor": "white",
            "showbackground": true,
            "ticks": "",
            "zerolinecolor": "white"
           },
           "yaxis": {
            "backgroundcolor": "#E5ECF6",
            "gridcolor": "white",
            "gridwidth": 2,
            "linecolor": "white",
            "showbackground": true,
            "ticks": "",
            "zerolinecolor": "white"
           },
           "zaxis": {
            "backgroundcolor": "#E5ECF6",
            "gridcolor": "white",
            "gridwidth": 2,
            "linecolor": "white",
            "showbackground": true,
            "ticks": "",
            "zerolinecolor": "white"
           }
          },
          "shapedefaults": {
           "line": {
            "color": "#2a3f5f"
           }
          },
          "ternary": {
           "aaxis": {
            "gridcolor": "white",
            "linecolor": "white",
            "ticks": ""
           },
           "baxis": {
            "gridcolor": "white",
            "linecolor": "white",
            "ticks": ""
           },
           "bgcolor": "#E5ECF6",
           "caxis": {
            "gridcolor": "white",
            "linecolor": "white",
            "ticks": ""
           }
          },
          "title": {
           "x": 0.05
          },
          "xaxis": {
           "automargin": true,
           "gridcolor": "white",
           "linecolor": "white",
           "ticks": "",
           "title": {
            "standoff": 15
           },
           "zerolinecolor": "white",
           "zerolinewidth": 2
          },
          "yaxis": {
           "automargin": true,
           "gridcolor": "white",
           "linecolor": "white",
           "ticks": "",
           "title": {
            "standoff": 15
           },
           "zerolinecolor": "white",
           "zerolinewidth": 2
          }
         }
        },
        "title": {
         "font": {
          "color": "#4D5663"
         }
        },
        "xaxis": {
         "gridcolor": "#E1E5ED",
         "showgrid": true,
         "tickfont": {
          "color": "#4D5663"
         },
         "title": {
          "font": {
           "color": "#4D5663"
          },
          "text": ""
         },
         "zerolinecolor": "#E1E5ED"
        },
        "yaxis": {
         "gridcolor": "#E1E5ED",
         "showgrid": true,
         "tickfont": {
          "color": "#4D5663"
         },
         "title": {
          "font": {
           "color": "#4D5663"
          },
          "text": ""
         },
         "zerolinecolor": "#E1E5ED"
        }
       }
      },
      "text/html": [
       "<div>                            <div id=\"4695f635-e2bb-4ad9-ad61-a43542aa77f2\" class=\"plotly-graph-div\" style=\"height:525px; width:100%;\"></div>            <script type=\"text/javascript\">                require([\"plotly\"], function(Plotly) {                    window.PLOTLYENV=window.PLOTLYENV || {};\n",
       "                    window.PLOTLYENV.BASE_URL='https://plot.ly';                                    if (document.getElementById(\"4695f635-e2bb-4ad9-ad61-a43542aa77f2\")) {                    Plotly.newPlot(                        \"4695f635-e2bb-4ad9-ad61-a43542aa77f2\",                        [{\"marker\": {\"color\": \"rgba(255, 153, 51, 0.6)\", \"line\": {\"color\": \"rgba(255, 153, 51, 1.0)\", \"width\": 1}}, \"name\": \"Values\", \"orientation\": \"v\", \"text\": \"\", \"type\": \"bar\", \"x\": [\"A\", \"B\", \"C\"], \"y\": [32, 43, 50]}],                        {\"legend\": {\"bgcolor\": \"#F5F6F9\", \"font\": {\"color\": \"#4D5663\"}}, \"paper_bgcolor\": \"#F5F6F9\", \"plot_bgcolor\": \"#F5F6F9\", \"template\": {\"data\": {\"bar\": [{\"error_x\": {\"color\": \"#2a3f5f\"}, \"error_y\": {\"color\": \"#2a3f5f\"}, \"marker\": {\"line\": {\"color\": \"#E5ECF6\", \"width\": 0.5}}, \"type\": \"bar\"}], \"barpolar\": [{\"marker\": {\"line\": {\"color\": \"#E5ECF6\", \"width\": 0.5}}, \"type\": \"barpolar\"}], \"carpet\": [{\"aaxis\": {\"endlinecolor\": \"#2a3f5f\", \"gridcolor\": \"white\", \"linecolor\": \"white\", \"minorgridcolor\": \"white\", \"startlinecolor\": \"#2a3f5f\"}, \"baxis\": {\"endlinecolor\": \"#2a3f5f\", \"gridcolor\": \"white\", \"linecolor\": \"white\", \"minorgridcolor\": \"white\", \"startlinecolor\": \"#2a3f5f\"}, \"type\": \"carpet\"}], \"choropleth\": [{\"colorbar\": {\"outlinewidth\": 0, \"ticks\": \"\"}, \"type\": \"choropleth\"}], \"contour\": [{\"colorbar\": {\"outlinewidth\": 0, \"ticks\": \"\"}, \"colorscale\": [[0.0, \"#0d0887\"], [0.1111111111111111, \"#46039f\"], [0.2222222222222222, \"#7201a8\"], [0.3333333333333333, \"#9c179e\"], [0.4444444444444444, \"#bd3786\"], [0.5555555555555556, \"#d8576b\"], [0.6666666666666666, \"#ed7953\"], [0.7777777777777778, \"#fb9f3a\"], [0.8888888888888888, \"#fdca26\"], [1.0, \"#f0f921\"]], \"type\": \"contour\"}], \"contourcarpet\": [{\"colorbar\": {\"outlinewidth\": 0, \"ticks\": \"\"}, \"type\": \"contourcarpet\"}], \"heatmap\": [{\"colorbar\": {\"outlinewidth\": 0, \"ticks\": \"\"}, \"colorscale\": [[0.0, \"#0d0887\"], [0.1111111111111111, \"#46039f\"], [0.2222222222222222, \"#7201a8\"], [0.3333333333333333, \"#9c179e\"], [0.4444444444444444, \"#bd3786\"], [0.5555555555555556, \"#d8576b\"], [0.6666666666666666, \"#ed7953\"], [0.7777777777777778, \"#fb9f3a\"], [0.8888888888888888, \"#fdca26\"], [1.0, \"#f0f921\"]], \"type\": \"heatmap\"}], \"heatmapgl\": [{\"colorbar\": {\"outlinewidth\": 0, \"ticks\": \"\"}, \"colorscale\": [[0.0, \"#0d0887\"], [0.1111111111111111, \"#46039f\"], [0.2222222222222222, \"#7201a8\"], [0.3333333333333333, \"#9c179e\"], [0.4444444444444444, \"#bd3786\"], [0.5555555555555556, \"#d8576b\"], [0.6666666666666666, \"#ed7953\"], [0.7777777777777778, \"#fb9f3a\"], [0.8888888888888888, \"#fdca26\"], [1.0, \"#f0f921\"]], \"type\": \"heatmapgl\"}], \"histogram\": [{\"marker\": {\"colorbar\": {\"outlinewidth\": 0, \"ticks\": \"\"}}, \"type\": \"histogram\"}], \"histogram2d\": [{\"colorbar\": {\"outlinewidth\": 0, \"ticks\": \"\"}, \"colorscale\": [[0.0, \"#0d0887\"], [0.1111111111111111, \"#46039f\"], [0.2222222222222222, \"#7201a8\"], [0.3333333333333333, \"#9c179e\"], [0.4444444444444444, \"#bd3786\"], [0.5555555555555556, \"#d8576b\"], [0.6666666666666666, \"#ed7953\"], [0.7777777777777778, \"#fb9f3a\"], [0.8888888888888888, \"#fdca26\"], [1.0, \"#f0f921\"]], \"type\": \"histogram2d\"}], \"histogram2dcontour\": [{\"colorbar\": {\"outlinewidth\": 0, \"ticks\": \"\"}, \"colorscale\": [[0.0, \"#0d0887\"], [0.1111111111111111, \"#46039f\"], [0.2222222222222222, \"#7201a8\"], [0.3333333333333333, \"#9c179e\"], [0.4444444444444444, \"#bd3786\"], [0.5555555555555556, \"#d8576b\"], [0.6666666666666666, \"#ed7953\"], [0.7777777777777778, \"#fb9f3a\"], [0.8888888888888888, \"#fdca26\"], [1.0, \"#f0f921\"]], \"type\": \"histogram2dcontour\"}], \"mesh3d\": [{\"colorbar\": {\"outlinewidth\": 0, \"ticks\": \"\"}, \"type\": \"mesh3d\"}], \"parcoords\": [{\"line\": {\"colorbar\": {\"outlinewidth\": 0, \"ticks\": \"\"}}, \"type\": \"parcoords\"}], \"pie\": [{\"automargin\": true, \"type\": \"pie\"}], \"scatter\": [{\"marker\": {\"colorbar\": {\"outlinewidth\": 0, \"ticks\": \"\"}}, \"type\": \"scatter\"}], \"scatter3d\": [{\"line\": {\"colorbar\": {\"outlinewidth\": 0, \"ticks\": \"\"}}, \"marker\": {\"colorbar\": {\"outlinewidth\": 0, \"ticks\": \"\"}}, \"type\": \"scatter3d\"}], \"scattercarpet\": [{\"marker\": {\"colorbar\": {\"outlinewidth\": 0, \"ticks\": \"\"}}, \"type\": \"scattercarpet\"}], \"scattergeo\": [{\"marker\": {\"colorbar\": {\"outlinewidth\": 0, \"ticks\": \"\"}}, \"type\": \"scattergeo\"}], \"scattergl\": [{\"marker\": {\"colorbar\": {\"outlinewidth\": 0, \"ticks\": \"\"}}, \"type\": \"scattergl\"}], \"scattermapbox\": [{\"marker\": {\"colorbar\": {\"outlinewidth\": 0, \"ticks\": \"\"}}, \"type\": \"scattermapbox\"}], \"scatterpolar\": [{\"marker\": {\"colorbar\": {\"outlinewidth\": 0, \"ticks\": \"\"}}, \"type\": \"scatterpolar\"}], \"scatterpolargl\": [{\"marker\": {\"colorbar\": {\"outlinewidth\": 0, \"ticks\": \"\"}}, \"type\": \"scatterpolargl\"}], \"scatterternary\": [{\"marker\": {\"colorbar\": {\"outlinewidth\": 0, \"ticks\": \"\"}}, \"type\": \"scatterternary\"}], \"surface\": [{\"colorbar\": {\"outlinewidth\": 0, \"ticks\": \"\"}, \"colorscale\": [[0.0, \"#0d0887\"], [0.1111111111111111, \"#46039f\"], [0.2222222222222222, \"#7201a8\"], [0.3333333333333333, \"#9c179e\"], [0.4444444444444444, \"#bd3786\"], [0.5555555555555556, \"#d8576b\"], [0.6666666666666666, \"#ed7953\"], [0.7777777777777778, \"#fb9f3a\"], [0.8888888888888888, \"#fdca26\"], [1.0, \"#f0f921\"]], \"type\": \"surface\"}], \"table\": [{\"cells\": {\"fill\": {\"color\": \"#EBF0F8\"}, \"line\": {\"color\": \"white\"}}, \"header\": {\"fill\": {\"color\": \"#C8D4E3\"}, \"line\": {\"color\": \"white\"}}, \"type\": \"table\"}]}, \"layout\": {\"annotationdefaults\": {\"arrowcolor\": \"#2a3f5f\", \"arrowhead\": 0, \"arrowwidth\": 1}, \"coloraxis\": {\"colorbar\": {\"outlinewidth\": 0, \"ticks\": \"\"}}, \"colorscale\": {\"diverging\": [[0, \"#8e0152\"], [0.1, \"#c51b7d\"], [0.2, \"#de77ae\"], [0.3, \"#f1b6da\"], [0.4, \"#fde0ef\"], [0.5, \"#f7f7f7\"], [0.6, \"#e6f5d0\"], [0.7, \"#b8e186\"], [0.8, \"#7fbc41\"], [0.9, \"#4d9221\"], [1, \"#276419\"]], \"sequential\": [[0.0, \"#0d0887\"], [0.1111111111111111, \"#46039f\"], [0.2222222222222222, \"#7201a8\"], [0.3333333333333333, \"#9c179e\"], [0.4444444444444444, \"#bd3786\"], [0.5555555555555556, \"#d8576b\"], [0.6666666666666666, \"#ed7953\"], [0.7777777777777778, \"#fb9f3a\"], [0.8888888888888888, \"#fdca26\"], [1.0, \"#f0f921\"]], \"sequentialminus\": [[0.0, \"#0d0887\"], [0.1111111111111111, \"#46039f\"], [0.2222222222222222, \"#7201a8\"], [0.3333333333333333, \"#9c179e\"], [0.4444444444444444, \"#bd3786\"], [0.5555555555555556, \"#d8576b\"], [0.6666666666666666, \"#ed7953\"], [0.7777777777777778, \"#fb9f3a\"], [0.8888888888888888, \"#fdca26\"], [1.0, \"#f0f921\"]]}, \"colorway\": [\"#636efa\", \"#EF553B\", \"#00cc96\", \"#ab63fa\", \"#FFA15A\", \"#19d3f3\", \"#FF6692\", \"#B6E880\", \"#FF97FF\", \"#FECB52\"], \"font\": {\"color\": \"#2a3f5f\"}, \"geo\": {\"bgcolor\": \"white\", \"lakecolor\": \"white\", \"landcolor\": \"#E5ECF6\", \"showlakes\": true, \"showland\": true, \"subunitcolor\": \"white\"}, \"hoverlabel\": {\"align\": \"left\"}, \"hovermode\": \"closest\", \"mapbox\": {\"style\": \"light\"}, \"paper_bgcolor\": \"white\", \"plot_bgcolor\": \"#E5ECF6\", \"polar\": {\"angularaxis\": {\"gridcolor\": \"white\", \"linecolor\": \"white\", \"ticks\": \"\"}, \"bgcolor\": \"#E5ECF6\", \"radialaxis\": {\"gridcolor\": \"white\", \"linecolor\": \"white\", \"ticks\": \"\"}}, \"scene\": {\"xaxis\": {\"backgroundcolor\": \"#E5ECF6\", \"gridcolor\": \"white\", \"gridwidth\": 2, \"linecolor\": \"white\", \"showbackground\": true, \"ticks\": \"\", \"zerolinecolor\": \"white\"}, \"yaxis\": {\"backgroundcolor\": \"#E5ECF6\", \"gridcolor\": \"white\", \"gridwidth\": 2, \"linecolor\": \"white\", \"showbackground\": true, \"ticks\": \"\", \"zerolinecolor\": \"white\"}, \"zaxis\": {\"backgroundcolor\": \"#E5ECF6\", \"gridcolor\": \"white\", \"gridwidth\": 2, \"linecolor\": \"white\", \"showbackground\": true, \"ticks\": \"\", \"zerolinecolor\": \"white\"}}, \"shapedefaults\": {\"line\": {\"color\": \"#2a3f5f\"}}, \"ternary\": {\"aaxis\": {\"gridcolor\": \"white\", \"linecolor\": \"white\", \"ticks\": \"\"}, \"baxis\": {\"gridcolor\": \"white\", \"linecolor\": \"white\", \"ticks\": \"\"}, \"bgcolor\": \"#E5ECF6\", \"caxis\": {\"gridcolor\": \"white\", \"linecolor\": \"white\", \"ticks\": \"\"}}, \"title\": {\"x\": 0.05}, \"xaxis\": {\"automargin\": true, \"gridcolor\": \"white\", \"linecolor\": \"white\", \"ticks\": \"\", \"title\": {\"standoff\": 15}, \"zerolinecolor\": \"white\", \"zerolinewidth\": 2}, \"yaxis\": {\"automargin\": true, \"gridcolor\": \"white\", \"linecolor\": \"white\", \"ticks\": \"\", \"title\": {\"standoff\": 15}, \"zerolinecolor\": \"white\", \"zerolinewidth\": 2}}}, \"title\": {\"font\": {\"color\": \"#4D5663\"}}, \"xaxis\": {\"gridcolor\": \"#E1E5ED\", \"showgrid\": true, \"tickfont\": {\"color\": \"#4D5663\"}, \"title\": {\"font\": {\"color\": \"#4D5663\"}, \"text\": \"\"}, \"zerolinecolor\": \"#E1E5ED\"}, \"yaxis\": {\"gridcolor\": \"#E1E5ED\", \"showgrid\": true, \"tickfont\": {\"color\": \"#4D5663\"}, \"title\": {\"font\": {\"color\": \"#4D5663\"}, \"text\": \"\"}, \"zerolinecolor\": \"#E1E5ED\"}},                        {\"showLink\": true, \"linkText\": \"Export to plot.ly\", \"plotlyServerURL\": \"https://plot.ly\", \"responsive\": true}                    ).then(function(){\n",
       "                            \n",
       "var gd = document.getElementById('4695f635-e2bb-4ad9-ad61-a43542aa77f2');\n",
       "var x = new MutationObserver(function (mutations, observer) {{\n",
       "        var display = window.getComputedStyle(gd).display;\n",
       "        if (!display || display === 'none') {{\n",
       "            console.log([gd, 'removed!']);\n",
       "            Plotly.purge(gd);\n",
       "            observer.disconnect();\n",
       "        }}\n",
       "}});\n",
       "\n",
       "// Listen for the removal of the full notebook cells\n",
       "var notebookContainer = gd.closest('#notebook-container');\n",
       "if (notebookContainer) {{\n",
       "    x.observe(notebookContainer, {childList: true});\n",
       "}}\n",
       "\n",
       "// Listen for the clearing of the current output cell\n",
       "var outputEl = gd.closest('.output');\n",
       "if (outputEl) {{\n",
       "    x.observe(outputEl, {childList: true});\n",
       "}}\n",
       "\n",
       "                        })                };                });            </script>        </div>"
      ]
     },
     "metadata": {},
     "output_type": "display_data"
    }
   ],
   "source": [
    "df2.iplot(kind='bar',x='Category',y='Values')"
   ]
  },
  {
   "cell_type": "code",
   "execution_count": 13,
   "metadata": {},
   "outputs": [
    {
     "data": {
      "application/vnd.plotly.v1+json": {
       "config": {
        "linkText": "Export to plot.ly",
        "plotlyServerURL": "https://plot.ly",
        "showLink": true
       },
       "data": [
        {
         "marker": {
          "color": "rgba(255, 153, 51, 0.6)",
          "line": {
           "color": "rgba(255, 153, 51, 1.0)",
           "width": 1
          }
         },
         "name": "None",
         "orientation": "v",
         "text": "",
         "type": "bar",
         "x": [
          "A",
          "B",
          "C",
          "D"
         ],
         "y": [
          100,
          100,
          100,
          100
         ]
        }
       ],
       "layout": {
        "legend": {
         "bgcolor": "#F5F6F9",
         "font": {
          "color": "#4D5663"
         }
        },
        "paper_bgcolor": "#F5F6F9",
        "plot_bgcolor": "#F5F6F9",
        "template": {
         "data": {
          "bar": [
           {
            "error_x": {
             "color": "#2a3f5f"
            },
            "error_y": {
             "color": "#2a3f5f"
            },
            "marker": {
             "line": {
              "color": "#E5ECF6",
              "width": 0.5
             }
            },
            "type": "bar"
           }
          ],
          "barpolar": [
           {
            "marker": {
             "line": {
              "color": "#E5ECF6",
              "width": 0.5
             }
            },
            "type": "barpolar"
           }
          ],
          "carpet": [
           {
            "aaxis": {
             "endlinecolor": "#2a3f5f",
             "gridcolor": "white",
             "linecolor": "white",
             "minorgridcolor": "white",
             "startlinecolor": "#2a3f5f"
            },
            "baxis": {
             "endlinecolor": "#2a3f5f",
             "gridcolor": "white",
             "linecolor": "white",
             "minorgridcolor": "white",
             "startlinecolor": "#2a3f5f"
            },
            "type": "carpet"
           }
          ],
          "choropleth": [
           {
            "colorbar": {
             "outlinewidth": 0,
             "ticks": ""
            },
            "type": "choropleth"
           }
          ],
          "contour": [
           {
            "colorbar": {
             "outlinewidth": 0,
             "ticks": ""
            },
            "colorscale": [
             [
              0,
              "#0d0887"
             ],
             [
              0.1111111111111111,
              "#46039f"
             ],
             [
              0.2222222222222222,
              "#7201a8"
             ],
             [
              0.3333333333333333,
              "#9c179e"
             ],
             [
              0.4444444444444444,
              "#bd3786"
             ],
             [
              0.5555555555555556,
              "#d8576b"
             ],
             [
              0.6666666666666666,
              "#ed7953"
             ],
             [
              0.7777777777777778,
              "#fb9f3a"
             ],
             [
              0.8888888888888888,
              "#fdca26"
             ],
             [
              1,
              "#f0f921"
             ]
            ],
            "type": "contour"
           }
          ],
          "contourcarpet": [
           {
            "colorbar": {
             "outlinewidth": 0,
             "ticks": ""
            },
            "type": "contourcarpet"
           }
          ],
          "heatmap": [
           {
            "colorbar": {
             "outlinewidth": 0,
             "ticks": ""
            },
            "colorscale": [
             [
              0,
              "#0d0887"
             ],
             [
              0.1111111111111111,
              "#46039f"
             ],
             [
              0.2222222222222222,
              "#7201a8"
             ],
             [
              0.3333333333333333,
              "#9c179e"
             ],
             [
              0.4444444444444444,
              "#bd3786"
             ],
             [
              0.5555555555555556,
              "#d8576b"
             ],
             [
              0.6666666666666666,
              "#ed7953"
             ],
             [
              0.7777777777777778,
              "#fb9f3a"
             ],
             [
              0.8888888888888888,
              "#fdca26"
             ],
             [
              1,
              "#f0f921"
             ]
            ],
            "type": "heatmap"
           }
          ],
          "heatmapgl": [
           {
            "colorbar": {
             "outlinewidth": 0,
             "ticks": ""
            },
            "colorscale": [
             [
              0,
              "#0d0887"
             ],
             [
              0.1111111111111111,
              "#46039f"
             ],
             [
              0.2222222222222222,
              "#7201a8"
             ],
             [
              0.3333333333333333,
              "#9c179e"
             ],
             [
              0.4444444444444444,
              "#bd3786"
             ],
             [
              0.5555555555555556,
              "#d8576b"
             ],
             [
              0.6666666666666666,
              "#ed7953"
             ],
             [
              0.7777777777777778,
              "#fb9f3a"
             ],
             [
              0.8888888888888888,
              "#fdca26"
             ],
             [
              1,
              "#f0f921"
             ]
            ],
            "type": "heatmapgl"
           }
          ],
          "histogram": [
           {
            "marker": {
             "colorbar": {
              "outlinewidth": 0,
              "ticks": ""
             }
            },
            "type": "histogram"
           }
          ],
          "histogram2d": [
           {
            "colorbar": {
             "outlinewidth": 0,
             "ticks": ""
            },
            "colorscale": [
             [
              0,
              "#0d0887"
             ],
             [
              0.1111111111111111,
              "#46039f"
             ],
             [
              0.2222222222222222,
              "#7201a8"
             ],
             [
              0.3333333333333333,
              "#9c179e"
             ],
             [
              0.4444444444444444,
              "#bd3786"
             ],
             [
              0.5555555555555556,
              "#d8576b"
             ],
             [
              0.6666666666666666,
              "#ed7953"
             ],
             [
              0.7777777777777778,
              "#fb9f3a"
             ],
             [
              0.8888888888888888,
              "#fdca26"
             ],
             [
              1,
              "#f0f921"
             ]
            ],
            "type": "histogram2d"
           }
          ],
          "histogram2dcontour": [
           {
            "colorbar": {
             "outlinewidth": 0,
             "ticks": ""
            },
            "colorscale": [
             [
              0,
              "#0d0887"
             ],
             [
              0.1111111111111111,
              "#46039f"
             ],
             [
              0.2222222222222222,
              "#7201a8"
             ],
             [
              0.3333333333333333,
              "#9c179e"
             ],
             [
              0.4444444444444444,
              "#bd3786"
             ],
             [
              0.5555555555555556,
              "#d8576b"
             ],
             [
              0.6666666666666666,
              "#ed7953"
             ],
             [
              0.7777777777777778,
              "#fb9f3a"
             ],
             [
              0.8888888888888888,
              "#fdca26"
             ],
             [
              1,
              "#f0f921"
             ]
            ],
            "type": "histogram2dcontour"
           }
          ],
          "mesh3d": [
           {
            "colorbar": {
             "outlinewidth": 0,
             "ticks": ""
            },
            "type": "mesh3d"
           }
          ],
          "parcoords": [
           {
            "line": {
             "colorbar": {
              "outlinewidth": 0,
              "ticks": ""
             }
            },
            "type": "parcoords"
           }
          ],
          "pie": [
           {
            "automargin": true,
            "type": "pie"
           }
          ],
          "scatter": [
           {
            "marker": {
             "colorbar": {
              "outlinewidth": 0,
              "ticks": ""
             }
            },
            "type": "scatter"
           }
          ],
          "scatter3d": [
           {
            "line": {
             "colorbar": {
              "outlinewidth": 0,
              "ticks": ""
             }
            },
            "marker": {
             "colorbar": {
              "outlinewidth": 0,
              "ticks": ""
             }
            },
            "type": "scatter3d"
           }
          ],
          "scattercarpet": [
           {
            "marker": {
             "colorbar": {
              "outlinewidth": 0,
              "ticks": ""
             }
            },
            "type": "scattercarpet"
           }
          ],
          "scattergeo": [
           {
            "marker": {
             "colorbar": {
              "outlinewidth": 0,
              "ticks": ""
             }
            },
            "type": "scattergeo"
           }
          ],
          "scattergl": [
           {
            "marker": {
             "colorbar": {
              "outlinewidth": 0,
              "ticks": ""
             }
            },
            "type": "scattergl"
           }
          ],
          "scattermapbox": [
           {
            "marker": {
             "colorbar": {
              "outlinewidth": 0,
              "ticks": ""
             }
            },
            "type": "scattermapbox"
           }
          ],
          "scatterpolar": [
           {
            "marker": {
             "colorbar": {
              "outlinewidth": 0,
              "ticks": ""
             }
            },
            "type": "scatterpolar"
           }
          ],
          "scatterpolargl": [
           {
            "marker": {
             "colorbar": {
              "outlinewidth": 0,
              "ticks": ""
             }
            },
            "type": "scatterpolargl"
           }
          ],
          "scatterternary": [
           {
            "marker": {
             "colorbar": {
              "outlinewidth": 0,
              "ticks": ""
             }
            },
            "type": "scatterternary"
           }
          ],
          "surface": [
           {
            "colorbar": {
             "outlinewidth": 0,
             "ticks": ""
            },
            "colorscale": [
             [
              0,
              "#0d0887"
             ],
             [
              0.1111111111111111,
              "#46039f"
             ],
             [
              0.2222222222222222,
              "#7201a8"
             ],
             [
              0.3333333333333333,
              "#9c179e"
             ],
             [
              0.4444444444444444,
              "#bd3786"
             ],
             [
              0.5555555555555556,
              "#d8576b"
             ],
             [
              0.6666666666666666,
              "#ed7953"
             ],
             [
              0.7777777777777778,
              "#fb9f3a"
             ],
             [
              0.8888888888888888,
              "#fdca26"
             ],
             [
              1,
              "#f0f921"
             ]
            ],
            "type": "surface"
           }
          ],
          "table": [
           {
            "cells": {
             "fill": {
              "color": "#EBF0F8"
             },
             "line": {
              "color": "white"
             }
            },
            "header": {
             "fill": {
              "color": "#C8D4E3"
             },
             "line": {
              "color": "white"
             }
            },
            "type": "table"
           }
          ]
         },
         "layout": {
          "annotationdefaults": {
           "arrowcolor": "#2a3f5f",
           "arrowhead": 0,
           "arrowwidth": 1
          },
          "coloraxis": {
           "colorbar": {
            "outlinewidth": 0,
            "ticks": ""
           }
          },
          "colorscale": {
           "diverging": [
            [
             0,
             "#8e0152"
            ],
            [
             0.1,
             "#c51b7d"
            ],
            [
             0.2,
             "#de77ae"
            ],
            [
             0.3,
             "#f1b6da"
            ],
            [
             0.4,
             "#fde0ef"
            ],
            [
             0.5,
             "#f7f7f7"
            ],
            [
             0.6,
             "#e6f5d0"
            ],
            [
             0.7,
             "#b8e186"
            ],
            [
             0.8,
             "#7fbc41"
            ],
            [
             0.9,
             "#4d9221"
            ],
            [
             1,
             "#276419"
            ]
           ],
           "sequential": [
            [
             0,
             "#0d0887"
            ],
            [
             0.1111111111111111,
             "#46039f"
            ],
            [
             0.2222222222222222,
             "#7201a8"
            ],
            [
             0.3333333333333333,
             "#9c179e"
            ],
            [
             0.4444444444444444,
             "#bd3786"
            ],
            [
             0.5555555555555556,
             "#d8576b"
            ],
            [
             0.6666666666666666,
             "#ed7953"
            ],
            [
             0.7777777777777778,
             "#fb9f3a"
            ],
            [
             0.8888888888888888,
             "#fdca26"
            ],
            [
             1,
             "#f0f921"
            ]
           ],
           "sequentialminus": [
            [
             0,
             "#0d0887"
            ],
            [
             0.1111111111111111,
             "#46039f"
            ],
            [
             0.2222222222222222,
             "#7201a8"
            ],
            [
             0.3333333333333333,
             "#9c179e"
            ],
            [
             0.4444444444444444,
             "#bd3786"
            ],
            [
             0.5555555555555556,
             "#d8576b"
            ],
            [
             0.6666666666666666,
             "#ed7953"
            ],
            [
             0.7777777777777778,
             "#fb9f3a"
            ],
            [
             0.8888888888888888,
             "#fdca26"
            ],
            [
             1,
             "#f0f921"
            ]
           ]
          },
          "colorway": [
           "#636efa",
           "#EF553B",
           "#00cc96",
           "#ab63fa",
           "#FFA15A",
           "#19d3f3",
           "#FF6692",
           "#B6E880",
           "#FF97FF",
           "#FECB52"
          ],
          "font": {
           "color": "#2a3f5f"
          },
          "geo": {
           "bgcolor": "white",
           "lakecolor": "white",
           "landcolor": "#E5ECF6",
           "showlakes": true,
           "showland": true,
           "subunitcolor": "white"
          },
          "hoverlabel": {
           "align": "left"
          },
          "hovermode": "closest",
          "mapbox": {
           "style": "light"
          },
          "paper_bgcolor": "white",
          "plot_bgcolor": "#E5ECF6",
          "polar": {
           "angularaxis": {
            "gridcolor": "white",
            "linecolor": "white",
            "ticks": ""
           },
           "bgcolor": "#E5ECF6",
           "radialaxis": {
            "gridcolor": "white",
            "linecolor": "white",
            "ticks": ""
           }
          },
          "scene": {
           "xaxis": {
            "backgroundcolor": "#E5ECF6",
            "gridcolor": "white",
            "gridwidth": 2,
            "linecolor": "white",
            "showbackground": true,
            "ticks": "",
            "zerolinecolor": "white"
           },
           "yaxis": {
            "backgroundcolor": "#E5ECF6",
            "gridcolor": "white",
            "gridwidth": 2,
            "linecolor": "white",
            "showbackground": true,
            "ticks": "",
            "zerolinecolor": "white"
           },
           "zaxis": {
            "backgroundcolor": "#E5ECF6",
            "gridcolor": "white",
            "gridwidth": 2,
            "linecolor": "white",
            "showbackground": true,
            "ticks": "",
            "zerolinecolor": "white"
           }
          },
          "shapedefaults": {
           "line": {
            "color": "#2a3f5f"
           }
          },
          "ternary": {
           "aaxis": {
            "gridcolor": "white",
            "linecolor": "white",
            "ticks": ""
           },
           "baxis": {
            "gridcolor": "white",
            "linecolor": "white",
            "ticks": ""
           },
           "bgcolor": "#E5ECF6",
           "caxis": {
            "gridcolor": "white",
            "linecolor": "white",
            "ticks": ""
           }
          },
          "title": {
           "x": 0.05
          },
          "xaxis": {
           "automargin": true,
           "gridcolor": "white",
           "linecolor": "white",
           "ticks": "",
           "title": {
            "standoff": 15
           },
           "zerolinecolor": "white",
           "zerolinewidth": 2
          },
          "yaxis": {
           "automargin": true,
           "gridcolor": "white",
           "linecolor": "white",
           "ticks": "",
           "title": {
            "standoff": 15
           },
           "zerolinecolor": "white",
           "zerolinewidth": 2
          }
         }
        },
        "title": {
         "font": {
          "color": "#4D5663"
         }
        },
        "xaxis": {
         "gridcolor": "#E1E5ED",
         "showgrid": true,
         "tickfont": {
          "color": "#4D5663"
         },
         "title": {
          "font": {
           "color": "#4D5663"
          },
          "text": ""
         },
         "zerolinecolor": "#E1E5ED"
        },
        "yaxis": {
         "gridcolor": "#E1E5ED",
         "showgrid": true,
         "tickfont": {
          "color": "#4D5663"
         },
         "title": {
          "font": {
           "color": "#4D5663"
          },
          "text": ""
         },
         "zerolinecolor": "#E1E5ED"
        }
       }
      },
      "text/html": [
       "<div>                            <div id=\"4350238f-4941-422e-8488-7294903ad07d\" class=\"plotly-graph-div\" style=\"height:525px; width:100%;\"></div>            <script type=\"text/javascript\">                require([\"plotly\"], function(Plotly) {                    window.PLOTLYENV=window.PLOTLYENV || {};\n",
       "                    window.PLOTLYENV.BASE_URL='https://plot.ly';                                    if (document.getElementById(\"4350238f-4941-422e-8488-7294903ad07d\")) {                    Plotly.newPlot(                        \"4350238f-4941-422e-8488-7294903ad07d\",                        [{\"marker\": {\"color\": \"rgba(255, 153, 51, 0.6)\", \"line\": {\"color\": \"rgba(255, 153, 51, 1.0)\", \"width\": 1}}, \"name\": \"None\", \"orientation\": \"v\", \"text\": \"\", \"type\": \"bar\", \"x\": [\"A\", \"B\", \"C\", \"D\"], \"y\": [100, 100, 100, 100]}],                        {\"legend\": {\"bgcolor\": \"#F5F6F9\", \"font\": {\"color\": \"#4D5663\"}}, \"paper_bgcolor\": \"#F5F6F9\", \"plot_bgcolor\": \"#F5F6F9\", \"template\": {\"data\": {\"bar\": [{\"error_x\": {\"color\": \"#2a3f5f\"}, \"error_y\": {\"color\": \"#2a3f5f\"}, \"marker\": {\"line\": {\"color\": \"#E5ECF6\", \"width\": 0.5}}, \"type\": \"bar\"}], \"barpolar\": [{\"marker\": {\"line\": {\"color\": \"#E5ECF6\", \"width\": 0.5}}, \"type\": \"barpolar\"}], \"carpet\": [{\"aaxis\": {\"endlinecolor\": \"#2a3f5f\", \"gridcolor\": \"white\", \"linecolor\": \"white\", \"minorgridcolor\": \"white\", \"startlinecolor\": \"#2a3f5f\"}, \"baxis\": {\"endlinecolor\": \"#2a3f5f\", \"gridcolor\": \"white\", \"linecolor\": \"white\", \"minorgridcolor\": \"white\", \"startlinecolor\": \"#2a3f5f\"}, \"type\": \"carpet\"}], \"choropleth\": [{\"colorbar\": {\"outlinewidth\": 0, \"ticks\": \"\"}, \"type\": \"choropleth\"}], \"contour\": [{\"colorbar\": {\"outlinewidth\": 0, \"ticks\": \"\"}, \"colorscale\": [[0.0, \"#0d0887\"], [0.1111111111111111, \"#46039f\"], [0.2222222222222222, \"#7201a8\"], [0.3333333333333333, \"#9c179e\"], [0.4444444444444444, \"#bd3786\"], [0.5555555555555556, \"#d8576b\"], [0.6666666666666666, \"#ed7953\"], [0.7777777777777778, \"#fb9f3a\"], [0.8888888888888888, \"#fdca26\"], [1.0, \"#f0f921\"]], \"type\": \"contour\"}], \"contourcarpet\": [{\"colorbar\": {\"outlinewidth\": 0, \"ticks\": \"\"}, \"type\": \"contourcarpet\"}], \"heatmap\": [{\"colorbar\": {\"outlinewidth\": 0, \"ticks\": \"\"}, \"colorscale\": [[0.0, \"#0d0887\"], [0.1111111111111111, \"#46039f\"], [0.2222222222222222, \"#7201a8\"], [0.3333333333333333, \"#9c179e\"], [0.4444444444444444, \"#bd3786\"], [0.5555555555555556, \"#d8576b\"], [0.6666666666666666, \"#ed7953\"], [0.7777777777777778, \"#fb9f3a\"], [0.8888888888888888, \"#fdca26\"], [1.0, \"#f0f921\"]], \"type\": \"heatmap\"}], \"heatmapgl\": [{\"colorbar\": {\"outlinewidth\": 0, \"ticks\": \"\"}, \"colorscale\": [[0.0, \"#0d0887\"], [0.1111111111111111, \"#46039f\"], [0.2222222222222222, \"#7201a8\"], [0.3333333333333333, \"#9c179e\"], [0.4444444444444444, \"#bd3786\"], [0.5555555555555556, \"#d8576b\"], [0.6666666666666666, \"#ed7953\"], [0.7777777777777778, \"#fb9f3a\"], [0.8888888888888888, \"#fdca26\"], [1.0, \"#f0f921\"]], \"type\": \"heatmapgl\"}], \"histogram\": [{\"marker\": {\"colorbar\": {\"outlinewidth\": 0, \"ticks\": \"\"}}, \"type\": \"histogram\"}], \"histogram2d\": [{\"colorbar\": {\"outlinewidth\": 0, \"ticks\": \"\"}, \"colorscale\": [[0.0, \"#0d0887\"], [0.1111111111111111, \"#46039f\"], [0.2222222222222222, \"#7201a8\"], [0.3333333333333333, \"#9c179e\"], [0.4444444444444444, \"#bd3786\"], [0.5555555555555556, \"#d8576b\"], [0.6666666666666666, \"#ed7953\"], [0.7777777777777778, \"#fb9f3a\"], [0.8888888888888888, \"#fdca26\"], [1.0, \"#f0f921\"]], \"type\": \"histogram2d\"}], \"histogram2dcontour\": [{\"colorbar\": {\"outlinewidth\": 0, \"ticks\": \"\"}, \"colorscale\": [[0.0, \"#0d0887\"], [0.1111111111111111, \"#46039f\"], [0.2222222222222222, \"#7201a8\"], [0.3333333333333333, \"#9c179e\"], [0.4444444444444444, \"#bd3786\"], [0.5555555555555556, \"#d8576b\"], [0.6666666666666666, \"#ed7953\"], [0.7777777777777778, \"#fb9f3a\"], [0.8888888888888888, \"#fdca26\"], [1.0, \"#f0f921\"]], \"type\": \"histogram2dcontour\"}], \"mesh3d\": [{\"colorbar\": {\"outlinewidth\": 0, \"ticks\": \"\"}, \"type\": \"mesh3d\"}], \"parcoords\": [{\"line\": {\"colorbar\": {\"outlinewidth\": 0, \"ticks\": \"\"}}, \"type\": \"parcoords\"}], \"pie\": [{\"automargin\": true, \"type\": \"pie\"}], \"scatter\": [{\"marker\": {\"colorbar\": {\"outlinewidth\": 0, \"ticks\": \"\"}}, \"type\": \"scatter\"}], \"scatter3d\": [{\"line\": {\"colorbar\": {\"outlinewidth\": 0, \"ticks\": \"\"}}, \"marker\": {\"colorbar\": {\"outlinewidth\": 0, \"ticks\": \"\"}}, \"type\": \"scatter3d\"}], \"scattercarpet\": [{\"marker\": {\"colorbar\": {\"outlinewidth\": 0, \"ticks\": \"\"}}, \"type\": \"scattercarpet\"}], \"scattergeo\": [{\"marker\": {\"colorbar\": {\"outlinewidth\": 0, \"ticks\": \"\"}}, \"type\": \"scattergeo\"}], \"scattergl\": [{\"marker\": {\"colorbar\": {\"outlinewidth\": 0, \"ticks\": \"\"}}, \"type\": \"scattergl\"}], \"scattermapbox\": [{\"marker\": {\"colorbar\": {\"outlinewidth\": 0, \"ticks\": \"\"}}, \"type\": \"scattermapbox\"}], \"scatterpolar\": [{\"marker\": {\"colorbar\": {\"outlinewidth\": 0, \"ticks\": \"\"}}, \"type\": \"scatterpolar\"}], \"scatterpolargl\": [{\"marker\": {\"colorbar\": {\"outlinewidth\": 0, \"ticks\": \"\"}}, \"type\": \"scatterpolargl\"}], \"scatterternary\": [{\"marker\": {\"colorbar\": {\"outlinewidth\": 0, \"ticks\": \"\"}}, \"type\": \"scatterternary\"}], \"surface\": [{\"colorbar\": {\"outlinewidth\": 0, \"ticks\": \"\"}, \"colorscale\": [[0.0, \"#0d0887\"], [0.1111111111111111, \"#46039f\"], [0.2222222222222222, \"#7201a8\"], [0.3333333333333333, \"#9c179e\"], [0.4444444444444444, \"#bd3786\"], [0.5555555555555556, \"#d8576b\"], [0.6666666666666666, \"#ed7953\"], [0.7777777777777778, \"#fb9f3a\"], [0.8888888888888888, \"#fdca26\"], [1.0, \"#f0f921\"]], \"type\": \"surface\"}], \"table\": [{\"cells\": {\"fill\": {\"color\": \"#EBF0F8\"}, \"line\": {\"color\": \"white\"}}, \"header\": {\"fill\": {\"color\": \"#C8D4E3\"}, \"line\": {\"color\": \"white\"}}, \"type\": \"table\"}]}, \"layout\": {\"annotationdefaults\": {\"arrowcolor\": \"#2a3f5f\", \"arrowhead\": 0, \"arrowwidth\": 1}, \"coloraxis\": {\"colorbar\": {\"outlinewidth\": 0, \"ticks\": \"\"}}, \"colorscale\": {\"diverging\": [[0, \"#8e0152\"], [0.1, \"#c51b7d\"], [0.2, \"#de77ae\"], [0.3, \"#f1b6da\"], [0.4, \"#fde0ef\"], [0.5, \"#f7f7f7\"], [0.6, \"#e6f5d0\"], [0.7, \"#b8e186\"], [0.8, \"#7fbc41\"], [0.9, \"#4d9221\"], [1, \"#276419\"]], \"sequential\": [[0.0, \"#0d0887\"], [0.1111111111111111, \"#46039f\"], [0.2222222222222222, \"#7201a8\"], [0.3333333333333333, \"#9c179e\"], [0.4444444444444444, \"#bd3786\"], [0.5555555555555556, \"#d8576b\"], [0.6666666666666666, \"#ed7953\"], [0.7777777777777778, \"#fb9f3a\"], [0.8888888888888888, \"#fdca26\"], [1.0, \"#f0f921\"]], \"sequentialminus\": [[0.0, \"#0d0887\"], [0.1111111111111111, \"#46039f\"], [0.2222222222222222, \"#7201a8\"], [0.3333333333333333, \"#9c179e\"], [0.4444444444444444, \"#bd3786\"], [0.5555555555555556, \"#d8576b\"], [0.6666666666666666, \"#ed7953\"], [0.7777777777777778, \"#fb9f3a\"], [0.8888888888888888, \"#fdca26\"], [1.0, \"#f0f921\"]]}, \"colorway\": [\"#636efa\", \"#EF553B\", \"#00cc96\", \"#ab63fa\", \"#FFA15A\", \"#19d3f3\", \"#FF6692\", \"#B6E880\", \"#FF97FF\", \"#FECB52\"], \"font\": {\"color\": \"#2a3f5f\"}, \"geo\": {\"bgcolor\": \"white\", \"lakecolor\": \"white\", \"landcolor\": \"#E5ECF6\", \"showlakes\": true, \"showland\": true, \"subunitcolor\": \"white\"}, \"hoverlabel\": {\"align\": \"left\"}, \"hovermode\": \"closest\", \"mapbox\": {\"style\": \"light\"}, \"paper_bgcolor\": \"white\", \"plot_bgcolor\": \"#E5ECF6\", \"polar\": {\"angularaxis\": {\"gridcolor\": \"white\", \"linecolor\": \"white\", \"ticks\": \"\"}, \"bgcolor\": \"#E5ECF6\", \"radialaxis\": {\"gridcolor\": \"white\", \"linecolor\": \"white\", \"ticks\": \"\"}}, \"scene\": {\"xaxis\": {\"backgroundcolor\": \"#E5ECF6\", \"gridcolor\": \"white\", \"gridwidth\": 2, \"linecolor\": \"white\", \"showbackground\": true, \"ticks\": \"\", \"zerolinecolor\": \"white\"}, \"yaxis\": {\"backgroundcolor\": \"#E5ECF6\", \"gridcolor\": \"white\", \"gridwidth\": 2, \"linecolor\": \"white\", \"showbackground\": true, \"ticks\": \"\", \"zerolinecolor\": \"white\"}, \"zaxis\": {\"backgroundcolor\": \"#E5ECF6\", \"gridcolor\": \"white\", \"gridwidth\": 2, \"linecolor\": \"white\", \"showbackground\": true, \"ticks\": \"\", \"zerolinecolor\": \"white\"}}, \"shapedefaults\": {\"line\": {\"color\": \"#2a3f5f\"}}, \"ternary\": {\"aaxis\": {\"gridcolor\": \"white\", \"linecolor\": \"white\", \"ticks\": \"\"}, \"baxis\": {\"gridcolor\": \"white\", \"linecolor\": \"white\", \"ticks\": \"\"}, \"bgcolor\": \"#E5ECF6\", \"caxis\": {\"gridcolor\": \"white\", \"linecolor\": \"white\", \"ticks\": \"\"}}, \"title\": {\"x\": 0.05}, \"xaxis\": {\"automargin\": true, \"gridcolor\": \"white\", \"linecolor\": \"white\", \"ticks\": \"\", \"title\": {\"standoff\": 15}, \"zerolinecolor\": \"white\", \"zerolinewidth\": 2}, \"yaxis\": {\"automargin\": true, \"gridcolor\": \"white\", \"linecolor\": \"white\", \"ticks\": \"\", \"title\": {\"standoff\": 15}, \"zerolinecolor\": \"white\", \"zerolinewidth\": 2}}}, \"title\": {\"font\": {\"color\": \"#4D5663\"}}, \"xaxis\": {\"gridcolor\": \"#E1E5ED\", \"showgrid\": true, \"tickfont\": {\"color\": \"#4D5663\"}, \"title\": {\"font\": {\"color\": \"#4D5663\"}, \"text\": \"\"}, \"zerolinecolor\": \"#E1E5ED\"}, \"yaxis\": {\"gridcolor\": \"#E1E5ED\", \"showgrid\": true, \"tickfont\": {\"color\": \"#4D5663\"}, \"title\": {\"font\": {\"color\": \"#4D5663\"}, \"text\": \"\"}, \"zerolinecolor\": \"#E1E5ED\"}},                        {\"showLink\": true, \"linkText\": \"Export to plot.ly\", \"plotlyServerURL\": \"https://plot.ly\", \"responsive\": true}                    ).then(function(){\n",
       "                            \n",
       "var gd = document.getElementById('4350238f-4941-422e-8488-7294903ad07d');\n",
       "var x = new MutationObserver(function (mutations, observer) {{\n",
       "        var display = window.getComputedStyle(gd).display;\n",
       "        if (!display || display === 'none') {{\n",
       "            console.log([gd, 'removed!']);\n",
       "            Plotly.purge(gd);\n",
       "            observer.disconnect();\n",
       "        }}\n",
       "}});\n",
       "\n",
       "// Listen for the removal of the full notebook cells\n",
       "var notebookContainer = gd.closest('#notebook-container');\n",
       "if (notebookContainer) {{\n",
       "    x.observe(notebookContainer, {childList: true});\n",
       "}}\n",
       "\n",
       "// Listen for the clearing of the current output cell\n",
       "var outputEl = gd.closest('.output');\n",
       "if (outputEl) {{\n",
       "    x.observe(outputEl, {childList: true});\n",
       "}}\n",
       "\n",
       "                        })                };                });            </script>        </div>"
      ]
     },
     "metadata": {},
     "output_type": "display_data"
    }
   ],
   "source": [
    "df.count().iplot(kind='bar')"
   ]
  },
  {
   "cell_type": "markdown",
   "metadata": {},
   "source": [
    "## Boxplots"
   ]
  },
  {
   "cell_type": "code",
   "execution_count": 14,
   "metadata": {},
   "outputs": [
    {
     "data": {
      "application/vnd.plotly.v1+json": {
       "config": {
        "linkText": "Export to plot.ly",
        "plotlyServerURL": "https://plot.ly",
        "showLink": true
       },
       "data": [
        {
         "boxpoints": false,
         "line": {
          "width": 1.3
         },
         "marker": {
          "color": "rgba(255, 153, 51, 1.0)"
         },
         "name": "A",
         "orientation": "v",
         "type": "box",
         "y": [
          1.0306268310521411,
          -0.009779592803279932,
          -0.2790768811322032,
          -1.0139740466904634,
          0.0900692504783834,
          -0.2535851169626924,
          -1.6467454574663618,
          1.7307237074588178,
          1.9502548897209437,
          -0.19755479047900773,
          0.2398666841948917,
          0.7010948394146828,
          -1.1451707605139148,
          0.46661900006528834,
          -0.8657550022928382,
          -1.6038650824285154,
          0.27757731154907933,
          -0.3431836968023546,
          -0.23005393886187692,
          1.0417258828980622,
          -0.8420841231491191,
          0.8152608031368365,
          -0.9625178400335987,
          -1.1404010459367615,
          0.050065537297441697,
          -2.370511621398351,
          -0.14919235354725413,
          0.41704549449768563,
          -0.6054188923136063,
          1.1554385786210146,
          0.7844642545459046,
          -1.475697549467589,
          0.04357284219822051,
          0.6794088833644034,
          0.6088565243362992,
          -1.1236414266064494,
          -0.8645947981730004,
          -0.189315236879113,
          -1.6210608672291478,
          0.9826668024309222,
          -0.6583173023179347,
          -0.5261504456906693,
          -0.03469245259160687,
          -0.6441359781479439,
          2.1734528796420545,
          -0.695189681213425,
          -0.46387873617425734,
          -1.4406688499833342,
          -1.2366946841550048,
          -0.10445908435134638,
          1.4251663204192084,
          0.5459100358998471,
          -0.8142886165167468,
          1.6532780391932245,
          -0.1756159152534916,
          1.3322517121474091,
          -1.4189570454958202,
          -0.4365752199462574,
          0.9537908960745699,
          -0.3539941043674274,
          -1.7317323557753117,
          -1.6056342883818238,
          -0.14249131405174065,
          0.757385761017589,
          0.9217206398940825,
          0.8344690988574576,
          -1.2899900493073886,
          -0.5943831892006142,
          -0.30372445542656695,
          -0.6417063779059349,
          -0.7037207687010433,
          1.1647604326551553,
          1.6423197600571988,
          1.5706789394322735,
          0.1367178711685339,
          -0.27323866815150344,
          -0.6314346286156403,
          0.4479905105725482,
          0.5890067573599885,
          0.2851593629595951,
          0.21447051208841894,
          -0.33151322309343284,
          0.5286453144797023,
          -1.06397649923059,
          0.5211095633016483,
          0.11631777499822968,
          0.42275350128486044,
          -0.6165342792073051,
          -1.6774563192891445,
          -0.4449128911114853,
          -0.3718594486932189,
          -0.3548745644616727,
          -0.0653257564023129,
          -1.380490514092773,
          1.2171934013759687,
          -0.19344980330040593,
          -1.0615002168273389,
          -0.7803014574950484,
          1.0018898744196458,
          -0.005603546937125365
         ]
        },
        {
         "boxpoints": false,
         "line": {
          "width": 1.3
         },
         "marker": {
          "color": "rgba(55, 128, 191, 1.0)"
         },
         "name": "B",
         "orientation": "v",
         "type": "box",
         "y": [
          -1.3171858117403332,
          0.7624380978698583,
          -0.26598712621796905,
          -0.5264968283634126,
          0.10775038884771772,
          -0.41831917087155723,
          -0.13336026616854868,
          -2.052679358839702,
          -0.2308750629501153,
          0.2902137081421649,
          0.5462280675460035,
          1.565509826018809,
          -1.4187648886808986,
          -1.423344160179114,
          0.5147971814034639,
          -1.1955784398830605,
          0.08841387852632229,
          0.9668380080455504,
          -2.0063648569849772,
          0.6808736919461532,
          0.18781766388703022,
          0.5614171365614565,
          -0.6444394608278725,
          -0.9555977425121828,
          0.5299791506581135,
          0.41850851624872903,
          -1.5661227844941723,
          0.5843187666974453,
          -1.4004706879941347,
          0.8719603928383804,
          0.12816736803148948,
          -0.6104649553361966,
          0.39821361249434495,
          0.3606846856900817,
          0.7413036225859474,
          0.1627576812495385,
          -0.11822845890206685,
          0.7059999893225765,
          0.7170034475706563,
          -0.5027599164597009,
          0.10001385944510605,
          0.005207958097552748,
          1.6930322553144348,
          0.29635397928301377,
          0.30803560854128187,
          -0.36681447693814095,
          -1.890051113809245,
          0.7540909096954302,
          -0.1773227273363077,
          -0.23349584546769653,
          -0.5713628964543889,
          -1.4716137756569088,
          0.9304562545373743,
          0.4995878163784225,
          0.65980085367938,
          -1.4262329597400663,
          0.4473009688035141,
          0.9388857213269526,
          -0.449652377171511,
          -0.41019978026484133,
          1.3454325846951676,
          -1.734053342435024,
          -0.35576304849981377,
          1.9486922219268799,
          0.5737692643406617,
          0.9393293725888838,
          -0.8987704602488126,
          -1.2179927775473998,
          -0.3154686479242465,
          0.11496694956077251,
          0.868292857634255,
          0.38527378173858845,
          0.6327010724068767,
          0.6067968510291968,
          0.1742604029204123,
          0.7507414554072483,
          0.0793466639492751,
          0.05341761777299585,
          -1.1964557802321034,
          1.6445281574639363,
          0.71006173073308,
          0.09181605215087117,
          0.15398334088760324,
          -0.3343350278170103,
          -1.4134082457416612,
          0.5162593987334545,
          -1.0231974241693471,
          1.736265472251738,
          -1.2743123078491674,
          -1.1200108534882374,
          0.284539525306163,
          0.28641559822266427,
          -0.10302174914339148,
          1.1760968400628866,
          0.31675765561830554,
          1.1281775757982864,
          -0.9114292516561148,
          -0.09818298589490093,
          1.4896167556584419,
          0.1509599741757448
         ]
        },
        {
         "boxpoints": false,
         "line": {
          "width": 1.3
         },
         "marker": {
          "color": "rgba(50, 171, 96, 1.0)"
         },
         "name": "C",
         "orientation": "v",
         "type": "box",
         "y": [
          0.08379242003873957,
          0.2148785331592744,
          0.05037764227737709,
          0.8756341253893809,
          0.8590465590528559,
          0.4391174055308217,
          0.189431450404587,
          -0.3718155703527072,
          -0.5550634508530573,
          -1.3794441465660177,
          -1.0563146350461485,
          0.14681120692010374,
          0.3131553635618999,
          0.5585557787930133,
          0.07722880995042875,
          -0.04392131380774122,
          1.1243569267065112,
          0.4253139715551968,
          0.11595870860059217,
          0.03402107108713042,
          -1.152168023984466,
          -0.14102868678892333,
          0.32125039377044723,
          -0.015777088712871118,
          1.9589536177600075,
          -0.43206789180190025,
          0.12749666112522964,
          0.60374343136248,
          0.7276624395022874,
          -0.8553924209946996,
          -1.5239420978185667,
          2.3059002372762567,
          1.7657544426604617,
          1.4176804265866652,
          -0.14577675495265452,
          -2.5488718386666656,
          0.21232980357778392,
          0.27948468183738157,
          -1.1662977440321178,
          -0.02682624947907975,
          -0.07801098168006376,
          -1.5299524615332178,
          0.19086992639333702,
          -1.422834386813165,
          0.3651424582753189,
          -0.03978866054513912,
          -0.21945194172803012,
          -0.9001789899014709,
          0.3656287775959234,
          0.015043418972787223,
          -0.6988972675541378,
          -1.099385561047347,
          0.46100314491139704,
          0.08494565785337806,
          0.6599596689566934,
          1.1876021244161188,
          1.271634126184984,
          -0.2795533824193319,
          -1.9056263876115092,
          1.0947587027067796,
          -0.372279956072975,
          0.8078982842393541,
          0.24586963761177888,
          1.2312321136396454,
          -0.17447290390264522,
          -0.38122086074732653,
          -0.7851067104971744,
          -0.30677339413517046,
          -1.1153469541785526,
          -1.268705753155011,
          -1.0516340367499943,
          0.8078730526908118,
          -0.6654810773103337,
          0.4765200681845515,
          0.20662969875360157,
          0.27918620297987795,
          0.40802133707589155,
          1.2763581430226278,
          1.3378200142549608,
          -1.0643769902927183,
          -1.1549667214964872,
          1.6004757569170087,
          -0.42593731310572397,
          0.713247303276228,
          -0.4372100489811118,
          1.0021751145910691,
          1.3354722150222882,
          -0.3560516664855117,
          0.9911564978729335,
          0.6106046459167388,
          -0.2650783288238696,
          1.4191519832449284,
          0.7093530482147238,
          1.2937644648767108,
          -0.15111663264208083,
          2.0370254465584474,
          0.906193520781411,
          1.2115197524753947,
          1.4246594347089725,
          0.4487685507219152
         ]
        },
        {
         "boxpoints": false,
         "line": {
          "width": 1.3
         },
         "marker": {
          "color": "rgba(128, 0, 128, 1.0)"
         },
         "name": "D",
         "orientation": "v",
         "type": "box",
         "y": [
          -0.6920634091911322,
          -1.2328974794541194,
          -0.13337965401471033,
          -0.10718312588982684,
          -1.1869959369538874,
          -1.2194779182027682,
          0.5538225567018522,
          0.3086265573058003,
          1.5501011090909576,
          -0.6188799170130024,
          -0.6330510694501634,
          0.12190495414005852,
          -0.8340665719451371,
          -0.3052587727563927,
          0.17048465739114646,
          2.5484889581440995,
          -0.4001988622871872,
          0.2232020074270806,
          3.3378359210526516,
          -1.9951039860201403,
          0.46669753757252347,
          0.06643153558470793,
          -1.0212754397753374,
          -0.8596795616002902,
          -0.5809913983199892,
          1.660379232405525,
          -1.0206828293145023,
          -0.5165516692500176,
          -0.35563432592567235,
          0.900963391813983,
          -2.0907566992355546,
          1.9526024683829384,
          0.7572391375796467,
          0.16457927543657624,
          -0.709574445714888,
          -0.1324330263073747,
          0.37522399686406444,
          -0.467457646527938,
          -1.2034728568367308,
          -0.18682761445402954,
          0.2676089357964147,
          0.9354848298876832,
          -0.1614825418692389,
          -0.15935046380828055,
          -0.2066973243556901,
          2.1138228595046757,
          0.8146101088711156,
          0.2621977456669178,
          -0.40524829672051826,
          -0.4473821199867852,
          -0.8188050705844425,
          -0.8228830639219495,
          0.5150953876104498,
          -0.49697570517748263,
          0.8236699217037411,
          0.7968981169892387,
          0.19963003476156377,
          -1.3086846374128205,
          0.3658069863924726,
          -0.30014818602960625,
          1.0366037965313704,
          1.108217546936431,
          1.6402622395793887,
          -1.464246518706611,
          0.44741047498891323,
          0.6655792148732772,
          0.29205688147747827,
          1.0465287173815978,
          -1.0972484624244334,
          0.9843079937413093,
          0.4005397110947668,
          0.6240958337027928,
          -1.4907753096251966,
          -0.04531497643233301,
          1.5577867100749405,
          0.560085435865454,
          0.8600067975891267,
          1.4101724955969688,
          0.5181935464130717,
          -0.7583553846233285,
          1.267470197937567,
          2.107735225249204,
          -1.604037594672744,
          -1.1246188870452987,
          -0.8027894261801742,
          -0.45016955447510903,
          -0.5291651388810777,
          0.4511046557632813,
          -0.4976688751059435,
          -0.12838705752481272,
          -0.6467687349316987,
          -0.6546091808489067,
          -0.3383808775917049,
          -0.313860301853834,
          -0.7818949483473627,
          -1.1774540958497328,
          1.58084798605212,
          -0.18530178334993333,
          1.7055280861592752,
          -1.4050532797125146
         ]
        }
       ],
       "layout": {
        "legend": {
         "bgcolor": "#F5F6F9",
         "font": {
          "color": "#4D5663"
         }
        },
        "paper_bgcolor": "#F5F6F9",
        "plot_bgcolor": "#F5F6F9",
        "template": {
         "data": {
          "bar": [
           {
            "error_x": {
             "color": "#2a3f5f"
            },
            "error_y": {
             "color": "#2a3f5f"
            },
            "marker": {
             "line": {
              "color": "#E5ECF6",
              "width": 0.5
             }
            },
            "type": "bar"
           }
          ],
          "barpolar": [
           {
            "marker": {
             "line": {
              "color": "#E5ECF6",
              "width": 0.5
             }
            },
            "type": "barpolar"
           }
          ],
          "carpet": [
           {
            "aaxis": {
             "endlinecolor": "#2a3f5f",
             "gridcolor": "white",
             "linecolor": "white",
             "minorgridcolor": "white",
             "startlinecolor": "#2a3f5f"
            },
            "baxis": {
             "endlinecolor": "#2a3f5f",
             "gridcolor": "white",
             "linecolor": "white",
             "minorgridcolor": "white",
             "startlinecolor": "#2a3f5f"
            },
            "type": "carpet"
           }
          ],
          "choropleth": [
           {
            "colorbar": {
             "outlinewidth": 0,
             "ticks": ""
            },
            "type": "choropleth"
           }
          ],
          "contour": [
           {
            "colorbar": {
             "outlinewidth": 0,
             "ticks": ""
            },
            "colorscale": [
             [
              0,
              "#0d0887"
             ],
             [
              0.1111111111111111,
              "#46039f"
             ],
             [
              0.2222222222222222,
              "#7201a8"
             ],
             [
              0.3333333333333333,
              "#9c179e"
             ],
             [
              0.4444444444444444,
              "#bd3786"
             ],
             [
              0.5555555555555556,
              "#d8576b"
             ],
             [
              0.6666666666666666,
              "#ed7953"
             ],
             [
              0.7777777777777778,
              "#fb9f3a"
             ],
             [
              0.8888888888888888,
              "#fdca26"
             ],
             [
              1,
              "#f0f921"
             ]
            ],
            "type": "contour"
           }
          ],
          "contourcarpet": [
           {
            "colorbar": {
             "outlinewidth": 0,
             "ticks": ""
            },
            "type": "contourcarpet"
           }
          ],
          "heatmap": [
           {
            "colorbar": {
             "outlinewidth": 0,
             "ticks": ""
            },
            "colorscale": [
             [
              0,
              "#0d0887"
             ],
             [
              0.1111111111111111,
              "#46039f"
             ],
             [
              0.2222222222222222,
              "#7201a8"
             ],
             [
              0.3333333333333333,
              "#9c179e"
             ],
             [
              0.4444444444444444,
              "#bd3786"
             ],
             [
              0.5555555555555556,
              "#d8576b"
             ],
             [
              0.6666666666666666,
              "#ed7953"
             ],
             [
              0.7777777777777778,
              "#fb9f3a"
             ],
             [
              0.8888888888888888,
              "#fdca26"
             ],
             [
              1,
              "#f0f921"
             ]
            ],
            "type": "heatmap"
           }
          ],
          "heatmapgl": [
           {
            "colorbar": {
             "outlinewidth": 0,
             "ticks": ""
            },
            "colorscale": [
             [
              0,
              "#0d0887"
             ],
             [
              0.1111111111111111,
              "#46039f"
             ],
             [
              0.2222222222222222,
              "#7201a8"
             ],
             [
              0.3333333333333333,
              "#9c179e"
             ],
             [
              0.4444444444444444,
              "#bd3786"
             ],
             [
              0.5555555555555556,
              "#d8576b"
             ],
             [
              0.6666666666666666,
              "#ed7953"
             ],
             [
              0.7777777777777778,
              "#fb9f3a"
             ],
             [
              0.8888888888888888,
              "#fdca26"
             ],
             [
              1,
              "#f0f921"
             ]
            ],
            "type": "heatmapgl"
           }
          ],
          "histogram": [
           {
            "marker": {
             "colorbar": {
              "outlinewidth": 0,
              "ticks": ""
             }
            },
            "type": "histogram"
           }
          ],
          "histogram2d": [
           {
            "colorbar": {
             "outlinewidth": 0,
             "ticks": ""
            },
            "colorscale": [
             [
              0,
              "#0d0887"
             ],
             [
              0.1111111111111111,
              "#46039f"
             ],
             [
              0.2222222222222222,
              "#7201a8"
             ],
             [
              0.3333333333333333,
              "#9c179e"
             ],
             [
              0.4444444444444444,
              "#bd3786"
             ],
             [
              0.5555555555555556,
              "#d8576b"
             ],
             [
              0.6666666666666666,
              "#ed7953"
             ],
             [
              0.7777777777777778,
              "#fb9f3a"
             ],
             [
              0.8888888888888888,
              "#fdca26"
             ],
             [
              1,
              "#f0f921"
             ]
            ],
            "type": "histogram2d"
           }
          ],
          "histogram2dcontour": [
           {
            "colorbar": {
             "outlinewidth": 0,
             "ticks": ""
            },
            "colorscale": [
             [
              0,
              "#0d0887"
             ],
             [
              0.1111111111111111,
              "#46039f"
             ],
             [
              0.2222222222222222,
              "#7201a8"
             ],
             [
              0.3333333333333333,
              "#9c179e"
             ],
             [
              0.4444444444444444,
              "#bd3786"
             ],
             [
              0.5555555555555556,
              "#d8576b"
             ],
             [
              0.6666666666666666,
              "#ed7953"
             ],
             [
              0.7777777777777778,
              "#fb9f3a"
             ],
             [
              0.8888888888888888,
              "#fdca26"
             ],
             [
              1,
              "#f0f921"
             ]
            ],
            "type": "histogram2dcontour"
           }
          ],
          "mesh3d": [
           {
            "colorbar": {
             "outlinewidth": 0,
             "ticks": ""
            },
            "type": "mesh3d"
           }
          ],
          "parcoords": [
           {
            "line": {
             "colorbar": {
              "outlinewidth": 0,
              "ticks": ""
             }
            },
            "type": "parcoords"
           }
          ],
          "pie": [
           {
            "automargin": true,
            "type": "pie"
           }
          ],
          "scatter": [
           {
            "marker": {
             "colorbar": {
              "outlinewidth": 0,
              "ticks": ""
             }
            },
            "type": "scatter"
           }
          ],
          "scatter3d": [
           {
            "line": {
             "colorbar": {
              "outlinewidth": 0,
              "ticks": ""
             }
            },
            "marker": {
             "colorbar": {
              "outlinewidth": 0,
              "ticks": ""
             }
            },
            "type": "scatter3d"
           }
          ],
          "scattercarpet": [
           {
            "marker": {
             "colorbar": {
              "outlinewidth": 0,
              "ticks": ""
             }
            },
            "type": "scattercarpet"
           }
          ],
          "scattergeo": [
           {
            "marker": {
             "colorbar": {
              "outlinewidth": 0,
              "ticks": ""
             }
            },
            "type": "scattergeo"
           }
          ],
          "scattergl": [
           {
            "marker": {
             "colorbar": {
              "outlinewidth": 0,
              "ticks": ""
             }
            },
            "type": "scattergl"
           }
          ],
          "scattermapbox": [
           {
            "marker": {
             "colorbar": {
              "outlinewidth": 0,
              "ticks": ""
             }
            },
            "type": "scattermapbox"
           }
          ],
          "scatterpolar": [
           {
            "marker": {
             "colorbar": {
              "outlinewidth": 0,
              "ticks": ""
             }
            },
            "type": "scatterpolar"
           }
          ],
          "scatterpolargl": [
           {
            "marker": {
             "colorbar": {
              "outlinewidth": 0,
              "ticks": ""
             }
            },
            "type": "scatterpolargl"
           }
          ],
          "scatterternary": [
           {
            "marker": {
             "colorbar": {
              "outlinewidth": 0,
              "ticks": ""
             }
            },
            "type": "scatterternary"
           }
          ],
          "surface": [
           {
            "colorbar": {
             "outlinewidth": 0,
             "ticks": ""
            },
            "colorscale": [
             [
              0,
              "#0d0887"
             ],
             [
              0.1111111111111111,
              "#46039f"
             ],
             [
              0.2222222222222222,
              "#7201a8"
             ],
             [
              0.3333333333333333,
              "#9c179e"
             ],
             [
              0.4444444444444444,
              "#bd3786"
             ],
             [
              0.5555555555555556,
              "#d8576b"
             ],
             [
              0.6666666666666666,
              "#ed7953"
             ],
             [
              0.7777777777777778,
              "#fb9f3a"
             ],
             [
              0.8888888888888888,
              "#fdca26"
             ],
             [
              1,
              "#f0f921"
             ]
            ],
            "type": "surface"
           }
          ],
          "table": [
           {
            "cells": {
             "fill": {
              "color": "#EBF0F8"
             },
             "line": {
              "color": "white"
             }
            },
            "header": {
             "fill": {
              "color": "#C8D4E3"
             },
             "line": {
              "color": "white"
             }
            },
            "type": "table"
           }
          ]
         },
         "layout": {
          "annotationdefaults": {
           "arrowcolor": "#2a3f5f",
           "arrowhead": 0,
           "arrowwidth": 1
          },
          "coloraxis": {
           "colorbar": {
            "outlinewidth": 0,
            "ticks": ""
           }
          },
          "colorscale": {
           "diverging": [
            [
             0,
             "#8e0152"
            ],
            [
             0.1,
             "#c51b7d"
            ],
            [
             0.2,
             "#de77ae"
            ],
            [
             0.3,
             "#f1b6da"
            ],
            [
             0.4,
             "#fde0ef"
            ],
            [
             0.5,
             "#f7f7f7"
            ],
            [
             0.6,
             "#e6f5d0"
            ],
            [
             0.7,
             "#b8e186"
            ],
            [
             0.8,
             "#7fbc41"
            ],
            [
             0.9,
             "#4d9221"
            ],
            [
             1,
             "#276419"
            ]
           ],
           "sequential": [
            [
             0,
             "#0d0887"
            ],
            [
             0.1111111111111111,
             "#46039f"
            ],
            [
             0.2222222222222222,
             "#7201a8"
            ],
            [
             0.3333333333333333,
             "#9c179e"
            ],
            [
             0.4444444444444444,
             "#bd3786"
            ],
            [
             0.5555555555555556,
             "#d8576b"
            ],
            [
             0.6666666666666666,
             "#ed7953"
            ],
            [
             0.7777777777777778,
             "#fb9f3a"
            ],
            [
             0.8888888888888888,
             "#fdca26"
            ],
            [
             1,
             "#f0f921"
            ]
           ],
           "sequentialminus": [
            [
             0,
             "#0d0887"
            ],
            [
             0.1111111111111111,
             "#46039f"
            ],
            [
             0.2222222222222222,
             "#7201a8"
            ],
            [
             0.3333333333333333,
             "#9c179e"
            ],
            [
             0.4444444444444444,
             "#bd3786"
            ],
            [
             0.5555555555555556,
             "#d8576b"
            ],
            [
             0.6666666666666666,
             "#ed7953"
            ],
            [
             0.7777777777777778,
             "#fb9f3a"
            ],
            [
             0.8888888888888888,
             "#fdca26"
            ],
            [
             1,
             "#f0f921"
            ]
           ]
          },
          "colorway": [
           "#636efa",
           "#EF553B",
           "#00cc96",
           "#ab63fa",
           "#FFA15A",
           "#19d3f3",
           "#FF6692",
           "#B6E880",
           "#FF97FF",
           "#FECB52"
          ],
          "font": {
           "color": "#2a3f5f"
          },
          "geo": {
           "bgcolor": "white",
           "lakecolor": "white",
           "landcolor": "#E5ECF6",
           "showlakes": true,
           "showland": true,
           "subunitcolor": "white"
          },
          "hoverlabel": {
           "align": "left"
          },
          "hovermode": "closest",
          "mapbox": {
           "style": "light"
          },
          "paper_bgcolor": "white",
          "plot_bgcolor": "#E5ECF6",
          "polar": {
           "angularaxis": {
            "gridcolor": "white",
            "linecolor": "white",
            "ticks": ""
           },
           "bgcolor": "#E5ECF6",
           "radialaxis": {
            "gridcolor": "white",
            "linecolor": "white",
            "ticks": ""
           }
          },
          "scene": {
           "xaxis": {
            "backgroundcolor": "#E5ECF6",
            "gridcolor": "white",
            "gridwidth": 2,
            "linecolor": "white",
            "showbackground": true,
            "ticks": "",
            "zerolinecolor": "white"
           },
           "yaxis": {
            "backgroundcolor": "#E5ECF6",
            "gridcolor": "white",
            "gridwidth": 2,
            "linecolor": "white",
            "showbackground": true,
            "ticks": "",
            "zerolinecolor": "white"
           },
           "zaxis": {
            "backgroundcolor": "#E5ECF6",
            "gridcolor": "white",
            "gridwidth": 2,
            "linecolor": "white",
            "showbackground": true,
            "ticks": "",
            "zerolinecolor": "white"
           }
          },
          "shapedefaults": {
           "line": {
            "color": "#2a3f5f"
           }
          },
          "ternary": {
           "aaxis": {
            "gridcolor": "white",
            "linecolor": "white",
            "ticks": ""
           },
           "baxis": {
            "gridcolor": "white",
            "linecolor": "white",
            "ticks": ""
           },
           "bgcolor": "#E5ECF6",
           "caxis": {
            "gridcolor": "white",
            "linecolor": "white",
            "ticks": ""
           }
          },
          "title": {
           "x": 0.05
          },
          "xaxis": {
           "automargin": true,
           "gridcolor": "white",
           "linecolor": "white",
           "ticks": "",
           "title": {
            "standoff": 15
           },
           "zerolinecolor": "white",
           "zerolinewidth": 2
          },
          "yaxis": {
           "automargin": true,
           "gridcolor": "white",
           "linecolor": "white",
           "ticks": "",
           "title": {
            "standoff": 15
           },
           "zerolinecolor": "white",
           "zerolinewidth": 2
          }
         }
        },
        "title": {
         "font": {
          "color": "#4D5663"
         }
        },
        "xaxis": {
         "gridcolor": "#E1E5ED",
         "showgrid": true,
         "tickfont": {
          "color": "#4D5663"
         },
         "title": {
          "font": {
           "color": "#4D5663"
          },
          "text": ""
         },
         "zerolinecolor": "#E1E5ED"
        },
        "yaxis": {
         "gridcolor": "#E1E5ED",
         "showgrid": true,
         "tickfont": {
          "color": "#4D5663"
         },
         "title": {
          "font": {
           "color": "#4D5663"
          },
          "text": ""
         },
         "zerolinecolor": "#E1E5ED"
        }
       }
      },
      "text/html": [
       "<div>                            <div id=\"a45ab4ae-3d4e-4241-abcb-f3617d2d3ec8\" class=\"plotly-graph-div\" style=\"height:525px; width:100%;\"></div>            <script type=\"text/javascript\">                require([\"plotly\"], function(Plotly) {                    window.PLOTLYENV=window.PLOTLYENV || {};\n",
       "                    window.PLOTLYENV.BASE_URL='https://plot.ly';                                    if (document.getElementById(\"a45ab4ae-3d4e-4241-abcb-f3617d2d3ec8\")) {                    Plotly.newPlot(                        \"a45ab4ae-3d4e-4241-abcb-f3617d2d3ec8\",                        [{\"boxpoints\": false, \"line\": {\"width\": 1.3}, \"marker\": {\"color\": \"rgba(255, 153, 51, 1.0)\"}, \"name\": \"A\", \"orientation\": \"v\", \"type\": \"box\", \"y\": [1.0306268310521411, -0.009779592803279932, -0.2790768811322032, -1.0139740466904634, 0.0900692504783834, -0.2535851169626924, -1.6467454574663618, 1.7307237074588178, 1.9502548897209437, -0.19755479047900773, 0.2398666841948917, 0.7010948394146828, -1.1451707605139148, 0.46661900006528834, -0.8657550022928382, -1.6038650824285154, 0.27757731154907933, -0.3431836968023546, -0.23005393886187692, 1.0417258828980622, -0.8420841231491191, 0.8152608031368365, -0.9625178400335987, -1.1404010459367615, 0.050065537297441697, -2.370511621398351, -0.14919235354725413, 0.41704549449768563, -0.6054188923136063, 1.1554385786210146, 0.7844642545459046, -1.475697549467589, 0.04357284219822051, 0.6794088833644034, 0.6088565243362992, -1.1236414266064494, -0.8645947981730004, -0.189315236879113, -1.6210608672291478, 0.9826668024309222, -0.6583173023179347, -0.5261504456906693, -0.03469245259160687, -0.6441359781479439, 2.1734528796420545, -0.695189681213425, -0.46387873617425734, -1.4406688499833342, -1.2366946841550048, -0.10445908435134638, 1.4251663204192084, 0.5459100358998471, -0.8142886165167468, 1.6532780391932245, -0.1756159152534916, 1.3322517121474091, -1.4189570454958202, -0.4365752199462574, 0.9537908960745699, -0.3539941043674274, -1.7317323557753117, -1.6056342883818238, -0.14249131405174065, 0.757385761017589, 0.9217206398940825, 0.8344690988574576, -1.2899900493073886, -0.5943831892006142, -0.30372445542656695, -0.6417063779059349, -0.7037207687010433, 1.1647604326551553, 1.6423197600571988, 1.5706789394322735, 0.1367178711685339, -0.27323866815150344, -0.6314346286156403, 0.4479905105725482, 0.5890067573599885, 0.2851593629595951, 0.21447051208841894, -0.33151322309343284, 0.5286453144797023, -1.06397649923059, 0.5211095633016483, 0.11631777499822968, 0.42275350128486044, -0.6165342792073051, -1.6774563192891445, -0.4449128911114853, -0.3718594486932189, -0.3548745644616727, -0.0653257564023129, -1.380490514092773, 1.2171934013759687, -0.19344980330040593, -1.0615002168273389, -0.7803014574950484, 1.0018898744196458, -0.005603546937125365]}, {\"boxpoints\": false, \"line\": {\"width\": 1.3}, \"marker\": {\"color\": \"rgba(55, 128, 191, 1.0)\"}, \"name\": \"B\", \"orientation\": \"v\", \"type\": \"box\", \"y\": [-1.3171858117403332, 0.7624380978698583, -0.26598712621796905, -0.5264968283634126, 0.10775038884771772, -0.41831917087155723, -0.13336026616854868, -2.052679358839702, -0.2308750629501153, 0.2902137081421649, 0.5462280675460035, 1.565509826018809, -1.4187648886808986, -1.423344160179114, 0.5147971814034639, -1.1955784398830605, 0.08841387852632229, 0.9668380080455504, -2.0063648569849772, 0.6808736919461532, 0.18781766388703022, 0.5614171365614565, -0.6444394608278725, -0.9555977425121828, 0.5299791506581135, 0.41850851624872903, -1.5661227844941723, 0.5843187666974453, -1.4004706879941347, 0.8719603928383804, 0.12816736803148948, -0.6104649553361966, 0.39821361249434495, 0.3606846856900817, 0.7413036225859474, 0.1627576812495385, -0.11822845890206685, 0.7059999893225765, 0.7170034475706563, -0.5027599164597009, 0.10001385944510605, 0.005207958097552748, 1.6930322553144348, 0.29635397928301377, 0.30803560854128187, -0.36681447693814095, -1.890051113809245, 0.7540909096954302, -0.1773227273363077, -0.23349584546769653, -0.5713628964543889, -1.4716137756569088, 0.9304562545373743, 0.4995878163784225, 0.65980085367938, -1.4262329597400663, 0.4473009688035141, 0.9388857213269526, -0.449652377171511, -0.41019978026484133, 1.3454325846951676, -1.734053342435024, -0.35576304849981377, 1.9486922219268799, 0.5737692643406617, 0.9393293725888838, -0.8987704602488126, -1.2179927775473998, -0.3154686479242465, 0.11496694956077251, 0.868292857634255, 0.38527378173858845, 0.6327010724068767, 0.6067968510291968, 0.1742604029204123, 0.7507414554072483, 0.0793466639492751, 0.05341761777299585, -1.1964557802321034, 1.6445281574639363, 0.71006173073308, 0.09181605215087117, 0.15398334088760324, -0.3343350278170103, -1.4134082457416612, 0.5162593987334545, -1.0231974241693471, 1.736265472251738, -1.2743123078491674, -1.1200108534882374, 0.284539525306163, 0.28641559822266427, -0.10302174914339148, 1.1760968400628866, 0.31675765561830554, 1.1281775757982864, -0.9114292516561148, -0.09818298589490093, 1.4896167556584419, 0.1509599741757448]}, {\"boxpoints\": false, \"line\": {\"width\": 1.3}, \"marker\": {\"color\": \"rgba(50, 171, 96, 1.0)\"}, \"name\": \"C\", \"orientation\": \"v\", \"type\": \"box\", \"y\": [0.08379242003873957, 0.2148785331592744, 0.05037764227737709, 0.8756341253893809, 0.8590465590528559, 0.4391174055308217, 0.189431450404587, -0.3718155703527072, -0.5550634508530573, -1.3794441465660177, -1.0563146350461485, 0.14681120692010374, 0.3131553635618999, 0.5585557787930133, 0.07722880995042875, -0.04392131380774122, 1.1243569267065112, 0.4253139715551968, 0.11595870860059217, 0.03402107108713042, -1.152168023984466, -0.14102868678892333, 0.32125039377044723, -0.015777088712871118, 1.9589536177600075, -0.43206789180190025, 0.12749666112522964, 0.60374343136248, 0.7276624395022874, -0.8553924209946996, -1.5239420978185667, 2.3059002372762567, 1.7657544426604617, 1.4176804265866652, -0.14577675495265452, -2.5488718386666656, 0.21232980357778392, 0.27948468183738157, -1.1662977440321178, -0.02682624947907975, -0.07801098168006376, -1.5299524615332178, 0.19086992639333702, -1.422834386813165, 0.3651424582753189, -0.03978866054513912, -0.21945194172803012, -0.9001789899014709, 0.3656287775959234, 0.015043418972787223, -0.6988972675541378, -1.099385561047347, 0.46100314491139704, 0.08494565785337806, 0.6599596689566934, 1.1876021244161188, 1.271634126184984, -0.2795533824193319, -1.9056263876115092, 1.0947587027067796, -0.372279956072975, 0.8078982842393541, 0.24586963761177888, 1.2312321136396454, -0.17447290390264522, -0.38122086074732653, -0.7851067104971744, -0.30677339413517046, -1.1153469541785526, -1.268705753155011, -1.0516340367499943, 0.8078730526908118, -0.6654810773103337, 0.4765200681845515, 0.20662969875360157, 0.27918620297987795, 0.40802133707589155, 1.2763581430226278, 1.3378200142549608, -1.0643769902927183, -1.1549667214964872, 1.6004757569170087, -0.42593731310572397, 0.713247303276228, -0.4372100489811118, 1.0021751145910691, 1.3354722150222882, -0.3560516664855117, 0.9911564978729335, 0.6106046459167388, -0.2650783288238696, 1.4191519832449284, 0.7093530482147238, 1.2937644648767108, -0.15111663264208083, 2.0370254465584474, 0.906193520781411, 1.2115197524753947, 1.4246594347089725, 0.4487685507219152]}, {\"boxpoints\": false, \"line\": {\"width\": 1.3}, \"marker\": {\"color\": \"rgba(128, 0, 128, 1.0)\"}, \"name\": \"D\", \"orientation\": \"v\", \"type\": \"box\", \"y\": [-0.6920634091911322, -1.2328974794541194, -0.13337965401471033, -0.10718312588982684, -1.1869959369538874, -1.2194779182027682, 0.5538225567018522, 0.3086265573058003, 1.5501011090909576, -0.6188799170130024, -0.6330510694501634, 0.12190495414005852, -0.8340665719451371, -0.3052587727563927, 0.17048465739114646, 2.5484889581440995, -0.4001988622871872, 0.2232020074270806, 3.3378359210526516, -1.9951039860201403, 0.46669753757252347, 0.06643153558470793, -1.0212754397753374, -0.8596795616002902, -0.5809913983199892, 1.660379232405525, -1.0206828293145023, -0.5165516692500176, -0.35563432592567235, 0.900963391813983, -2.0907566992355546, 1.9526024683829384, 0.7572391375796467, 0.16457927543657624, -0.709574445714888, -0.1324330263073747, 0.37522399686406444, -0.467457646527938, -1.2034728568367308, -0.18682761445402954, 0.2676089357964147, 0.9354848298876832, -0.1614825418692389, -0.15935046380828055, -0.2066973243556901, 2.1138228595046757, 0.8146101088711156, 0.2621977456669178, -0.40524829672051826, -0.4473821199867852, -0.8188050705844425, -0.8228830639219495, 0.5150953876104498, -0.49697570517748263, 0.8236699217037411, 0.7968981169892387, 0.19963003476156377, -1.3086846374128205, 0.3658069863924726, -0.30014818602960625, 1.0366037965313704, 1.108217546936431, 1.6402622395793887, -1.464246518706611, 0.44741047498891323, 0.6655792148732772, 0.29205688147747827, 1.0465287173815978, -1.0972484624244334, 0.9843079937413093, 0.4005397110947668, 0.6240958337027928, -1.4907753096251966, -0.04531497643233301, 1.5577867100749405, 0.560085435865454, 0.8600067975891267, 1.4101724955969688, 0.5181935464130717, -0.7583553846233285, 1.267470197937567, 2.107735225249204, -1.604037594672744, -1.1246188870452987, -0.8027894261801742, -0.45016955447510903, -0.5291651388810777, 0.4511046557632813, -0.4976688751059435, -0.12838705752481272, -0.6467687349316987, -0.6546091808489067, -0.3383808775917049, -0.313860301853834, -0.7818949483473627, -1.1774540958497328, 1.58084798605212, -0.18530178334993333, 1.7055280861592752, -1.4050532797125146]}],                        {\"legend\": {\"bgcolor\": \"#F5F6F9\", \"font\": {\"color\": \"#4D5663\"}}, \"paper_bgcolor\": \"#F5F6F9\", \"plot_bgcolor\": \"#F5F6F9\", \"template\": {\"data\": {\"bar\": [{\"error_x\": {\"color\": \"#2a3f5f\"}, \"error_y\": {\"color\": \"#2a3f5f\"}, \"marker\": {\"line\": {\"color\": \"#E5ECF6\", \"width\": 0.5}}, \"type\": \"bar\"}], \"barpolar\": [{\"marker\": {\"line\": {\"color\": \"#E5ECF6\", \"width\": 0.5}}, \"type\": \"barpolar\"}], \"carpet\": [{\"aaxis\": {\"endlinecolor\": \"#2a3f5f\", \"gridcolor\": \"white\", \"linecolor\": \"white\", \"minorgridcolor\": \"white\", \"startlinecolor\": \"#2a3f5f\"}, \"baxis\": {\"endlinecolor\": \"#2a3f5f\", \"gridcolor\": \"white\", \"linecolor\": \"white\", \"minorgridcolor\": \"white\", \"startlinecolor\": \"#2a3f5f\"}, \"type\": \"carpet\"}], \"choropleth\": [{\"colorbar\": {\"outlinewidth\": 0, \"ticks\": \"\"}, \"type\": \"choropleth\"}], \"contour\": [{\"colorbar\": {\"outlinewidth\": 0, \"ticks\": \"\"}, \"colorscale\": [[0.0, \"#0d0887\"], [0.1111111111111111, \"#46039f\"], [0.2222222222222222, \"#7201a8\"], [0.3333333333333333, \"#9c179e\"], [0.4444444444444444, \"#bd3786\"], [0.5555555555555556, \"#d8576b\"], [0.6666666666666666, \"#ed7953\"], [0.7777777777777778, \"#fb9f3a\"], [0.8888888888888888, \"#fdca26\"], [1.0, \"#f0f921\"]], \"type\": \"contour\"}], \"contourcarpet\": [{\"colorbar\": {\"outlinewidth\": 0, \"ticks\": \"\"}, \"type\": \"contourcarpet\"}], \"heatmap\": [{\"colorbar\": {\"outlinewidth\": 0, \"ticks\": \"\"}, \"colorscale\": [[0.0, \"#0d0887\"], [0.1111111111111111, \"#46039f\"], [0.2222222222222222, \"#7201a8\"], [0.3333333333333333, \"#9c179e\"], [0.4444444444444444, \"#bd3786\"], [0.5555555555555556, \"#d8576b\"], [0.6666666666666666, \"#ed7953\"], [0.7777777777777778, \"#fb9f3a\"], [0.8888888888888888, \"#fdca26\"], [1.0, \"#f0f921\"]], \"type\": \"heatmap\"}], \"heatmapgl\": [{\"colorbar\": {\"outlinewidth\": 0, \"ticks\": \"\"}, \"colorscale\": [[0.0, \"#0d0887\"], [0.1111111111111111, \"#46039f\"], [0.2222222222222222, \"#7201a8\"], [0.3333333333333333, \"#9c179e\"], [0.4444444444444444, \"#bd3786\"], [0.5555555555555556, \"#d8576b\"], [0.6666666666666666, \"#ed7953\"], [0.7777777777777778, \"#fb9f3a\"], [0.8888888888888888, \"#fdca26\"], [1.0, \"#f0f921\"]], \"type\": \"heatmapgl\"}], \"histogram\": [{\"marker\": {\"colorbar\": {\"outlinewidth\": 0, \"ticks\": \"\"}}, \"type\": \"histogram\"}], \"histogram2d\": [{\"colorbar\": {\"outlinewidth\": 0, \"ticks\": \"\"}, \"colorscale\": [[0.0, \"#0d0887\"], [0.1111111111111111, \"#46039f\"], [0.2222222222222222, \"#7201a8\"], [0.3333333333333333, \"#9c179e\"], [0.4444444444444444, \"#bd3786\"], [0.5555555555555556, \"#d8576b\"], [0.6666666666666666, \"#ed7953\"], [0.7777777777777778, \"#fb9f3a\"], [0.8888888888888888, \"#fdca26\"], [1.0, \"#f0f921\"]], \"type\": \"histogram2d\"}], \"histogram2dcontour\": [{\"colorbar\": {\"outlinewidth\": 0, \"ticks\": \"\"}, \"colorscale\": [[0.0, \"#0d0887\"], [0.1111111111111111, \"#46039f\"], [0.2222222222222222, \"#7201a8\"], [0.3333333333333333, \"#9c179e\"], [0.4444444444444444, \"#bd3786\"], [0.5555555555555556, \"#d8576b\"], [0.6666666666666666, \"#ed7953\"], [0.7777777777777778, \"#fb9f3a\"], [0.8888888888888888, \"#fdca26\"], [1.0, \"#f0f921\"]], \"type\": \"histogram2dcontour\"}], \"mesh3d\": [{\"colorbar\": {\"outlinewidth\": 0, \"ticks\": \"\"}, \"type\": \"mesh3d\"}], \"parcoords\": [{\"line\": {\"colorbar\": {\"outlinewidth\": 0, \"ticks\": \"\"}}, \"type\": \"parcoords\"}], \"pie\": [{\"automargin\": true, \"type\": \"pie\"}], \"scatter\": [{\"marker\": {\"colorbar\": {\"outlinewidth\": 0, \"ticks\": \"\"}}, \"type\": \"scatter\"}], \"scatter3d\": [{\"line\": {\"colorbar\": {\"outlinewidth\": 0, \"ticks\": \"\"}}, \"marker\": {\"colorbar\": {\"outlinewidth\": 0, \"ticks\": \"\"}}, \"type\": \"scatter3d\"}], \"scattercarpet\": [{\"marker\": {\"colorbar\": {\"outlinewidth\": 0, \"ticks\": \"\"}}, \"type\": \"scattercarpet\"}], \"scattergeo\": [{\"marker\": {\"colorbar\": {\"outlinewidth\": 0, \"ticks\": \"\"}}, \"type\": \"scattergeo\"}], \"scattergl\": [{\"marker\": {\"colorbar\": {\"outlinewidth\": 0, \"ticks\": \"\"}}, \"type\": \"scattergl\"}], \"scattermapbox\": [{\"marker\": {\"colorbar\": {\"outlinewidth\": 0, \"ticks\": \"\"}}, \"type\": \"scattermapbox\"}], \"scatterpolar\": [{\"marker\": {\"colorbar\": {\"outlinewidth\": 0, \"ticks\": \"\"}}, \"type\": \"scatterpolar\"}], \"scatterpolargl\": [{\"marker\": {\"colorbar\": {\"outlinewidth\": 0, \"ticks\": \"\"}}, \"type\": \"scatterpolargl\"}], \"scatterternary\": [{\"marker\": {\"colorbar\": {\"outlinewidth\": 0, \"ticks\": \"\"}}, \"type\": \"scatterternary\"}], \"surface\": [{\"colorbar\": {\"outlinewidth\": 0, \"ticks\": \"\"}, \"colorscale\": [[0.0, \"#0d0887\"], [0.1111111111111111, \"#46039f\"], [0.2222222222222222, \"#7201a8\"], [0.3333333333333333, \"#9c179e\"], [0.4444444444444444, \"#bd3786\"], [0.5555555555555556, \"#d8576b\"], [0.6666666666666666, \"#ed7953\"], [0.7777777777777778, \"#fb9f3a\"], [0.8888888888888888, \"#fdca26\"], [1.0, \"#f0f921\"]], \"type\": \"surface\"}], \"table\": [{\"cells\": {\"fill\": {\"color\": \"#EBF0F8\"}, \"line\": {\"color\": \"white\"}}, \"header\": {\"fill\": {\"color\": \"#C8D4E3\"}, \"line\": {\"color\": \"white\"}}, \"type\": \"table\"}]}, \"layout\": {\"annotationdefaults\": {\"arrowcolor\": \"#2a3f5f\", \"arrowhead\": 0, \"arrowwidth\": 1}, \"coloraxis\": {\"colorbar\": {\"outlinewidth\": 0, \"ticks\": \"\"}}, \"colorscale\": {\"diverging\": [[0, \"#8e0152\"], [0.1, \"#c51b7d\"], [0.2, \"#de77ae\"], [0.3, \"#f1b6da\"], [0.4, \"#fde0ef\"], [0.5, \"#f7f7f7\"], [0.6, \"#e6f5d0\"], [0.7, \"#b8e186\"], [0.8, \"#7fbc41\"], [0.9, \"#4d9221\"], [1, \"#276419\"]], \"sequential\": [[0.0, \"#0d0887\"], [0.1111111111111111, \"#46039f\"], [0.2222222222222222, \"#7201a8\"], [0.3333333333333333, \"#9c179e\"], [0.4444444444444444, \"#bd3786\"], [0.5555555555555556, \"#d8576b\"], [0.6666666666666666, \"#ed7953\"], [0.7777777777777778, \"#fb9f3a\"], [0.8888888888888888, \"#fdca26\"], [1.0, \"#f0f921\"]], \"sequentialminus\": [[0.0, \"#0d0887\"], [0.1111111111111111, \"#46039f\"], [0.2222222222222222, \"#7201a8\"], [0.3333333333333333, \"#9c179e\"], [0.4444444444444444, \"#bd3786\"], [0.5555555555555556, \"#d8576b\"], [0.6666666666666666, \"#ed7953\"], [0.7777777777777778, \"#fb9f3a\"], [0.8888888888888888, \"#fdca26\"], [1.0, \"#f0f921\"]]}, \"colorway\": [\"#636efa\", \"#EF553B\", \"#00cc96\", \"#ab63fa\", \"#FFA15A\", \"#19d3f3\", \"#FF6692\", \"#B6E880\", \"#FF97FF\", \"#FECB52\"], \"font\": {\"color\": \"#2a3f5f\"}, \"geo\": {\"bgcolor\": \"white\", \"lakecolor\": \"white\", \"landcolor\": \"#E5ECF6\", \"showlakes\": true, \"showland\": true, \"subunitcolor\": \"white\"}, \"hoverlabel\": {\"align\": \"left\"}, \"hovermode\": \"closest\", \"mapbox\": {\"style\": \"light\"}, \"paper_bgcolor\": \"white\", \"plot_bgcolor\": \"#E5ECF6\", \"polar\": {\"angularaxis\": {\"gridcolor\": \"white\", \"linecolor\": \"white\", \"ticks\": \"\"}, \"bgcolor\": \"#E5ECF6\", \"radialaxis\": {\"gridcolor\": \"white\", \"linecolor\": \"white\", \"ticks\": \"\"}}, \"scene\": {\"xaxis\": {\"backgroundcolor\": \"#E5ECF6\", \"gridcolor\": \"white\", \"gridwidth\": 2, \"linecolor\": \"white\", \"showbackground\": true, \"ticks\": \"\", \"zerolinecolor\": \"white\"}, \"yaxis\": {\"backgroundcolor\": \"#E5ECF6\", \"gridcolor\": \"white\", \"gridwidth\": 2, \"linecolor\": \"white\", \"showbackground\": true, \"ticks\": \"\", \"zerolinecolor\": \"white\"}, \"zaxis\": {\"backgroundcolor\": \"#E5ECF6\", \"gridcolor\": \"white\", \"gridwidth\": 2, \"linecolor\": \"white\", \"showbackground\": true, \"ticks\": \"\", \"zerolinecolor\": \"white\"}}, \"shapedefaults\": {\"line\": {\"color\": \"#2a3f5f\"}}, \"ternary\": {\"aaxis\": {\"gridcolor\": \"white\", \"linecolor\": \"white\", \"ticks\": \"\"}, \"baxis\": {\"gridcolor\": \"white\", \"linecolor\": \"white\", \"ticks\": \"\"}, \"bgcolor\": \"#E5ECF6\", \"caxis\": {\"gridcolor\": \"white\", \"linecolor\": \"white\", \"ticks\": \"\"}}, \"title\": {\"x\": 0.05}, \"xaxis\": {\"automargin\": true, \"gridcolor\": \"white\", \"linecolor\": \"white\", \"ticks\": \"\", \"title\": {\"standoff\": 15}, \"zerolinecolor\": \"white\", \"zerolinewidth\": 2}, \"yaxis\": {\"automargin\": true, \"gridcolor\": \"white\", \"linecolor\": \"white\", \"ticks\": \"\", \"title\": {\"standoff\": 15}, \"zerolinecolor\": \"white\", \"zerolinewidth\": 2}}}, \"title\": {\"font\": {\"color\": \"#4D5663\"}}, \"xaxis\": {\"gridcolor\": \"#E1E5ED\", \"showgrid\": true, \"tickfont\": {\"color\": \"#4D5663\"}, \"title\": {\"font\": {\"color\": \"#4D5663\"}, \"text\": \"\"}, \"zerolinecolor\": \"#E1E5ED\"}, \"yaxis\": {\"gridcolor\": \"#E1E5ED\", \"showgrid\": true, \"tickfont\": {\"color\": \"#4D5663\"}, \"title\": {\"font\": {\"color\": \"#4D5663\"}, \"text\": \"\"}, \"zerolinecolor\": \"#E1E5ED\"}},                        {\"showLink\": true, \"linkText\": \"Export to plot.ly\", \"plotlyServerURL\": \"https://plot.ly\", \"responsive\": true}                    ).then(function(){\n",
       "                            \n",
       "var gd = document.getElementById('a45ab4ae-3d4e-4241-abcb-f3617d2d3ec8');\n",
       "var x = new MutationObserver(function (mutations, observer) {{\n",
       "        var display = window.getComputedStyle(gd).display;\n",
       "        if (!display || display === 'none') {{\n",
       "            console.log([gd, 'removed!']);\n",
       "            Plotly.purge(gd);\n",
       "            observer.disconnect();\n",
       "        }}\n",
       "}});\n",
       "\n",
       "// Listen for the removal of the full notebook cells\n",
       "var notebookContainer = gd.closest('#notebook-container');\n",
       "if (notebookContainer) {{\n",
       "    x.observe(notebookContainer, {childList: true});\n",
       "}}\n",
       "\n",
       "// Listen for the clearing of the current output cell\n",
       "var outputEl = gd.closest('.output');\n",
       "if (outputEl) {{\n",
       "    x.observe(outputEl, {childList: true});\n",
       "}}\n",
       "\n",
       "                        })                };                });            </script>        </div>"
      ]
     },
     "metadata": {},
     "output_type": "display_data"
    }
   ],
   "source": [
    "df.iplot(kind='box')\n"
   ]
  },
  {
   "cell_type": "markdown",
   "metadata": {},
   "source": [
    "## 3d Surface"
   ]
  },
  {
   "cell_type": "code",
   "execution_count": 15,
   "metadata": {},
   "outputs": [
    {
     "data": {
      "application/vnd.plotly.v1+json": {
       "config": {
        "linkText": "Export to plot.ly",
        "plotlyServerURL": "https://plot.ly",
        "showLink": true
       },
       "data": [
        {
         "colorscale": [
          [
           0,
           "rgb(165,0,38)"
          ],
          [
           0.1,
           "rgb(215,48,39)"
          ],
          [
           0.2,
           "rgb(244,109,67)"
          ],
          [
           0.3,
           "rgb(253,174,97)"
          ],
          [
           0.4,
           "rgb(254,224,144)"
          ],
          [
           0.5,
           "rgb(255,255,191)"
          ],
          [
           0.6,
           "rgb(224,243,248)"
          ],
          [
           0.7,
           "rgb(171,217,233)"
          ],
          [
           0.8,
           "rgb(116,173,209)"
          ],
          [
           0.9,
           "rgb(69,117,180)"
          ],
          [
           1,
           "rgb(49,54,149)"
          ]
         ],
         "type": "surface",
         "x": [
          0,
          1,
          2,
          3,
          4
         ],
         "y": [
          "x",
          "y",
          "z"
         ],
         "z": [
          [
           1,
           2,
           3,
           4,
           5
          ],
          [
           10,
           20,
           30,
           20,
           10
          ],
          [
           5,
           4,
           3,
           2,
           1
          ]
         ]
        }
       ],
       "layout": {
        "legend": {
         "bgcolor": "#F5F6F9",
         "font": {
          "color": "#4D5663"
         }
        },
        "paper_bgcolor": "#F5F6F9",
        "plot_bgcolor": "#F5F6F9",
        "template": {
         "data": {
          "bar": [
           {
            "error_x": {
             "color": "#2a3f5f"
            },
            "error_y": {
             "color": "#2a3f5f"
            },
            "marker": {
             "line": {
              "color": "#E5ECF6",
              "width": 0.5
             }
            },
            "type": "bar"
           }
          ],
          "barpolar": [
           {
            "marker": {
             "line": {
              "color": "#E5ECF6",
              "width": 0.5
             }
            },
            "type": "barpolar"
           }
          ],
          "carpet": [
           {
            "aaxis": {
             "endlinecolor": "#2a3f5f",
             "gridcolor": "white",
             "linecolor": "white",
             "minorgridcolor": "white",
             "startlinecolor": "#2a3f5f"
            },
            "baxis": {
             "endlinecolor": "#2a3f5f",
             "gridcolor": "white",
             "linecolor": "white",
             "minorgridcolor": "white",
             "startlinecolor": "#2a3f5f"
            },
            "type": "carpet"
           }
          ],
          "choropleth": [
           {
            "colorbar": {
             "outlinewidth": 0,
             "ticks": ""
            },
            "type": "choropleth"
           }
          ],
          "contour": [
           {
            "colorbar": {
             "outlinewidth": 0,
             "ticks": ""
            },
            "colorscale": [
             [
              0,
              "#0d0887"
             ],
             [
              0.1111111111111111,
              "#46039f"
             ],
             [
              0.2222222222222222,
              "#7201a8"
             ],
             [
              0.3333333333333333,
              "#9c179e"
             ],
             [
              0.4444444444444444,
              "#bd3786"
             ],
             [
              0.5555555555555556,
              "#d8576b"
             ],
             [
              0.6666666666666666,
              "#ed7953"
             ],
             [
              0.7777777777777778,
              "#fb9f3a"
             ],
             [
              0.8888888888888888,
              "#fdca26"
             ],
             [
              1,
              "#f0f921"
             ]
            ],
            "type": "contour"
           }
          ],
          "contourcarpet": [
           {
            "colorbar": {
             "outlinewidth": 0,
             "ticks": ""
            },
            "type": "contourcarpet"
           }
          ],
          "heatmap": [
           {
            "colorbar": {
             "outlinewidth": 0,
             "ticks": ""
            },
            "colorscale": [
             [
              0,
              "#0d0887"
             ],
             [
              0.1111111111111111,
              "#46039f"
             ],
             [
              0.2222222222222222,
              "#7201a8"
             ],
             [
              0.3333333333333333,
              "#9c179e"
             ],
             [
              0.4444444444444444,
              "#bd3786"
             ],
             [
              0.5555555555555556,
              "#d8576b"
             ],
             [
              0.6666666666666666,
              "#ed7953"
             ],
             [
              0.7777777777777778,
              "#fb9f3a"
             ],
             [
              0.8888888888888888,
              "#fdca26"
             ],
             [
              1,
              "#f0f921"
             ]
            ],
            "type": "heatmap"
           }
          ],
          "heatmapgl": [
           {
            "colorbar": {
             "outlinewidth": 0,
             "ticks": ""
            },
            "colorscale": [
             [
              0,
              "#0d0887"
             ],
             [
              0.1111111111111111,
              "#46039f"
             ],
             [
              0.2222222222222222,
              "#7201a8"
             ],
             [
              0.3333333333333333,
              "#9c179e"
             ],
             [
              0.4444444444444444,
              "#bd3786"
             ],
             [
              0.5555555555555556,
              "#d8576b"
             ],
             [
              0.6666666666666666,
              "#ed7953"
             ],
             [
              0.7777777777777778,
              "#fb9f3a"
             ],
             [
              0.8888888888888888,
              "#fdca26"
             ],
             [
              1,
              "#f0f921"
             ]
            ],
            "type": "heatmapgl"
           }
          ],
          "histogram": [
           {
            "marker": {
             "colorbar": {
              "outlinewidth": 0,
              "ticks": ""
             }
            },
            "type": "histogram"
           }
          ],
          "histogram2d": [
           {
            "colorbar": {
             "outlinewidth": 0,
             "ticks": ""
            },
            "colorscale": [
             [
              0,
              "#0d0887"
             ],
             [
              0.1111111111111111,
              "#46039f"
             ],
             [
              0.2222222222222222,
              "#7201a8"
             ],
             [
              0.3333333333333333,
              "#9c179e"
             ],
             [
              0.4444444444444444,
              "#bd3786"
             ],
             [
              0.5555555555555556,
              "#d8576b"
             ],
             [
              0.6666666666666666,
              "#ed7953"
             ],
             [
              0.7777777777777778,
              "#fb9f3a"
             ],
             [
              0.8888888888888888,
              "#fdca26"
             ],
             [
              1,
              "#f0f921"
             ]
            ],
            "type": "histogram2d"
           }
          ],
          "histogram2dcontour": [
           {
            "colorbar": {
             "outlinewidth": 0,
             "ticks": ""
            },
            "colorscale": [
             [
              0,
              "#0d0887"
             ],
             [
              0.1111111111111111,
              "#46039f"
             ],
             [
              0.2222222222222222,
              "#7201a8"
             ],
             [
              0.3333333333333333,
              "#9c179e"
             ],
             [
              0.4444444444444444,
              "#bd3786"
             ],
             [
              0.5555555555555556,
              "#d8576b"
             ],
             [
              0.6666666666666666,
              "#ed7953"
             ],
             [
              0.7777777777777778,
              "#fb9f3a"
             ],
             [
              0.8888888888888888,
              "#fdca26"
             ],
             [
              1,
              "#f0f921"
             ]
            ],
            "type": "histogram2dcontour"
           }
          ],
          "mesh3d": [
           {
            "colorbar": {
             "outlinewidth": 0,
             "ticks": ""
            },
            "type": "mesh3d"
           }
          ],
          "parcoords": [
           {
            "line": {
             "colorbar": {
              "outlinewidth": 0,
              "ticks": ""
             }
            },
            "type": "parcoords"
           }
          ],
          "pie": [
           {
            "automargin": true,
            "type": "pie"
           }
          ],
          "scatter": [
           {
            "marker": {
             "colorbar": {
              "outlinewidth": 0,
              "ticks": ""
             }
            },
            "type": "scatter"
           }
          ],
          "scatter3d": [
           {
            "line": {
             "colorbar": {
              "outlinewidth": 0,
              "ticks": ""
             }
            },
            "marker": {
             "colorbar": {
              "outlinewidth": 0,
              "ticks": ""
             }
            },
            "type": "scatter3d"
           }
          ],
          "scattercarpet": [
           {
            "marker": {
             "colorbar": {
              "outlinewidth": 0,
              "ticks": ""
             }
            },
            "type": "scattercarpet"
           }
          ],
          "scattergeo": [
           {
            "marker": {
             "colorbar": {
              "outlinewidth": 0,
              "ticks": ""
             }
            },
            "type": "scattergeo"
           }
          ],
          "scattergl": [
           {
            "marker": {
             "colorbar": {
              "outlinewidth": 0,
              "ticks": ""
             }
            },
            "type": "scattergl"
           }
          ],
          "scattermapbox": [
           {
            "marker": {
             "colorbar": {
              "outlinewidth": 0,
              "ticks": ""
             }
            },
            "type": "scattermapbox"
           }
          ],
          "scatterpolar": [
           {
            "marker": {
             "colorbar": {
              "outlinewidth": 0,
              "ticks": ""
             }
            },
            "type": "scatterpolar"
           }
          ],
          "scatterpolargl": [
           {
            "marker": {
             "colorbar": {
              "outlinewidth": 0,
              "ticks": ""
             }
            },
            "type": "scatterpolargl"
           }
          ],
          "scatterternary": [
           {
            "marker": {
             "colorbar": {
              "outlinewidth": 0,
              "ticks": ""
             }
            },
            "type": "scatterternary"
           }
          ],
          "surface": [
           {
            "colorbar": {
             "outlinewidth": 0,
             "ticks": ""
            },
            "colorscale": [
             [
              0,
              "#0d0887"
             ],
             [
              0.1111111111111111,
              "#46039f"
             ],
             [
              0.2222222222222222,
              "#7201a8"
             ],
             [
              0.3333333333333333,
              "#9c179e"
             ],
             [
              0.4444444444444444,
              "#bd3786"
             ],
             [
              0.5555555555555556,
              "#d8576b"
             ],
             [
              0.6666666666666666,
              "#ed7953"
             ],
             [
              0.7777777777777778,
              "#fb9f3a"
             ],
             [
              0.8888888888888888,
              "#fdca26"
             ],
             [
              1,
              "#f0f921"
             ]
            ],
            "type": "surface"
           }
          ],
          "table": [
           {
            "cells": {
             "fill": {
              "color": "#EBF0F8"
             },
             "line": {
              "color": "white"
             }
            },
            "header": {
             "fill": {
              "color": "#C8D4E3"
             },
             "line": {
              "color": "white"
             }
            },
            "type": "table"
           }
          ]
         },
         "layout": {
          "annotationdefaults": {
           "arrowcolor": "#2a3f5f",
           "arrowhead": 0,
           "arrowwidth": 1
          },
          "coloraxis": {
           "colorbar": {
            "outlinewidth": 0,
            "ticks": ""
           }
          },
          "colorscale": {
           "diverging": [
            [
             0,
             "#8e0152"
            ],
            [
             0.1,
             "#c51b7d"
            ],
            [
             0.2,
             "#de77ae"
            ],
            [
             0.3,
             "#f1b6da"
            ],
            [
             0.4,
             "#fde0ef"
            ],
            [
             0.5,
             "#f7f7f7"
            ],
            [
             0.6,
             "#e6f5d0"
            ],
            [
             0.7,
             "#b8e186"
            ],
            [
             0.8,
             "#7fbc41"
            ],
            [
             0.9,
             "#4d9221"
            ],
            [
             1,
             "#276419"
            ]
           ],
           "sequential": [
            [
             0,
             "#0d0887"
            ],
            [
             0.1111111111111111,
             "#46039f"
            ],
            [
             0.2222222222222222,
             "#7201a8"
            ],
            [
             0.3333333333333333,
             "#9c179e"
            ],
            [
             0.4444444444444444,
             "#bd3786"
            ],
            [
             0.5555555555555556,
             "#d8576b"
            ],
            [
             0.6666666666666666,
             "#ed7953"
            ],
            [
             0.7777777777777778,
             "#fb9f3a"
            ],
            [
             0.8888888888888888,
             "#fdca26"
            ],
            [
             1,
             "#f0f921"
            ]
           ],
           "sequentialminus": [
            [
             0,
             "#0d0887"
            ],
            [
             0.1111111111111111,
             "#46039f"
            ],
            [
             0.2222222222222222,
             "#7201a8"
            ],
            [
             0.3333333333333333,
             "#9c179e"
            ],
            [
             0.4444444444444444,
             "#bd3786"
            ],
            [
             0.5555555555555556,
             "#d8576b"
            ],
            [
             0.6666666666666666,
             "#ed7953"
            ],
            [
             0.7777777777777778,
             "#fb9f3a"
            ],
            [
             0.8888888888888888,
             "#fdca26"
            ],
            [
             1,
             "#f0f921"
            ]
           ]
          },
          "colorway": [
           "#636efa",
           "#EF553B",
           "#00cc96",
           "#ab63fa",
           "#FFA15A",
           "#19d3f3",
           "#FF6692",
           "#B6E880",
           "#FF97FF",
           "#FECB52"
          ],
          "font": {
           "color": "#2a3f5f"
          },
          "geo": {
           "bgcolor": "white",
           "lakecolor": "white",
           "landcolor": "#E5ECF6",
           "showlakes": true,
           "showland": true,
           "subunitcolor": "white"
          },
          "hoverlabel": {
           "align": "left"
          },
          "hovermode": "closest",
          "mapbox": {
           "style": "light"
          },
          "paper_bgcolor": "white",
          "plot_bgcolor": "#E5ECF6",
          "polar": {
           "angularaxis": {
            "gridcolor": "white",
            "linecolor": "white",
            "ticks": ""
           },
           "bgcolor": "#E5ECF6",
           "radialaxis": {
            "gridcolor": "white",
            "linecolor": "white",
            "ticks": ""
           }
          },
          "scene": {
           "xaxis": {
            "backgroundcolor": "#E5ECF6",
            "gridcolor": "white",
            "gridwidth": 2,
            "linecolor": "white",
            "showbackground": true,
            "ticks": "",
            "zerolinecolor": "white"
           },
           "yaxis": {
            "backgroundcolor": "#E5ECF6",
            "gridcolor": "white",
            "gridwidth": 2,
            "linecolor": "white",
            "showbackground": true,
            "ticks": "",
            "zerolinecolor": "white"
           },
           "zaxis": {
            "backgroundcolor": "#E5ECF6",
            "gridcolor": "white",
            "gridwidth": 2,
            "linecolor": "white",
            "showbackground": true,
            "ticks": "",
            "zerolinecolor": "white"
           }
          },
          "shapedefaults": {
           "line": {
            "color": "#2a3f5f"
           }
          },
          "ternary": {
           "aaxis": {
            "gridcolor": "white",
            "linecolor": "white",
            "ticks": ""
           },
           "baxis": {
            "gridcolor": "white",
            "linecolor": "white",
            "ticks": ""
           },
           "bgcolor": "#E5ECF6",
           "caxis": {
            "gridcolor": "white",
            "linecolor": "white",
            "ticks": ""
           }
          },
          "title": {
           "x": 0.05
          },
          "xaxis": {
           "automargin": true,
           "gridcolor": "white",
           "linecolor": "white",
           "ticks": "",
           "title": {
            "standoff": 15
           },
           "zerolinecolor": "white",
           "zerolinewidth": 2
          },
          "yaxis": {
           "automargin": true,
           "gridcolor": "white",
           "linecolor": "white",
           "ticks": "",
           "title": {
            "standoff": 15
           },
           "zerolinecolor": "white",
           "zerolinewidth": 2
          }
         }
        },
        "title": {
         "font": {
          "color": "#4D5663"
         }
        },
        "xaxis": {
         "gridcolor": "#E1E5ED",
         "showgrid": true,
         "tickfont": {
          "color": "#4D5663"
         },
         "title": {
          "font": {
           "color": "#4D5663"
          },
          "text": ""
         },
         "zerolinecolor": "#E1E5ED"
        },
        "yaxis": {
         "gridcolor": "#E1E5ED",
         "showgrid": true,
         "tickfont": {
          "color": "#4D5663"
         },
         "title": {
          "font": {
           "color": "#4D5663"
          },
          "text": ""
         },
         "zerolinecolor": "#E1E5ED"
        }
       }
      },
      "text/html": [
       "<div>                            <div id=\"6ff747ed-1997-44b6-9de2-2ed98e38006a\" class=\"plotly-graph-div\" style=\"height:525px; width:100%;\"></div>            <script type=\"text/javascript\">                require([\"plotly\"], function(Plotly) {                    window.PLOTLYENV=window.PLOTLYENV || {};\n",
       "                    window.PLOTLYENV.BASE_URL='https://plot.ly';                                    if (document.getElementById(\"6ff747ed-1997-44b6-9de2-2ed98e38006a\")) {                    Plotly.newPlot(                        \"6ff747ed-1997-44b6-9de2-2ed98e38006a\",                        [{\"colorscale\": [[0.0, \"rgb(165,0,38)\"], [0.1, \"rgb(215,48,39)\"], [0.2, \"rgb(244,109,67)\"], [0.3, \"rgb(253,174,97)\"], [0.4, \"rgb(254,224,144)\"], [0.5, \"rgb(255,255,191)\"], [0.6, \"rgb(224,243,248)\"], [0.7, \"rgb(171,217,233)\"], [0.8, \"rgb(116,173,209)\"], [0.9, \"rgb(69,117,180)\"], [1.0, \"rgb(49,54,149)\"]], \"type\": \"surface\", \"x\": [0, 1, 2, 3, 4], \"y\": [\"x\", \"y\", \"z\"], \"z\": [[1, 2, 3, 4, 5], [10, 20, 30, 20, 10], [5, 4, 3, 2, 1]]}],                        {\"legend\": {\"bgcolor\": \"#F5F6F9\", \"font\": {\"color\": \"#4D5663\"}}, \"paper_bgcolor\": \"#F5F6F9\", \"plot_bgcolor\": \"#F5F6F9\", \"template\": {\"data\": {\"bar\": [{\"error_x\": {\"color\": \"#2a3f5f\"}, \"error_y\": {\"color\": \"#2a3f5f\"}, \"marker\": {\"line\": {\"color\": \"#E5ECF6\", \"width\": 0.5}}, \"type\": \"bar\"}], \"barpolar\": [{\"marker\": {\"line\": {\"color\": \"#E5ECF6\", \"width\": 0.5}}, \"type\": \"barpolar\"}], \"carpet\": [{\"aaxis\": {\"endlinecolor\": \"#2a3f5f\", \"gridcolor\": \"white\", \"linecolor\": \"white\", \"minorgridcolor\": \"white\", \"startlinecolor\": \"#2a3f5f\"}, \"baxis\": {\"endlinecolor\": \"#2a3f5f\", \"gridcolor\": \"white\", \"linecolor\": \"white\", \"minorgridcolor\": \"white\", \"startlinecolor\": \"#2a3f5f\"}, \"type\": \"carpet\"}], \"choropleth\": [{\"colorbar\": {\"outlinewidth\": 0, \"ticks\": \"\"}, \"type\": \"choropleth\"}], \"contour\": [{\"colorbar\": {\"outlinewidth\": 0, \"ticks\": \"\"}, \"colorscale\": [[0.0, \"#0d0887\"], [0.1111111111111111, \"#46039f\"], [0.2222222222222222, \"#7201a8\"], [0.3333333333333333, \"#9c179e\"], [0.4444444444444444, \"#bd3786\"], [0.5555555555555556, \"#d8576b\"], [0.6666666666666666, \"#ed7953\"], [0.7777777777777778, \"#fb9f3a\"], [0.8888888888888888, \"#fdca26\"], [1.0, \"#f0f921\"]], \"type\": \"contour\"}], \"contourcarpet\": [{\"colorbar\": {\"outlinewidth\": 0, \"ticks\": \"\"}, \"type\": \"contourcarpet\"}], \"heatmap\": [{\"colorbar\": {\"outlinewidth\": 0, \"ticks\": \"\"}, \"colorscale\": [[0.0, \"#0d0887\"], [0.1111111111111111, \"#46039f\"], [0.2222222222222222, \"#7201a8\"], [0.3333333333333333, \"#9c179e\"], [0.4444444444444444, \"#bd3786\"], [0.5555555555555556, \"#d8576b\"], [0.6666666666666666, \"#ed7953\"], [0.7777777777777778, \"#fb9f3a\"], [0.8888888888888888, \"#fdca26\"], [1.0, \"#f0f921\"]], \"type\": \"heatmap\"}], \"heatmapgl\": [{\"colorbar\": {\"outlinewidth\": 0, \"ticks\": \"\"}, \"colorscale\": [[0.0, \"#0d0887\"], [0.1111111111111111, \"#46039f\"], [0.2222222222222222, \"#7201a8\"], [0.3333333333333333, \"#9c179e\"], [0.4444444444444444, \"#bd3786\"], [0.5555555555555556, \"#d8576b\"], [0.6666666666666666, \"#ed7953\"], [0.7777777777777778, \"#fb9f3a\"], [0.8888888888888888, \"#fdca26\"], [1.0, \"#f0f921\"]], \"type\": \"heatmapgl\"}], \"histogram\": [{\"marker\": {\"colorbar\": {\"outlinewidth\": 0, \"ticks\": \"\"}}, \"type\": \"histogram\"}], \"histogram2d\": [{\"colorbar\": {\"outlinewidth\": 0, \"ticks\": \"\"}, \"colorscale\": [[0.0, \"#0d0887\"], [0.1111111111111111, \"#46039f\"], [0.2222222222222222, \"#7201a8\"], [0.3333333333333333, \"#9c179e\"], [0.4444444444444444, \"#bd3786\"], [0.5555555555555556, \"#d8576b\"], [0.6666666666666666, \"#ed7953\"], [0.7777777777777778, \"#fb9f3a\"], [0.8888888888888888, \"#fdca26\"], [1.0, \"#f0f921\"]], \"type\": \"histogram2d\"}], \"histogram2dcontour\": [{\"colorbar\": {\"outlinewidth\": 0, \"ticks\": \"\"}, \"colorscale\": [[0.0, \"#0d0887\"], [0.1111111111111111, \"#46039f\"], [0.2222222222222222, \"#7201a8\"], [0.3333333333333333, \"#9c179e\"], [0.4444444444444444, \"#bd3786\"], [0.5555555555555556, \"#d8576b\"], [0.6666666666666666, \"#ed7953\"], [0.7777777777777778, \"#fb9f3a\"], [0.8888888888888888, \"#fdca26\"], [1.0, \"#f0f921\"]], \"type\": \"histogram2dcontour\"}], \"mesh3d\": [{\"colorbar\": {\"outlinewidth\": 0, \"ticks\": \"\"}, \"type\": \"mesh3d\"}], \"parcoords\": [{\"line\": {\"colorbar\": {\"outlinewidth\": 0, \"ticks\": \"\"}}, \"type\": \"parcoords\"}], \"pie\": [{\"automargin\": true, \"type\": \"pie\"}], \"scatter\": [{\"marker\": {\"colorbar\": {\"outlinewidth\": 0, \"ticks\": \"\"}}, \"type\": \"scatter\"}], \"scatter3d\": [{\"line\": {\"colorbar\": {\"outlinewidth\": 0, \"ticks\": \"\"}}, \"marker\": {\"colorbar\": {\"outlinewidth\": 0, \"ticks\": \"\"}}, \"type\": \"scatter3d\"}], \"scattercarpet\": [{\"marker\": {\"colorbar\": {\"outlinewidth\": 0, \"ticks\": \"\"}}, \"type\": \"scattercarpet\"}], \"scattergeo\": [{\"marker\": {\"colorbar\": {\"outlinewidth\": 0, \"ticks\": \"\"}}, \"type\": \"scattergeo\"}], \"scattergl\": [{\"marker\": {\"colorbar\": {\"outlinewidth\": 0, \"ticks\": \"\"}}, \"type\": \"scattergl\"}], \"scattermapbox\": [{\"marker\": {\"colorbar\": {\"outlinewidth\": 0, \"ticks\": \"\"}}, \"type\": \"scattermapbox\"}], \"scatterpolar\": [{\"marker\": {\"colorbar\": {\"outlinewidth\": 0, \"ticks\": \"\"}}, \"type\": \"scatterpolar\"}], \"scatterpolargl\": [{\"marker\": {\"colorbar\": {\"outlinewidth\": 0, \"ticks\": \"\"}}, \"type\": \"scatterpolargl\"}], \"scatterternary\": [{\"marker\": {\"colorbar\": {\"outlinewidth\": 0, \"ticks\": \"\"}}, \"type\": \"scatterternary\"}], \"surface\": [{\"colorbar\": {\"outlinewidth\": 0, \"ticks\": \"\"}, \"colorscale\": [[0.0, \"#0d0887\"], [0.1111111111111111, \"#46039f\"], [0.2222222222222222, \"#7201a8\"], [0.3333333333333333, \"#9c179e\"], [0.4444444444444444, \"#bd3786\"], [0.5555555555555556, \"#d8576b\"], [0.6666666666666666, \"#ed7953\"], [0.7777777777777778, \"#fb9f3a\"], [0.8888888888888888, \"#fdca26\"], [1.0, \"#f0f921\"]], \"type\": \"surface\"}], \"table\": [{\"cells\": {\"fill\": {\"color\": \"#EBF0F8\"}, \"line\": {\"color\": \"white\"}}, \"header\": {\"fill\": {\"color\": \"#C8D4E3\"}, \"line\": {\"color\": \"white\"}}, \"type\": \"table\"}]}, \"layout\": {\"annotationdefaults\": {\"arrowcolor\": \"#2a3f5f\", \"arrowhead\": 0, \"arrowwidth\": 1}, \"coloraxis\": {\"colorbar\": {\"outlinewidth\": 0, \"ticks\": \"\"}}, \"colorscale\": {\"diverging\": [[0, \"#8e0152\"], [0.1, \"#c51b7d\"], [0.2, \"#de77ae\"], [0.3, \"#f1b6da\"], [0.4, \"#fde0ef\"], [0.5, \"#f7f7f7\"], [0.6, \"#e6f5d0\"], [0.7, \"#b8e186\"], [0.8, \"#7fbc41\"], [0.9, \"#4d9221\"], [1, \"#276419\"]], \"sequential\": [[0.0, \"#0d0887\"], [0.1111111111111111, \"#46039f\"], [0.2222222222222222, \"#7201a8\"], [0.3333333333333333, \"#9c179e\"], [0.4444444444444444, \"#bd3786\"], [0.5555555555555556, \"#d8576b\"], [0.6666666666666666, \"#ed7953\"], [0.7777777777777778, \"#fb9f3a\"], [0.8888888888888888, \"#fdca26\"], [1.0, \"#f0f921\"]], \"sequentialminus\": [[0.0, \"#0d0887\"], [0.1111111111111111, \"#46039f\"], [0.2222222222222222, \"#7201a8\"], [0.3333333333333333, \"#9c179e\"], [0.4444444444444444, \"#bd3786\"], [0.5555555555555556, \"#d8576b\"], [0.6666666666666666, \"#ed7953\"], [0.7777777777777778, \"#fb9f3a\"], [0.8888888888888888, \"#fdca26\"], [1.0, \"#f0f921\"]]}, \"colorway\": [\"#636efa\", \"#EF553B\", \"#00cc96\", \"#ab63fa\", \"#FFA15A\", \"#19d3f3\", \"#FF6692\", \"#B6E880\", \"#FF97FF\", \"#FECB52\"], \"font\": {\"color\": \"#2a3f5f\"}, \"geo\": {\"bgcolor\": \"white\", \"lakecolor\": \"white\", \"landcolor\": \"#E5ECF6\", \"showlakes\": true, \"showland\": true, \"subunitcolor\": \"white\"}, \"hoverlabel\": {\"align\": \"left\"}, \"hovermode\": \"closest\", \"mapbox\": {\"style\": \"light\"}, \"paper_bgcolor\": \"white\", \"plot_bgcolor\": \"#E5ECF6\", \"polar\": {\"angularaxis\": {\"gridcolor\": \"white\", \"linecolor\": \"white\", \"ticks\": \"\"}, \"bgcolor\": \"#E5ECF6\", \"radialaxis\": {\"gridcolor\": \"white\", \"linecolor\": \"white\", \"ticks\": \"\"}}, \"scene\": {\"xaxis\": {\"backgroundcolor\": \"#E5ECF6\", \"gridcolor\": \"white\", \"gridwidth\": 2, \"linecolor\": \"white\", \"showbackground\": true, \"ticks\": \"\", \"zerolinecolor\": \"white\"}, \"yaxis\": {\"backgroundcolor\": \"#E5ECF6\", \"gridcolor\": \"white\", \"gridwidth\": 2, \"linecolor\": \"white\", \"showbackground\": true, \"ticks\": \"\", \"zerolinecolor\": \"white\"}, \"zaxis\": {\"backgroundcolor\": \"#E5ECF6\", \"gridcolor\": \"white\", \"gridwidth\": 2, \"linecolor\": \"white\", \"showbackground\": true, \"ticks\": \"\", \"zerolinecolor\": \"white\"}}, \"shapedefaults\": {\"line\": {\"color\": \"#2a3f5f\"}}, \"ternary\": {\"aaxis\": {\"gridcolor\": \"white\", \"linecolor\": \"white\", \"ticks\": \"\"}, \"baxis\": {\"gridcolor\": \"white\", \"linecolor\": \"white\", \"ticks\": \"\"}, \"bgcolor\": \"#E5ECF6\", \"caxis\": {\"gridcolor\": \"white\", \"linecolor\": \"white\", \"ticks\": \"\"}}, \"title\": {\"x\": 0.05}, \"xaxis\": {\"automargin\": true, \"gridcolor\": \"white\", \"linecolor\": \"white\", \"ticks\": \"\", \"title\": {\"standoff\": 15}, \"zerolinecolor\": \"white\", \"zerolinewidth\": 2}, \"yaxis\": {\"automargin\": true, \"gridcolor\": \"white\", \"linecolor\": \"white\", \"ticks\": \"\", \"title\": {\"standoff\": 15}, \"zerolinecolor\": \"white\", \"zerolinewidth\": 2}}}, \"title\": {\"font\": {\"color\": \"#4D5663\"}}, \"xaxis\": {\"gridcolor\": \"#E1E5ED\", \"showgrid\": true, \"tickfont\": {\"color\": \"#4D5663\"}, \"title\": {\"font\": {\"color\": \"#4D5663\"}, \"text\": \"\"}, \"zerolinecolor\": \"#E1E5ED\"}, \"yaxis\": {\"gridcolor\": \"#E1E5ED\", \"showgrid\": true, \"tickfont\": {\"color\": \"#4D5663\"}, \"title\": {\"font\": {\"color\": \"#4D5663\"}, \"text\": \"\"}, \"zerolinecolor\": \"#E1E5ED\"}},                        {\"showLink\": true, \"linkText\": \"Export to plot.ly\", \"plotlyServerURL\": \"https://plot.ly\", \"responsive\": true}                    ).then(function(){\n",
       "                            \n",
       "var gd = document.getElementById('6ff747ed-1997-44b6-9de2-2ed98e38006a');\n",
       "var x = new MutationObserver(function (mutations, observer) {{\n",
       "        var display = window.getComputedStyle(gd).display;\n",
       "        if (!display || display === 'none') {{\n",
       "            console.log([gd, 'removed!']);\n",
       "            Plotly.purge(gd);\n",
       "            observer.disconnect();\n",
       "        }}\n",
       "}});\n",
       "\n",
       "// Listen for the removal of the full notebook cells\n",
       "var notebookContainer = gd.closest('#notebook-container');\n",
       "if (notebookContainer) {{\n",
       "    x.observe(notebookContainer, {childList: true});\n",
       "}}\n",
       "\n",
       "// Listen for the clearing of the current output cell\n",
       "var outputEl = gd.closest('.output');\n",
       "if (outputEl) {{\n",
       "    x.observe(outputEl, {childList: true});\n",
       "}}\n",
       "\n",
       "                        })                };                });            </script>        </div>"
      ]
     },
     "metadata": {},
     "output_type": "display_data"
    }
   ],
   "source": [
    "df3 = pd.DataFrame({'x':[1,2,3,4,5],'y':[10,20,30,20,10],'z':[5,4,3,2,1]})\n",
    "df3.iplot(kind='surface',colorscale='rdylbu')"
   ]
  },
  {
   "cell_type": "markdown",
   "metadata": {},
   "source": [
    "## Spread"
   ]
  },
  {
   "cell_type": "code",
   "execution_count": 16,
   "metadata": {},
   "outputs": [
    {
     "name": "stderr",
     "output_type": "stream",
     "text": [
      "C:\\Users\\nightwolfer\\anaconda3\\lib\\site-packages\\cufflinks\\plotlytools.py:849: FutureWarning:\n",
      "\n",
      "The pandas.np module is deprecated and will be removed from pandas in a future version. Import numpy directly instead\n",
      "\n",
      "C:\\Users\\nightwolfer\\anaconda3\\lib\\site-packages\\cufflinks\\plotlytools.py:850: FutureWarning:\n",
      "\n",
      "The pandas.np module is deprecated and will be removed from pandas in a future version. Import numpy directly instead\n",
      "\n"
     ]
    },
    {
     "data": {
      "application/vnd.plotly.v1+json": {
       "config": {
        "linkText": "Export to plot.ly",
        "plotlyServerURL": "https://plot.ly",
        "showLink": true
       },
       "data": [
        {
         "line": {
          "color": "rgba(255, 153, 51, 1.0)",
          "dash": "solid",
          "shape": "linear",
          "width": 1.3
         },
         "mode": "lines",
         "name": "A",
         "text": "",
         "type": "scatter",
         "x": [
          0,
          1,
          2,
          3,
          4,
          5,
          6,
          7,
          8,
          9,
          10,
          11,
          12,
          13,
          14,
          15,
          16,
          17,
          18,
          19,
          20,
          21,
          22,
          23,
          24,
          25,
          26,
          27,
          28,
          29,
          30,
          31,
          32,
          33,
          34,
          35,
          36,
          37,
          38,
          39,
          40,
          41,
          42,
          43,
          44,
          45,
          46,
          47,
          48,
          49,
          50,
          51,
          52,
          53,
          54,
          55,
          56,
          57,
          58,
          59,
          60,
          61,
          62,
          63,
          64,
          65,
          66,
          67,
          68,
          69,
          70,
          71,
          72,
          73,
          74,
          75,
          76,
          77,
          78,
          79,
          80,
          81,
          82,
          83,
          84,
          85,
          86,
          87,
          88,
          89,
          90,
          91,
          92,
          93,
          94,
          95,
          96,
          97,
          98,
          99
         ],
         "y": [
          1.0306268310521411,
          -0.009779592803279932,
          -0.2790768811322032,
          -1.0139740466904634,
          0.0900692504783834,
          -0.2535851169626924,
          -1.6467454574663618,
          1.7307237074588178,
          1.9502548897209437,
          -0.19755479047900773,
          0.2398666841948917,
          0.7010948394146828,
          -1.1451707605139148,
          0.46661900006528834,
          -0.8657550022928382,
          -1.6038650824285154,
          0.27757731154907933,
          -0.3431836968023546,
          -0.23005393886187692,
          1.0417258828980622,
          -0.8420841231491191,
          0.8152608031368365,
          -0.9625178400335987,
          -1.1404010459367615,
          0.050065537297441697,
          -2.370511621398351,
          -0.14919235354725413,
          0.41704549449768563,
          -0.6054188923136063,
          1.1554385786210146,
          0.7844642545459046,
          -1.475697549467589,
          0.04357284219822051,
          0.6794088833644034,
          0.6088565243362992,
          -1.1236414266064494,
          -0.8645947981730004,
          -0.189315236879113,
          -1.6210608672291478,
          0.9826668024309222,
          -0.6583173023179347,
          -0.5261504456906693,
          -0.03469245259160687,
          -0.6441359781479439,
          2.1734528796420545,
          -0.695189681213425,
          -0.46387873617425734,
          -1.4406688499833342,
          -1.2366946841550048,
          -0.10445908435134638,
          1.4251663204192084,
          0.5459100358998471,
          -0.8142886165167468,
          1.6532780391932245,
          -0.1756159152534916,
          1.3322517121474091,
          -1.4189570454958202,
          -0.4365752199462574,
          0.9537908960745699,
          -0.3539941043674274,
          -1.7317323557753117,
          -1.6056342883818238,
          -0.14249131405174065,
          0.757385761017589,
          0.9217206398940825,
          0.8344690988574576,
          -1.2899900493073886,
          -0.5943831892006142,
          -0.30372445542656695,
          -0.6417063779059349,
          -0.7037207687010433,
          1.1647604326551553,
          1.6423197600571988,
          1.5706789394322735,
          0.1367178711685339,
          -0.27323866815150344,
          -0.6314346286156403,
          0.4479905105725482,
          0.5890067573599885,
          0.2851593629595951,
          0.21447051208841894,
          -0.33151322309343284,
          0.5286453144797023,
          -1.06397649923059,
          0.5211095633016483,
          0.11631777499822968,
          0.42275350128486044,
          -0.6165342792073051,
          -1.6774563192891445,
          -0.4449128911114853,
          -0.3718594486932189,
          -0.3548745644616727,
          -0.0653257564023129,
          -1.380490514092773,
          1.2171934013759687,
          -0.19344980330040593,
          -1.0615002168273389,
          -0.7803014574950484,
          1.0018898744196458,
          -0.005603546937125365
         ]
        },
        {
         "line": {
          "color": "rgba(55, 128, 191, 1.0)",
          "dash": "solid",
          "shape": "linear",
          "width": 1.3
         },
         "mode": "lines",
         "name": "B",
         "text": "",
         "type": "scatter",
         "x": [
          0,
          1,
          2,
          3,
          4,
          5,
          6,
          7,
          8,
          9,
          10,
          11,
          12,
          13,
          14,
          15,
          16,
          17,
          18,
          19,
          20,
          21,
          22,
          23,
          24,
          25,
          26,
          27,
          28,
          29,
          30,
          31,
          32,
          33,
          34,
          35,
          36,
          37,
          38,
          39,
          40,
          41,
          42,
          43,
          44,
          45,
          46,
          47,
          48,
          49,
          50,
          51,
          52,
          53,
          54,
          55,
          56,
          57,
          58,
          59,
          60,
          61,
          62,
          63,
          64,
          65,
          66,
          67,
          68,
          69,
          70,
          71,
          72,
          73,
          74,
          75,
          76,
          77,
          78,
          79,
          80,
          81,
          82,
          83,
          84,
          85,
          86,
          87,
          88,
          89,
          90,
          91,
          92,
          93,
          94,
          95,
          96,
          97,
          98,
          99
         ],
         "y": [
          -1.3171858117403332,
          0.7624380978698583,
          -0.26598712621796905,
          -0.5264968283634126,
          0.10775038884771772,
          -0.41831917087155723,
          -0.13336026616854868,
          -2.052679358839702,
          -0.2308750629501153,
          0.2902137081421649,
          0.5462280675460035,
          1.565509826018809,
          -1.4187648886808986,
          -1.423344160179114,
          0.5147971814034639,
          -1.1955784398830605,
          0.08841387852632229,
          0.9668380080455504,
          -2.0063648569849772,
          0.6808736919461532,
          0.18781766388703022,
          0.5614171365614565,
          -0.6444394608278725,
          -0.9555977425121828,
          0.5299791506581135,
          0.41850851624872903,
          -1.5661227844941723,
          0.5843187666974453,
          -1.4004706879941347,
          0.8719603928383804,
          0.12816736803148948,
          -0.6104649553361966,
          0.39821361249434495,
          0.3606846856900817,
          0.7413036225859474,
          0.1627576812495385,
          -0.11822845890206685,
          0.7059999893225765,
          0.7170034475706563,
          -0.5027599164597009,
          0.10001385944510605,
          0.005207958097552748,
          1.6930322553144348,
          0.29635397928301377,
          0.30803560854128187,
          -0.36681447693814095,
          -1.890051113809245,
          0.7540909096954302,
          -0.1773227273363077,
          -0.23349584546769653,
          -0.5713628964543889,
          -1.4716137756569088,
          0.9304562545373743,
          0.4995878163784225,
          0.65980085367938,
          -1.4262329597400663,
          0.4473009688035141,
          0.9388857213269526,
          -0.449652377171511,
          -0.41019978026484133,
          1.3454325846951676,
          -1.734053342435024,
          -0.35576304849981377,
          1.9486922219268799,
          0.5737692643406617,
          0.9393293725888838,
          -0.8987704602488126,
          -1.2179927775473998,
          -0.3154686479242465,
          0.11496694956077251,
          0.868292857634255,
          0.38527378173858845,
          0.6327010724068767,
          0.6067968510291968,
          0.1742604029204123,
          0.7507414554072483,
          0.0793466639492751,
          0.05341761777299585,
          -1.1964557802321034,
          1.6445281574639363,
          0.71006173073308,
          0.09181605215087117,
          0.15398334088760324,
          -0.3343350278170103,
          -1.4134082457416612,
          0.5162593987334545,
          -1.0231974241693471,
          1.736265472251738,
          -1.2743123078491674,
          -1.1200108534882374,
          0.284539525306163,
          0.28641559822266427,
          -0.10302174914339148,
          1.1760968400628866,
          0.31675765561830554,
          1.1281775757982864,
          -0.9114292516561148,
          -0.09818298589490093,
          1.4896167556584419,
          0.1509599741757448
         ]
        },
        {
         "connectgaps": false,
         "fill": "tozeroy",
         "line": {
          "color": "green",
          "dash": "solid",
          "shape": "linear",
          "width": 0.5
         },
         "mode": "lines",
         "name": "Spread",
         "showlegend": false,
         "type": "scatter",
         "x": [
          0,
          1,
          2,
          3,
          4,
          5,
          6,
          7,
          8,
          9,
          10,
          11,
          12,
          13,
          14,
          15,
          16,
          17,
          18,
          19,
          20,
          21,
          22,
          23,
          24,
          25,
          26,
          27,
          28,
          29,
          30,
          31,
          32,
          33,
          34,
          35,
          36,
          37,
          38,
          39,
          40,
          41,
          42,
          43,
          44,
          45,
          46,
          47,
          48,
          49,
          50,
          51,
          52,
          53,
          54,
          55,
          56,
          57,
          58,
          59,
          60,
          61,
          62,
          63,
          64,
          65,
          66,
          67,
          68,
          69,
          70,
          71,
          72,
          73,
          74,
          75,
          76,
          77,
          78,
          79,
          80,
          81,
          82,
          83,
          84,
          85,
          86,
          87,
          88,
          89,
          90,
          91,
          92,
          93,
          94,
          95,
          96,
          97,
          98,
          99
         ],
         "xaxis": "x2",
         "y": [
          2.3478126427924746,
          "",
          "",
          "",
          "",
          0.1647340539088648,
          "",
          3.7834030662985194,
          2.1811299526710592,
          "",
          "",
          "",
          0.2735941281669838,
          1.8899631602444023,
          "",
          "",
          0.18916343302275704,
          "",
          1.7763109181231003,
          0.360852190951909,
          "",
          0.25384366657537993,
          "",
          "",
          "",
          "",
          1.4169304309469182,
          "",
          0.7950517956805283,
          0.2834781857826342,
          0.6562968865144152,
          "",
          "",
          0.3187241976743217,
          "",
          "",
          "",
          "",
          "",
          1.485426718890623,
          "",
          "",
          "",
          "",
          1.8654172711007726,
          "",
          1.4261723776349877,
          "",
          "",
          0.12903676111635015,
          1.9965292168735973,
          2.0175238115567558,
          "",
          1.153690222814802,
          "",
          2.7584846718874756,
          "",
          "",
          1.4034432732460809,
          0.05620567589741393,
          "",
          0.1284190540532002,
          0.21327173444807312,
          "",
          0.3479513755534208,
          "",
          "",
          0.6236095883467856,
          0.011744192497679551,
          "",
          "",
          0.7794866509165668,
          1.0096186876503221,
          0.9638820884030768,
          "",
          "",
          "",
          0.3945728927995523,
          1.785462537592092,
          "",
          "",
          "",
          0.3746619735920991,
          "",
          1.9345178090433095,
          "",
          1.4459509254542076,
          "",
          "",
          0.6750979623767521,
          "",
          "",
          0.03769599274107857,
          "",
          0.900435745757663,
          "",
          "",
          "",
          "",
          ""
         ],
         "yaxis": "y2"
        },
        {
         "connectgaps": false,
         "fill": "tozeroy",
         "line": {
          "color": "red",
          "dash": "solid",
          "shape": "linear",
          "width": 0.5
         },
         "mode": "lines",
         "name": "Spread",
         "showlegend": false,
         "type": "scatter",
         "x": [
          0,
          1,
          2,
          3,
          4,
          5,
          6,
          7,
          8,
          9,
          10,
          11,
          12,
          13,
          14,
          15,
          16,
          17,
          18,
          19,
          20,
          21,
          22,
          23,
          24,
          25,
          26,
          27,
          28,
          29,
          30,
          31,
          32,
          33,
          34,
          35,
          36,
          37,
          38,
          39,
          40,
          41,
          42,
          43,
          44,
          45,
          46,
          47,
          48,
          49,
          50,
          51,
          52,
          53,
          54,
          55,
          56,
          57,
          58,
          59,
          60,
          61,
          62,
          63,
          64,
          65,
          66,
          67,
          68,
          69,
          70,
          71,
          72,
          73,
          74,
          75,
          76,
          77,
          78,
          79,
          80,
          81,
          82,
          83,
          84,
          85,
          86,
          87,
          88,
          89,
          90,
          91,
          92,
          93,
          94,
          95,
          96,
          97,
          98,
          99
         ],
         "xaxis": "x2",
         "y": [
          "",
          -0.7722176906731382,
          -0.013089754914234142,
          -0.4874772183270508,
          -0.017681138369334312,
          "",
          -1.5133851912978131,
          "",
          "",
          -0.48776849862117266,
          -0.3063613833511118,
          -0.8644149866041262,
          "",
          "",
          -1.380552183696302,
          -0.408286642545455,
          "",
          -1.310021704847905,
          "",
          "",
          -1.0299017870361493,
          "",
          -0.31807837920572624,
          -0.18480330342457874,
          -0.47991361336067184,
          -2.7890201376470802,
          "",
          -0.16727327219975968,
          "",
          "",
          "",
          -0.8652325941313924,
          -0.35464077029612445,
          "",
          -0.13244709824964818,
          -1.286399107855988,
          -0.7463663392709337,
          -0.8953152262016895,
          -2.338064314799804,
          "",
          -0.7583311617630408,
          -0.531358403788222,
          -1.7277247079060416,
          -0.9404899574309576,
          "",
          -0.328375204275284,
          "",
          -2.1947597596787647,
          -1.0593719568186972,
          "",
          "",
          "",
          -1.7447448710541211,
          "",
          -0.8354167689328716,
          "",
          -1.8662580142993344,
          -1.37546094127321,
          "",
          "",
          -3.077164940470479,
          "",
          "",
          -1.1913064609092907,
          "",
          -0.10486027373142626,
          -0.391219589058576,
          "",
          "",
          -0.7566733274667073,
          -1.5720136263352984,
          "",
          "",
          "",
          -0.03754253175187841,
          -1.0239801235587518,
          -0.7107812925649154,
          "",
          "",
          -1.3593687945043413,
          -0.49559121864466105,
          -0.423329275244304,
          "",
          -0.7296414714135797,
          "",
          -0.3999416237352248,
          "",
          -2.352799751459043,
          -0.40314401143997713,
          "",
          -0.6563989739993819,
          -0.641290162684337,
          "",
          -2.55658735415566,
          "",
          -1.3216273790986923,
          -0.1500709651712241,
          -0.6821184716001475,
          -0.48772688123879604,
          -0.15656352111287017
         ],
         "yaxis": "y2"
        }
       ],
       "layout": {
        "hovermode": "x",
        "legend": {
         "bgcolor": "#F5F6F9",
         "font": {
          "color": "#4D5663"
         }
        },
        "paper_bgcolor": "#F5F6F9",
        "plot_bgcolor": "#F5F6F9",
        "template": {
         "data": {
          "bar": [
           {
            "error_x": {
             "color": "#2a3f5f"
            },
            "error_y": {
             "color": "#2a3f5f"
            },
            "marker": {
             "line": {
              "color": "#E5ECF6",
              "width": 0.5
             }
            },
            "type": "bar"
           }
          ],
          "barpolar": [
           {
            "marker": {
             "line": {
              "color": "#E5ECF6",
              "width": 0.5
             }
            },
            "type": "barpolar"
           }
          ],
          "carpet": [
           {
            "aaxis": {
             "endlinecolor": "#2a3f5f",
             "gridcolor": "white",
             "linecolor": "white",
             "minorgridcolor": "white",
             "startlinecolor": "#2a3f5f"
            },
            "baxis": {
             "endlinecolor": "#2a3f5f",
             "gridcolor": "white",
             "linecolor": "white",
             "minorgridcolor": "white",
             "startlinecolor": "#2a3f5f"
            },
            "type": "carpet"
           }
          ],
          "choropleth": [
           {
            "colorbar": {
             "outlinewidth": 0,
             "ticks": ""
            },
            "type": "choropleth"
           }
          ],
          "contour": [
           {
            "colorbar": {
             "outlinewidth": 0,
             "ticks": ""
            },
            "colorscale": [
             [
              0,
              "#0d0887"
             ],
             [
              0.1111111111111111,
              "#46039f"
             ],
             [
              0.2222222222222222,
              "#7201a8"
             ],
             [
              0.3333333333333333,
              "#9c179e"
             ],
             [
              0.4444444444444444,
              "#bd3786"
             ],
             [
              0.5555555555555556,
              "#d8576b"
             ],
             [
              0.6666666666666666,
              "#ed7953"
             ],
             [
              0.7777777777777778,
              "#fb9f3a"
             ],
             [
              0.8888888888888888,
              "#fdca26"
             ],
             [
              1,
              "#f0f921"
             ]
            ],
            "type": "contour"
           }
          ],
          "contourcarpet": [
           {
            "colorbar": {
             "outlinewidth": 0,
             "ticks": ""
            },
            "type": "contourcarpet"
           }
          ],
          "heatmap": [
           {
            "colorbar": {
             "outlinewidth": 0,
             "ticks": ""
            },
            "colorscale": [
             [
              0,
              "#0d0887"
             ],
             [
              0.1111111111111111,
              "#46039f"
             ],
             [
              0.2222222222222222,
              "#7201a8"
             ],
             [
              0.3333333333333333,
              "#9c179e"
             ],
             [
              0.4444444444444444,
              "#bd3786"
             ],
             [
              0.5555555555555556,
              "#d8576b"
             ],
             [
              0.6666666666666666,
              "#ed7953"
             ],
             [
              0.7777777777777778,
              "#fb9f3a"
             ],
             [
              0.8888888888888888,
              "#fdca26"
             ],
             [
              1,
              "#f0f921"
             ]
            ],
            "type": "heatmap"
           }
          ],
          "heatmapgl": [
           {
            "colorbar": {
             "outlinewidth": 0,
             "ticks": ""
            },
            "colorscale": [
             [
              0,
              "#0d0887"
             ],
             [
              0.1111111111111111,
              "#46039f"
             ],
             [
              0.2222222222222222,
              "#7201a8"
             ],
             [
              0.3333333333333333,
              "#9c179e"
             ],
             [
              0.4444444444444444,
              "#bd3786"
             ],
             [
              0.5555555555555556,
              "#d8576b"
             ],
             [
              0.6666666666666666,
              "#ed7953"
             ],
             [
              0.7777777777777778,
              "#fb9f3a"
             ],
             [
              0.8888888888888888,
              "#fdca26"
             ],
             [
              1,
              "#f0f921"
             ]
            ],
            "type": "heatmapgl"
           }
          ],
          "histogram": [
           {
            "marker": {
             "colorbar": {
              "outlinewidth": 0,
              "ticks": ""
             }
            },
            "type": "histogram"
           }
          ],
          "histogram2d": [
           {
            "colorbar": {
             "outlinewidth": 0,
             "ticks": ""
            },
            "colorscale": [
             [
              0,
              "#0d0887"
             ],
             [
              0.1111111111111111,
              "#46039f"
             ],
             [
              0.2222222222222222,
              "#7201a8"
             ],
             [
              0.3333333333333333,
              "#9c179e"
             ],
             [
              0.4444444444444444,
              "#bd3786"
             ],
             [
              0.5555555555555556,
              "#d8576b"
             ],
             [
              0.6666666666666666,
              "#ed7953"
             ],
             [
              0.7777777777777778,
              "#fb9f3a"
             ],
             [
              0.8888888888888888,
              "#fdca26"
             ],
             [
              1,
              "#f0f921"
             ]
            ],
            "type": "histogram2d"
           }
          ],
          "histogram2dcontour": [
           {
            "colorbar": {
             "outlinewidth": 0,
             "ticks": ""
            },
            "colorscale": [
             [
              0,
              "#0d0887"
             ],
             [
              0.1111111111111111,
              "#46039f"
             ],
             [
              0.2222222222222222,
              "#7201a8"
             ],
             [
              0.3333333333333333,
              "#9c179e"
             ],
             [
              0.4444444444444444,
              "#bd3786"
             ],
             [
              0.5555555555555556,
              "#d8576b"
             ],
             [
              0.6666666666666666,
              "#ed7953"
             ],
             [
              0.7777777777777778,
              "#fb9f3a"
             ],
             [
              0.8888888888888888,
              "#fdca26"
             ],
             [
              1,
              "#f0f921"
             ]
            ],
            "type": "histogram2dcontour"
           }
          ],
          "mesh3d": [
           {
            "colorbar": {
             "outlinewidth": 0,
             "ticks": ""
            },
            "type": "mesh3d"
           }
          ],
          "parcoords": [
           {
            "line": {
             "colorbar": {
              "outlinewidth": 0,
              "ticks": ""
             }
            },
            "type": "parcoords"
           }
          ],
          "pie": [
           {
            "automargin": true,
            "type": "pie"
           }
          ],
          "scatter": [
           {
            "marker": {
             "colorbar": {
              "outlinewidth": 0,
              "ticks": ""
             }
            },
            "type": "scatter"
           }
          ],
          "scatter3d": [
           {
            "line": {
             "colorbar": {
              "outlinewidth": 0,
              "ticks": ""
             }
            },
            "marker": {
             "colorbar": {
              "outlinewidth": 0,
              "ticks": ""
             }
            },
            "type": "scatter3d"
           }
          ],
          "scattercarpet": [
           {
            "marker": {
             "colorbar": {
              "outlinewidth": 0,
              "ticks": ""
             }
            },
            "type": "scattercarpet"
           }
          ],
          "scattergeo": [
           {
            "marker": {
             "colorbar": {
              "outlinewidth": 0,
              "ticks": ""
             }
            },
            "type": "scattergeo"
           }
          ],
          "scattergl": [
           {
            "marker": {
             "colorbar": {
              "outlinewidth": 0,
              "ticks": ""
             }
            },
            "type": "scattergl"
           }
          ],
          "scattermapbox": [
           {
            "marker": {
             "colorbar": {
              "outlinewidth": 0,
              "ticks": ""
             }
            },
            "type": "scattermapbox"
           }
          ],
          "scatterpolar": [
           {
            "marker": {
             "colorbar": {
              "outlinewidth": 0,
              "ticks": ""
             }
            },
            "type": "scatterpolar"
           }
          ],
          "scatterpolargl": [
           {
            "marker": {
             "colorbar": {
              "outlinewidth": 0,
              "ticks": ""
             }
            },
            "type": "scatterpolargl"
           }
          ],
          "scatterternary": [
           {
            "marker": {
             "colorbar": {
              "outlinewidth": 0,
              "ticks": ""
             }
            },
            "type": "scatterternary"
           }
          ],
          "surface": [
           {
            "colorbar": {
             "outlinewidth": 0,
             "ticks": ""
            },
            "colorscale": [
             [
              0,
              "#0d0887"
             ],
             [
              0.1111111111111111,
              "#46039f"
             ],
             [
              0.2222222222222222,
              "#7201a8"
             ],
             [
              0.3333333333333333,
              "#9c179e"
             ],
             [
              0.4444444444444444,
              "#bd3786"
             ],
             [
              0.5555555555555556,
              "#d8576b"
             ],
             [
              0.6666666666666666,
              "#ed7953"
             ],
             [
              0.7777777777777778,
              "#fb9f3a"
             ],
             [
              0.8888888888888888,
              "#fdca26"
             ],
             [
              1,
              "#f0f921"
             ]
            ],
            "type": "surface"
           }
          ],
          "table": [
           {
            "cells": {
             "fill": {
              "color": "#EBF0F8"
             },
             "line": {
              "color": "white"
             }
            },
            "header": {
             "fill": {
              "color": "#C8D4E3"
             },
             "line": {
              "color": "white"
             }
            },
            "type": "table"
           }
          ]
         },
         "layout": {
          "annotationdefaults": {
           "arrowcolor": "#2a3f5f",
           "arrowhead": 0,
           "arrowwidth": 1
          },
          "coloraxis": {
           "colorbar": {
            "outlinewidth": 0,
            "ticks": ""
           }
          },
          "colorscale": {
           "diverging": [
            [
             0,
             "#8e0152"
            ],
            [
             0.1,
             "#c51b7d"
            ],
            [
             0.2,
             "#de77ae"
            ],
            [
             0.3,
             "#f1b6da"
            ],
            [
             0.4,
             "#fde0ef"
            ],
            [
             0.5,
             "#f7f7f7"
            ],
            [
             0.6,
             "#e6f5d0"
            ],
            [
             0.7,
             "#b8e186"
            ],
            [
             0.8,
             "#7fbc41"
            ],
            [
             0.9,
             "#4d9221"
            ],
            [
             1,
             "#276419"
            ]
           ],
           "sequential": [
            [
             0,
             "#0d0887"
            ],
            [
             0.1111111111111111,
             "#46039f"
            ],
            [
             0.2222222222222222,
             "#7201a8"
            ],
            [
             0.3333333333333333,
             "#9c179e"
            ],
            [
             0.4444444444444444,
             "#bd3786"
            ],
            [
             0.5555555555555556,
             "#d8576b"
            ],
            [
             0.6666666666666666,
             "#ed7953"
            ],
            [
             0.7777777777777778,
             "#fb9f3a"
            ],
            [
             0.8888888888888888,
             "#fdca26"
            ],
            [
             1,
             "#f0f921"
            ]
           ],
           "sequentialminus": [
            [
             0,
             "#0d0887"
            ],
            [
             0.1111111111111111,
             "#46039f"
            ],
            [
             0.2222222222222222,
             "#7201a8"
            ],
            [
             0.3333333333333333,
             "#9c179e"
            ],
            [
             0.4444444444444444,
             "#bd3786"
            ],
            [
             0.5555555555555556,
             "#d8576b"
            ],
            [
             0.6666666666666666,
             "#ed7953"
            ],
            [
             0.7777777777777778,
             "#fb9f3a"
            ],
            [
             0.8888888888888888,
             "#fdca26"
            ],
            [
             1,
             "#f0f921"
            ]
           ]
          },
          "colorway": [
           "#636efa",
           "#EF553B",
           "#00cc96",
           "#ab63fa",
           "#FFA15A",
           "#19d3f3",
           "#FF6692",
           "#B6E880",
           "#FF97FF",
           "#FECB52"
          ],
          "font": {
           "color": "#2a3f5f"
          },
          "geo": {
           "bgcolor": "white",
           "lakecolor": "white",
           "landcolor": "#E5ECF6",
           "showlakes": true,
           "showland": true,
           "subunitcolor": "white"
          },
          "hoverlabel": {
           "align": "left"
          },
          "hovermode": "closest",
          "mapbox": {
           "style": "light"
          },
          "paper_bgcolor": "white",
          "plot_bgcolor": "#E5ECF6",
          "polar": {
           "angularaxis": {
            "gridcolor": "white",
            "linecolor": "white",
            "ticks": ""
           },
           "bgcolor": "#E5ECF6",
           "radialaxis": {
            "gridcolor": "white",
            "linecolor": "white",
            "ticks": ""
           }
          },
          "scene": {
           "xaxis": {
            "backgroundcolor": "#E5ECF6",
            "gridcolor": "white",
            "gridwidth": 2,
            "linecolor": "white",
            "showbackground": true,
            "ticks": "",
            "zerolinecolor": "white"
           },
           "yaxis": {
            "backgroundcolor": "#E5ECF6",
            "gridcolor": "white",
            "gridwidth": 2,
            "linecolor": "white",
            "showbackground": true,
            "ticks": "",
            "zerolinecolor": "white"
           },
           "zaxis": {
            "backgroundcolor": "#E5ECF6",
            "gridcolor": "white",
            "gridwidth": 2,
            "linecolor": "white",
            "showbackground": true,
            "ticks": "",
            "zerolinecolor": "white"
           }
          },
          "shapedefaults": {
           "line": {
            "color": "#2a3f5f"
           }
          },
          "ternary": {
           "aaxis": {
            "gridcolor": "white",
            "linecolor": "white",
            "ticks": ""
           },
           "baxis": {
            "gridcolor": "white",
            "linecolor": "white",
            "ticks": ""
           },
           "bgcolor": "#E5ECF6",
           "caxis": {
            "gridcolor": "white",
            "linecolor": "white",
            "ticks": ""
           }
          },
          "title": {
           "x": 0.05
          },
          "xaxis": {
           "automargin": true,
           "gridcolor": "white",
           "linecolor": "white",
           "ticks": "",
           "title": {
            "standoff": 15
           },
           "zerolinecolor": "white",
           "zerolinewidth": 2
          },
          "yaxis": {
           "automargin": true,
           "gridcolor": "white",
           "linecolor": "white",
           "ticks": "",
           "title": {
            "standoff": 15
           },
           "zerolinecolor": "white",
           "zerolinewidth": 2
          }
         }
        },
        "title": {
         "font": {
          "color": "#4D5663"
         }
        },
        "xaxis": {
         "gridcolor": "#E1E5ED",
         "showgrid": true,
         "tickfont": {
          "color": "#4D5663"
         },
         "title": {
          "font": {
           "color": "#4D5663"
          },
          "text": ""
         },
         "zerolinecolor": "#E1E5ED"
        },
        "xaxis2": {
         "anchor": "y2",
         "gridcolor": "#E1E5ED",
         "showgrid": true,
         "showticklabels": false,
         "tickfont": {
          "color": "#4D5663"
         },
         "title": {
          "font": {
           "color": "#4D5663"
          },
          "text": ""
         },
         "zerolinecolor": "#E1E5ED"
        },
        "yaxis": {
         "domain": [
          0.3,
          1
         ],
         "gridcolor": "#E1E5ED",
         "showgrid": true,
         "tickfont": {
          "color": "#4D5663"
         },
         "title": {
          "font": {
           "color": "#4D5663"
          },
          "text": ""
         },
         "zerolinecolor": "#E1E5ED"
        },
        "yaxis2": {
         "domain": [
          0,
          0.25
         ],
         "gridcolor": "#E1E5ED",
         "showgrid": true,
         "tickfont": {
          "color": "#4D5663"
         },
         "title": {
          "font": {
           "color": "#4D5663"
          },
          "text": "Spread"
         },
         "zerolinecolor": "#E1E5ED"
        }
       }
      },
      "text/html": [
       "<div>                            <div id=\"ac9415f9-b277-4e3b-80dd-efdf22c75fdd\" class=\"plotly-graph-div\" style=\"height:525px; width:100%;\"></div>            <script type=\"text/javascript\">                require([\"plotly\"], function(Plotly) {                    window.PLOTLYENV=window.PLOTLYENV || {};\n",
       "                    window.PLOTLYENV.BASE_URL='https://plot.ly';                                    if (document.getElementById(\"ac9415f9-b277-4e3b-80dd-efdf22c75fdd\")) {                    Plotly.newPlot(                        \"ac9415f9-b277-4e3b-80dd-efdf22c75fdd\",                        [{\"line\": {\"color\": \"rgba(255, 153, 51, 1.0)\", \"dash\": \"solid\", \"shape\": \"linear\", \"width\": 1.3}, \"mode\": \"lines\", \"name\": \"A\", \"text\": \"\", \"type\": \"scatter\", \"x\": [0, 1, 2, 3, 4, 5, 6, 7, 8, 9, 10, 11, 12, 13, 14, 15, 16, 17, 18, 19, 20, 21, 22, 23, 24, 25, 26, 27, 28, 29, 30, 31, 32, 33, 34, 35, 36, 37, 38, 39, 40, 41, 42, 43, 44, 45, 46, 47, 48, 49, 50, 51, 52, 53, 54, 55, 56, 57, 58, 59, 60, 61, 62, 63, 64, 65, 66, 67, 68, 69, 70, 71, 72, 73, 74, 75, 76, 77, 78, 79, 80, 81, 82, 83, 84, 85, 86, 87, 88, 89, 90, 91, 92, 93, 94, 95, 96, 97, 98, 99], \"y\": [1.0306268310521411, -0.009779592803279932, -0.2790768811322032, -1.0139740466904634, 0.0900692504783834, -0.2535851169626924, -1.6467454574663618, 1.7307237074588178, 1.9502548897209437, -0.19755479047900773, 0.2398666841948917, 0.7010948394146828, -1.1451707605139148, 0.46661900006528834, -0.8657550022928382, -1.6038650824285154, 0.27757731154907933, -0.3431836968023546, -0.23005393886187692, 1.0417258828980622, -0.8420841231491191, 0.8152608031368365, -0.9625178400335987, -1.1404010459367615, 0.050065537297441697, -2.370511621398351, -0.14919235354725413, 0.41704549449768563, -0.6054188923136063, 1.1554385786210146, 0.7844642545459046, -1.475697549467589, 0.04357284219822051, 0.6794088833644034, 0.6088565243362992, -1.1236414266064494, -0.8645947981730004, -0.189315236879113, -1.6210608672291478, 0.9826668024309222, -0.6583173023179347, -0.5261504456906693, -0.03469245259160687, -0.6441359781479439, 2.1734528796420545, -0.695189681213425, -0.46387873617425734, -1.4406688499833342, -1.2366946841550048, -0.10445908435134638, 1.4251663204192084, 0.5459100358998471, -0.8142886165167468, 1.6532780391932245, -0.1756159152534916, 1.3322517121474091, -1.4189570454958202, -0.4365752199462574, 0.9537908960745699, -0.3539941043674274, -1.7317323557753117, -1.6056342883818238, -0.14249131405174065, 0.757385761017589, 0.9217206398940825, 0.8344690988574576, -1.2899900493073886, -0.5943831892006142, -0.30372445542656695, -0.6417063779059349, -0.7037207687010433, 1.1647604326551553, 1.6423197600571988, 1.5706789394322735, 0.1367178711685339, -0.27323866815150344, -0.6314346286156403, 0.4479905105725482, 0.5890067573599885, 0.2851593629595951, 0.21447051208841894, -0.33151322309343284, 0.5286453144797023, -1.06397649923059, 0.5211095633016483, 0.11631777499822968, 0.42275350128486044, -0.6165342792073051, -1.6774563192891445, -0.4449128911114853, -0.3718594486932189, -0.3548745644616727, -0.0653257564023129, -1.380490514092773, 1.2171934013759687, -0.19344980330040593, -1.0615002168273389, -0.7803014574950484, 1.0018898744196458, -0.005603546937125365]}, {\"line\": {\"color\": \"rgba(55, 128, 191, 1.0)\", \"dash\": \"solid\", \"shape\": \"linear\", \"width\": 1.3}, \"mode\": \"lines\", \"name\": \"B\", \"text\": \"\", \"type\": \"scatter\", \"x\": [0, 1, 2, 3, 4, 5, 6, 7, 8, 9, 10, 11, 12, 13, 14, 15, 16, 17, 18, 19, 20, 21, 22, 23, 24, 25, 26, 27, 28, 29, 30, 31, 32, 33, 34, 35, 36, 37, 38, 39, 40, 41, 42, 43, 44, 45, 46, 47, 48, 49, 50, 51, 52, 53, 54, 55, 56, 57, 58, 59, 60, 61, 62, 63, 64, 65, 66, 67, 68, 69, 70, 71, 72, 73, 74, 75, 76, 77, 78, 79, 80, 81, 82, 83, 84, 85, 86, 87, 88, 89, 90, 91, 92, 93, 94, 95, 96, 97, 98, 99], \"y\": [-1.3171858117403332, 0.7624380978698583, -0.26598712621796905, -0.5264968283634126, 0.10775038884771772, -0.41831917087155723, -0.13336026616854868, -2.052679358839702, -0.2308750629501153, 0.2902137081421649, 0.5462280675460035, 1.565509826018809, -1.4187648886808986, -1.423344160179114, 0.5147971814034639, -1.1955784398830605, 0.08841387852632229, 0.9668380080455504, -2.0063648569849772, 0.6808736919461532, 0.18781766388703022, 0.5614171365614565, -0.6444394608278725, -0.9555977425121828, 0.5299791506581135, 0.41850851624872903, -1.5661227844941723, 0.5843187666974453, -1.4004706879941347, 0.8719603928383804, 0.12816736803148948, -0.6104649553361966, 0.39821361249434495, 0.3606846856900817, 0.7413036225859474, 0.1627576812495385, -0.11822845890206685, 0.7059999893225765, 0.7170034475706563, -0.5027599164597009, 0.10001385944510605, 0.005207958097552748, 1.6930322553144348, 0.29635397928301377, 0.30803560854128187, -0.36681447693814095, -1.890051113809245, 0.7540909096954302, -0.1773227273363077, -0.23349584546769653, -0.5713628964543889, -1.4716137756569088, 0.9304562545373743, 0.4995878163784225, 0.65980085367938, -1.4262329597400663, 0.4473009688035141, 0.9388857213269526, -0.449652377171511, -0.41019978026484133, 1.3454325846951676, -1.734053342435024, -0.35576304849981377, 1.9486922219268799, 0.5737692643406617, 0.9393293725888838, -0.8987704602488126, -1.2179927775473998, -0.3154686479242465, 0.11496694956077251, 0.868292857634255, 0.38527378173858845, 0.6327010724068767, 0.6067968510291968, 0.1742604029204123, 0.7507414554072483, 0.0793466639492751, 0.05341761777299585, -1.1964557802321034, 1.6445281574639363, 0.71006173073308, 0.09181605215087117, 0.15398334088760324, -0.3343350278170103, -1.4134082457416612, 0.5162593987334545, -1.0231974241693471, 1.736265472251738, -1.2743123078491674, -1.1200108534882374, 0.284539525306163, 0.28641559822266427, -0.10302174914339148, 1.1760968400628866, 0.31675765561830554, 1.1281775757982864, -0.9114292516561148, -0.09818298589490093, 1.4896167556584419, 0.1509599741757448]}, {\"connectgaps\": false, \"fill\": \"tozeroy\", \"line\": {\"color\": \"green\", \"dash\": \"solid\", \"shape\": \"linear\", \"width\": 0.5}, \"mode\": \"lines\", \"name\": \"Spread\", \"showlegend\": false, \"type\": \"scatter\", \"x\": [0, 1, 2, 3, 4, 5, 6, 7, 8, 9, 10, 11, 12, 13, 14, 15, 16, 17, 18, 19, 20, 21, 22, 23, 24, 25, 26, 27, 28, 29, 30, 31, 32, 33, 34, 35, 36, 37, 38, 39, 40, 41, 42, 43, 44, 45, 46, 47, 48, 49, 50, 51, 52, 53, 54, 55, 56, 57, 58, 59, 60, 61, 62, 63, 64, 65, 66, 67, 68, 69, 70, 71, 72, 73, 74, 75, 76, 77, 78, 79, 80, 81, 82, 83, 84, 85, 86, 87, 88, 89, 90, 91, 92, 93, 94, 95, 96, 97, 98, 99], \"xaxis\": \"x2\", \"y\": [2.3478126427924746, \"\", \"\", \"\", \"\", 0.1647340539088648, \"\", 3.7834030662985194, 2.1811299526710592, \"\", \"\", \"\", 0.2735941281669838, 1.8899631602444023, \"\", \"\", 0.18916343302275704, \"\", 1.7763109181231003, 0.360852190951909, \"\", 0.25384366657537993, \"\", \"\", \"\", \"\", 1.4169304309469182, \"\", 0.7950517956805283, 0.2834781857826342, 0.6562968865144152, \"\", \"\", 0.3187241976743217, \"\", \"\", \"\", \"\", \"\", 1.485426718890623, \"\", \"\", \"\", \"\", 1.8654172711007726, \"\", 1.4261723776349877, \"\", \"\", 0.12903676111635015, 1.9965292168735973, 2.0175238115567558, \"\", 1.153690222814802, \"\", 2.7584846718874756, \"\", \"\", 1.4034432732460809, 0.05620567589741393, \"\", 0.1284190540532002, 0.21327173444807312, \"\", 0.3479513755534208, \"\", \"\", 0.6236095883467856, 0.011744192497679551, \"\", \"\", 0.7794866509165668, 1.0096186876503221, 0.9638820884030768, \"\", \"\", \"\", 0.3945728927995523, 1.785462537592092, \"\", \"\", \"\", 0.3746619735920991, \"\", 1.9345178090433095, \"\", 1.4459509254542076, \"\", \"\", 0.6750979623767521, \"\", \"\", 0.03769599274107857, \"\", 0.900435745757663, \"\", \"\", \"\", \"\", \"\"], \"yaxis\": \"y2\"}, {\"connectgaps\": false, \"fill\": \"tozeroy\", \"line\": {\"color\": \"red\", \"dash\": \"solid\", \"shape\": \"linear\", \"width\": 0.5}, \"mode\": \"lines\", \"name\": \"Spread\", \"showlegend\": false, \"type\": \"scatter\", \"x\": [0, 1, 2, 3, 4, 5, 6, 7, 8, 9, 10, 11, 12, 13, 14, 15, 16, 17, 18, 19, 20, 21, 22, 23, 24, 25, 26, 27, 28, 29, 30, 31, 32, 33, 34, 35, 36, 37, 38, 39, 40, 41, 42, 43, 44, 45, 46, 47, 48, 49, 50, 51, 52, 53, 54, 55, 56, 57, 58, 59, 60, 61, 62, 63, 64, 65, 66, 67, 68, 69, 70, 71, 72, 73, 74, 75, 76, 77, 78, 79, 80, 81, 82, 83, 84, 85, 86, 87, 88, 89, 90, 91, 92, 93, 94, 95, 96, 97, 98, 99], \"xaxis\": \"x2\", \"y\": [\"\", -0.7722176906731382, -0.013089754914234142, -0.4874772183270508, -0.017681138369334312, \"\", -1.5133851912978131, \"\", \"\", -0.48776849862117266, -0.3063613833511118, -0.8644149866041262, \"\", \"\", -1.380552183696302, -0.408286642545455, \"\", -1.310021704847905, \"\", \"\", -1.0299017870361493, \"\", -0.31807837920572624, -0.18480330342457874, -0.47991361336067184, -2.7890201376470802, \"\", -0.16727327219975968, \"\", \"\", \"\", -0.8652325941313924, -0.35464077029612445, \"\", -0.13244709824964818, -1.286399107855988, -0.7463663392709337, -0.8953152262016895, -2.338064314799804, \"\", -0.7583311617630408, -0.531358403788222, -1.7277247079060416, -0.9404899574309576, \"\", -0.328375204275284, \"\", -2.1947597596787647, -1.0593719568186972, \"\", \"\", \"\", -1.7447448710541211, \"\", -0.8354167689328716, \"\", -1.8662580142993344, -1.37546094127321, \"\", \"\", -3.077164940470479, \"\", \"\", -1.1913064609092907, \"\", -0.10486027373142626, -0.391219589058576, \"\", \"\", -0.7566733274667073, -1.5720136263352984, \"\", \"\", \"\", -0.03754253175187841, -1.0239801235587518, -0.7107812925649154, \"\", \"\", -1.3593687945043413, -0.49559121864466105, -0.423329275244304, \"\", -0.7296414714135797, \"\", -0.3999416237352248, \"\", -2.352799751459043, -0.40314401143997713, \"\", -0.6563989739993819, -0.641290162684337, \"\", -2.55658735415566, \"\", -1.3216273790986923, -0.1500709651712241, -0.6821184716001475, -0.48772688123879604, -0.15656352111287017], \"yaxis\": \"y2\"}],                        {\"hovermode\": \"x\", \"legend\": {\"bgcolor\": \"#F5F6F9\", \"font\": {\"color\": \"#4D5663\"}}, \"paper_bgcolor\": \"#F5F6F9\", \"plot_bgcolor\": \"#F5F6F9\", \"template\": {\"data\": {\"bar\": [{\"error_x\": {\"color\": \"#2a3f5f\"}, \"error_y\": {\"color\": \"#2a3f5f\"}, \"marker\": {\"line\": {\"color\": \"#E5ECF6\", \"width\": 0.5}}, \"type\": \"bar\"}], \"barpolar\": [{\"marker\": {\"line\": {\"color\": \"#E5ECF6\", \"width\": 0.5}}, \"type\": \"barpolar\"}], \"carpet\": [{\"aaxis\": {\"endlinecolor\": \"#2a3f5f\", \"gridcolor\": \"white\", \"linecolor\": \"white\", \"minorgridcolor\": \"white\", \"startlinecolor\": \"#2a3f5f\"}, \"baxis\": {\"endlinecolor\": \"#2a3f5f\", \"gridcolor\": \"white\", \"linecolor\": \"white\", \"minorgridcolor\": \"white\", \"startlinecolor\": \"#2a3f5f\"}, \"type\": \"carpet\"}], \"choropleth\": [{\"colorbar\": {\"outlinewidth\": 0, \"ticks\": \"\"}, \"type\": \"choropleth\"}], \"contour\": [{\"colorbar\": {\"outlinewidth\": 0, \"ticks\": \"\"}, \"colorscale\": [[0.0, \"#0d0887\"], [0.1111111111111111, \"#46039f\"], [0.2222222222222222, \"#7201a8\"], [0.3333333333333333, \"#9c179e\"], [0.4444444444444444, \"#bd3786\"], [0.5555555555555556, \"#d8576b\"], [0.6666666666666666, \"#ed7953\"], [0.7777777777777778, \"#fb9f3a\"], [0.8888888888888888, \"#fdca26\"], [1.0, \"#f0f921\"]], \"type\": \"contour\"}], \"contourcarpet\": [{\"colorbar\": {\"outlinewidth\": 0, \"ticks\": \"\"}, \"type\": \"contourcarpet\"}], \"heatmap\": [{\"colorbar\": {\"outlinewidth\": 0, \"ticks\": \"\"}, \"colorscale\": [[0.0, \"#0d0887\"], [0.1111111111111111, \"#46039f\"], [0.2222222222222222, \"#7201a8\"], [0.3333333333333333, \"#9c179e\"], [0.4444444444444444, \"#bd3786\"], [0.5555555555555556, \"#d8576b\"], [0.6666666666666666, \"#ed7953\"], [0.7777777777777778, \"#fb9f3a\"], [0.8888888888888888, \"#fdca26\"], [1.0, \"#f0f921\"]], \"type\": \"heatmap\"}], \"heatmapgl\": [{\"colorbar\": {\"outlinewidth\": 0, \"ticks\": \"\"}, \"colorscale\": [[0.0, \"#0d0887\"], [0.1111111111111111, \"#46039f\"], [0.2222222222222222, \"#7201a8\"], [0.3333333333333333, \"#9c179e\"], [0.4444444444444444, \"#bd3786\"], [0.5555555555555556, \"#d8576b\"], [0.6666666666666666, \"#ed7953\"], [0.7777777777777778, \"#fb9f3a\"], [0.8888888888888888, \"#fdca26\"], [1.0, \"#f0f921\"]], \"type\": \"heatmapgl\"}], \"histogram\": [{\"marker\": {\"colorbar\": {\"outlinewidth\": 0, \"ticks\": \"\"}}, \"type\": \"histogram\"}], \"histogram2d\": [{\"colorbar\": {\"outlinewidth\": 0, \"ticks\": \"\"}, \"colorscale\": [[0.0, \"#0d0887\"], [0.1111111111111111, \"#46039f\"], [0.2222222222222222, \"#7201a8\"], [0.3333333333333333, \"#9c179e\"], [0.4444444444444444, \"#bd3786\"], [0.5555555555555556, \"#d8576b\"], [0.6666666666666666, \"#ed7953\"], [0.7777777777777778, \"#fb9f3a\"], [0.8888888888888888, \"#fdca26\"], [1.0, \"#f0f921\"]], \"type\": \"histogram2d\"}], \"histogram2dcontour\": [{\"colorbar\": {\"outlinewidth\": 0, \"ticks\": \"\"}, \"colorscale\": [[0.0, \"#0d0887\"], [0.1111111111111111, \"#46039f\"], [0.2222222222222222, \"#7201a8\"], [0.3333333333333333, \"#9c179e\"], [0.4444444444444444, \"#bd3786\"], [0.5555555555555556, \"#d8576b\"], [0.6666666666666666, \"#ed7953\"], [0.7777777777777778, \"#fb9f3a\"], [0.8888888888888888, \"#fdca26\"], [1.0, \"#f0f921\"]], \"type\": \"histogram2dcontour\"}], \"mesh3d\": [{\"colorbar\": {\"outlinewidth\": 0, \"ticks\": \"\"}, \"type\": \"mesh3d\"}], \"parcoords\": [{\"line\": {\"colorbar\": {\"outlinewidth\": 0, \"ticks\": \"\"}}, \"type\": \"parcoords\"}], \"pie\": [{\"automargin\": true, \"type\": \"pie\"}], \"scatter\": [{\"marker\": {\"colorbar\": {\"outlinewidth\": 0, \"ticks\": \"\"}}, \"type\": \"scatter\"}], \"scatter3d\": [{\"line\": {\"colorbar\": {\"outlinewidth\": 0, \"ticks\": \"\"}}, \"marker\": {\"colorbar\": {\"outlinewidth\": 0, \"ticks\": \"\"}}, \"type\": \"scatter3d\"}], \"scattercarpet\": [{\"marker\": {\"colorbar\": {\"outlinewidth\": 0, \"ticks\": \"\"}}, \"type\": \"scattercarpet\"}], \"scattergeo\": [{\"marker\": {\"colorbar\": {\"outlinewidth\": 0, \"ticks\": \"\"}}, \"type\": \"scattergeo\"}], \"scattergl\": [{\"marker\": {\"colorbar\": {\"outlinewidth\": 0, \"ticks\": \"\"}}, \"type\": \"scattergl\"}], \"scattermapbox\": [{\"marker\": {\"colorbar\": {\"outlinewidth\": 0, \"ticks\": \"\"}}, \"type\": \"scattermapbox\"}], \"scatterpolar\": [{\"marker\": {\"colorbar\": {\"outlinewidth\": 0, \"ticks\": \"\"}}, \"type\": \"scatterpolar\"}], \"scatterpolargl\": [{\"marker\": {\"colorbar\": {\"outlinewidth\": 0, \"ticks\": \"\"}}, \"type\": \"scatterpolargl\"}], \"scatterternary\": [{\"marker\": {\"colorbar\": {\"outlinewidth\": 0, \"ticks\": \"\"}}, \"type\": \"scatterternary\"}], \"surface\": [{\"colorbar\": {\"outlinewidth\": 0, \"ticks\": \"\"}, \"colorscale\": [[0.0, \"#0d0887\"], [0.1111111111111111, \"#46039f\"], [0.2222222222222222, \"#7201a8\"], [0.3333333333333333, \"#9c179e\"], [0.4444444444444444, \"#bd3786\"], [0.5555555555555556, \"#d8576b\"], [0.6666666666666666, \"#ed7953\"], [0.7777777777777778, \"#fb9f3a\"], [0.8888888888888888, \"#fdca26\"], [1.0, \"#f0f921\"]], \"type\": \"surface\"}], \"table\": [{\"cells\": {\"fill\": {\"color\": \"#EBF0F8\"}, \"line\": {\"color\": \"white\"}}, \"header\": {\"fill\": {\"color\": \"#C8D4E3\"}, \"line\": {\"color\": \"white\"}}, \"type\": \"table\"}]}, \"layout\": {\"annotationdefaults\": {\"arrowcolor\": \"#2a3f5f\", \"arrowhead\": 0, \"arrowwidth\": 1}, \"coloraxis\": {\"colorbar\": {\"outlinewidth\": 0, \"ticks\": \"\"}}, \"colorscale\": {\"diverging\": [[0, \"#8e0152\"], [0.1, \"#c51b7d\"], [0.2, \"#de77ae\"], [0.3, \"#f1b6da\"], [0.4, \"#fde0ef\"], [0.5, \"#f7f7f7\"], [0.6, \"#e6f5d0\"], [0.7, \"#b8e186\"], [0.8, \"#7fbc41\"], [0.9, \"#4d9221\"], [1, \"#276419\"]], \"sequential\": [[0.0, \"#0d0887\"], [0.1111111111111111, \"#46039f\"], [0.2222222222222222, \"#7201a8\"], [0.3333333333333333, \"#9c179e\"], [0.4444444444444444, \"#bd3786\"], [0.5555555555555556, \"#d8576b\"], [0.6666666666666666, \"#ed7953\"], [0.7777777777777778, \"#fb9f3a\"], [0.8888888888888888, \"#fdca26\"], [1.0, \"#f0f921\"]], \"sequentialminus\": [[0.0, \"#0d0887\"], [0.1111111111111111, \"#46039f\"], [0.2222222222222222, \"#7201a8\"], [0.3333333333333333, \"#9c179e\"], [0.4444444444444444, \"#bd3786\"], [0.5555555555555556, \"#d8576b\"], [0.6666666666666666, \"#ed7953\"], [0.7777777777777778, \"#fb9f3a\"], [0.8888888888888888, \"#fdca26\"], [1.0, \"#f0f921\"]]}, \"colorway\": [\"#636efa\", \"#EF553B\", \"#00cc96\", \"#ab63fa\", \"#FFA15A\", \"#19d3f3\", \"#FF6692\", \"#B6E880\", \"#FF97FF\", \"#FECB52\"], \"font\": {\"color\": \"#2a3f5f\"}, \"geo\": {\"bgcolor\": \"white\", \"lakecolor\": \"white\", \"landcolor\": \"#E5ECF6\", \"showlakes\": true, \"showland\": true, \"subunitcolor\": \"white\"}, \"hoverlabel\": {\"align\": \"left\"}, \"hovermode\": \"closest\", \"mapbox\": {\"style\": \"light\"}, \"paper_bgcolor\": \"white\", \"plot_bgcolor\": \"#E5ECF6\", \"polar\": {\"angularaxis\": {\"gridcolor\": \"white\", \"linecolor\": \"white\", \"ticks\": \"\"}, \"bgcolor\": \"#E5ECF6\", \"radialaxis\": {\"gridcolor\": \"white\", \"linecolor\": \"white\", \"ticks\": \"\"}}, \"scene\": {\"xaxis\": {\"backgroundcolor\": \"#E5ECF6\", \"gridcolor\": \"white\", \"gridwidth\": 2, \"linecolor\": \"white\", \"showbackground\": true, \"ticks\": \"\", \"zerolinecolor\": \"white\"}, \"yaxis\": {\"backgroundcolor\": \"#E5ECF6\", \"gridcolor\": \"white\", \"gridwidth\": 2, \"linecolor\": \"white\", \"showbackground\": true, \"ticks\": \"\", \"zerolinecolor\": \"white\"}, \"zaxis\": {\"backgroundcolor\": \"#E5ECF6\", \"gridcolor\": \"white\", \"gridwidth\": 2, \"linecolor\": \"white\", \"showbackground\": true, \"ticks\": \"\", \"zerolinecolor\": \"white\"}}, \"shapedefaults\": {\"line\": {\"color\": \"#2a3f5f\"}}, \"ternary\": {\"aaxis\": {\"gridcolor\": \"white\", \"linecolor\": \"white\", \"ticks\": \"\"}, \"baxis\": {\"gridcolor\": \"white\", \"linecolor\": \"white\", \"ticks\": \"\"}, \"bgcolor\": \"#E5ECF6\", \"caxis\": {\"gridcolor\": \"white\", \"linecolor\": \"white\", \"ticks\": \"\"}}, \"title\": {\"x\": 0.05}, \"xaxis\": {\"automargin\": true, \"gridcolor\": \"white\", \"linecolor\": \"white\", \"ticks\": \"\", \"title\": {\"standoff\": 15}, \"zerolinecolor\": \"white\", \"zerolinewidth\": 2}, \"yaxis\": {\"automargin\": true, \"gridcolor\": \"white\", \"linecolor\": \"white\", \"ticks\": \"\", \"title\": {\"standoff\": 15}, \"zerolinecolor\": \"white\", \"zerolinewidth\": 2}}}, \"title\": {\"font\": {\"color\": \"#4D5663\"}}, \"xaxis\": {\"gridcolor\": \"#E1E5ED\", \"showgrid\": true, \"tickfont\": {\"color\": \"#4D5663\"}, \"title\": {\"font\": {\"color\": \"#4D5663\"}, \"text\": \"\"}, \"zerolinecolor\": \"#E1E5ED\"}, \"xaxis2\": {\"anchor\": \"y2\", \"gridcolor\": \"#E1E5ED\", \"showgrid\": true, \"showticklabels\": false, \"tickfont\": {\"color\": \"#4D5663\"}, \"title\": {\"font\": {\"color\": \"#4D5663\"}, \"text\": \"\"}, \"zerolinecolor\": \"#E1E5ED\"}, \"yaxis\": {\"domain\": [0.3, 1], \"gridcolor\": \"#E1E5ED\", \"showgrid\": true, \"tickfont\": {\"color\": \"#4D5663\"}, \"title\": {\"font\": {\"color\": \"#4D5663\"}, \"text\": \"\"}, \"zerolinecolor\": \"#E1E5ED\"}, \"yaxis2\": {\"domain\": [0, 0.25], \"gridcolor\": \"#E1E5ED\", \"showgrid\": true, \"tickfont\": {\"color\": \"#4D5663\"}, \"title\": {\"font\": {\"color\": \"#4D5663\"}, \"text\": \"Spread\"}, \"zerolinecolor\": \"#E1E5ED\"}},                        {\"showLink\": true, \"linkText\": \"Export to plot.ly\", \"plotlyServerURL\": \"https://plot.ly\", \"responsive\": true}                    ).then(function(){\n",
       "                            \n",
       "var gd = document.getElementById('ac9415f9-b277-4e3b-80dd-efdf22c75fdd');\n",
       "var x = new MutationObserver(function (mutations, observer) {{\n",
       "        var display = window.getComputedStyle(gd).display;\n",
       "        if (!display || display === 'none') {{\n",
       "            console.log([gd, 'removed!']);\n",
       "            Plotly.purge(gd);\n",
       "            observer.disconnect();\n",
       "        }}\n",
       "}});\n",
       "\n",
       "// Listen for the removal of the full notebook cells\n",
       "var notebookContainer = gd.closest('#notebook-container');\n",
       "if (notebookContainer) {{\n",
       "    x.observe(notebookContainer, {childList: true});\n",
       "}}\n",
       "\n",
       "// Listen for the clearing of the current output cell\n",
       "var outputEl = gd.closest('.output');\n",
       "if (outputEl) {{\n",
       "    x.observe(outputEl, {childList: true});\n",
       "}}\n",
       "\n",
       "                        })                };                });            </script>        </div>"
      ]
     },
     "metadata": {},
     "output_type": "display_data"
    }
   ],
   "source": [
    "df[['A','B']].iplot(kind='spread')"
   ]
  },
  {
   "cell_type": "markdown",
   "metadata": {},
   "source": [
    "## histogram"
   ]
  },
  {
   "cell_type": "code",
   "execution_count": 17,
   "metadata": {},
   "outputs": [
    {
     "data": {
      "application/vnd.plotly.v1+json": {
       "config": {
        "linkText": "Export to plot.ly",
        "plotlyServerURL": "https://plot.ly",
        "showLink": true
       },
       "data": [
        {
         "histfunc": "count",
         "histnorm": "",
         "marker": {
          "color": "rgba(255, 153, 51, 1.0)",
          "line": {
           "color": "#4D5663",
           "width": 1.3
          }
         },
         "name": "A",
         "nbinsx": 25,
         "opacity": 0.8,
         "orientation": "v",
         "type": "histogram",
         "x": [
          1.0306268310521411,
          -0.009779592803279932,
          -0.2790768811322032,
          -1.0139740466904634,
          0.0900692504783834,
          -0.2535851169626924,
          -1.6467454574663618,
          1.7307237074588178,
          1.9502548897209437,
          -0.19755479047900773,
          0.2398666841948917,
          0.7010948394146828,
          -1.1451707605139148,
          0.46661900006528834,
          -0.8657550022928382,
          -1.6038650824285154,
          0.27757731154907933,
          -0.3431836968023546,
          -0.23005393886187692,
          1.0417258828980622,
          -0.8420841231491191,
          0.8152608031368365,
          -0.9625178400335987,
          -1.1404010459367615,
          0.050065537297441697,
          -2.370511621398351,
          -0.14919235354725413,
          0.41704549449768563,
          -0.6054188923136063,
          1.1554385786210146,
          0.7844642545459046,
          -1.475697549467589,
          0.04357284219822051,
          0.6794088833644034,
          0.6088565243362992,
          -1.1236414266064494,
          -0.8645947981730004,
          -0.189315236879113,
          -1.6210608672291478,
          0.9826668024309222,
          -0.6583173023179347,
          -0.5261504456906693,
          -0.03469245259160687,
          -0.6441359781479439,
          2.1734528796420545,
          -0.695189681213425,
          -0.46387873617425734,
          -1.4406688499833342,
          -1.2366946841550048,
          -0.10445908435134638,
          1.4251663204192084,
          0.5459100358998471,
          -0.8142886165167468,
          1.6532780391932245,
          -0.1756159152534916,
          1.3322517121474091,
          -1.4189570454958202,
          -0.4365752199462574,
          0.9537908960745699,
          -0.3539941043674274,
          -1.7317323557753117,
          -1.6056342883818238,
          -0.14249131405174065,
          0.757385761017589,
          0.9217206398940825,
          0.8344690988574576,
          -1.2899900493073886,
          -0.5943831892006142,
          -0.30372445542656695,
          -0.6417063779059349,
          -0.7037207687010433,
          1.1647604326551553,
          1.6423197600571988,
          1.5706789394322735,
          0.1367178711685339,
          -0.27323866815150344,
          -0.6314346286156403,
          0.4479905105725482,
          0.5890067573599885,
          0.2851593629595951,
          0.21447051208841894,
          -0.33151322309343284,
          0.5286453144797023,
          -1.06397649923059,
          0.5211095633016483,
          0.11631777499822968,
          0.42275350128486044,
          -0.6165342792073051,
          -1.6774563192891445,
          -0.4449128911114853,
          -0.3718594486932189,
          -0.3548745644616727,
          -0.0653257564023129,
          -1.380490514092773,
          1.2171934013759687,
          -0.19344980330040593,
          -1.0615002168273389,
          -0.7803014574950484,
          1.0018898744196458,
          -0.005603546937125365
         ]
        }
       ],
       "layout": {
        "barmode": "overlay",
        "legend": {
         "bgcolor": "#F5F6F9",
         "font": {
          "color": "#4D5663"
         }
        },
        "paper_bgcolor": "#F5F6F9",
        "plot_bgcolor": "#F5F6F9",
        "template": {
         "data": {
          "bar": [
           {
            "error_x": {
             "color": "#2a3f5f"
            },
            "error_y": {
             "color": "#2a3f5f"
            },
            "marker": {
             "line": {
              "color": "#E5ECF6",
              "width": 0.5
             }
            },
            "type": "bar"
           }
          ],
          "barpolar": [
           {
            "marker": {
             "line": {
              "color": "#E5ECF6",
              "width": 0.5
             }
            },
            "type": "barpolar"
           }
          ],
          "carpet": [
           {
            "aaxis": {
             "endlinecolor": "#2a3f5f",
             "gridcolor": "white",
             "linecolor": "white",
             "minorgridcolor": "white",
             "startlinecolor": "#2a3f5f"
            },
            "baxis": {
             "endlinecolor": "#2a3f5f",
             "gridcolor": "white",
             "linecolor": "white",
             "minorgridcolor": "white",
             "startlinecolor": "#2a3f5f"
            },
            "type": "carpet"
           }
          ],
          "choropleth": [
           {
            "colorbar": {
             "outlinewidth": 0,
             "ticks": ""
            },
            "type": "choropleth"
           }
          ],
          "contour": [
           {
            "colorbar": {
             "outlinewidth": 0,
             "ticks": ""
            },
            "colorscale": [
             [
              0,
              "#0d0887"
             ],
             [
              0.1111111111111111,
              "#46039f"
             ],
             [
              0.2222222222222222,
              "#7201a8"
             ],
             [
              0.3333333333333333,
              "#9c179e"
             ],
             [
              0.4444444444444444,
              "#bd3786"
             ],
             [
              0.5555555555555556,
              "#d8576b"
             ],
             [
              0.6666666666666666,
              "#ed7953"
             ],
             [
              0.7777777777777778,
              "#fb9f3a"
             ],
             [
              0.8888888888888888,
              "#fdca26"
             ],
             [
              1,
              "#f0f921"
             ]
            ],
            "type": "contour"
           }
          ],
          "contourcarpet": [
           {
            "colorbar": {
             "outlinewidth": 0,
             "ticks": ""
            },
            "type": "contourcarpet"
           }
          ],
          "heatmap": [
           {
            "colorbar": {
             "outlinewidth": 0,
             "ticks": ""
            },
            "colorscale": [
             [
              0,
              "#0d0887"
             ],
             [
              0.1111111111111111,
              "#46039f"
             ],
             [
              0.2222222222222222,
              "#7201a8"
             ],
             [
              0.3333333333333333,
              "#9c179e"
             ],
             [
              0.4444444444444444,
              "#bd3786"
             ],
             [
              0.5555555555555556,
              "#d8576b"
             ],
             [
              0.6666666666666666,
              "#ed7953"
             ],
             [
              0.7777777777777778,
              "#fb9f3a"
             ],
             [
              0.8888888888888888,
              "#fdca26"
             ],
             [
              1,
              "#f0f921"
             ]
            ],
            "type": "heatmap"
           }
          ],
          "heatmapgl": [
           {
            "colorbar": {
             "outlinewidth": 0,
             "ticks": ""
            },
            "colorscale": [
             [
              0,
              "#0d0887"
             ],
             [
              0.1111111111111111,
              "#46039f"
             ],
             [
              0.2222222222222222,
              "#7201a8"
             ],
             [
              0.3333333333333333,
              "#9c179e"
             ],
             [
              0.4444444444444444,
              "#bd3786"
             ],
             [
              0.5555555555555556,
              "#d8576b"
             ],
             [
              0.6666666666666666,
              "#ed7953"
             ],
             [
              0.7777777777777778,
              "#fb9f3a"
             ],
             [
              0.8888888888888888,
              "#fdca26"
             ],
             [
              1,
              "#f0f921"
             ]
            ],
            "type": "heatmapgl"
           }
          ],
          "histogram": [
           {
            "marker": {
             "colorbar": {
              "outlinewidth": 0,
              "ticks": ""
             }
            },
            "type": "histogram"
           }
          ],
          "histogram2d": [
           {
            "colorbar": {
             "outlinewidth": 0,
             "ticks": ""
            },
            "colorscale": [
             [
              0,
              "#0d0887"
             ],
             [
              0.1111111111111111,
              "#46039f"
             ],
             [
              0.2222222222222222,
              "#7201a8"
             ],
             [
              0.3333333333333333,
              "#9c179e"
             ],
             [
              0.4444444444444444,
              "#bd3786"
             ],
             [
              0.5555555555555556,
              "#d8576b"
             ],
             [
              0.6666666666666666,
              "#ed7953"
             ],
             [
              0.7777777777777778,
              "#fb9f3a"
             ],
             [
              0.8888888888888888,
              "#fdca26"
             ],
             [
              1,
              "#f0f921"
             ]
            ],
            "type": "histogram2d"
           }
          ],
          "histogram2dcontour": [
           {
            "colorbar": {
             "outlinewidth": 0,
             "ticks": ""
            },
            "colorscale": [
             [
              0,
              "#0d0887"
             ],
             [
              0.1111111111111111,
              "#46039f"
             ],
             [
              0.2222222222222222,
              "#7201a8"
             ],
             [
              0.3333333333333333,
              "#9c179e"
             ],
             [
              0.4444444444444444,
              "#bd3786"
             ],
             [
              0.5555555555555556,
              "#d8576b"
             ],
             [
              0.6666666666666666,
              "#ed7953"
             ],
             [
              0.7777777777777778,
              "#fb9f3a"
             ],
             [
              0.8888888888888888,
              "#fdca26"
             ],
             [
              1,
              "#f0f921"
             ]
            ],
            "type": "histogram2dcontour"
           }
          ],
          "mesh3d": [
           {
            "colorbar": {
             "outlinewidth": 0,
             "ticks": ""
            },
            "type": "mesh3d"
           }
          ],
          "parcoords": [
           {
            "line": {
             "colorbar": {
              "outlinewidth": 0,
              "ticks": ""
             }
            },
            "type": "parcoords"
           }
          ],
          "pie": [
           {
            "automargin": true,
            "type": "pie"
           }
          ],
          "scatter": [
           {
            "marker": {
             "colorbar": {
              "outlinewidth": 0,
              "ticks": ""
             }
            },
            "type": "scatter"
           }
          ],
          "scatter3d": [
           {
            "line": {
             "colorbar": {
              "outlinewidth": 0,
              "ticks": ""
             }
            },
            "marker": {
             "colorbar": {
              "outlinewidth": 0,
              "ticks": ""
             }
            },
            "type": "scatter3d"
           }
          ],
          "scattercarpet": [
           {
            "marker": {
             "colorbar": {
              "outlinewidth": 0,
              "ticks": ""
             }
            },
            "type": "scattercarpet"
           }
          ],
          "scattergeo": [
           {
            "marker": {
             "colorbar": {
              "outlinewidth": 0,
              "ticks": ""
             }
            },
            "type": "scattergeo"
           }
          ],
          "scattergl": [
           {
            "marker": {
             "colorbar": {
              "outlinewidth": 0,
              "ticks": ""
             }
            },
            "type": "scattergl"
           }
          ],
          "scattermapbox": [
           {
            "marker": {
             "colorbar": {
              "outlinewidth": 0,
              "ticks": ""
             }
            },
            "type": "scattermapbox"
           }
          ],
          "scatterpolar": [
           {
            "marker": {
             "colorbar": {
              "outlinewidth": 0,
              "ticks": ""
             }
            },
            "type": "scatterpolar"
           }
          ],
          "scatterpolargl": [
           {
            "marker": {
             "colorbar": {
              "outlinewidth": 0,
              "ticks": ""
             }
            },
            "type": "scatterpolargl"
           }
          ],
          "scatterternary": [
           {
            "marker": {
             "colorbar": {
              "outlinewidth": 0,
              "ticks": ""
             }
            },
            "type": "scatterternary"
           }
          ],
          "surface": [
           {
            "colorbar": {
             "outlinewidth": 0,
             "ticks": ""
            },
            "colorscale": [
             [
              0,
              "#0d0887"
             ],
             [
              0.1111111111111111,
              "#46039f"
             ],
             [
              0.2222222222222222,
              "#7201a8"
             ],
             [
              0.3333333333333333,
              "#9c179e"
             ],
             [
              0.4444444444444444,
              "#bd3786"
             ],
             [
              0.5555555555555556,
              "#d8576b"
             ],
             [
              0.6666666666666666,
              "#ed7953"
             ],
             [
              0.7777777777777778,
              "#fb9f3a"
             ],
             [
              0.8888888888888888,
              "#fdca26"
             ],
             [
              1,
              "#f0f921"
             ]
            ],
            "type": "surface"
           }
          ],
          "table": [
           {
            "cells": {
             "fill": {
              "color": "#EBF0F8"
             },
             "line": {
              "color": "white"
             }
            },
            "header": {
             "fill": {
              "color": "#C8D4E3"
             },
             "line": {
              "color": "white"
             }
            },
            "type": "table"
           }
          ]
         },
         "layout": {
          "annotationdefaults": {
           "arrowcolor": "#2a3f5f",
           "arrowhead": 0,
           "arrowwidth": 1
          },
          "coloraxis": {
           "colorbar": {
            "outlinewidth": 0,
            "ticks": ""
           }
          },
          "colorscale": {
           "diverging": [
            [
             0,
             "#8e0152"
            ],
            [
             0.1,
             "#c51b7d"
            ],
            [
             0.2,
             "#de77ae"
            ],
            [
             0.3,
             "#f1b6da"
            ],
            [
             0.4,
             "#fde0ef"
            ],
            [
             0.5,
             "#f7f7f7"
            ],
            [
             0.6,
             "#e6f5d0"
            ],
            [
             0.7,
             "#b8e186"
            ],
            [
             0.8,
             "#7fbc41"
            ],
            [
             0.9,
             "#4d9221"
            ],
            [
             1,
             "#276419"
            ]
           ],
           "sequential": [
            [
             0,
             "#0d0887"
            ],
            [
             0.1111111111111111,
             "#46039f"
            ],
            [
             0.2222222222222222,
             "#7201a8"
            ],
            [
             0.3333333333333333,
             "#9c179e"
            ],
            [
             0.4444444444444444,
             "#bd3786"
            ],
            [
             0.5555555555555556,
             "#d8576b"
            ],
            [
             0.6666666666666666,
             "#ed7953"
            ],
            [
             0.7777777777777778,
             "#fb9f3a"
            ],
            [
             0.8888888888888888,
             "#fdca26"
            ],
            [
             1,
             "#f0f921"
            ]
           ],
           "sequentialminus": [
            [
             0,
             "#0d0887"
            ],
            [
             0.1111111111111111,
             "#46039f"
            ],
            [
             0.2222222222222222,
             "#7201a8"
            ],
            [
             0.3333333333333333,
             "#9c179e"
            ],
            [
             0.4444444444444444,
             "#bd3786"
            ],
            [
             0.5555555555555556,
             "#d8576b"
            ],
            [
             0.6666666666666666,
             "#ed7953"
            ],
            [
             0.7777777777777778,
             "#fb9f3a"
            ],
            [
             0.8888888888888888,
             "#fdca26"
            ],
            [
             1,
             "#f0f921"
            ]
           ]
          },
          "colorway": [
           "#636efa",
           "#EF553B",
           "#00cc96",
           "#ab63fa",
           "#FFA15A",
           "#19d3f3",
           "#FF6692",
           "#B6E880",
           "#FF97FF",
           "#FECB52"
          ],
          "font": {
           "color": "#2a3f5f"
          },
          "geo": {
           "bgcolor": "white",
           "lakecolor": "white",
           "landcolor": "#E5ECF6",
           "showlakes": true,
           "showland": true,
           "subunitcolor": "white"
          },
          "hoverlabel": {
           "align": "left"
          },
          "hovermode": "closest",
          "mapbox": {
           "style": "light"
          },
          "paper_bgcolor": "white",
          "plot_bgcolor": "#E5ECF6",
          "polar": {
           "angularaxis": {
            "gridcolor": "white",
            "linecolor": "white",
            "ticks": ""
           },
           "bgcolor": "#E5ECF6",
           "radialaxis": {
            "gridcolor": "white",
            "linecolor": "white",
            "ticks": ""
           }
          },
          "scene": {
           "xaxis": {
            "backgroundcolor": "#E5ECF6",
            "gridcolor": "white",
            "gridwidth": 2,
            "linecolor": "white",
            "showbackground": true,
            "ticks": "",
            "zerolinecolor": "white"
           },
           "yaxis": {
            "backgroundcolor": "#E5ECF6",
            "gridcolor": "white",
            "gridwidth": 2,
            "linecolor": "white",
            "showbackground": true,
            "ticks": "",
            "zerolinecolor": "white"
           },
           "zaxis": {
            "backgroundcolor": "#E5ECF6",
            "gridcolor": "white",
            "gridwidth": 2,
            "linecolor": "white",
            "showbackground": true,
            "ticks": "",
            "zerolinecolor": "white"
           }
          },
          "shapedefaults": {
           "line": {
            "color": "#2a3f5f"
           }
          },
          "ternary": {
           "aaxis": {
            "gridcolor": "white",
            "linecolor": "white",
            "ticks": ""
           },
           "baxis": {
            "gridcolor": "white",
            "linecolor": "white",
            "ticks": ""
           },
           "bgcolor": "#E5ECF6",
           "caxis": {
            "gridcolor": "white",
            "linecolor": "white",
            "ticks": ""
           }
          },
          "title": {
           "x": 0.05
          },
          "xaxis": {
           "automargin": true,
           "gridcolor": "white",
           "linecolor": "white",
           "ticks": "",
           "title": {
            "standoff": 15
           },
           "zerolinecolor": "white",
           "zerolinewidth": 2
          },
          "yaxis": {
           "automargin": true,
           "gridcolor": "white",
           "linecolor": "white",
           "ticks": "",
           "title": {
            "standoff": 15
           },
           "zerolinecolor": "white",
           "zerolinewidth": 2
          }
         }
        },
        "title": {
         "font": {
          "color": "#4D5663"
         }
        },
        "xaxis": {
         "gridcolor": "#E1E5ED",
         "showgrid": true,
         "tickfont": {
          "color": "#4D5663"
         },
         "title": {
          "font": {
           "color": "#4D5663"
          },
          "text": ""
         },
         "zerolinecolor": "#E1E5ED"
        },
        "yaxis": {
         "gridcolor": "#E1E5ED",
         "showgrid": true,
         "tickfont": {
          "color": "#4D5663"
         },
         "title": {
          "font": {
           "color": "#4D5663"
          },
          "text": ""
         },
         "zerolinecolor": "#E1E5ED"
        }
       }
      },
      "text/html": [
       "<div>                            <div id=\"df9d4847-da7b-46b3-90fb-1f8d0ae9c668\" class=\"plotly-graph-div\" style=\"height:525px; width:100%;\"></div>            <script type=\"text/javascript\">                require([\"plotly\"], function(Plotly) {                    window.PLOTLYENV=window.PLOTLYENV || {};\n",
       "                    window.PLOTLYENV.BASE_URL='https://plot.ly';                                    if (document.getElementById(\"df9d4847-da7b-46b3-90fb-1f8d0ae9c668\")) {                    Plotly.newPlot(                        \"df9d4847-da7b-46b3-90fb-1f8d0ae9c668\",                        [{\"histfunc\": \"count\", \"histnorm\": \"\", \"marker\": {\"color\": \"rgba(255, 153, 51, 1.0)\", \"line\": {\"color\": \"#4D5663\", \"width\": 1.3}}, \"name\": \"A\", \"nbinsx\": 25, \"opacity\": 0.8, \"orientation\": \"v\", \"type\": \"histogram\", \"x\": [1.0306268310521411, -0.009779592803279932, -0.2790768811322032, -1.0139740466904634, 0.0900692504783834, -0.2535851169626924, -1.6467454574663618, 1.7307237074588178, 1.9502548897209437, -0.19755479047900773, 0.2398666841948917, 0.7010948394146828, -1.1451707605139148, 0.46661900006528834, -0.8657550022928382, -1.6038650824285154, 0.27757731154907933, -0.3431836968023546, -0.23005393886187692, 1.0417258828980622, -0.8420841231491191, 0.8152608031368365, -0.9625178400335987, -1.1404010459367615, 0.050065537297441697, -2.370511621398351, -0.14919235354725413, 0.41704549449768563, -0.6054188923136063, 1.1554385786210146, 0.7844642545459046, -1.475697549467589, 0.04357284219822051, 0.6794088833644034, 0.6088565243362992, -1.1236414266064494, -0.8645947981730004, -0.189315236879113, -1.6210608672291478, 0.9826668024309222, -0.6583173023179347, -0.5261504456906693, -0.03469245259160687, -0.6441359781479439, 2.1734528796420545, -0.695189681213425, -0.46387873617425734, -1.4406688499833342, -1.2366946841550048, -0.10445908435134638, 1.4251663204192084, 0.5459100358998471, -0.8142886165167468, 1.6532780391932245, -0.1756159152534916, 1.3322517121474091, -1.4189570454958202, -0.4365752199462574, 0.9537908960745699, -0.3539941043674274, -1.7317323557753117, -1.6056342883818238, -0.14249131405174065, 0.757385761017589, 0.9217206398940825, 0.8344690988574576, -1.2899900493073886, -0.5943831892006142, -0.30372445542656695, -0.6417063779059349, -0.7037207687010433, 1.1647604326551553, 1.6423197600571988, 1.5706789394322735, 0.1367178711685339, -0.27323866815150344, -0.6314346286156403, 0.4479905105725482, 0.5890067573599885, 0.2851593629595951, 0.21447051208841894, -0.33151322309343284, 0.5286453144797023, -1.06397649923059, 0.5211095633016483, 0.11631777499822968, 0.42275350128486044, -0.6165342792073051, -1.6774563192891445, -0.4449128911114853, -0.3718594486932189, -0.3548745644616727, -0.0653257564023129, -1.380490514092773, 1.2171934013759687, -0.19344980330040593, -1.0615002168273389, -0.7803014574950484, 1.0018898744196458, -0.005603546937125365]}],                        {\"barmode\": \"overlay\", \"legend\": {\"bgcolor\": \"#F5F6F9\", \"font\": {\"color\": \"#4D5663\"}}, \"paper_bgcolor\": \"#F5F6F9\", \"plot_bgcolor\": \"#F5F6F9\", \"template\": {\"data\": {\"bar\": [{\"error_x\": {\"color\": \"#2a3f5f\"}, \"error_y\": {\"color\": \"#2a3f5f\"}, \"marker\": {\"line\": {\"color\": \"#E5ECF6\", \"width\": 0.5}}, \"type\": \"bar\"}], \"barpolar\": [{\"marker\": {\"line\": {\"color\": \"#E5ECF6\", \"width\": 0.5}}, \"type\": \"barpolar\"}], \"carpet\": [{\"aaxis\": {\"endlinecolor\": \"#2a3f5f\", \"gridcolor\": \"white\", \"linecolor\": \"white\", \"minorgridcolor\": \"white\", \"startlinecolor\": \"#2a3f5f\"}, \"baxis\": {\"endlinecolor\": \"#2a3f5f\", \"gridcolor\": \"white\", \"linecolor\": \"white\", \"minorgridcolor\": \"white\", \"startlinecolor\": \"#2a3f5f\"}, \"type\": \"carpet\"}], \"choropleth\": [{\"colorbar\": {\"outlinewidth\": 0, \"ticks\": \"\"}, \"type\": \"choropleth\"}], \"contour\": [{\"colorbar\": {\"outlinewidth\": 0, \"ticks\": \"\"}, \"colorscale\": [[0.0, \"#0d0887\"], [0.1111111111111111, \"#46039f\"], [0.2222222222222222, \"#7201a8\"], [0.3333333333333333, \"#9c179e\"], [0.4444444444444444, \"#bd3786\"], [0.5555555555555556, \"#d8576b\"], [0.6666666666666666, \"#ed7953\"], [0.7777777777777778, \"#fb9f3a\"], [0.8888888888888888, \"#fdca26\"], [1.0, \"#f0f921\"]], \"type\": \"contour\"}], \"contourcarpet\": [{\"colorbar\": {\"outlinewidth\": 0, \"ticks\": \"\"}, \"type\": \"contourcarpet\"}], \"heatmap\": [{\"colorbar\": {\"outlinewidth\": 0, \"ticks\": \"\"}, \"colorscale\": [[0.0, \"#0d0887\"], [0.1111111111111111, \"#46039f\"], [0.2222222222222222, \"#7201a8\"], [0.3333333333333333, \"#9c179e\"], [0.4444444444444444, \"#bd3786\"], [0.5555555555555556, \"#d8576b\"], [0.6666666666666666, \"#ed7953\"], [0.7777777777777778, \"#fb9f3a\"], [0.8888888888888888, \"#fdca26\"], [1.0, \"#f0f921\"]], \"type\": \"heatmap\"}], \"heatmapgl\": [{\"colorbar\": {\"outlinewidth\": 0, \"ticks\": \"\"}, \"colorscale\": [[0.0, \"#0d0887\"], [0.1111111111111111, \"#46039f\"], [0.2222222222222222, \"#7201a8\"], [0.3333333333333333, \"#9c179e\"], [0.4444444444444444, \"#bd3786\"], [0.5555555555555556, \"#d8576b\"], [0.6666666666666666, \"#ed7953\"], [0.7777777777777778, \"#fb9f3a\"], [0.8888888888888888, \"#fdca26\"], [1.0, \"#f0f921\"]], \"type\": \"heatmapgl\"}], \"histogram\": [{\"marker\": {\"colorbar\": {\"outlinewidth\": 0, \"ticks\": \"\"}}, \"type\": \"histogram\"}], \"histogram2d\": [{\"colorbar\": {\"outlinewidth\": 0, \"ticks\": \"\"}, \"colorscale\": [[0.0, \"#0d0887\"], [0.1111111111111111, \"#46039f\"], [0.2222222222222222, \"#7201a8\"], [0.3333333333333333, \"#9c179e\"], [0.4444444444444444, \"#bd3786\"], [0.5555555555555556, \"#d8576b\"], [0.6666666666666666, \"#ed7953\"], [0.7777777777777778, \"#fb9f3a\"], [0.8888888888888888, \"#fdca26\"], [1.0, \"#f0f921\"]], \"type\": \"histogram2d\"}], \"histogram2dcontour\": [{\"colorbar\": {\"outlinewidth\": 0, \"ticks\": \"\"}, \"colorscale\": [[0.0, \"#0d0887\"], [0.1111111111111111, \"#46039f\"], [0.2222222222222222, \"#7201a8\"], [0.3333333333333333, \"#9c179e\"], [0.4444444444444444, \"#bd3786\"], [0.5555555555555556, \"#d8576b\"], [0.6666666666666666, \"#ed7953\"], [0.7777777777777778, \"#fb9f3a\"], [0.8888888888888888, \"#fdca26\"], [1.0, \"#f0f921\"]], \"type\": \"histogram2dcontour\"}], \"mesh3d\": [{\"colorbar\": {\"outlinewidth\": 0, \"ticks\": \"\"}, \"type\": \"mesh3d\"}], \"parcoords\": [{\"line\": {\"colorbar\": {\"outlinewidth\": 0, \"ticks\": \"\"}}, \"type\": \"parcoords\"}], \"pie\": [{\"automargin\": true, \"type\": \"pie\"}], \"scatter\": [{\"marker\": {\"colorbar\": {\"outlinewidth\": 0, \"ticks\": \"\"}}, \"type\": \"scatter\"}], \"scatter3d\": [{\"line\": {\"colorbar\": {\"outlinewidth\": 0, \"ticks\": \"\"}}, \"marker\": {\"colorbar\": {\"outlinewidth\": 0, \"ticks\": \"\"}}, \"type\": \"scatter3d\"}], \"scattercarpet\": [{\"marker\": {\"colorbar\": {\"outlinewidth\": 0, \"ticks\": \"\"}}, \"type\": \"scattercarpet\"}], \"scattergeo\": [{\"marker\": {\"colorbar\": {\"outlinewidth\": 0, \"ticks\": \"\"}}, \"type\": \"scattergeo\"}], \"scattergl\": [{\"marker\": {\"colorbar\": {\"outlinewidth\": 0, \"ticks\": \"\"}}, \"type\": \"scattergl\"}], \"scattermapbox\": [{\"marker\": {\"colorbar\": {\"outlinewidth\": 0, \"ticks\": \"\"}}, \"type\": \"scattermapbox\"}], \"scatterpolar\": [{\"marker\": {\"colorbar\": {\"outlinewidth\": 0, \"ticks\": \"\"}}, \"type\": \"scatterpolar\"}], \"scatterpolargl\": [{\"marker\": {\"colorbar\": {\"outlinewidth\": 0, \"ticks\": \"\"}}, \"type\": \"scatterpolargl\"}], \"scatterternary\": [{\"marker\": {\"colorbar\": {\"outlinewidth\": 0, \"ticks\": \"\"}}, \"type\": \"scatterternary\"}], \"surface\": [{\"colorbar\": {\"outlinewidth\": 0, \"ticks\": \"\"}, \"colorscale\": [[0.0, \"#0d0887\"], [0.1111111111111111, \"#46039f\"], [0.2222222222222222, \"#7201a8\"], [0.3333333333333333, \"#9c179e\"], [0.4444444444444444, \"#bd3786\"], [0.5555555555555556, \"#d8576b\"], [0.6666666666666666, \"#ed7953\"], [0.7777777777777778, \"#fb9f3a\"], [0.8888888888888888, \"#fdca26\"], [1.0, \"#f0f921\"]], \"type\": \"surface\"}], \"table\": [{\"cells\": {\"fill\": {\"color\": \"#EBF0F8\"}, \"line\": {\"color\": \"white\"}}, \"header\": {\"fill\": {\"color\": \"#C8D4E3\"}, \"line\": {\"color\": \"white\"}}, \"type\": \"table\"}]}, \"layout\": {\"annotationdefaults\": {\"arrowcolor\": \"#2a3f5f\", \"arrowhead\": 0, \"arrowwidth\": 1}, \"coloraxis\": {\"colorbar\": {\"outlinewidth\": 0, \"ticks\": \"\"}}, \"colorscale\": {\"diverging\": [[0, \"#8e0152\"], [0.1, \"#c51b7d\"], [0.2, \"#de77ae\"], [0.3, \"#f1b6da\"], [0.4, \"#fde0ef\"], [0.5, \"#f7f7f7\"], [0.6, \"#e6f5d0\"], [0.7, \"#b8e186\"], [0.8, \"#7fbc41\"], [0.9, \"#4d9221\"], [1, \"#276419\"]], \"sequential\": [[0.0, \"#0d0887\"], [0.1111111111111111, \"#46039f\"], [0.2222222222222222, \"#7201a8\"], [0.3333333333333333, \"#9c179e\"], [0.4444444444444444, \"#bd3786\"], [0.5555555555555556, \"#d8576b\"], [0.6666666666666666, \"#ed7953\"], [0.7777777777777778, \"#fb9f3a\"], [0.8888888888888888, \"#fdca26\"], [1.0, \"#f0f921\"]], \"sequentialminus\": [[0.0, \"#0d0887\"], [0.1111111111111111, \"#46039f\"], [0.2222222222222222, \"#7201a8\"], [0.3333333333333333, \"#9c179e\"], [0.4444444444444444, \"#bd3786\"], [0.5555555555555556, \"#d8576b\"], [0.6666666666666666, \"#ed7953\"], [0.7777777777777778, \"#fb9f3a\"], [0.8888888888888888, \"#fdca26\"], [1.0, \"#f0f921\"]]}, \"colorway\": [\"#636efa\", \"#EF553B\", \"#00cc96\", \"#ab63fa\", \"#FFA15A\", \"#19d3f3\", \"#FF6692\", \"#B6E880\", \"#FF97FF\", \"#FECB52\"], \"font\": {\"color\": \"#2a3f5f\"}, \"geo\": {\"bgcolor\": \"white\", \"lakecolor\": \"white\", \"landcolor\": \"#E5ECF6\", \"showlakes\": true, \"showland\": true, \"subunitcolor\": \"white\"}, \"hoverlabel\": {\"align\": \"left\"}, \"hovermode\": \"closest\", \"mapbox\": {\"style\": \"light\"}, \"paper_bgcolor\": \"white\", \"plot_bgcolor\": \"#E5ECF6\", \"polar\": {\"angularaxis\": {\"gridcolor\": \"white\", \"linecolor\": \"white\", \"ticks\": \"\"}, \"bgcolor\": \"#E5ECF6\", \"radialaxis\": {\"gridcolor\": \"white\", \"linecolor\": \"white\", \"ticks\": \"\"}}, \"scene\": {\"xaxis\": {\"backgroundcolor\": \"#E5ECF6\", \"gridcolor\": \"white\", \"gridwidth\": 2, \"linecolor\": \"white\", \"showbackground\": true, \"ticks\": \"\", \"zerolinecolor\": \"white\"}, \"yaxis\": {\"backgroundcolor\": \"#E5ECF6\", \"gridcolor\": \"white\", \"gridwidth\": 2, \"linecolor\": \"white\", \"showbackground\": true, \"ticks\": \"\", \"zerolinecolor\": \"white\"}, \"zaxis\": {\"backgroundcolor\": \"#E5ECF6\", \"gridcolor\": \"white\", \"gridwidth\": 2, \"linecolor\": \"white\", \"showbackground\": true, \"ticks\": \"\", \"zerolinecolor\": \"white\"}}, \"shapedefaults\": {\"line\": {\"color\": \"#2a3f5f\"}}, \"ternary\": {\"aaxis\": {\"gridcolor\": \"white\", \"linecolor\": \"white\", \"ticks\": \"\"}, \"baxis\": {\"gridcolor\": \"white\", \"linecolor\": \"white\", \"ticks\": \"\"}, \"bgcolor\": \"#E5ECF6\", \"caxis\": {\"gridcolor\": \"white\", \"linecolor\": \"white\", \"ticks\": \"\"}}, \"title\": {\"x\": 0.05}, \"xaxis\": {\"automargin\": true, \"gridcolor\": \"white\", \"linecolor\": \"white\", \"ticks\": \"\", \"title\": {\"standoff\": 15}, \"zerolinecolor\": \"white\", \"zerolinewidth\": 2}, \"yaxis\": {\"automargin\": true, \"gridcolor\": \"white\", \"linecolor\": \"white\", \"ticks\": \"\", \"title\": {\"standoff\": 15}, \"zerolinecolor\": \"white\", \"zerolinewidth\": 2}}}, \"title\": {\"font\": {\"color\": \"#4D5663\"}}, \"xaxis\": {\"gridcolor\": \"#E1E5ED\", \"showgrid\": true, \"tickfont\": {\"color\": \"#4D5663\"}, \"title\": {\"font\": {\"color\": \"#4D5663\"}, \"text\": \"\"}, \"zerolinecolor\": \"#E1E5ED\"}, \"yaxis\": {\"gridcolor\": \"#E1E5ED\", \"showgrid\": true, \"tickfont\": {\"color\": \"#4D5663\"}, \"title\": {\"font\": {\"color\": \"#4D5663\"}, \"text\": \"\"}, \"zerolinecolor\": \"#E1E5ED\"}},                        {\"showLink\": true, \"linkText\": \"Export to plot.ly\", \"plotlyServerURL\": \"https://plot.ly\", \"responsive\": true}                    ).then(function(){\n",
       "                            \n",
       "var gd = document.getElementById('df9d4847-da7b-46b3-90fb-1f8d0ae9c668');\n",
       "var x = new MutationObserver(function (mutations, observer) {{\n",
       "        var display = window.getComputedStyle(gd).display;\n",
       "        if (!display || display === 'none') {{\n",
       "            console.log([gd, 'removed!']);\n",
       "            Plotly.purge(gd);\n",
       "            observer.disconnect();\n",
       "        }}\n",
       "}});\n",
       "\n",
       "// Listen for the removal of the full notebook cells\n",
       "var notebookContainer = gd.closest('#notebook-container');\n",
       "if (notebookContainer) {{\n",
       "    x.observe(notebookContainer, {childList: true});\n",
       "}}\n",
       "\n",
       "// Listen for the clearing of the current output cell\n",
       "var outputEl = gd.closest('.output');\n",
       "if (outputEl) {{\n",
       "    x.observe(outputEl, {childList: true});\n",
       "}}\n",
       "\n",
       "                        })                };                });            </script>        </div>"
      ]
     },
     "metadata": {},
     "output_type": "display_data"
    }
   ],
   "source": [
    "df['A'].iplot(kind='hist',bins=25)"
   ]
  },
  {
   "cell_type": "code",
   "execution_count": 18,
   "metadata": {},
   "outputs": [
    {
     "data": {
      "application/vnd.plotly.v1+json": {
       "config": {
        "linkText": "Export to plot.ly",
        "plotlyServerURL": "https://plot.ly",
        "showLink": true
       },
       "data": [
        {
         "marker": {
          "color": [
           "rgb(255, 153, 51)",
           "rgb(55, 128, 191)",
           "rgb(50, 171, 96)",
           "rgb(128, 0, 128)",
           "rgb(219, 64, 82)",
           "rgb(0, 128, 128)",
           "rgb(255, 255, 51)",
           "rgb(128, 128, 0)",
           "rgb(251, 128, 114)",
           "rgb(128, 177, 211)"
          ],
          "line": {
           "width": 1.3
          },
          "size": [
           66,
           68,
           65,
           82,
           82,
           73,
           68,
           56,
           53,
           36,
           42,
           67,
           70,
           76,
           66,
           63,
           87,
           73,
           66,
           65,
           40,
           61,
           71,
           64,
           104,
           55,
           67,
           76,
           79,
           46,
           33,
           112,
           100,
           93,
           61,
           12,
           68,
           70,
           40,
           63,
           62,
           32,
           68,
           35,
           72,
           63,
           59,
           45,
           72,
           64,
           50,
           41,
           73,
           66,
           78,
           88,
           90,
           58,
           25,
           87,
           56,
           81,
           69,
           89,
           60,
           56,
           48,
           58,
           41,
           38,
           42,
           81,
           50,
           74,
           68,
           70,
           72,
           90,
           92,
           42,
           40,
           97,
           55,
           79,
           55,
           85,
           92,
           57,
           84,
           77,
           59,
           93,
           79,
           91,
           61,
           106,
           83,
           89,
           93,
           73
          ],
          "symbol": "circle"
         },
         "mode": "markers",
         "text": "",
         "type": "scatter",
         "x": [
          1.0306268310521411,
          -0.009779592803279932,
          -0.2790768811322032,
          -1.0139740466904634,
          0.0900692504783834,
          -0.2535851169626924,
          -1.6467454574663618,
          1.7307237074588178,
          1.9502548897209437,
          -0.19755479047900773,
          0.2398666841948917,
          0.7010948394146828,
          -1.1451707605139148,
          0.46661900006528834,
          -0.8657550022928382,
          -1.6038650824285154,
          0.27757731154907933,
          -0.3431836968023546,
          -0.23005393886187692,
          1.0417258828980622,
          -0.8420841231491191,
          0.8152608031368365,
          -0.9625178400335987,
          -1.1404010459367615,
          0.050065537297441697,
          -2.370511621398351,
          -0.14919235354725413,
          0.41704549449768563,
          -0.6054188923136063,
          1.1554385786210146,
          0.7844642545459046,
          -1.475697549467589,
          0.04357284219822051,
          0.6794088833644034,
          0.6088565243362992,
          -1.1236414266064494,
          -0.8645947981730004,
          -0.189315236879113,
          -1.6210608672291478,
          0.9826668024309222,
          -0.6583173023179347,
          -0.5261504456906693,
          -0.03469245259160687,
          -0.6441359781479439,
          2.1734528796420545,
          -0.695189681213425,
          -0.46387873617425734,
          -1.4406688499833342,
          -1.2366946841550048,
          -0.10445908435134638,
          1.4251663204192084,
          0.5459100358998471,
          -0.8142886165167468,
          1.6532780391932245,
          -0.1756159152534916,
          1.3322517121474091,
          -1.4189570454958202,
          -0.4365752199462574,
          0.9537908960745699,
          -0.3539941043674274,
          -1.7317323557753117,
          -1.6056342883818238,
          -0.14249131405174065,
          0.757385761017589,
          0.9217206398940825,
          0.8344690988574576,
          -1.2899900493073886,
          -0.5943831892006142,
          -0.30372445542656695,
          -0.6417063779059349,
          -0.7037207687010433,
          1.1647604326551553,
          1.6423197600571988,
          1.5706789394322735,
          0.1367178711685339,
          -0.27323866815150344,
          -0.6314346286156403,
          0.4479905105725482,
          0.5890067573599885,
          0.2851593629595951,
          0.21447051208841894,
          -0.33151322309343284,
          0.5286453144797023,
          -1.06397649923059,
          0.5211095633016483,
          0.11631777499822968,
          0.42275350128486044,
          -0.6165342792073051,
          -1.6774563192891445,
          -0.4449128911114853,
          -0.3718594486932189,
          -0.3548745644616727,
          -0.0653257564023129,
          -1.380490514092773,
          1.2171934013759687,
          -0.19344980330040593,
          -1.0615002168273389,
          -0.7803014574950484,
          1.0018898744196458,
          -0.005603546937125365
         ],
         "y": [
          -1.3171858117403332,
          0.7624380978698583,
          -0.26598712621796905,
          -0.5264968283634126,
          0.10775038884771772,
          -0.41831917087155723,
          -0.13336026616854868,
          -2.052679358839702,
          -0.2308750629501153,
          0.2902137081421649,
          0.5462280675460035,
          1.565509826018809,
          -1.4187648886808986,
          -1.423344160179114,
          0.5147971814034639,
          -1.1955784398830605,
          0.08841387852632229,
          0.9668380080455504,
          -2.0063648569849772,
          0.6808736919461532,
          0.18781766388703022,
          0.5614171365614565,
          -0.6444394608278725,
          -0.9555977425121828,
          0.5299791506581135,
          0.41850851624872903,
          -1.5661227844941723,
          0.5843187666974453,
          -1.4004706879941347,
          0.8719603928383804,
          0.12816736803148948,
          -0.6104649553361966,
          0.39821361249434495,
          0.3606846856900817,
          0.7413036225859474,
          0.1627576812495385,
          -0.11822845890206685,
          0.7059999893225765,
          0.7170034475706563,
          -0.5027599164597009,
          0.10001385944510605,
          0.005207958097552748,
          1.6930322553144348,
          0.29635397928301377,
          0.30803560854128187,
          -0.36681447693814095,
          -1.890051113809245,
          0.7540909096954302,
          -0.1773227273363077,
          -0.23349584546769653,
          -0.5713628964543889,
          -1.4716137756569088,
          0.9304562545373743,
          0.4995878163784225,
          0.65980085367938,
          -1.4262329597400663,
          0.4473009688035141,
          0.9388857213269526,
          -0.449652377171511,
          -0.41019978026484133,
          1.3454325846951676,
          -1.734053342435024,
          -0.35576304849981377,
          1.9486922219268799,
          0.5737692643406617,
          0.9393293725888838,
          -0.8987704602488126,
          -1.2179927775473998,
          -0.3154686479242465,
          0.11496694956077251,
          0.868292857634255,
          0.38527378173858845,
          0.6327010724068767,
          0.6067968510291968,
          0.1742604029204123,
          0.7507414554072483,
          0.0793466639492751,
          0.05341761777299585,
          -1.1964557802321034,
          1.6445281574639363,
          0.71006173073308,
          0.09181605215087117,
          0.15398334088760324,
          -0.3343350278170103,
          -1.4134082457416612,
          0.5162593987334545,
          -1.0231974241693471,
          1.736265472251738,
          -1.2743123078491674,
          -1.1200108534882374,
          0.284539525306163,
          0.28641559822266427,
          -0.10302174914339148,
          1.1760968400628866,
          0.31675765561830554,
          1.1281775757982864,
          -0.9114292516561148,
          -0.09818298589490093,
          1.4896167556584419,
          0.1509599741757448
         ]
        }
       ],
       "layout": {
        "legend": {
         "bgcolor": "#F5F6F9",
         "font": {
          "color": "#4D5663"
         }
        },
        "paper_bgcolor": "#F5F6F9",
        "plot_bgcolor": "#F5F6F9",
        "template": {
         "data": {
          "bar": [
           {
            "error_x": {
             "color": "#2a3f5f"
            },
            "error_y": {
             "color": "#2a3f5f"
            },
            "marker": {
             "line": {
              "color": "#E5ECF6",
              "width": 0.5
             }
            },
            "type": "bar"
           }
          ],
          "barpolar": [
           {
            "marker": {
             "line": {
              "color": "#E5ECF6",
              "width": 0.5
             }
            },
            "type": "barpolar"
           }
          ],
          "carpet": [
           {
            "aaxis": {
             "endlinecolor": "#2a3f5f",
             "gridcolor": "white",
             "linecolor": "white",
             "minorgridcolor": "white",
             "startlinecolor": "#2a3f5f"
            },
            "baxis": {
             "endlinecolor": "#2a3f5f",
             "gridcolor": "white",
             "linecolor": "white",
             "minorgridcolor": "white",
             "startlinecolor": "#2a3f5f"
            },
            "type": "carpet"
           }
          ],
          "choropleth": [
           {
            "colorbar": {
             "outlinewidth": 0,
             "ticks": ""
            },
            "type": "choropleth"
           }
          ],
          "contour": [
           {
            "colorbar": {
             "outlinewidth": 0,
             "ticks": ""
            },
            "colorscale": [
             [
              0,
              "#0d0887"
             ],
             [
              0.1111111111111111,
              "#46039f"
             ],
             [
              0.2222222222222222,
              "#7201a8"
             ],
             [
              0.3333333333333333,
              "#9c179e"
             ],
             [
              0.4444444444444444,
              "#bd3786"
             ],
             [
              0.5555555555555556,
              "#d8576b"
             ],
             [
              0.6666666666666666,
              "#ed7953"
             ],
             [
              0.7777777777777778,
              "#fb9f3a"
             ],
             [
              0.8888888888888888,
              "#fdca26"
             ],
             [
              1,
              "#f0f921"
             ]
            ],
            "type": "contour"
           }
          ],
          "contourcarpet": [
           {
            "colorbar": {
             "outlinewidth": 0,
             "ticks": ""
            },
            "type": "contourcarpet"
           }
          ],
          "heatmap": [
           {
            "colorbar": {
             "outlinewidth": 0,
             "ticks": ""
            },
            "colorscale": [
             [
              0,
              "#0d0887"
             ],
             [
              0.1111111111111111,
              "#46039f"
             ],
             [
              0.2222222222222222,
              "#7201a8"
             ],
             [
              0.3333333333333333,
              "#9c179e"
             ],
             [
              0.4444444444444444,
              "#bd3786"
             ],
             [
              0.5555555555555556,
              "#d8576b"
             ],
             [
              0.6666666666666666,
              "#ed7953"
             ],
             [
              0.7777777777777778,
              "#fb9f3a"
             ],
             [
              0.8888888888888888,
              "#fdca26"
             ],
             [
              1,
              "#f0f921"
             ]
            ],
            "type": "heatmap"
           }
          ],
          "heatmapgl": [
           {
            "colorbar": {
             "outlinewidth": 0,
             "ticks": ""
            },
            "colorscale": [
             [
              0,
              "#0d0887"
             ],
             [
              0.1111111111111111,
              "#46039f"
             ],
             [
              0.2222222222222222,
              "#7201a8"
             ],
             [
              0.3333333333333333,
              "#9c179e"
             ],
             [
              0.4444444444444444,
              "#bd3786"
             ],
             [
              0.5555555555555556,
              "#d8576b"
             ],
             [
              0.6666666666666666,
              "#ed7953"
             ],
             [
              0.7777777777777778,
              "#fb9f3a"
             ],
             [
              0.8888888888888888,
              "#fdca26"
             ],
             [
              1,
              "#f0f921"
             ]
            ],
            "type": "heatmapgl"
           }
          ],
          "histogram": [
           {
            "marker": {
             "colorbar": {
              "outlinewidth": 0,
              "ticks": ""
             }
            },
            "type": "histogram"
           }
          ],
          "histogram2d": [
           {
            "colorbar": {
             "outlinewidth": 0,
             "ticks": ""
            },
            "colorscale": [
             [
              0,
              "#0d0887"
             ],
             [
              0.1111111111111111,
              "#46039f"
             ],
             [
              0.2222222222222222,
              "#7201a8"
             ],
             [
              0.3333333333333333,
              "#9c179e"
             ],
             [
              0.4444444444444444,
              "#bd3786"
             ],
             [
              0.5555555555555556,
              "#d8576b"
             ],
             [
              0.6666666666666666,
              "#ed7953"
             ],
             [
              0.7777777777777778,
              "#fb9f3a"
             ],
             [
              0.8888888888888888,
              "#fdca26"
             ],
             [
              1,
              "#f0f921"
             ]
            ],
            "type": "histogram2d"
           }
          ],
          "histogram2dcontour": [
           {
            "colorbar": {
             "outlinewidth": 0,
             "ticks": ""
            },
            "colorscale": [
             [
              0,
              "#0d0887"
             ],
             [
              0.1111111111111111,
              "#46039f"
             ],
             [
              0.2222222222222222,
              "#7201a8"
             ],
             [
              0.3333333333333333,
              "#9c179e"
             ],
             [
              0.4444444444444444,
              "#bd3786"
             ],
             [
              0.5555555555555556,
              "#d8576b"
             ],
             [
              0.6666666666666666,
              "#ed7953"
             ],
             [
              0.7777777777777778,
              "#fb9f3a"
             ],
             [
              0.8888888888888888,
              "#fdca26"
             ],
             [
              1,
              "#f0f921"
             ]
            ],
            "type": "histogram2dcontour"
           }
          ],
          "mesh3d": [
           {
            "colorbar": {
             "outlinewidth": 0,
             "ticks": ""
            },
            "type": "mesh3d"
           }
          ],
          "parcoords": [
           {
            "line": {
             "colorbar": {
              "outlinewidth": 0,
              "ticks": ""
             }
            },
            "type": "parcoords"
           }
          ],
          "pie": [
           {
            "automargin": true,
            "type": "pie"
           }
          ],
          "scatter": [
           {
            "marker": {
             "colorbar": {
              "outlinewidth": 0,
              "ticks": ""
             }
            },
            "type": "scatter"
           }
          ],
          "scatter3d": [
           {
            "line": {
             "colorbar": {
              "outlinewidth": 0,
              "ticks": ""
             }
            },
            "marker": {
             "colorbar": {
              "outlinewidth": 0,
              "ticks": ""
             }
            },
            "type": "scatter3d"
           }
          ],
          "scattercarpet": [
           {
            "marker": {
             "colorbar": {
              "outlinewidth": 0,
              "ticks": ""
             }
            },
            "type": "scattercarpet"
           }
          ],
          "scattergeo": [
           {
            "marker": {
             "colorbar": {
              "outlinewidth": 0,
              "ticks": ""
             }
            },
            "type": "scattergeo"
           }
          ],
          "scattergl": [
           {
            "marker": {
             "colorbar": {
              "outlinewidth": 0,
              "ticks": ""
             }
            },
            "type": "scattergl"
           }
          ],
          "scattermapbox": [
           {
            "marker": {
             "colorbar": {
              "outlinewidth": 0,
              "ticks": ""
             }
            },
            "type": "scattermapbox"
           }
          ],
          "scatterpolar": [
           {
            "marker": {
             "colorbar": {
              "outlinewidth": 0,
              "ticks": ""
             }
            },
            "type": "scatterpolar"
           }
          ],
          "scatterpolargl": [
           {
            "marker": {
             "colorbar": {
              "outlinewidth": 0,
              "ticks": ""
             }
            },
            "type": "scatterpolargl"
           }
          ],
          "scatterternary": [
           {
            "marker": {
             "colorbar": {
              "outlinewidth": 0,
              "ticks": ""
             }
            },
            "type": "scatterternary"
           }
          ],
          "surface": [
           {
            "colorbar": {
             "outlinewidth": 0,
             "ticks": ""
            },
            "colorscale": [
             [
              0,
              "#0d0887"
             ],
             [
              0.1111111111111111,
              "#46039f"
             ],
             [
              0.2222222222222222,
              "#7201a8"
             ],
             [
              0.3333333333333333,
              "#9c179e"
             ],
             [
              0.4444444444444444,
              "#bd3786"
             ],
             [
              0.5555555555555556,
              "#d8576b"
             ],
             [
              0.6666666666666666,
              "#ed7953"
             ],
             [
              0.7777777777777778,
              "#fb9f3a"
             ],
             [
              0.8888888888888888,
              "#fdca26"
             ],
             [
              1,
              "#f0f921"
             ]
            ],
            "type": "surface"
           }
          ],
          "table": [
           {
            "cells": {
             "fill": {
              "color": "#EBF0F8"
             },
             "line": {
              "color": "white"
             }
            },
            "header": {
             "fill": {
              "color": "#C8D4E3"
             },
             "line": {
              "color": "white"
             }
            },
            "type": "table"
           }
          ]
         },
         "layout": {
          "annotationdefaults": {
           "arrowcolor": "#2a3f5f",
           "arrowhead": 0,
           "arrowwidth": 1
          },
          "coloraxis": {
           "colorbar": {
            "outlinewidth": 0,
            "ticks": ""
           }
          },
          "colorscale": {
           "diverging": [
            [
             0,
             "#8e0152"
            ],
            [
             0.1,
             "#c51b7d"
            ],
            [
             0.2,
             "#de77ae"
            ],
            [
             0.3,
             "#f1b6da"
            ],
            [
             0.4,
             "#fde0ef"
            ],
            [
             0.5,
             "#f7f7f7"
            ],
            [
             0.6,
             "#e6f5d0"
            ],
            [
             0.7,
             "#b8e186"
            ],
            [
             0.8,
             "#7fbc41"
            ],
            [
             0.9,
             "#4d9221"
            ],
            [
             1,
             "#276419"
            ]
           ],
           "sequential": [
            [
             0,
             "#0d0887"
            ],
            [
             0.1111111111111111,
             "#46039f"
            ],
            [
             0.2222222222222222,
             "#7201a8"
            ],
            [
             0.3333333333333333,
             "#9c179e"
            ],
            [
             0.4444444444444444,
             "#bd3786"
            ],
            [
             0.5555555555555556,
             "#d8576b"
            ],
            [
             0.6666666666666666,
             "#ed7953"
            ],
            [
             0.7777777777777778,
             "#fb9f3a"
            ],
            [
             0.8888888888888888,
             "#fdca26"
            ],
            [
             1,
             "#f0f921"
            ]
           ],
           "sequentialminus": [
            [
             0,
             "#0d0887"
            ],
            [
             0.1111111111111111,
             "#46039f"
            ],
            [
             0.2222222222222222,
             "#7201a8"
            ],
            [
             0.3333333333333333,
             "#9c179e"
            ],
            [
             0.4444444444444444,
             "#bd3786"
            ],
            [
             0.5555555555555556,
             "#d8576b"
            ],
            [
             0.6666666666666666,
             "#ed7953"
            ],
            [
             0.7777777777777778,
             "#fb9f3a"
            ],
            [
             0.8888888888888888,
             "#fdca26"
            ],
            [
             1,
             "#f0f921"
            ]
           ]
          },
          "colorway": [
           "#636efa",
           "#EF553B",
           "#00cc96",
           "#ab63fa",
           "#FFA15A",
           "#19d3f3",
           "#FF6692",
           "#B6E880",
           "#FF97FF",
           "#FECB52"
          ],
          "font": {
           "color": "#2a3f5f"
          },
          "geo": {
           "bgcolor": "white",
           "lakecolor": "white",
           "landcolor": "#E5ECF6",
           "showlakes": true,
           "showland": true,
           "subunitcolor": "white"
          },
          "hoverlabel": {
           "align": "left"
          },
          "hovermode": "closest",
          "mapbox": {
           "style": "light"
          },
          "paper_bgcolor": "white",
          "plot_bgcolor": "#E5ECF6",
          "polar": {
           "angularaxis": {
            "gridcolor": "white",
            "linecolor": "white",
            "ticks": ""
           },
           "bgcolor": "#E5ECF6",
           "radialaxis": {
            "gridcolor": "white",
            "linecolor": "white",
            "ticks": ""
           }
          },
          "scene": {
           "xaxis": {
            "backgroundcolor": "#E5ECF6",
            "gridcolor": "white",
            "gridwidth": 2,
            "linecolor": "white",
            "showbackground": true,
            "ticks": "",
            "zerolinecolor": "white"
           },
           "yaxis": {
            "backgroundcolor": "#E5ECF6",
            "gridcolor": "white",
            "gridwidth": 2,
            "linecolor": "white",
            "showbackground": true,
            "ticks": "",
            "zerolinecolor": "white"
           },
           "zaxis": {
            "backgroundcolor": "#E5ECF6",
            "gridcolor": "white",
            "gridwidth": 2,
            "linecolor": "white",
            "showbackground": true,
            "ticks": "",
            "zerolinecolor": "white"
           }
          },
          "shapedefaults": {
           "line": {
            "color": "#2a3f5f"
           }
          },
          "ternary": {
           "aaxis": {
            "gridcolor": "white",
            "linecolor": "white",
            "ticks": ""
           },
           "baxis": {
            "gridcolor": "white",
            "linecolor": "white",
            "ticks": ""
           },
           "bgcolor": "#E5ECF6",
           "caxis": {
            "gridcolor": "white",
            "linecolor": "white",
            "ticks": ""
           }
          },
          "title": {
           "x": 0.05
          },
          "xaxis": {
           "automargin": true,
           "gridcolor": "white",
           "linecolor": "white",
           "ticks": "",
           "title": {
            "standoff": 15
           },
           "zerolinecolor": "white",
           "zerolinewidth": 2
          },
          "yaxis": {
           "automargin": true,
           "gridcolor": "white",
           "linecolor": "white",
           "ticks": "",
           "title": {
            "standoff": 15
           },
           "zerolinecolor": "white",
           "zerolinewidth": 2
          }
         }
        },
        "title": {
         "font": {
          "color": "#4D5663"
         }
        },
        "xaxis": {
         "gridcolor": "#E1E5ED",
         "showgrid": true,
         "tickfont": {
          "color": "#4D5663"
         },
         "title": {
          "font": {
           "color": "#4D5663"
          },
          "text": ""
         },
         "zerolinecolor": "#E1E5ED"
        },
        "yaxis": {
         "gridcolor": "#E1E5ED",
         "showgrid": true,
         "tickfont": {
          "color": "#4D5663"
         },
         "title": {
          "font": {
           "color": "#4D5663"
          },
          "text": ""
         },
         "zerolinecolor": "#E1E5ED"
        }
       }
      },
      "text/html": [
       "<div>                            <div id=\"709f8f35-9a65-4154-82e1-ced22fc72734\" class=\"plotly-graph-div\" style=\"height:525px; width:100%;\"></div>            <script type=\"text/javascript\">                require([\"plotly\"], function(Plotly) {                    window.PLOTLYENV=window.PLOTLYENV || {};\n",
       "                    window.PLOTLYENV.BASE_URL='https://plot.ly';                                    if (document.getElementById(\"709f8f35-9a65-4154-82e1-ced22fc72734\")) {                    Plotly.newPlot(                        \"709f8f35-9a65-4154-82e1-ced22fc72734\",                        [{\"marker\": {\"color\": [\"rgb(255, 153, 51)\", \"rgb(55, 128, 191)\", \"rgb(50, 171, 96)\", \"rgb(128, 0, 128)\", \"rgb(219, 64, 82)\", \"rgb(0, 128, 128)\", \"rgb(255, 255, 51)\", \"rgb(128, 128, 0)\", \"rgb(251, 128, 114)\", \"rgb(128, 177, 211)\"], \"line\": {\"width\": 1.3}, \"size\": [66, 68, 65, 82, 82, 73, 68, 56, 53, 36, 42, 67, 70, 76, 66, 63, 87, 73, 66, 65, 40, 61, 71, 64, 104, 55, 67, 76, 79, 46, 33, 112, 100, 93, 61, 12, 68, 70, 40, 63, 62, 32, 68, 35, 72, 63, 59, 45, 72, 64, 50, 41, 73, 66, 78, 88, 90, 58, 25, 87, 56, 81, 69, 89, 60, 56, 48, 58, 41, 38, 42, 81, 50, 74, 68, 70, 72, 90, 92, 42, 40, 97, 55, 79, 55, 85, 92, 57, 84, 77, 59, 93, 79, 91, 61, 106, 83, 89, 93, 73], \"symbol\": \"circle\"}, \"mode\": \"markers\", \"text\": \"\", \"type\": \"scatter\", \"x\": [1.0306268310521411, -0.009779592803279932, -0.2790768811322032, -1.0139740466904634, 0.0900692504783834, -0.2535851169626924, -1.6467454574663618, 1.7307237074588178, 1.9502548897209437, -0.19755479047900773, 0.2398666841948917, 0.7010948394146828, -1.1451707605139148, 0.46661900006528834, -0.8657550022928382, -1.6038650824285154, 0.27757731154907933, -0.3431836968023546, -0.23005393886187692, 1.0417258828980622, -0.8420841231491191, 0.8152608031368365, -0.9625178400335987, -1.1404010459367615, 0.050065537297441697, -2.370511621398351, -0.14919235354725413, 0.41704549449768563, -0.6054188923136063, 1.1554385786210146, 0.7844642545459046, -1.475697549467589, 0.04357284219822051, 0.6794088833644034, 0.6088565243362992, -1.1236414266064494, -0.8645947981730004, -0.189315236879113, -1.6210608672291478, 0.9826668024309222, -0.6583173023179347, -0.5261504456906693, -0.03469245259160687, -0.6441359781479439, 2.1734528796420545, -0.695189681213425, -0.46387873617425734, -1.4406688499833342, -1.2366946841550048, -0.10445908435134638, 1.4251663204192084, 0.5459100358998471, -0.8142886165167468, 1.6532780391932245, -0.1756159152534916, 1.3322517121474091, -1.4189570454958202, -0.4365752199462574, 0.9537908960745699, -0.3539941043674274, -1.7317323557753117, -1.6056342883818238, -0.14249131405174065, 0.757385761017589, 0.9217206398940825, 0.8344690988574576, -1.2899900493073886, -0.5943831892006142, -0.30372445542656695, -0.6417063779059349, -0.7037207687010433, 1.1647604326551553, 1.6423197600571988, 1.5706789394322735, 0.1367178711685339, -0.27323866815150344, -0.6314346286156403, 0.4479905105725482, 0.5890067573599885, 0.2851593629595951, 0.21447051208841894, -0.33151322309343284, 0.5286453144797023, -1.06397649923059, 0.5211095633016483, 0.11631777499822968, 0.42275350128486044, -0.6165342792073051, -1.6774563192891445, -0.4449128911114853, -0.3718594486932189, -0.3548745644616727, -0.0653257564023129, -1.380490514092773, 1.2171934013759687, -0.19344980330040593, -1.0615002168273389, -0.7803014574950484, 1.0018898744196458, -0.005603546937125365], \"y\": [-1.3171858117403332, 0.7624380978698583, -0.26598712621796905, -0.5264968283634126, 0.10775038884771772, -0.41831917087155723, -0.13336026616854868, -2.052679358839702, -0.2308750629501153, 0.2902137081421649, 0.5462280675460035, 1.565509826018809, -1.4187648886808986, -1.423344160179114, 0.5147971814034639, -1.1955784398830605, 0.08841387852632229, 0.9668380080455504, -2.0063648569849772, 0.6808736919461532, 0.18781766388703022, 0.5614171365614565, -0.6444394608278725, -0.9555977425121828, 0.5299791506581135, 0.41850851624872903, -1.5661227844941723, 0.5843187666974453, -1.4004706879941347, 0.8719603928383804, 0.12816736803148948, -0.6104649553361966, 0.39821361249434495, 0.3606846856900817, 0.7413036225859474, 0.1627576812495385, -0.11822845890206685, 0.7059999893225765, 0.7170034475706563, -0.5027599164597009, 0.10001385944510605, 0.005207958097552748, 1.6930322553144348, 0.29635397928301377, 0.30803560854128187, -0.36681447693814095, -1.890051113809245, 0.7540909096954302, -0.1773227273363077, -0.23349584546769653, -0.5713628964543889, -1.4716137756569088, 0.9304562545373743, 0.4995878163784225, 0.65980085367938, -1.4262329597400663, 0.4473009688035141, 0.9388857213269526, -0.449652377171511, -0.41019978026484133, 1.3454325846951676, -1.734053342435024, -0.35576304849981377, 1.9486922219268799, 0.5737692643406617, 0.9393293725888838, -0.8987704602488126, -1.2179927775473998, -0.3154686479242465, 0.11496694956077251, 0.868292857634255, 0.38527378173858845, 0.6327010724068767, 0.6067968510291968, 0.1742604029204123, 0.7507414554072483, 0.0793466639492751, 0.05341761777299585, -1.1964557802321034, 1.6445281574639363, 0.71006173073308, 0.09181605215087117, 0.15398334088760324, -0.3343350278170103, -1.4134082457416612, 0.5162593987334545, -1.0231974241693471, 1.736265472251738, -1.2743123078491674, -1.1200108534882374, 0.284539525306163, 0.28641559822266427, -0.10302174914339148, 1.1760968400628866, 0.31675765561830554, 1.1281775757982864, -0.9114292516561148, -0.09818298589490093, 1.4896167556584419, 0.1509599741757448]}],                        {\"legend\": {\"bgcolor\": \"#F5F6F9\", \"font\": {\"color\": \"#4D5663\"}}, \"paper_bgcolor\": \"#F5F6F9\", \"plot_bgcolor\": \"#F5F6F9\", \"template\": {\"data\": {\"bar\": [{\"error_x\": {\"color\": \"#2a3f5f\"}, \"error_y\": {\"color\": \"#2a3f5f\"}, \"marker\": {\"line\": {\"color\": \"#E5ECF6\", \"width\": 0.5}}, \"type\": \"bar\"}], \"barpolar\": [{\"marker\": {\"line\": {\"color\": \"#E5ECF6\", \"width\": 0.5}}, \"type\": \"barpolar\"}], \"carpet\": [{\"aaxis\": {\"endlinecolor\": \"#2a3f5f\", \"gridcolor\": \"white\", \"linecolor\": \"white\", \"minorgridcolor\": \"white\", \"startlinecolor\": \"#2a3f5f\"}, \"baxis\": {\"endlinecolor\": \"#2a3f5f\", \"gridcolor\": \"white\", \"linecolor\": \"white\", \"minorgridcolor\": \"white\", \"startlinecolor\": \"#2a3f5f\"}, \"type\": \"carpet\"}], \"choropleth\": [{\"colorbar\": {\"outlinewidth\": 0, \"ticks\": \"\"}, \"type\": \"choropleth\"}], \"contour\": [{\"colorbar\": {\"outlinewidth\": 0, \"ticks\": \"\"}, \"colorscale\": [[0.0, \"#0d0887\"], [0.1111111111111111, \"#46039f\"], [0.2222222222222222, \"#7201a8\"], [0.3333333333333333, \"#9c179e\"], [0.4444444444444444, \"#bd3786\"], [0.5555555555555556, \"#d8576b\"], [0.6666666666666666, \"#ed7953\"], [0.7777777777777778, \"#fb9f3a\"], [0.8888888888888888, \"#fdca26\"], [1.0, \"#f0f921\"]], \"type\": \"contour\"}], \"contourcarpet\": [{\"colorbar\": {\"outlinewidth\": 0, \"ticks\": \"\"}, \"type\": \"contourcarpet\"}], \"heatmap\": [{\"colorbar\": {\"outlinewidth\": 0, \"ticks\": \"\"}, \"colorscale\": [[0.0, \"#0d0887\"], [0.1111111111111111, \"#46039f\"], [0.2222222222222222, \"#7201a8\"], [0.3333333333333333, \"#9c179e\"], [0.4444444444444444, \"#bd3786\"], [0.5555555555555556, \"#d8576b\"], [0.6666666666666666, \"#ed7953\"], [0.7777777777777778, \"#fb9f3a\"], [0.8888888888888888, \"#fdca26\"], [1.0, \"#f0f921\"]], \"type\": \"heatmap\"}], \"heatmapgl\": [{\"colorbar\": {\"outlinewidth\": 0, \"ticks\": \"\"}, \"colorscale\": [[0.0, \"#0d0887\"], [0.1111111111111111, \"#46039f\"], [0.2222222222222222, \"#7201a8\"], [0.3333333333333333, \"#9c179e\"], [0.4444444444444444, \"#bd3786\"], [0.5555555555555556, \"#d8576b\"], [0.6666666666666666, \"#ed7953\"], [0.7777777777777778, \"#fb9f3a\"], [0.8888888888888888, \"#fdca26\"], [1.0, \"#f0f921\"]], \"type\": \"heatmapgl\"}], \"histogram\": [{\"marker\": {\"colorbar\": {\"outlinewidth\": 0, \"ticks\": \"\"}}, \"type\": \"histogram\"}], \"histogram2d\": [{\"colorbar\": {\"outlinewidth\": 0, \"ticks\": \"\"}, \"colorscale\": [[0.0, \"#0d0887\"], [0.1111111111111111, \"#46039f\"], [0.2222222222222222, \"#7201a8\"], [0.3333333333333333, \"#9c179e\"], [0.4444444444444444, \"#bd3786\"], [0.5555555555555556, \"#d8576b\"], [0.6666666666666666, \"#ed7953\"], [0.7777777777777778, \"#fb9f3a\"], [0.8888888888888888, \"#fdca26\"], [1.0, \"#f0f921\"]], \"type\": \"histogram2d\"}], \"histogram2dcontour\": [{\"colorbar\": {\"outlinewidth\": 0, \"ticks\": \"\"}, \"colorscale\": [[0.0, \"#0d0887\"], [0.1111111111111111, \"#46039f\"], [0.2222222222222222, \"#7201a8\"], [0.3333333333333333, \"#9c179e\"], [0.4444444444444444, \"#bd3786\"], [0.5555555555555556, \"#d8576b\"], [0.6666666666666666, \"#ed7953\"], [0.7777777777777778, \"#fb9f3a\"], [0.8888888888888888, \"#fdca26\"], [1.0, \"#f0f921\"]], \"type\": \"histogram2dcontour\"}], \"mesh3d\": [{\"colorbar\": {\"outlinewidth\": 0, \"ticks\": \"\"}, \"type\": \"mesh3d\"}], \"parcoords\": [{\"line\": {\"colorbar\": {\"outlinewidth\": 0, \"ticks\": \"\"}}, \"type\": \"parcoords\"}], \"pie\": [{\"automargin\": true, \"type\": \"pie\"}], \"scatter\": [{\"marker\": {\"colorbar\": {\"outlinewidth\": 0, \"ticks\": \"\"}}, \"type\": \"scatter\"}], \"scatter3d\": [{\"line\": {\"colorbar\": {\"outlinewidth\": 0, \"ticks\": \"\"}}, \"marker\": {\"colorbar\": {\"outlinewidth\": 0, \"ticks\": \"\"}}, \"type\": \"scatter3d\"}], \"scattercarpet\": [{\"marker\": {\"colorbar\": {\"outlinewidth\": 0, \"ticks\": \"\"}}, \"type\": \"scattercarpet\"}], \"scattergeo\": [{\"marker\": {\"colorbar\": {\"outlinewidth\": 0, \"ticks\": \"\"}}, \"type\": \"scattergeo\"}], \"scattergl\": [{\"marker\": {\"colorbar\": {\"outlinewidth\": 0, \"ticks\": \"\"}}, \"type\": \"scattergl\"}], \"scattermapbox\": [{\"marker\": {\"colorbar\": {\"outlinewidth\": 0, \"ticks\": \"\"}}, \"type\": \"scattermapbox\"}], \"scatterpolar\": [{\"marker\": {\"colorbar\": {\"outlinewidth\": 0, \"ticks\": \"\"}}, \"type\": \"scatterpolar\"}], \"scatterpolargl\": [{\"marker\": {\"colorbar\": {\"outlinewidth\": 0, \"ticks\": \"\"}}, \"type\": \"scatterpolargl\"}], \"scatterternary\": [{\"marker\": {\"colorbar\": {\"outlinewidth\": 0, \"ticks\": \"\"}}, \"type\": \"scatterternary\"}], \"surface\": [{\"colorbar\": {\"outlinewidth\": 0, \"ticks\": \"\"}, \"colorscale\": [[0.0, \"#0d0887\"], [0.1111111111111111, \"#46039f\"], [0.2222222222222222, \"#7201a8\"], [0.3333333333333333, \"#9c179e\"], [0.4444444444444444, \"#bd3786\"], [0.5555555555555556, \"#d8576b\"], [0.6666666666666666, \"#ed7953\"], [0.7777777777777778, \"#fb9f3a\"], [0.8888888888888888, \"#fdca26\"], [1.0, \"#f0f921\"]], \"type\": \"surface\"}], \"table\": [{\"cells\": {\"fill\": {\"color\": \"#EBF0F8\"}, \"line\": {\"color\": \"white\"}}, \"header\": {\"fill\": {\"color\": \"#C8D4E3\"}, \"line\": {\"color\": \"white\"}}, \"type\": \"table\"}]}, \"layout\": {\"annotationdefaults\": {\"arrowcolor\": \"#2a3f5f\", \"arrowhead\": 0, \"arrowwidth\": 1}, \"coloraxis\": {\"colorbar\": {\"outlinewidth\": 0, \"ticks\": \"\"}}, \"colorscale\": {\"diverging\": [[0, \"#8e0152\"], [0.1, \"#c51b7d\"], [0.2, \"#de77ae\"], [0.3, \"#f1b6da\"], [0.4, \"#fde0ef\"], [0.5, \"#f7f7f7\"], [0.6, \"#e6f5d0\"], [0.7, \"#b8e186\"], [0.8, \"#7fbc41\"], [0.9, \"#4d9221\"], [1, \"#276419\"]], \"sequential\": [[0.0, \"#0d0887\"], [0.1111111111111111, \"#46039f\"], [0.2222222222222222, \"#7201a8\"], [0.3333333333333333, \"#9c179e\"], [0.4444444444444444, \"#bd3786\"], [0.5555555555555556, \"#d8576b\"], [0.6666666666666666, \"#ed7953\"], [0.7777777777777778, \"#fb9f3a\"], [0.8888888888888888, \"#fdca26\"], [1.0, \"#f0f921\"]], \"sequentialminus\": [[0.0, \"#0d0887\"], [0.1111111111111111, \"#46039f\"], [0.2222222222222222, \"#7201a8\"], [0.3333333333333333, \"#9c179e\"], [0.4444444444444444, \"#bd3786\"], [0.5555555555555556, \"#d8576b\"], [0.6666666666666666, \"#ed7953\"], [0.7777777777777778, \"#fb9f3a\"], [0.8888888888888888, \"#fdca26\"], [1.0, \"#f0f921\"]]}, \"colorway\": [\"#636efa\", \"#EF553B\", \"#00cc96\", \"#ab63fa\", \"#FFA15A\", \"#19d3f3\", \"#FF6692\", \"#B6E880\", \"#FF97FF\", \"#FECB52\"], \"font\": {\"color\": \"#2a3f5f\"}, \"geo\": {\"bgcolor\": \"white\", \"lakecolor\": \"white\", \"landcolor\": \"#E5ECF6\", \"showlakes\": true, \"showland\": true, \"subunitcolor\": \"white\"}, \"hoverlabel\": {\"align\": \"left\"}, \"hovermode\": \"closest\", \"mapbox\": {\"style\": \"light\"}, \"paper_bgcolor\": \"white\", \"plot_bgcolor\": \"#E5ECF6\", \"polar\": {\"angularaxis\": {\"gridcolor\": \"white\", \"linecolor\": \"white\", \"ticks\": \"\"}, \"bgcolor\": \"#E5ECF6\", \"radialaxis\": {\"gridcolor\": \"white\", \"linecolor\": \"white\", \"ticks\": \"\"}}, \"scene\": {\"xaxis\": {\"backgroundcolor\": \"#E5ECF6\", \"gridcolor\": \"white\", \"gridwidth\": 2, \"linecolor\": \"white\", \"showbackground\": true, \"ticks\": \"\", \"zerolinecolor\": \"white\"}, \"yaxis\": {\"backgroundcolor\": \"#E5ECF6\", \"gridcolor\": \"white\", \"gridwidth\": 2, \"linecolor\": \"white\", \"showbackground\": true, \"ticks\": \"\", \"zerolinecolor\": \"white\"}, \"zaxis\": {\"backgroundcolor\": \"#E5ECF6\", \"gridcolor\": \"white\", \"gridwidth\": 2, \"linecolor\": \"white\", \"showbackground\": true, \"ticks\": \"\", \"zerolinecolor\": \"white\"}}, \"shapedefaults\": {\"line\": {\"color\": \"#2a3f5f\"}}, \"ternary\": {\"aaxis\": {\"gridcolor\": \"white\", \"linecolor\": \"white\", \"ticks\": \"\"}, \"baxis\": {\"gridcolor\": \"white\", \"linecolor\": \"white\", \"ticks\": \"\"}, \"bgcolor\": \"#E5ECF6\", \"caxis\": {\"gridcolor\": \"white\", \"linecolor\": \"white\", \"ticks\": \"\"}}, \"title\": {\"x\": 0.05}, \"xaxis\": {\"automargin\": true, \"gridcolor\": \"white\", \"linecolor\": \"white\", \"ticks\": \"\", \"title\": {\"standoff\": 15}, \"zerolinecolor\": \"white\", \"zerolinewidth\": 2}, \"yaxis\": {\"automargin\": true, \"gridcolor\": \"white\", \"linecolor\": \"white\", \"ticks\": \"\", \"title\": {\"standoff\": 15}, \"zerolinecolor\": \"white\", \"zerolinewidth\": 2}}}, \"title\": {\"font\": {\"color\": \"#4D5663\"}}, \"xaxis\": {\"gridcolor\": \"#E1E5ED\", \"showgrid\": true, \"tickfont\": {\"color\": \"#4D5663\"}, \"title\": {\"font\": {\"color\": \"#4D5663\"}, \"text\": \"\"}, \"zerolinecolor\": \"#E1E5ED\"}, \"yaxis\": {\"gridcolor\": \"#E1E5ED\", \"showgrid\": true, \"tickfont\": {\"color\": \"#4D5663\"}, \"title\": {\"font\": {\"color\": \"#4D5663\"}, \"text\": \"\"}, \"zerolinecolor\": \"#E1E5ED\"}},                        {\"showLink\": true, \"linkText\": \"Export to plot.ly\", \"plotlyServerURL\": \"https://plot.ly\", \"responsive\": true}                    ).then(function(){\n",
       "                            \n",
       "var gd = document.getElementById('709f8f35-9a65-4154-82e1-ced22fc72734');\n",
       "var x = new MutationObserver(function (mutations, observer) {{\n",
       "        var display = window.getComputedStyle(gd).display;\n",
       "        if (!display || display === 'none') {{\n",
       "            console.log([gd, 'removed!']);\n",
       "            Plotly.purge(gd);\n",
       "            observer.disconnect();\n",
       "        }}\n",
       "}});\n",
       "\n",
       "// Listen for the removal of the full notebook cells\n",
       "var notebookContainer = gd.closest('#notebook-container');\n",
       "if (notebookContainer) {{\n",
       "    x.observe(notebookContainer, {childList: true});\n",
       "}}\n",
       "\n",
       "// Listen for the clearing of the current output cell\n",
       "var outputEl = gd.closest('.output');\n",
       "if (outputEl) {{\n",
       "    x.observe(outputEl, {childList: true});\n",
       "}}\n",
       "\n",
       "                        })                };                });            </script>        </div>"
      ]
     },
     "metadata": {},
     "output_type": "display_data"
    }
   ],
   "source": [
    "df.iplot(kind='bubble',x='A',y='B',size='C')"
   ]
  },
  {
   "cell_type": "markdown",
   "metadata": {},
   "source": [
    "## scatter_matrix()\n",
    "\n",
    "Similar to sns.pairplot()"
   ]
  },
  {
   "cell_type": "code",
   "execution_count": 19,
   "metadata": {},
   "outputs": [
    {
     "data": {
      "application/vnd.plotly.v1+json": {
       "config": {
        "linkText": "Export to plot.ly",
        "plotlyServerURL": "https://plot.ly",
        "showLink": true
       },
       "data": [
        {
         "histfunc": "count",
         "histnorm": "",
         "marker": {
          "color": "rgba(255, 153, 51, 1.0)",
          "line": {
           "color": "#4D5663",
           "width": 1.3
          }
         },
         "name": "A",
         "nbinsx": 10,
         "opacity": 0.8,
         "orientation": "v",
         "type": "histogram",
         "x": [
          1.0306268310521411,
          -0.009779592803279932,
          -0.2790768811322032,
          -1.0139740466904634,
          0.0900692504783834,
          -0.2535851169626924,
          -1.6467454574663618,
          1.7307237074588178,
          1.9502548897209437,
          -0.19755479047900773,
          0.2398666841948917,
          0.7010948394146828,
          -1.1451707605139148,
          0.46661900006528834,
          -0.8657550022928382,
          -1.6038650824285154,
          0.27757731154907933,
          -0.3431836968023546,
          -0.23005393886187692,
          1.0417258828980622,
          -0.8420841231491191,
          0.8152608031368365,
          -0.9625178400335987,
          -1.1404010459367615,
          0.050065537297441697,
          -2.370511621398351,
          -0.14919235354725413,
          0.41704549449768563,
          -0.6054188923136063,
          1.1554385786210146,
          0.7844642545459046,
          -1.475697549467589,
          0.04357284219822051,
          0.6794088833644034,
          0.6088565243362992,
          -1.1236414266064494,
          -0.8645947981730004,
          -0.189315236879113,
          -1.6210608672291478,
          0.9826668024309222,
          -0.6583173023179347,
          -0.5261504456906693,
          -0.03469245259160687,
          -0.6441359781479439,
          2.1734528796420545,
          -0.695189681213425,
          -0.46387873617425734,
          -1.4406688499833342,
          -1.2366946841550048,
          -0.10445908435134638,
          1.4251663204192084,
          0.5459100358998471,
          -0.8142886165167468,
          1.6532780391932245,
          -0.1756159152534916,
          1.3322517121474091,
          -1.4189570454958202,
          -0.4365752199462574,
          0.9537908960745699,
          -0.3539941043674274,
          -1.7317323557753117,
          -1.6056342883818238,
          -0.14249131405174065,
          0.757385761017589,
          0.9217206398940825,
          0.8344690988574576,
          -1.2899900493073886,
          -0.5943831892006142,
          -0.30372445542656695,
          -0.6417063779059349,
          -0.7037207687010433,
          1.1647604326551553,
          1.6423197600571988,
          1.5706789394322735,
          0.1367178711685339,
          -0.27323866815150344,
          -0.6314346286156403,
          0.4479905105725482,
          0.5890067573599885,
          0.2851593629595951,
          0.21447051208841894,
          -0.33151322309343284,
          0.5286453144797023,
          -1.06397649923059,
          0.5211095633016483,
          0.11631777499822968,
          0.42275350128486044,
          -0.6165342792073051,
          -1.6774563192891445,
          -0.4449128911114853,
          -0.3718594486932189,
          -0.3548745644616727,
          -0.0653257564023129,
          -1.380490514092773,
          1.2171934013759687,
          -0.19344980330040593,
          -1.0615002168273389,
          -0.7803014574950484,
          1.0018898744196458,
          -0.005603546937125365
         ],
         "xaxis": "x",
         "yaxis": "y"
        },
        {
         "line": {
          "color": "rgba(128, 128, 128, 1.0)",
          "dash": "solid",
          "shape": "linear",
          "width": 1.3
         },
         "marker": {
          "size": 2,
          "symbol": "circle"
         },
         "mode": "markers",
         "name": "A",
         "text": "",
         "type": "scatter",
         "x": [
          -1.3171858117403332,
          0.7624380978698583,
          -0.26598712621796905,
          -0.5264968283634126,
          0.10775038884771772,
          -0.41831917087155723,
          -0.13336026616854868,
          -2.052679358839702,
          -0.2308750629501153,
          0.2902137081421649,
          0.5462280675460035,
          1.565509826018809,
          -1.4187648886808986,
          -1.423344160179114,
          0.5147971814034639,
          -1.1955784398830605,
          0.08841387852632229,
          0.9668380080455504,
          -2.0063648569849772,
          0.6808736919461532,
          0.18781766388703022,
          0.5614171365614565,
          -0.6444394608278725,
          -0.9555977425121828,
          0.5299791506581135,
          0.41850851624872903,
          -1.5661227844941723,
          0.5843187666974453,
          -1.4004706879941347,
          0.8719603928383804,
          0.12816736803148948,
          -0.6104649553361966,
          0.39821361249434495,
          0.3606846856900817,
          0.7413036225859474,
          0.1627576812495385,
          -0.11822845890206685,
          0.7059999893225765,
          0.7170034475706563,
          -0.5027599164597009,
          0.10001385944510605,
          0.005207958097552748,
          1.6930322553144348,
          0.29635397928301377,
          0.30803560854128187,
          -0.36681447693814095,
          -1.890051113809245,
          0.7540909096954302,
          -0.1773227273363077,
          -0.23349584546769653,
          -0.5713628964543889,
          -1.4716137756569088,
          0.9304562545373743,
          0.4995878163784225,
          0.65980085367938,
          -1.4262329597400663,
          0.4473009688035141,
          0.9388857213269526,
          -0.449652377171511,
          -0.41019978026484133,
          1.3454325846951676,
          -1.734053342435024,
          -0.35576304849981377,
          1.9486922219268799,
          0.5737692643406617,
          0.9393293725888838,
          -0.8987704602488126,
          -1.2179927775473998,
          -0.3154686479242465,
          0.11496694956077251,
          0.868292857634255,
          0.38527378173858845,
          0.6327010724068767,
          0.6067968510291968,
          0.1742604029204123,
          0.7507414554072483,
          0.0793466639492751,
          0.05341761777299585,
          -1.1964557802321034,
          1.6445281574639363,
          0.71006173073308,
          0.09181605215087117,
          0.15398334088760324,
          -0.3343350278170103,
          -1.4134082457416612,
          0.5162593987334545,
          -1.0231974241693471,
          1.736265472251738,
          -1.2743123078491674,
          -1.1200108534882374,
          0.284539525306163,
          0.28641559822266427,
          -0.10302174914339148,
          1.1760968400628866,
          0.31675765561830554,
          1.1281775757982864,
          -0.9114292516561148,
          -0.09818298589490093,
          1.4896167556584419,
          0.1509599741757448
         ],
         "xaxis": "x2",
         "y": [
          1.0306268310521411,
          -0.009779592803279932,
          -0.2790768811322032,
          -1.0139740466904634,
          0.0900692504783834,
          -0.2535851169626924,
          -1.6467454574663618,
          1.7307237074588178,
          1.9502548897209437,
          -0.19755479047900773,
          0.2398666841948917,
          0.7010948394146828,
          -1.1451707605139148,
          0.46661900006528834,
          -0.8657550022928382,
          -1.6038650824285154,
          0.27757731154907933,
          -0.3431836968023546,
          -0.23005393886187692,
          1.0417258828980622,
          -0.8420841231491191,
          0.8152608031368365,
          -0.9625178400335987,
          -1.1404010459367615,
          0.050065537297441697,
          -2.370511621398351,
          -0.14919235354725413,
          0.41704549449768563,
          -0.6054188923136063,
          1.1554385786210146,
          0.7844642545459046,
          -1.475697549467589,
          0.04357284219822051,
          0.6794088833644034,
          0.6088565243362992,
          -1.1236414266064494,
          -0.8645947981730004,
          -0.189315236879113,
          -1.6210608672291478,
          0.9826668024309222,
          -0.6583173023179347,
          -0.5261504456906693,
          -0.03469245259160687,
          -0.6441359781479439,
          2.1734528796420545,
          -0.695189681213425,
          -0.46387873617425734,
          -1.4406688499833342,
          -1.2366946841550048,
          -0.10445908435134638,
          1.4251663204192084,
          0.5459100358998471,
          -0.8142886165167468,
          1.6532780391932245,
          -0.1756159152534916,
          1.3322517121474091,
          -1.4189570454958202,
          -0.4365752199462574,
          0.9537908960745699,
          -0.3539941043674274,
          -1.7317323557753117,
          -1.6056342883818238,
          -0.14249131405174065,
          0.757385761017589,
          0.9217206398940825,
          0.8344690988574576,
          -1.2899900493073886,
          -0.5943831892006142,
          -0.30372445542656695,
          -0.6417063779059349,
          -0.7037207687010433,
          1.1647604326551553,
          1.6423197600571988,
          1.5706789394322735,
          0.1367178711685339,
          -0.27323866815150344,
          -0.6314346286156403,
          0.4479905105725482,
          0.5890067573599885,
          0.2851593629595951,
          0.21447051208841894,
          -0.33151322309343284,
          0.5286453144797023,
          -1.06397649923059,
          0.5211095633016483,
          0.11631777499822968,
          0.42275350128486044,
          -0.6165342792073051,
          -1.6774563192891445,
          -0.4449128911114853,
          -0.3718594486932189,
          -0.3548745644616727,
          -0.0653257564023129,
          -1.380490514092773,
          1.2171934013759687,
          -0.19344980330040593,
          -1.0615002168273389,
          -0.7803014574950484,
          1.0018898744196458,
          -0.005603546937125365
         ],
         "yaxis": "y2"
        },
        {
         "line": {
          "color": "rgba(128, 128, 128, 1.0)",
          "dash": "solid",
          "shape": "linear",
          "width": 1.3
         },
         "marker": {
          "size": 2,
          "symbol": "circle"
         },
         "mode": "markers",
         "name": "A",
         "text": "",
         "type": "scatter",
         "x": [
          0.08379242003873957,
          0.2148785331592744,
          0.05037764227737709,
          0.8756341253893809,
          0.8590465590528559,
          0.4391174055308217,
          0.189431450404587,
          -0.3718155703527072,
          -0.5550634508530573,
          -1.3794441465660177,
          -1.0563146350461485,
          0.14681120692010374,
          0.3131553635618999,
          0.5585557787930133,
          0.07722880995042875,
          -0.04392131380774122,
          1.1243569267065112,
          0.4253139715551968,
          0.11595870860059217,
          0.03402107108713042,
          -1.152168023984466,
          -0.14102868678892333,
          0.32125039377044723,
          -0.015777088712871118,
          1.9589536177600075,
          -0.43206789180190025,
          0.12749666112522964,
          0.60374343136248,
          0.7276624395022874,
          -0.8553924209946996,
          -1.5239420978185667,
          2.3059002372762567,
          1.7657544426604617,
          1.4176804265866652,
          -0.14577675495265452,
          -2.5488718386666656,
          0.21232980357778392,
          0.27948468183738157,
          -1.1662977440321178,
          -0.02682624947907975,
          -0.07801098168006376,
          -1.5299524615332178,
          0.19086992639333702,
          -1.422834386813165,
          0.3651424582753189,
          -0.03978866054513912,
          -0.21945194172803012,
          -0.9001789899014709,
          0.3656287775959234,
          0.015043418972787223,
          -0.6988972675541378,
          -1.099385561047347,
          0.46100314491139704,
          0.08494565785337806,
          0.6599596689566934,
          1.1876021244161188,
          1.271634126184984,
          -0.2795533824193319,
          -1.9056263876115092,
          1.0947587027067796,
          -0.372279956072975,
          0.8078982842393541,
          0.24586963761177888,
          1.2312321136396454,
          -0.17447290390264522,
          -0.38122086074732653,
          -0.7851067104971744,
          -0.30677339413517046,
          -1.1153469541785526,
          -1.268705753155011,
          -1.0516340367499943,
          0.8078730526908118,
          -0.6654810773103337,
          0.4765200681845515,
          0.20662969875360157,
          0.27918620297987795,
          0.40802133707589155,
          1.2763581430226278,
          1.3378200142549608,
          -1.0643769902927183,
          -1.1549667214964872,
          1.6004757569170087,
          -0.42593731310572397,
          0.713247303276228,
          -0.4372100489811118,
          1.0021751145910691,
          1.3354722150222882,
          -0.3560516664855117,
          0.9911564978729335,
          0.6106046459167388,
          -0.2650783288238696,
          1.4191519832449284,
          0.7093530482147238,
          1.2937644648767108,
          -0.15111663264208083,
          2.0370254465584474,
          0.906193520781411,
          1.2115197524753947,
          1.4246594347089725,
          0.4487685507219152
         ],
         "xaxis": "x3",
         "y": [
          1.0306268310521411,
          -0.009779592803279932,
          -0.2790768811322032,
          -1.0139740466904634,
          0.0900692504783834,
          -0.2535851169626924,
          -1.6467454574663618,
          1.7307237074588178,
          1.9502548897209437,
          -0.19755479047900773,
          0.2398666841948917,
          0.7010948394146828,
          -1.1451707605139148,
          0.46661900006528834,
          -0.8657550022928382,
          -1.6038650824285154,
          0.27757731154907933,
          -0.3431836968023546,
          -0.23005393886187692,
          1.0417258828980622,
          -0.8420841231491191,
          0.8152608031368365,
          -0.9625178400335987,
          -1.1404010459367615,
          0.050065537297441697,
          -2.370511621398351,
          -0.14919235354725413,
          0.41704549449768563,
          -0.6054188923136063,
          1.1554385786210146,
          0.7844642545459046,
          -1.475697549467589,
          0.04357284219822051,
          0.6794088833644034,
          0.6088565243362992,
          -1.1236414266064494,
          -0.8645947981730004,
          -0.189315236879113,
          -1.6210608672291478,
          0.9826668024309222,
          -0.6583173023179347,
          -0.5261504456906693,
          -0.03469245259160687,
          -0.6441359781479439,
          2.1734528796420545,
          -0.695189681213425,
          -0.46387873617425734,
          -1.4406688499833342,
          -1.2366946841550048,
          -0.10445908435134638,
          1.4251663204192084,
          0.5459100358998471,
          -0.8142886165167468,
          1.6532780391932245,
          -0.1756159152534916,
          1.3322517121474091,
          -1.4189570454958202,
          -0.4365752199462574,
          0.9537908960745699,
          -0.3539941043674274,
          -1.7317323557753117,
          -1.6056342883818238,
          -0.14249131405174065,
          0.757385761017589,
          0.9217206398940825,
          0.8344690988574576,
          -1.2899900493073886,
          -0.5943831892006142,
          -0.30372445542656695,
          -0.6417063779059349,
          -0.7037207687010433,
          1.1647604326551553,
          1.6423197600571988,
          1.5706789394322735,
          0.1367178711685339,
          -0.27323866815150344,
          -0.6314346286156403,
          0.4479905105725482,
          0.5890067573599885,
          0.2851593629595951,
          0.21447051208841894,
          -0.33151322309343284,
          0.5286453144797023,
          -1.06397649923059,
          0.5211095633016483,
          0.11631777499822968,
          0.42275350128486044,
          -0.6165342792073051,
          -1.6774563192891445,
          -0.4449128911114853,
          -0.3718594486932189,
          -0.3548745644616727,
          -0.0653257564023129,
          -1.380490514092773,
          1.2171934013759687,
          -0.19344980330040593,
          -1.0615002168273389,
          -0.7803014574950484,
          1.0018898744196458,
          -0.005603546937125365
         ],
         "yaxis": "y3"
        },
        {
         "line": {
          "color": "rgba(128, 128, 128, 1.0)",
          "dash": "solid",
          "shape": "linear",
          "width": 1.3
         },
         "marker": {
          "size": 2,
          "symbol": "circle"
         },
         "mode": "markers",
         "name": "A",
         "text": "",
         "type": "scatter",
         "x": [
          -0.6920634091911322,
          -1.2328974794541194,
          -0.13337965401471033,
          -0.10718312588982684,
          -1.1869959369538874,
          -1.2194779182027682,
          0.5538225567018522,
          0.3086265573058003,
          1.5501011090909576,
          -0.6188799170130024,
          -0.6330510694501634,
          0.12190495414005852,
          -0.8340665719451371,
          -0.3052587727563927,
          0.17048465739114646,
          2.5484889581440995,
          -0.4001988622871872,
          0.2232020074270806,
          3.3378359210526516,
          -1.9951039860201403,
          0.46669753757252347,
          0.06643153558470793,
          -1.0212754397753374,
          -0.8596795616002902,
          -0.5809913983199892,
          1.660379232405525,
          -1.0206828293145023,
          -0.5165516692500176,
          -0.35563432592567235,
          0.900963391813983,
          -2.0907566992355546,
          1.9526024683829384,
          0.7572391375796467,
          0.16457927543657624,
          -0.709574445714888,
          -0.1324330263073747,
          0.37522399686406444,
          -0.467457646527938,
          -1.2034728568367308,
          -0.18682761445402954,
          0.2676089357964147,
          0.9354848298876832,
          -0.1614825418692389,
          -0.15935046380828055,
          -0.2066973243556901,
          2.1138228595046757,
          0.8146101088711156,
          0.2621977456669178,
          -0.40524829672051826,
          -0.4473821199867852,
          -0.8188050705844425,
          -0.8228830639219495,
          0.5150953876104498,
          -0.49697570517748263,
          0.8236699217037411,
          0.7968981169892387,
          0.19963003476156377,
          -1.3086846374128205,
          0.3658069863924726,
          -0.30014818602960625,
          1.0366037965313704,
          1.108217546936431,
          1.6402622395793887,
          -1.464246518706611,
          0.44741047498891323,
          0.6655792148732772,
          0.29205688147747827,
          1.0465287173815978,
          -1.0972484624244334,
          0.9843079937413093,
          0.4005397110947668,
          0.6240958337027928,
          -1.4907753096251966,
          -0.04531497643233301,
          1.5577867100749405,
          0.560085435865454,
          0.8600067975891267,
          1.4101724955969688,
          0.5181935464130717,
          -0.7583553846233285,
          1.267470197937567,
          2.107735225249204,
          -1.604037594672744,
          -1.1246188870452987,
          -0.8027894261801742,
          -0.45016955447510903,
          -0.5291651388810777,
          0.4511046557632813,
          -0.4976688751059435,
          -0.12838705752481272,
          -0.6467687349316987,
          -0.6546091808489067,
          -0.3383808775917049,
          -0.313860301853834,
          -0.7818949483473627,
          -1.1774540958497328,
          1.58084798605212,
          -0.18530178334993333,
          1.7055280861592752,
          -1.4050532797125146
         ],
         "xaxis": "x4",
         "y": [
          1.0306268310521411,
          -0.009779592803279932,
          -0.2790768811322032,
          -1.0139740466904634,
          0.0900692504783834,
          -0.2535851169626924,
          -1.6467454574663618,
          1.7307237074588178,
          1.9502548897209437,
          -0.19755479047900773,
          0.2398666841948917,
          0.7010948394146828,
          -1.1451707605139148,
          0.46661900006528834,
          -0.8657550022928382,
          -1.6038650824285154,
          0.27757731154907933,
          -0.3431836968023546,
          -0.23005393886187692,
          1.0417258828980622,
          -0.8420841231491191,
          0.8152608031368365,
          -0.9625178400335987,
          -1.1404010459367615,
          0.050065537297441697,
          -2.370511621398351,
          -0.14919235354725413,
          0.41704549449768563,
          -0.6054188923136063,
          1.1554385786210146,
          0.7844642545459046,
          -1.475697549467589,
          0.04357284219822051,
          0.6794088833644034,
          0.6088565243362992,
          -1.1236414266064494,
          -0.8645947981730004,
          -0.189315236879113,
          -1.6210608672291478,
          0.9826668024309222,
          -0.6583173023179347,
          -0.5261504456906693,
          -0.03469245259160687,
          -0.6441359781479439,
          2.1734528796420545,
          -0.695189681213425,
          -0.46387873617425734,
          -1.4406688499833342,
          -1.2366946841550048,
          -0.10445908435134638,
          1.4251663204192084,
          0.5459100358998471,
          -0.8142886165167468,
          1.6532780391932245,
          -0.1756159152534916,
          1.3322517121474091,
          -1.4189570454958202,
          -0.4365752199462574,
          0.9537908960745699,
          -0.3539941043674274,
          -1.7317323557753117,
          -1.6056342883818238,
          -0.14249131405174065,
          0.757385761017589,
          0.9217206398940825,
          0.8344690988574576,
          -1.2899900493073886,
          -0.5943831892006142,
          -0.30372445542656695,
          -0.6417063779059349,
          -0.7037207687010433,
          1.1647604326551553,
          1.6423197600571988,
          1.5706789394322735,
          0.1367178711685339,
          -0.27323866815150344,
          -0.6314346286156403,
          0.4479905105725482,
          0.5890067573599885,
          0.2851593629595951,
          0.21447051208841894,
          -0.33151322309343284,
          0.5286453144797023,
          -1.06397649923059,
          0.5211095633016483,
          0.11631777499822968,
          0.42275350128486044,
          -0.6165342792073051,
          -1.6774563192891445,
          -0.4449128911114853,
          -0.3718594486932189,
          -0.3548745644616727,
          -0.0653257564023129,
          -1.380490514092773,
          1.2171934013759687,
          -0.19344980330040593,
          -1.0615002168273389,
          -0.7803014574950484,
          1.0018898744196458,
          -0.005603546937125365
         ],
         "yaxis": "y4"
        },
        {
         "line": {
          "color": "rgba(128, 128, 128, 1.0)",
          "dash": "solid",
          "shape": "linear",
          "width": 1.3
         },
         "marker": {
          "size": 2,
          "symbol": "circle"
         },
         "mode": "markers",
         "name": "B",
         "text": "",
         "type": "scatter",
         "x": [
          1.0306268310521411,
          -0.009779592803279932,
          -0.2790768811322032,
          -1.0139740466904634,
          0.0900692504783834,
          -0.2535851169626924,
          -1.6467454574663618,
          1.7307237074588178,
          1.9502548897209437,
          -0.19755479047900773,
          0.2398666841948917,
          0.7010948394146828,
          -1.1451707605139148,
          0.46661900006528834,
          -0.8657550022928382,
          -1.6038650824285154,
          0.27757731154907933,
          -0.3431836968023546,
          -0.23005393886187692,
          1.0417258828980622,
          -0.8420841231491191,
          0.8152608031368365,
          -0.9625178400335987,
          -1.1404010459367615,
          0.050065537297441697,
          -2.370511621398351,
          -0.14919235354725413,
          0.41704549449768563,
          -0.6054188923136063,
          1.1554385786210146,
          0.7844642545459046,
          -1.475697549467589,
          0.04357284219822051,
          0.6794088833644034,
          0.6088565243362992,
          -1.1236414266064494,
          -0.8645947981730004,
          -0.189315236879113,
          -1.6210608672291478,
          0.9826668024309222,
          -0.6583173023179347,
          -0.5261504456906693,
          -0.03469245259160687,
          -0.6441359781479439,
          2.1734528796420545,
          -0.695189681213425,
          -0.46387873617425734,
          -1.4406688499833342,
          -1.2366946841550048,
          -0.10445908435134638,
          1.4251663204192084,
          0.5459100358998471,
          -0.8142886165167468,
          1.6532780391932245,
          -0.1756159152534916,
          1.3322517121474091,
          -1.4189570454958202,
          -0.4365752199462574,
          0.9537908960745699,
          -0.3539941043674274,
          -1.7317323557753117,
          -1.6056342883818238,
          -0.14249131405174065,
          0.757385761017589,
          0.9217206398940825,
          0.8344690988574576,
          -1.2899900493073886,
          -0.5943831892006142,
          -0.30372445542656695,
          -0.6417063779059349,
          -0.7037207687010433,
          1.1647604326551553,
          1.6423197600571988,
          1.5706789394322735,
          0.1367178711685339,
          -0.27323866815150344,
          -0.6314346286156403,
          0.4479905105725482,
          0.5890067573599885,
          0.2851593629595951,
          0.21447051208841894,
          -0.33151322309343284,
          0.5286453144797023,
          -1.06397649923059,
          0.5211095633016483,
          0.11631777499822968,
          0.42275350128486044,
          -0.6165342792073051,
          -1.6774563192891445,
          -0.4449128911114853,
          -0.3718594486932189,
          -0.3548745644616727,
          -0.0653257564023129,
          -1.380490514092773,
          1.2171934013759687,
          -0.19344980330040593,
          -1.0615002168273389,
          -0.7803014574950484,
          1.0018898744196458,
          -0.005603546937125365
         ],
         "xaxis": "x5",
         "y": [
          -1.3171858117403332,
          0.7624380978698583,
          -0.26598712621796905,
          -0.5264968283634126,
          0.10775038884771772,
          -0.41831917087155723,
          -0.13336026616854868,
          -2.052679358839702,
          -0.2308750629501153,
          0.2902137081421649,
          0.5462280675460035,
          1.565509826018809,
          -1.4187648886808986,
          -1.423344160179114,
          0.5147971814034639,
          -1.1955784398830605,
          0.08841387852632229,
          0.9668380080455504,
          -2.0063648569849772,
          0.6808736919461532,
          0.18781766388703022,
          0.5614171365614565,
          -0.6444394608278725,
          -0.9555977425121828,
          0.5299791506581135,
          0.41850851624872903,
          -1.5661227844941723,
          0.5843187666974453,
          -1.4004706879941347,
          0.8719603928383804,
          0.12816736803148948,
          -0.6104649553361966,
          0.39821361249434495,
          0.3606846856900817,
          0.7413036225859474,
          0.1627576812495385,
          -0.11822845890206685,
          0.7059999893225765,
          0.7170034475706563,
          -0.5027599164597009,
          0.10001385944510605,
          0.005207958097552748,
          1.6930322553144348,
          0.29635397928301377,
          0.30803560854128187,
          -0.36681447693814095,
          -1.890051113809245,
          0.7540909096954302,
          -0.1773227273363077,
          -0.23349584546769653,
          -0.5713628964543889,
          -1.4716137756569088,
          0.9304562545373743,
          0.4995878163784225,
          0.65980085367938,
          -1.4262329597400663,
          0.4473009688035141,
          0.9388857213269526,
          -0.449652377171511,
          -0.41019978026484133,
          1.3454325846951676,
          -1.734053342435024,
          -0.35576304849981377,
          1.9486922219268799,
          0.5737692643406617,
          0.9393293725888838,
          -0.8987704602488126,
          -1.2179927775473998,
          -0.3154686479242465,
          0.11496694956077251,
          0.868292857634255,
          0.38527378173858845,
          0.6327010724068767,
          0.6067968510291968,
          0.1742604029204123,
          0.7507414554072483,
          0.0793466639492751,
          0.05341761777299585,
          -1.1964557802321034,
          1.6445281574639363,
          0.71006173073308,
          0.09181605215087117,
          0.15398334088760324,
          -0.3343350278170103,
          -1.4134082457416612,
          0.5162593987334545,
          -1.0231974241693471,
          1.736265472251738,
          -1.2743123078491674,
          -1.1200108534882374,
          0.284539525306163,
          0.28641559822266427,
          -0.10302174914339148,
          1.1760968400628866,
          0.31675765561830554,
          1.1281775757982864,
          -0.9114292516561148,
          -0.09818298589490093,
          1.4896167556584419,
          0.1509599741757448
         ],
         "yaxis": "y5"
        },
        {
         "histfunc": "count",
         "histnorm": "",
         "marker": {
          "color": "rgba(55, 128, 191, 1.0)",
          "line": {
           "color": "#4D5663",
           "width": 1.3
          }
         },
         "name": "B",
         "nbinsx": 10,
         "opacity": 0.8,
         "orientation": "v",
         "type": "histogram",
         "x": [
          -1.3171858117403332,
          0.7624380978698583,
          -0.26598712621796905,
          -0.5264968283634126,
          0.10775038884771772,
          -0.41831917087155723,
          -0.13336026616854868,
          -2.052679358839702,
          -0.2308750629501153,
          0.2902137081421649,
          0.5462280675460035,
          1.565509826018809,
          -1.4187648886808986,
          -1.423344160179114,
          0.5147971814034639,
          -1.1955784398830605,
          0.08841387852632229,
          0.9668380080455504,
          -2.0063648569849772,
          0.6808736919461532,
          0.18781766388703022,
          0.5614171365614565,
          -0.6444394608278725,
          -0.9555977425121828,
          0.5299791506581135,
          0.41850851624872903,
          -1.5661227844941723,
          0.5843187666974453,
          -1.4004706879941347,
          0.8719603928383804,
          0.12816736803148948,
          -0.6104649553361966,
          0.39821361249434495,
          0.3606846856900817,
          0.7413036225859474,
          0.1627576812495385,
          -0.11822845890206685,
          0.7059999893225765,
          0.7170034475706563,
          -0.5027599164597009,
          0.10001385944510605,
          0.005207958097552748,
          1.6930322553144348,
          0.29635397928301377,
          0.30803560854128187,
          -0.36681447693814095,
          -1.890051113809245,
          0.7540909096954302,
          -0.1773227273363077,
          -0.23349584546769653,
          -0.5713628964543889,
          -1.4716137756569088,
          0.9304562545373743,
          0.4995878163784225,
          0.65980085367938,
          -1.4262329597400663,
          0.4473009688035141,
          0.9388857213269526,
          -0.449652377171511,
          -0.41019978026484133,
          1.3454325846951676,
          -1.734053342435024,
          -0.35576304849981377,
          1.9486922219268799,
          0.5737692643406617,
          0.9393293725888838,
          -0.8987704602488126,
          -1.2179927775473998,
          -0.3154686479242465,
          0.11496694956077251,
          0.868292857634255,
          0.38527378173858845,
          0.6327010724068767,
          0.6067968510291968,
          0.1742604029204123,
          0.7507414554072483,
          0.0793466639492751,
          0.05341761777299585,
          -1.1964557802321034,
          1.6445281574639363,
          0.71006173073308,
          0.09181605215087117,
          0.15398334088760324,
          -0.3343350278170103,
          -1.4134082457416612,
          0.5162593987334545,
          -1.0231974241693471,
          1.736265472251738,
          -1.2743123078491674,
          -1.1200108534882374,
          0.284539525306163,
          0.28641559822266427,
          -0.10302174914339148,
          1.1760968400628866,
          0.31675765561830554,
          1.1281775757982864,
          -0.9114292516561148,
          -0.09818298589490093,
          1.4896167556584419,
          0.1509599741757448
         ],
         "xaxis": "x6",
         "yaxis": "y6"
        },
        {
         "line": {
          "color": "rgba(128, 128, 128, 1.0)",
          "dash": "solid",
          "shape": "linear",
          "width": 1.3
         },
         "marker": {
          "size": 2,
          "symbol": "circle"
         },
         "mode": "markers",
         "name": "B",
         "text": "",
         "type": "scatter",
         "x": [
          0.08379242003873957,
          0.2148785331592744,
          0.05037764227737709,
          0.8756341253893809,
          0.8590465590528559,
          0.4391174055308217,
          0.189431450404587,
          -0.3718155703527072,
          -0.5550634508530573,
          -1.3794441465660177,
          -1.0563146350461485,
          0.14681120692010374,
          0.3131553635618999,
          0.5585557787930133,
          0.07722880995042875,
          -0.04392131380774122,
          1.1243569267065112,
          0.4253139715551968,
          0.11595870860059217,
          0.03402107108713042,
          -1.152168023984466,
          -0.14102868678892333,
          0.32125039377044723,
          -0.015777088712871118,
          1.9589536177600075,
          -0.43206789180190025,
          0.12749666112522964,
          0.60374343136248,
          0.7276624395022874,
          -0.8553924209946996,
          -1.5239420978185667,
          2.3059002372762567,
          1.7657544426604617,
          1.4176804265866652,
          -0.14577675495265452,
          -2.5488718386666656,
          0.21232980357778392,
          0.27948468183738157,
          -1.1662977440321178,
          -0.02682624947907975,
          -0.07801098168006376,
          -1.5299524615332178,
          0.19086992639333702,
          -1.422834386813165,
          0.3651424582753189,
          -0.03978866054513912,
          -0.21945194172803012,
          -0.9001789899014709,
          0.3656287775959234,
          0.015043418972787223,
          -0.6988972675541378,
          -1.099385561047347,
          0.46100314491139704,
          0.08494565785337806,
          0.6599596689566934,
          1.1876021244161188,
          1.271634126184984,
          -0.2795533824193319,
          -1.9056263876115092,
          1.0947587027067796,
          -0.372279956072975,
          0.8078982842393541,
          0.24586963761177888,
          1.2312321136396454,
          -0.17447290390264522,
          -0.38122086074732653,
          -0.7851067104971744,
          -0.30677339413517046,
          -1.1153469541785526,
          -1.268705753155011,
          -1.0516340367499943,
          0.8078730526908118,
          -0.6654810773103337,
          0.4765200681845515,
          0.20662969875360157,
          0.27918620297987795,
          0.40802133707589155,
          1.2763581430226278,
          1.3378200142549608,
          -1.0643769902927183,
          -1.1549667214964872,
          1.6004757569170087,
          -0.42593731310572397,
          0.713247303276228,
          -0.4372100489811118,
          1.0021751145910691,
          1.3354722150222882,
          -0.3560516664855117,
          0.9911564978729335,
          0.6106046459167388,
          -0.2650783288238696,
          1.4191519832449284,
          0.7093530482147238,
          1.2937644648767108,
          -0.15111663264208083,
          2.0370254465584474,
          0.906193520781411,
          1.2115197524753947,
          1.4246594347089725,
          0.4487685507219152
         ],
         "xaxis": "x7",
         "y": [
          -1.3171858117403332,
          0.7624380978698583,
          -0.26598712621796905,
          -0.5264968283634126,
          0.10775038884771772,
          -0.41831917087155723,
          -0.13336026616854868,
          -2.052679358839702,
          -0.2308750629501153,
          0.2902137081421649,
          0.5462280675460035,
          1.565509826018809,
          -1.4187648886808986,
          -1.423344160179114,
          0.5147971814034639,
          -1.1955784398830605,
          0.08841387852632229,
          0.9668380080455504,
          -2.0063648569849772,
          0.6808736919461532,
          0.18781766388703022,
          0.5614171365614565,
          -0.6444394608278725,
          -0.9555977425121828,
          0.5299791506581135,
          0.41850851624872903,
          -1.5661227844941723,
          0.5843187666974453,
          -1.4004706879941347,
          0.8719603928383804,
          0.12816736803148948,
          -0.6104649553361966,
          0.39821361249434495,
          0.3606846856900817,
          0.7413036225859474,
          0.1627576812495385,
          -0.11822845890206685,
          0.7059999893225765,
          0.7170034475706563,
          -0.5027599164597009,
          0.10001385944510605,
          0.005207958097552748,
          1.6930322553144348,
          0.29635397928301377,
          0.30803560854128187,
          -0.36681447693814095,
          -1.890051113809245,
          0.7540909096954302,
          -0.1773227273363077,
          -0.23349584546769653,
          -0.5713628964543889,
          -1.4716137756569088,
          0.9304562545373743,
          0.4995878163784225,
          0.65980085367938,
          -1.4262329597400663,
          0.4473009688035141,
          0.9388857213269526,
          -0.449652377171511,
          -0.41019978026484133,
          1.3454325846951676,
          -1.734053342435024,
          -0.35576304849981377,
          1.9486922219268799,
          0.5737692643406617,
          0.9393293725888838,
          -0.8987704602488126,
          -1.2179927775473998,
          -0.3154686479242465,
          0.11496694956077251,
          0.868292857634255,
          0.38527378173858845,
          0.6327010724068767,
          0.6067968510291968,
          0.1742604029204123,
          0.7507414554072483,
          0.0793466639492751,
          0.05341761777299585,
          -1.1964557802321034,
          1.6445281574639363,
          0.71006173073308,
          0.09181605215087117,
          0.15398334088760324,
          -0.3343350278170103,
          -1.4134082457416612,
          0.5162593987334545,
          -1.0231974241693471,
          1.736265472251738,
          -1.2743123078491674,
          -1.1200108534882374,
          0.284539525306163,
          0.28641559822266427,
          -0.10302174914339148,
          1.1760968400628866,
          0.31675765561830554,
          1.1281775757982864,
          -0.9114292516561148,
          -0.09818298589490093,
          1.4896167556584419,
          0.1509599741757448
         ],
         "yaxis": "y7"
        },
        {
         "line": {
          "color": "rgba(128, 128, 128, 1.0)",
          "dash": "solid",
          "shape": "linear",
          "width": 1.3
         },
         "marker": {
          "size": 2,
          "symbol": "circle"
         },
         "mode": "markers",
         "name": "B",
         "text": "",
         "type": "scatter",
         "x": [
          -0.6920634091911322,
          -1.2328974794541194,
          -0.13337965401471033,
          -0.10718312588982684,
          -1.1869959369538874,
          -1.2194779182027682,
          0.5538225567018522,
          0.3086265573058003,
          1.5501011090909576,
          -0.6188799170130024,
          -0.6330510694501634,
          0.12190495414005852,
          -0.8340665719451371,
          -0.3052587727563927,
          0.17048465739114646,
          2.5484889581440995,
          -0.4001988622871872,
          0.2232020074270806,
          3.3378359210526516,
          -1.9951039860201403,
          0.46669753757252347,
          0.06643153558470793,
          -1.0212754397753374,
          -0.8596795616002902,
          -0.5809913983199892,
          1.660379232405525,
          -1.0206828293145023,
          -0.5165516692500176,
          -0.35563432592567235,
          0.900963391813983,
          -2.0907566992355546,
          1.9526024683829384,
          0.7572391375796467,
          0.16457927543657624,
          -0.709574445714888,
          -0.1324330263073747,
          0.37522399686406444,
          -0.467457646527938,
          -1.2034728568367308,
          -0.18682761445402954,
          0.2676089357964147,
          0.9354848298876832,
          -0.1614825418692389,
          -0.15935046380828055,
          -0.2066973243556901,
          2.1138228595046757,
          0.8146101088711156,
          0.2621977456669178,
          -0.40524829672051826,
          -0.4473821199867852,
          -0.8188050705844425,
          -0.8228830639219495,
          0.5150953876104498,
          -0.49697570517748263,
          0.8236699217037411,
          0.7968981169892387,
          0.19963003476156377,
          -1.3086846374128205,
          0.3658069863924726,
          -0.30014818602960625,
          1.0366037965313704,
          1.108217546936431,
          1.6402622395793887,
          -1.464246518706611,
          0.44741047498891323,
          0.6655792148732772,
          0.29205688147747827,
          1.0465287173815978,
          -1.0972484624244334,
          0.9843079937413093,
          0.4005397110947668,
          0.6240958337027928,
          -1.4907753096251966,
          -0.04531497643233301,
          1.5577867100749405,
          0.560085435865454,
          0.8600067975891267,
          1.4101724955969688,
          0.5181935464130717,
          -0.7583553846233285,
          1.267470197937567,
          2.107735225249204,
          -1.604037594672744,
          -1.1246188870452987,
          -0.8027894261801742,
          -0.45016955447510903,
          -0.5291651388810777,
          0.4511046557632813,
          -0.4976688751059435,
          -0.12838705752481272,
          -0.6467687349316987,
          -0.6546091808489067,
          -0.3383808775917049,
          -0.313860301853834,
          -0.7818949483473627,
          -1.1774540958497328,
          1.58084798605212,
          -0.18530178334993333,
          1.7055280861592752,
          -1.4050532797125146
         ],
         "xaxis": "x8",
         "y": [
          -1.3171858117403332,
          0.7624380978698583,
          -0.26598712621796905,
          -0.5264968283634126,
          0.10775038884771772,
          -0.41831917087155723,
          -0.13336026616854868,
          -2.052679358839702,
          -0.2308750629501153,
          0.2902137081421649,
          0.5462280675460035,
          1.565509826018809,
          -1.4187648886808986,
          -1.423344160179114,
          0.5147971814034639,
          -1.1955784398830605,
          0.08841387852632229,
          0.9668380080455504,
          -2.0063648569849772,
          0.6808736919461532,
          0.18781766388703022,
          0.5614171365614565,
          -0.6444394608278725,
          -0.9555977425121828,
          0.5299791506581135,
          0.41850851624872903,
          -1.5661227844941723,
          0.5843187666974453,
          -1.4004706879941347,
          0.8719603928383804,
          0.12816736803148948,
          -0.6104649553361966,
          0.39821361249434495,
          0.3606846856900817,
          0.7413036225859474,
          0.1627576812495385,
          -0.11822845890206685,
          0.7059999893225765,
          0.7170034475706563,
          -0.5027599164597009,
          0.10001385944510605,
          0.005207958097552748,
          1.6930322553144348,
          0.29635397928301377,
          0.30803560854128187,
          -0.36681447693814095,
          -1.890051113809245,
          0.7540909096954302,
          -0.1773227273363077,
          -0.23349584546769653,
          -0.5713628964543889,
          -1.4716137756569088,
          0.9304562545373743,
          0.4995878163784225,
          0.65980085367938,
          -1.4262329597400663,
          0.4473009688035141,
          0.9388857213269526,
          -0.449652377171511,
          -0.41019978026484133,
          1.3454325846951676,
          -1.734053342435024,
          -0.35576304849981377,
          1.9486922219268799,
          0.5737692643406617,
          0.9393293725888838,
          -0.8987704602488126,
          -1.2179927775473998,
          -0.3154686479242465,
          0.11496694956077251,
          0.868292857634255,
          0.38527378173858845,
          0.6327010724068767,
          0.6067968510291968,
          0.1742604029204123,
          0.7507414554072483,
          0.0793466639492751,
          0.05341761777299585,
          -1.1964557802321034,
          1.6445281574639363,
          0.71006173073308,
          0.09181605215087117,
          0.15398334088760324,
          -0.3343350278170103,
          -1.4134082457416612,
          0.5162593987334545,
          -1.0231974241693471,
          1.736265472251738,
          -1.2743123078491674,
          -1.1200108534882374,
          0.284539525306163,
          0.28641559822266427,
          -0.10302174914339148,
          1.1760968400628866,
          0.31675765561830554,
          1.1281775757982864,
          -0.9114292516561148,
          -0.09818298589490093,
          1.4896167556584419,
          0.1509599741757448
         ],
         "yaxis": "y8"
        },
        {
         "line": {
          "color": "rgba(128, 128, 128, 1.0)",
          "dash": "solid",
          "shape": "linear",
          "width": 1.3
         },
         "marker": {
          "size": 2,
          "symbol": "circle"
         },
         "mode": "markers",
         "name": "C",
         "text": "",
         "type": "scatter",
         "x": [
          1.0306268310521411,
          -0.009779592803279932,
          -0.2790768811322032,
          -1.0139740466904634,
          0.0900692504783834,
          -0.2535851169626924,
          -1.6467454574663618,
          1.7307237074588178,
          1.9502548897209437,
          -0.19755479047900773,
          0.2398666841948917,
          0.7010948394146828,
          -1.1451707605139148,
          0.46661900006528834,
          -0.8657550022928382,
          -1.6038650824285154,
          0.27757731154907933,
          -0.3431836968023546,
          -0.23005393886187692,
          1.0417258828980622,
          -0.8420841231491191,
          0.8152608031368365,
          -0.9625178400335987,
          -1.1404010459367615,
          0.050065537297441697,
          -2.370511621398351,
          -0.14919235354725413,
          0.41704549449768563,
          -0.6054188923136063,
          1.1554385786210146,
          0.7844642545459046,
          -1.475697549467589,
          0.04357284219822051,
          0.6794088833644034,
          0.6088565243362992,
          -1.1236414266064494,
          -0.8645947981730004,
          -0.189315236879113,
          -1.6210608672291478,
          0.9826668024309222,
          -0.6583173023179347,
          -0.5261504456906693,
          -0.03469245259160687,
          -0.6441359781479439,
          2.1734528796420545,
          -0.695189681213425,
          -0.46387873617425734,
          -1.4406688499833342,
          -1.2366946841550048,
          -0.10445908435134638,
          1.4251663204192084,
          0.5459100358998471,
          -0.8142886165167468,
          1.6532780391932245,
          -0.1756159152534916,
          1.3322517121474091,
          -1.4189570454958202,
          -0.4365752199462574,
          0.9537908960745699,
          -0.3539941043674274,
          -1.7317323557753117,
          -1.6056342883818238,
          -0.14249131405174065,
          0.757385761017589,
          0.9217206398940825,
          0.8344690988574576,
          -1.2899900493073886,
          -0.5943831892006142,
          -0.30372445542656695,
          -0.6417063779059349,
          -0.7037207687010433,
          1.1647604326551553,
          1.6423197600571988,
          1.5706789394322735,
          0.1367178711685339,
          -0.27323866815150344,
          -0.6314346286156403,
          0.4479905105725482,
          0.5890067573599885,
          0.2851593629595951,
          0.21447051208841894,
          -0.33151322309343284,
          0.5286453144797023,
          -1.06397649923059,
          0.5211095633016483,
          0.11631777499822968,
          0.42275350128486044,
          -0.6165342792073051,
          -1.6774563192891445,
          -0.4449128911114853,
          -0.3718594486932189,
          -0.3548745644616727,
          -0.0653257564023129,
          -1.380490514092773,
          1.2171934013759687,
          -0.19344980330040593,
          -1.0615002168273389,
          -0.7803014574950484,
          1.0018898744196458,
          -0.005603546937125365
         ],
         "xaxis": "x9",
         "y": [
          0.08379242003873957,
          0.2148785331592744,
          0.05037764227737709,
          0.8756341253893809,
          0.8590465590528559,
          0.4391174055308217,
          0.189431450404587,
          -0.3718155703527072,
          -0.5550634508530573,
          -1.3794441465660177,
          -1.0563146350461485,
          0.14681120692010374,
          0.3131553635618999,
          0.5585557787930133,
          0.07722880995042875,
          -0.04392131380774122,
          1.1243569267065112,
          0.4253139715551968,
          0.11595870860059217,
          0.03402107108713042,
          -1.152168023984466,
          -0.14102868678892333,
          0.32125039377044723,
          -0.015777088712871118,
          1.9589536177600075,
          -0.43206789180190025,
          0.12749666112522964,
          0.60374343136248,
          0.7276624395022874,
          -0.8553924209946996,
          -1.5239420978185667,
          2.3059002372762567,
          1.7657544426604617,
          1.4176804265866652,
          -0.14577675495265452,
          -2.5488718386666656,
          0.21232980357778392,
          0.27948468183738157,
          -1.1662977440321178,
          -0.02682624947907975,
          -0.07801098168006376,
          -1.5299524615332178,
          0.19086992639333702,
          -1.422834386813165,
          0.3651424582753189,
          -0.03978866054513912,
          -0.21945194172803012,
          -0.9001789899014709,
          0.3656287775959234,
          0.015043418972787223,
          -0.6988972675541378,
          -1.099385561047347,
          0.46100314491139704,
          0.08494565785337806,
          0.6599596689566934,
          1.1876021244161188,
          1.271634126184984,
          -0.2795533824193319,
          -1.9056263876115092,
          1.0947587027067796,
          -0.372279956072975,
          0.8078982842393541,
          0.24586963761177888,
          1.2312321136396454,
          -0.17447290390264522,
          -0.38122086074732653,
          -0.7851067104971744,
          -0.30677339413517046,
          -1.1153469541785526,
          -1.268705753155011,
          -1.0516340367499943,
          0.8078730526908118,
          -0.6654810773103337,
          0.4765200681845515,
          0.20662969875360157,
          0.27918620297987795,
          0.40802133707589155,
          1.2763581430226278,
          1.3378200142549608,
          -1.0643769902927183,
          -1.1549667214964872,
          1.6004757569170087,
          -0.42593731310572397,
          0.713247303276228,
          -0.4372100489811118,
          1.0021751145910691,
          1.3354722150222882,
          -0.3560516664855117,
          0.9911564978729335,
          0.6106046459167388,
          -0.2650783288238696,
          1.4191519832449284,
          0.7093530482147238,
          1.2937644648767108,
          -0.15111663264208083,
          2.0370254465584474,
          0.906193520781411,
          1.2115197524753947,
          1.4246594347089725,
          0.4487685507219152
         ],
         "yaxis": "y9"
        },
        {
         "line": {
          "color": "rgba(128, 128, 128, 1.0)",
          "dash": "solid",
          "shape": "linear",
          "width": 1.3
         },
         "marker": {
          "size": 2,
          "symbol": "circle"
         },
         "mode": "markers",
         "name": "C",
         "text": "",
         "type": "scatter",
         "x": [
          -1.3171858117403332,
          0.7624380978698583,
          -0.26598712621796905,
          -0.5264968283634126,
          0.10775038884771772,
          -0.41831917087155723,
          -0.13336026616854868,
          -2.052679358839702,
          -0.2308750629501153,
          0.2902137081421649,
          0.5462280675460035,
          1.565509826018809,
          -1.4187648886808986,
          -1.423344160179114,
          0.5147971814034639,
          -1.1955784398830605,
          0.08841387852632229,
          0.9668380080455504,
          -2.0063648569849772,
          0.6808736919461532,
          0.18781766388703022,
          0.5614171365614565,
          -0.6444394608278725,
          -0.9555977425121828,
          0.5299791506581135,
          0.41850851624872903,
          -1.5661227844941723,
          0.5843187666974453,
          -1.4004706879941347,
          0.8719603928383804,
          0.12816736803148948,
          -0.6104649553361966,
          0.39821361249434495,
          0.3606846856900817,
          0.7413036225859474,
          0.1627576812495385,
          -0.11822845890206685,
          0.7059999893225765,
          0.7170034475706563,
          -0.5027599164597009,
          0.10001385944510605,
          0.005207958097552748,
          1.6930322553144348,
          0.29635397928301377,
          0.30803560854128187,
          -0.36681447693814095,
          -1.890051113809245,
          0.7540909096954302,
          -0.1773227273363077,
          -0.23349584546769653,
          -0.5713628964543889,
          -1.4716137756569088,
          0.9304562545373743,
          0.4995878163784225,
          0.65980085367938,
          -1.4262329597400663,
          0.4473009688035141,
          0.9388857213269526,
          -0.449652377171511,
          -0.41019978026484133,
          1.3454325846951676,
          -1.734053342435024,
          -0.35576304849981377,
          1.9486922219268799,
          0.5737692643406617,
          0.9393293725888838,
          -0.8987704602488126,
          -1.2179927775473998,
          -0.3154686479242465,
          0.11496694956077251,
          0.868292857634255,
          0.38527378173858845,
          0.6327010724068767,
          0.6067968510291968,
          0.1742604029204123,
          0.7507414554072483,
          0.0793466639492751,
          0.05341761777299585,
          -1.1964557802321034,
          1.6445281574639363,
          0.71006173073308,
          0.09181605215087117,
          0.15398334088760324,
          -0.3343350278170103,
          -1.4134082457416612,
          0.5162593987334545,
          -1.0231974241693471,
          1.736265472251738,
          -1.2743123078491674,
          -1.1200108534882374,
          0.284539525306163,
          0.28641559822266427,
          -0.10302174914339148,
          1.1760968400628866,
          0.31675765561830554,
          1.1281775757982864,
          -0.9114292516561148,
          -0.09818298589490093,
          1.4896167556584419,
          0.1509599741757448
         ],
         "xaxis": "x10",
         "y": [
          0.08379242003873957,
          0.2148785331592744,
          0.05037764227737709,
          0.8756341253893809,
          0.8590465590528559,
          0.4391174055308217,
          0.189431450404587,
          -0.3718155703527072,
          -0.5550634508530573,
          -1.3794441465660177,
          -1.0563146350461485,
          0.14681120692010374,
          0.3131553635618999,
          0.5585557787930133,
          0.07722880995042875,
          -0.04392131380774122,
          1.1243569267065112,
          0.4253139715551968,
          0.11595870860059217,
          0.03402107108713042,
          -1.152168023984466,
          -0.14102868678892333,
          0.32125039377044723,
          -0.015777088712871118,
          1.9589536177600075,
          -0.43206789180190025,
          0.12749666112522964,
          0.60374343136248,
          0.7276624395022874,
          -0.8553924209946996,
          -1.5239420978185667,
          2.3059002372762567,
          1.7657544426604617,
          1.4176804265866652,
          -0.14577675495265452,
          -2.5488718386666656,
          0.21232980357778392,
          0.27948468183738157,
          -1.1662977440321178,
          -0.02682624947907975,
          -0.07801098168006376,
          -1.5299524615332178,
          0.19086992639333702,
          -1.422834386813165,
          0.3651424582753189,
          -0.03978866054513912,
          -0.21945194172803012,
          -0.9001789899014709,
          0.3656287775959234,
          0.015043418972787223,
          -0.6988972675541378,
          -1.099385561047347,
          0.46100314491139704,
          0.08494565785337806,
          0.6599596689566934,
          1.1876021244161188,
          1.271634126184984,
          -0.2795533824193319,
          -1.9056263876115092,
          1.0947587027067796,
          -0.372279956072975,
          0.8078982842393541,
          0.24586963761177888,
          1.2312321136396454,
          -0.17447290390264522,
          -0.38122086074732653,
          -0.7851067104971744,
          -0.30677339413517046,
          -1.1153469541785526,
          -1.268705753155011,
          -1.0516340367499943,
          0.8078730526908118,
          -0.6654810773103337,
          0.4765200681845515,
          0.20662969875360157,
          0.27918620297987795,
          0.40802133707589155,
          1.2763581430226278,
          1.3378200142549608,
          -1.0643769902927183,
          -1.1549667214964872,
          1.6004757569170087,
          -0.42593731310572397,
          0.713247303276228,
          -0.4372100489811118,
          1.0021751145910691,
          1.3354722150222882,
          -0.3560516664855117,
          0.9911564978729335,
          0.6106046459167388,
          -0.2650783288238696,
          1.4191519832449284,
          0.7093530482147238,
          1.2937644648767108,
          -0.15111663264208083,
          2.0370254465584474,
          0.906193520781411,
          1.2115197524753947,
          1.4246594347089725,
          0.4487685507219152
         ],
         "yaxis": "y10"
        },
        {
         "histfunc": "count",
         "histnorm": "",
         "marker": {
          "color": "rgba(50, 171, 96, 1.0)",
          "line": {
           "color": "#4D5663",
           "width": 1.3
          }
         },
         "name": "C",
         "nbinsx": 10,
         "opacity": 0.8,
         "orientation": "v",
         "type": "histogram",
         "x": [
          0.08379242003873957,
          0.2148785331592744,
          0.05037764227737709,
          0.8756341253893809,
          0.8590465590528559,
          0.4391174055308217,
          0.189431450404587,
          -0.3718155703527072,
          -0.5550634508530573,
          -1.3794441465660177,
          -1.0563146350461485,
          0.14681120692010374,
          0.3131553635618999,
          0.5585557787930133,
          0.07722880995042875,
          -0.04392131380774122,
          1.1243569267065112,
          0.4253139715551968,
          0.11595870860059217,
          0.03402107108713042,
          -1.152168023984466,
          -0.14102868678892333,
          0.32125039377044723,
          -0.015777088712871118,
          1.9589536177600075,
          -0.43206789180190025,
          0.12749666112522964,
          0.60374343136248,
          0.7276624395022874,
          -0.8553924209946996,
          -1.5239420978185667,
          2.3059002372762567,
          1.7657544426604617,
          1.4176804265866652,
          -0.14577675495265452,
          -2.5488718386666656,
          0.21232980357778392,
          0.27948468183738157,
          -1.1662977440321178,
          -0.02682624947907975,
          -0.07801098168006376,
          -1.5299524615332178,
          0.19086992639333702,
          -1.422834386813165,
          0.3651424582753189,
          -0.03978866054513912,
          -0.21945194172803012,
          -0.9001789899014709,
          0.3656287775959234,
          0.015043418972787223,
          -0.6988972675541378,
          -1.099385561047347,
          0.46100314491139704,
          0.08494565785337806,
          0.6599596689566934,
          1.1876021244161188,
          1.271634126184984,
          -0.2795533824193319,
          -1.9056263876115092,
          1.0947587027067796,
          -0.372279956072975,
          0.8078982842393541,
          0.24586963761177888,
          1.2312321136396454,
          -0.17447290390264522,
          -0.38122086074732653,
          -0.7851067104971744,
          -0.30677339413517046,
          -1.1153469541785526,
          -1.268705753155011,
          -1.0516340367499943,
          0.8078730526908118,
          -0.6654810773103337,
          0.4765200681845515,
          0.20662969875360157,
          0.27918620297987795,
          0.40802133707589155,
          1.2763581430226278,
          1.3378200142549608,
          -1.0643769902927183,
          -1.1549667214964872,
          1.6004757569170087,
          -0.42593731310572397,
          0.713247303276228,
          -0.4372100489811118,
          1.0021751145910691,
          1.3354722150222882,
          -0.3560516664855117,
          0.9911564978729335,
          0.6106046459167388,
          -0.2650783288238696,
          1.4191519832449284,
          0.7093530482147238,
          1.2937644648767108,
          -0.15111663264208083,
          2.0370254465584474,
          0.906193520781411,
          1.2115197524753947,
          1.4246594347089725,
          0.4487685507219152
         ],
         "xaxis": "x11",
         "yaxis": "y11"
        },
        {
         "line": {
          "color": "rgba(128, 128, 128, 1.0)",
          "dash": "solid",
          "shape": "linear",
          "width": 1.3
         },
         "marker": {
          "size": 2,
          "symbol": "circle"
         },
         "mode": "markers",
         "name": "C",
         "text": "",
         "type": "scatter",
         "x": [
          -0.6920634091911322,
          -1.2328974794541194,
          -0.13337965401471033,
          -0.10718312588982684,
          -1.1869959369538874,
          -1.2194779182027682,
          0.5538225567018522,
          0.3086265573058003,
          1.5501011090909576,
          -0.6188799170130024,
          -0.6330510694501634,
          0.12190495414005852,
          -0.8340665719451371,
          -0.3052587727563927,
          0.17048465739114646,
          2.5484889581440995,
          -0.4001988622871872,
          0.2232020074270806,
          3.3378359210526516,
          -1.9951039860201403,
          0.46669753757252347,
          0.06643153558470793,
          -1.0212754397753374,
          -0.8596795616002902,
          -0.5809913983199892,
          1.660379232405525,
          -1.0206828293145023,
          -0.5165516692500176,
          -0.35563432592567235,
          0.900963391813983,
          -2.0907566992355546,
          1.9526024683829384,
          0.7572391375796467,
          0.16457927543657624,
          -0.709574445714888,
          -0.1324330263073747,
          0.37522399686406444,
          -0.467457646527938,
          -1.2034728568367308,
          -0.18682761445402954,
          0.2676089357964147,
          0.9354848298876832,
          -0.1614825418692389,
          -0.15935046380828055,
          -0.2066973243556901,
          2.1138228595046757,
          0.8146101088711156,
          0.2621977456669178,
          -0.40524829672051826,
          -0.4473821199867852,
          -0.8188050705844425,
          -0.8228830639219495,
          0.5150953876104498,
          -0.49697570517748263,
          0.8236699217037411,
          0.7968981169892387,
          0.19963003476156377,
          -1.3086846374128205,
          0.3658069863924726,
          -0.30014818602960625,
          1.0366037965313704,
          1.108217546936431,
          1.6402622395793887,
          -1.464246518706611,
          0.44741047498891323,
          0.6655792148732772,
          0.29205688147747827,
          1.0465287173815978,
          -1.0972484624244334,
          0.9843079937413093,
          0.4005397110947668,
          0.6240958337027928,
          -1.4907753096251966,
          -0.04531497643233301,
          1.5577867100749405,
          0.560085435865454,
          0.8600067975891267,
          1.4101724955969688,
          0.5181935464130717,
          -0.7583553846233285,
          1.267470197937567,
          2.107735225249204,
          -1.604037594672744,
          -1.1246188870452987,
          -0.8027894261801742,
          -0.45016955447510903,
          -0.5291651388810777,
          0.4511046557632813,
          -0.4976688751059435,
          -0.12838705752481272,
          -0.6467687349316987,
          -0.6546091808489067,
          -0.3383808775917049,
          -0.313860301853834,
          -0.7818949483473627,
          -1.1774540958497328,
          1.58084798605212,
          -0.18530178334993333,
          1.7055280861592752,
          -1.4050532797125146
         ],
         "xaxis": "x12",
         "y": [
          0.08379242003873957,
          0.2148785331592744,
          0.05037764227737709,
          0.8756341253893809,
          0.8590465590528559,
          0.4391174055308217,
          0.189431450404587,
          -0.3718155703527072,
          -0.5550634508530573,
          -1.3794441465660177,
          -1.0563146350461485,
          0.14681120692010374,
          0.3131553635618999,
          0.5585557787930133,
          0.07722880995042875,
          -0.04392131380774122,
          1.1243569267065112,
          0.4253139715551968,
          0.11595870860059217,
          0.03402107108713042,
          -1.152168023984466,
          -0.14102868678892333,
          0.32125039377044723,
          -0.015777088712871118,
          1.9589536177600075,
          -0.43206789180190025,
          0.12749666112522964,
          0.60374343136248,
          0.7276624395022874,
          -0.8553924209946996,
          -1.5239420978185667,
          2.3059002372762567,
          1.7657544426604617,
          1.4176804265866652,
          -0.14577675495265452,
          -2.5488718386666656,
          0.21232980357778392,
          0.27948468183738157,
          -1.1662977440321178,
          -0.02682624947907975,
          -0.07801098168006376,
          -1.5299524615332178,
          0.19086992639333702,
          -1.422834386813165,
          0.3651424582753189,
          -0.03978866054513912,
          -0.21945194172803012,
          -0.9001789899014709,
          0.3656287775959234,
          0.015043418972787223,
          -0.6988972675541378,
          -1.099385561047347,
          0.46100314491139704,
          0.08494565785337806,
          0.6599596689566934,
          1.1876021244161188,
          1.271634126184984,
          -0.2795533824193319,
          -1.9056263876115092,
          1.0947587027067796,
          -0.372279956072975,
          0.8078982842393541,
          0.24586963761177888,
          1.2312321136396454,
          -0.17447290390264522,
          -0.38122086074732653,
          -0.7851067104971744,
          -0.30677339413517046,
          -1.1153469541785526,
          -1.268705753155011,
          -1.0516340367499943,
          0.8078730526908118,
          -0.6654810773103337,
          0.4765200681845515,
          0.20662969875360157,
          0.27918620297987795,
          0.40802133707589155,
          1.2763581430226278,
          1.3378200142549608,
          -1.0643769902927183,
          -1.1549667214964872,
          1.6004757569170087,
          -0.42593731310572397,
          0.713247303276228,
          -0.4372100489811118,
          1.0021751145910691,
          1.3354722150222882,
          -0.3560516664855117,
          0.9911564978729335,
          0.6106046459167388,
          -0.2650783288238696,
          1.4191519832449284,
          0.7093530482147238,
          1.2937644648767108,
          -0.15111663264208083,
          2.0370254465584474,
          0.906193520781411,
          1.2115197524753947,
          1.4246594347089725,
          0.4487685507219152
         ],
         "yaxis": "y12"
        },
        {
         "line": {
          "color": "rgba(128, 128, 128, 1.0)",
          "dash": "solid",
          "shape": "linear",
          "width": 1.3
         },
         "marker": {
          "size": 2,
          "symbol": "circle"
         },
         "mode": "markers",
         "name": "D",
         "text": "",
         "type": "scatter",
         "x": [
          1.0306268310521411,
          -0.009779592803279932,
          -0.2790768811322032,
          -1.0139740466904634,
          0.0900692504783834,
          -0.2535851169626924,
          -1.6467454574663618,
          1.7307237074588178,
          1.9502548897209437,
          -0.19755479047900773,
          0.2398666841948917,
          0.7010948394146828,
          -1.1451707605139148,
          0.46661900006528834,
          -0.8657550022928382,
          -1.6038650824285154,
          0.27757731154907933,
          -0.3431836968023546,
          -0.23005393886187692,
          1.0417258828980622,
          -0.8420841231491191,
          0.8152608031368365,
          -0.9625178400335987,
          -1.1404010459367615,
          0.050065537297441697,
          -2.370511621398351,
          -0.14919235354725413,
          0.41704549449768563,
          -0.6054188923136063,
          1.1554385786210146,
          0.7844642545459046,
          -1.475697549467589,
          0.04357284219822051,
          0.6794088833644034,
          0.6088565243362992,
          -1.1236414266064494,
          -0.8645947981730004,
          -0.189315236879113,
          -1.6210608672291478,
          0.9826668024309222,
          -0.6583173023179347,
          -0.5261504456906693,
          -0.03469245259160687,
          -0.6441359781479439,
          2.1734528796420545,
          -0.695189681213425,
          -0.46387873617425734,
          -1.4406688499833342,
          -1.2366946841550048,
          -0.10445908435134638,
          1.4251663204192084,
          0.5459100358998471,
          -0.8142886165167468,
          1.6532780391932245,
          -0.1756159152534916,
          1.3322517121474091,
          -1.4189570454958202,
          -0.4365752199462574,
          0.9537908960745699,
          -0.3539941043674274,
          -1.7317323557753117,
          -1.6056342883818238,
          -0.14249131405174065,
          0.757385761017589,
          0.9217206398940825,
          0.8344690988574576,
          -1.2899900493073886,
          -0.5943831892006142,
          -0.30372445542656695,
          -0.6417063779059349,
          -0.7037207687010433,
          1.1647604326551553,
          1.6423197600571988,
          1.5706789394322735,
          0.1367178711685339,
          -0.27323866815150344,
          -0.6314346286156403,
          0.4479905105725482,
          0.5890067573599885,
          0.2851593629595951,
          0.21447051208841894,
          -0.33151322309343284,
          0.5286453144797023,
          -1.06397649923059,
          0.5211095633016483,
          0.11631777499822968,
          0.42275350128486044,
          -0.6165342792073051,
          -1.6774563192891445,
          -0.4449128911114853,
          -0.3718594486932189,
          -0.3548745644616727,
          -0.0653257564023129,
          -1.380490514092773,
          1.2171934013759687,
          -0.19344980330040593,
          -1.0615002168273389,
          -0.7803014574950484,
          1.0018898744196458,
          -0.005603546937125365
         ],
         "xaxis": "x13",
         "y": [
          -0.6920634091911322,
          -1.2328974794541194,
          -0.13337965401471033,
          -0.10718312588982684,
          -1.1869959369538874,
          -1.2194779182027682,
          0.5538225567018522,
          0.3086265573058003,
          1.5501011090909576,
          -0.6188799170130024,
          -0.6330510694501634,
          0.12190495414005852,
          -0.8340665719451371,
          -0.3052587727563927,
          0.17048465739114646,
          2.5484889581440995,
          -0.4001988622871872,
          0.2232020074270806,
          3.3378359210526516,
          -1.9951039860201403,
          0.46669753757252347,
          0.06643153558470793,
          -1.0212754397753374,
          -0.8596795616002902,
          -0.5809913983199892,
          1.660379232405525,
          -1.0206828293145023,
          -0.5165516692500176,
          -0.35563432592567235,
          0.900963391813983,
          -2.0907566992355546,
          1.9526024683829384,
          0.7572391375796467,
          0.16457927543657624,
          -0.709574445714888,
          -0.1324330263073747,
          0.37522399686406444,
          -0.467457646527938,
          -1.2034728568367308,
          -0.18682761445402954,
          0.2676089357964147,
          0.9354848298876832,
          -0.1614825418692389,
          -0.15935046380828055,
          -0.2066973243556901,
          2.1138228595046757,
          0.8146101088711156,
          0.2621977456669178,
          -0.40524829672051826,
          -0.4473821199867852,
          -0.8188050705844425,
          -0.8228830639219495,
          0.5150953876104498,
          -0.49697570517748263,
          0.8236699217037411,
          0.7968981169892387,
          0.19963003476156377,
          -1.3086846374128205,
          0.3658069863924726,
          -0.30014818602960625,
          1.0366037965313704,
          1.108217546936431,
          1.6402622395793887,
          -1.464246518706611,
          0.44741047498891323,
          0.6655792148732772,
          0.29205688147747827,
          1.0465287173815978,
          -1.0972484624244334,
          0.9843079937413093,
          0.4005397110947668,
          0.6240958337027928,
          -1.4907753096251966,
          -0.04531497643233301,
          1.5577867100749405,
          0.560085435865454,
          0.8600067975891267,
          1.4101724955969688,
          0.5181935464130717,
          -0.7583553846233285,
          1.267470197937567,
          2.107735225249204,
          -1.604037594672744,
          -1.1246188870452987,
          -0.8027894261801742,
          -0.45016955447510903,
          -0.5291651388810777,
          0.4511046557632813,
          -0.4976688751059435,
          -0.12838705752481272,
          -0.6467687349316987,
          -0.6546091808489067,
          -0.3383808775917049,
          -0.313860301853834,
          -0.7818949483473627,
          -1.1774540958497328,
          1.58084798605212,
          -0.18530178334993333,
          1.7055280861592752,
          -1.4050532797125146
         ],
         "yaxis": "y13"
        },
        {
         "line": {
          "color": "rgba(128, 128, 128, 1.0)",
          "dash": "solid",
          "shape": "linear",
          "width": 1.3
         },
         "marker": {
          "size": 2,
          "symbol": "circle"
         },
         "mode": "markers",
         "name": "D",
         "text": "",
         "type": "scatter",
         "x": [
          -1.3171858117403332,
          0.7624380978698583,
          -0.26598712621796905,
          -0.5264968283634126,
          0.10775038884771772,
          -0.41831917087155723,
          -0.13336026616854868,
          -2.052679358839702,
          -0.2308750629501153,
          0.2902137081421649,
          0.5462280675460035,
          1.565509826018809,
          -1.4187648886808986,
          -1.423344160179114,
          0.5147971814034639,
          -1.1955784398830605,
          0.08841387852632229,
          0.9668380080455504,
          -2.0063648569849772,
          0.6808736919461532,
          0.18781766388703022,
          0.5614171365614565,
          -0.6444394608278725,
          -0.9555977425121828,
          0.5299791506581135,
          0.41850851624872903,
          -1.5661227844941723,
          0.5843187666974453,
          -1.4004706879941347,
          0.8719603928383804,
          0.12816736803148948,
          -0.6104649553361966,
          0.39821361249434495,
          0.3606846856900817,
          0.7413036225859474,
          0.1627576812495385,
          -0.11822845890206685,
          0.7059999893225765,
          0.7170034475706563,
          -0.5027599164597009,
          0.10001385944510605,
          0.005207958097552748,
          1.6930322553144348,
          0.29635397928301377,
          0.30803560854128187,
          -0.36681447693814095,
          -1.890051113809245,
          0.7540909096954302,
          -0.1773227273363077,
          -0.23349584546769653,
          -0.5713628964543889,
          -1.4716137756569088,
          0.9304562545373743,
          0.4995878163784225,
          0.65980085367938,
          -1.4262329597400663,
          0.4473009688035141,
          0.9388857213269526,
          -0.449652377171511,
          -0.41019978026484133,
          1.3454325846951676,
          -1.734053342435024,
          -0.35576304849981377,
          1.9486922219268799,
          0.5737692643406617,
          0.9393293725888838,
          -0.8987704602488126,
          -1.2179927775473998,
          -0.3154686479242465,
          0.11496694956077251,
          0.868292857634255,
          0.38527378173858845,
          0.6327010724068767,
          0.6067968510291968,
          0.1742604029204123,
          0.7507414554072483,
          0.0793466639492751,
          0.05341761777299585,
          -1.1964557802321034,
          1.6445281574639363,
          0.71006173073308,
          0.09181605215087117,
          0.15398334088760324,
          -0.3343350278170103,
          -1.4134082457416612,
          0.5162593987334545,
          -1.0231974241693471,
          1.736265472251738,
          -1.2743123078491674,
          -1.1200108534882374,
          0.284539525306163,
          0.28641559822266427,
          -0.10302174914339148,
          1.1760968400628866,
          0.31675765561830554,
          1.1281775757982864,
          -0.9114292516561148,
          -0.09818298589490093,
          1.4896167556584419,
          0.1509599741757448
         ],
         "xaxis": "x14",
         "y": [
          -0.6920634091911322,
          -1.2328974794541194,
          -0.13337965401471033,
          -0.10718312588982684,
          -1.1869959369538874,
          -1.2194779182027682,
          0.5538225567018522,
          0.3086265573058003,
          1.5501011090909576,
          -0.6188799170130024,
          -0.6330510694501634,
          0.12190495414005852,
          -0.8340665719451371,
          -0.3052587727563927,
          0.17048465739114646,
          2.5484889581440995,
          -0.4001988622871872,
          0.2232020074270806,
          3.3378359210526516,
          -1.9951039860201403,
          0.46669753757252347,
          0.06643153558470793,
          -1.0212754397753374,
          -0.8596795616002902,
          -0.5809913983199892,
          1.660379232405525,
          -1.0206828293145023,
          -0.5165516692500176,
          -0.35563432592567235,
          0.900963391813983,
          -2.0907566992355546,
          1.9526024683829384,
          0.7572391375796467,
          0.16457927543657624,
          -0.709574445714888,
          -0.1324330263073747,
          0.37522399686406444,
          -0.467457646527938,
          -1.2034728568367308,
          -0.18682761445402954,
          0.2676089357964147,
          0.9354848298876832,
          -0.1614825418692389,
          -0.15935046380828055,
          -0.2066973243556901,
          2.1138228595046757,
          0.8146101088711156,
          0.2621977456669178,
          -0.40524829672051826,
          -0.4473821199867852,
          -0.8188050705844425,
          -0.8228830639219495,
          0.5150953876104498,
          -0.49697570517748263,
          0.8236699217037411,
          0.7968981169892387,
          0.19963003476156377,
          -1.3086846374128205,
          0.3658069863924726,
          -0.30014818602960625,
          1.0366037965313704,
          1.108217546936431,
          1.6402622395793887,
          -1.464246518706611,
          0.44741047498891323,
          0.6655792148732772,
          0.29205688147747827,
          1.0465287173815978,
          -1.0972484624244334,
          0.9843079937413093,
          0.4005397110947668,
          0.6240958337027928,
          -1.4907753096251966,
          -0.04531497643233301,
          1.5577867100749405,
          0.560085435865454,
          0.8600067975891267,
          1.4101724955969688,
          0.5181935464130717,
          -0.7583553846233285,
          1.267470197937567,
          2.107735225249204,
          -1.604037594672744,
          -1.1246188870452987,
          -0.8027894261801742,
          -0.45016955447510903,
          -0.5291651388810777,
          0.4511046557632813,
          -0.4976688751059435,
          -0.12838705752481272,
          -0.6467687349316987,
          -0.6546091808489067,
          -0.3383808775917049,
          -0.313860301853834,
          -0.7818949483473627,
          -1.1774540958497328,
          1.58084798605212,
          -0.18530178334993333,
          1.7055280861592752,
          -1.4050532797125146
         ],
         "yaxis": "y14"
        },
        {
         "line": {
          "color": "rgba(128, 128, 128, 1.0)",
          "dash": "solid",
          "shape": "linear",
          "width": 1.3
         },
         "marker": {
          "size": 2,
          "symbol": "circle"
         },
         "mode": "markers",
         "name": "D",
         "text": "",
         "type": "scatter",
         "x": [
          0.08379242003873957,
          0.2148785331592744,
          0.05037764227737709,
          0.8756341253893809,
          0.8590465590528559,
          0.4391174055308217,
          0.189431450404587,
          -0.3718155703527072,
          -0.5550634508530573,
          -1.3794441465660177,
          -1.0563146350461485,
          0.14681120692010374,
          0.3131553635618999,
          0.5585557787930133,
          0.07722880995042875,
          -0.04392131380774122,
          1.1243569267065112,
          0.4253139715551968,
          0.11595870860059217,
          0.03402107108713042,
          -1.152168023984466,
          -0.14102868678892333,
          0.32125039377044723,
          -0.015777088712871118,
          1.9589536177600075,
          -0.43206789180190025,
          0.12749666112522964,
          0.60374343136248,
          0.7276624395022874,
          -0.8553924209946996,
          -1.5239420978185667,
          2.3059002372762567,
          1.7657544426604617,
          1.4176804265866652,
          -0.14577675495265452,
          -2.5488718386666656,
          0.21232980357778392,
          0.27948468183738157,
          -1.1662977440321178,
          -0.02682624947907975,
          -0.07801098168006376,
          -1.5299524615332178,
          0.19086992639333702,
          -1.422834386813165,
          0.3651424582753189,
          -0.03978866054513912,
          -0.21945194172803012,
          -0.9001789899014709,
          0.3656287775959234,
          0.015043418972787223,
          -0.6988972675541378,
          -1.099385561047347,
          0.46100314491139704,
          0.08494565785337806,
          0.6599596689566934,
          1.1876021244161188,
          1.271634126184984,
          -0.2795533824193319,
          -1.9056263876115092,
          1.0947587027067796,
          -0.372279956072975,
          0.8078982842393541,
          0.24586963761177888,
          1.2312321136396454,
          -0.17447290390264522,
          -0.38122086074732653,
          -0.7851067104971744,
          -0.30677339413517046,
          -1.1153469541785526,
          -1.268705753155011,
          -1.0516340367499943,
          0.8078730526908118,
          -0.6654810773103337,
          0.4765200681845515,
          0.20662969875360157,
          0.27918620297987795,
          0.40802133707589155,
          1.2763581430226278,
          1.3378200142549608,
          -1.0643769902927183,
          -1.1549667214964872,
          1.6004757569170087,
          -0.42593731310572397,
          0.713247303276228,
          -0.4372100489811118,
          1.0021751145910691,
          1.3354722150222882,
          -0.3560516664855117,
          0.9911564978729335,
          0.6106046459167388,
          -0.2650783288238696,
          1.4191519832449284,
          0.7093530482147238,
          1.2937644648767108,
          -0.15111663264208083,
          2.0370254465584474,
          0.906193520781411,
          1.2115197524753947,
          1.4246594347089725,
          0.4487685507219152
         ],
         "xaxis": "x15",
         "y": [
          -0.6920634091911322,
          -1.2328974794541194,
          -0.13337965401471033,
          -0.10718312588982684,
          -1.1869959369538874,
          -1.2194779182027682,
          0.5538225567018522,
          0.3086265573058003,
          1.5501011090909576,
          -0.6188799170130024,
          -0.6330510694501634,
          0.12190495414005852,
          -0.8340665719451371,
          -0.3052587727563927,
          0.17048465739114646,
          2.5484889581440995,
          -0.4001988622871872,
          0.2232020074270806,
          3.3378359210526516,
          -1.9951039860201403,
          0.46669753757252347,
          0.06643153558470793,
          -1.0212754397753374,
          -0.8596795616002902,
          -0.5809913983199892,
          1.660379232405525,
          -1.0206828293145023,
          -0.5165516692500176,
          -0.35563432592567235,
          0.900963391813983,
          -2.0907566992355546,
          1.9526024683829384,
          0.7572391375796467,
          0.16457927543657624,
          -0.709574445714888,
          -0.1324330263073747,
          0.37522399686406444,
          -0.467457646527938,
          -1.2034728568367308,
          -0.18682761445402954,
          0.2676089357964147,
          0.9354848298876832,
          -0.1614825418692389,
          -0.15935046380828055,
          -0.2066973243556901,
          2.1138228595046757,
          0.8146101088711156,
          0.2621977456669178,
          -0.40524829672051826,
          -0.4473821199867852,
          -0.8188050705844425,
          -0.8228830639219495,
          0.5150953876104498,
          -0.49697570517748263,
          0.8236699217037411,
          0.7968981169892387,
          0.19963003476156377,
          -1.3086846374128205,
          0.3658069863924726,
          -0.30014818602960625,
          1.0366037965313704,
          1.108217546936431,
          1.6402622395793887,
          -1.464246518706611,
          0.44741047498891323,
          0.6655792148732772,
          0.29205688147747827,
          1.0465287173815978,
          -1.0972484624244334,
          0.9843079937413093,
          0.4005397110947668,
          0.6240958337027928,
          -1.4907753096251966,
          -0.04531497643233301,
          1.5577867100749405,
          0.560085435865454,
          0.8600067975891267,
          1.4101724955969688,
          0.5181935464130717,
          -0.7583553846233285,
          1.267470197937567,
          2.107735225249204,
          -1.604037594672744,
          -1.1246188870452987,
          -0.8027894261801742,
          -0.45016955447510903,
          -0.5291651388810777,
          0.4511046557632813,
          -0.4976688751059435,
          -0.12838705752481272,
          -0.6467687349316987,
          -0.6546091808489067,
          -0.3383808775917049,
          -0.313860301853834,
          -0.7818949483473627,
          -1.1774540958497328,
          1.58084798605212,
          -0.18530178334993333,
          1.7055280861592752,
          -1.4050532797125146
         ],
         "yaxis": "y15"
        },
        {
         "histfunc": "count",
         "histnorm": "",
         "marker": {
          "color": "rgba(128, 0, 128, 1.0)",
          "line": {
           "color": "#4D5663",
           "width": 1.3
          }
         },
         "name": "D",
         "nbinsx": 10,
         "opacity": 0.8,
         "orientation": "v",
         "type": "histogram",
         "x": [
          -0.6920634091911322,
          -1.2328974794541194,
          -0.13337965401471033,
          -0.10718312588982684,
          -1.1869959369538874,
          -1.2194779182027682,
          0.5538225567018522,
          0.3086265573058003,
          1.5501011090909576,
          -0.6188799170130024,
          -0.6330510694501634,
          0.12190495414005852,
          -0.8340665719451371,
          -0.3052587727563927,
          0.17048465739114646,
          2.5484889581440995,
          -0.4001988622871872,
          0.2232020074270806,
          3.3378359210526516,
          -1.9951039860201403,
          0.46669753757252347,
          0.06643153558470793,
          -1.0212754397753374,
          -0.8596795616002902,
          -0.5809913983199892,
          1.660379232405525,
          -1.0206828293145023,
          -0.5165516692500176,
          -0.35563432592567235,
          0.900963391813983,
          -2.0907566992355546,
          1.9526024683829384,
          0.7572391375796467,
          0.16457927543657624,
          -0.709574445714888,
          -0.1324330263073747,
          0.37522399686406444,
          -0.467457646527938,
          -1.2034728568367308,
          -0.18682761445402954,
          0.2676089357964147,
          0.9354848298876832,
          -0.1614825418692389,
          -0.15935046380828055,
          -0.2066973243556901,
          2.1138228595046757,
          0.8146101088711156,
          0.2621977456669178,
          -0.40524829672051826,
          -0.4473821199867852,
          -0.8188050705844425,
          -0.8228830639219495,
          0.5150953876104498,
          -0.49697570517748263,
          0.8236699217037411,
          0.7968981169892387,
          0.19963003476156377,
          -1.3086846374128205,
          0.3658069863924726,
          -0.30014818602960625,
          1.0366037965313704,
          1.108217546936431,
          1.6402622395793887,
          -1.464246518706611,
          0.44741047498891323,
          0.6655792148732772,
          0.29205688147747827,
          1.0465287173815978,
          -1.0972484624244334,
          0.9843079937413093,
          0.4005397110947668,
          0.6240958337027928,
          -1.4907753096251966,
          -0.04531497643233301,
          1.5577867100749405,
          0.560085435865454,
          0.8600067975891267,
          1.4101724955969688,
          0.5181935464130717,
          -0.7583553846233285,
          1.267470197937567,
          2.107735225249204,
          -1.604037594672744,
          -1.1246188870452987,
          -0.8027894261801742,
          -0.45016955447510903,
          -0.5291651388810777,
          0.4511046557632813,
          -0.4976688751059435,
          -0.12838705752481272,
          -0.6467687349316987,
          -0.6546091808489067,
          -0.3383808775917049,
          -0.313860301853834,
          -0.7818949483473627,
          -1.1774540958497328,
          1.58084798605212,
          -0.18530178334993333,
          1.7055280861592752,
          -1.4050532797125146
         ],
         "xaxis": "x16",
         "yaxis": "y16"
        }
       ],
       "layout": {
        "bargap": 0.02,
        "legend": {
         "bgcolor": "#F5F6F9",
         "font": {
          "color": "#4D5663"
         }
        },
        "paper_bgcolor": "#F5F6F9",
        "plot_bgcolor": "#F5F6F9",
        "showlegend": false,
        "template": {
         "data": {
          "bar": [
           {
            "error_x": {
             "color": "#2a3f5f"
            },
            "error_y": {
             "color": "#2a3f5f"
            },
            "marker": {
             "line": {
              "color": "#E5ECF6",
              "width": 0.5
             }
            },
            "type": "bar"
           }
          ],
          "barpolar": [
           {
            "marker": {
             "line": {
              "color": "#E5ECF6",
              "width": 0.5
             }
            },
            "type": "barpolar"
           }
          ],
          "carpet": [
           {
            "aaxis": {
             "endlinecolor": "#2a3f5f",
             "gridcolor": "white",
             "linecolor": "white",
             "minorgridcolor": "white",
             "startlinecolor": "#2a3f5f"
            },
            "baxis": {
             "endlinecolor": "#2a3f5f",
             "gridcolor": "white",
             "linecolor": "white",
             "minorgridcolor": "white",
             "startlinecolor": "#2a3f5f"
            },
            "type": "carpet"
           }
          ],
          "choropleth": [
           {
            "colorbar": {
             "outlinewidth": 0,
             "ticks": ""
            },
            "type": "choropleth"
           }
          ],
          "contour": [
           {
            "colorbar": {
             "outlinewidth": 0,
             "ticks": ""
            },
            "colorscale": [
             [
              0,
              "#0d0887"
             ],
             [
              0.1111111111111111,
              "#46039f"
             ],
             [
              0.2222222222222222,
              "#7201a8"
             ],
             [
              0.3333333333333333,
              "#9c179e"
             ],
             [
              0.4444444444444444,
              "#bd3786"
             ],
             [
              0.5555555555555556,
              "#d8576b"
             ],
             [
              0.6666666666666666,
              "#ed7953"
             ],
             [
              0.7777777777777778,
              "#fb9f3a"
             ],
             [
              0.8888888888888888,
              "#fdca26"
             ],
             [
              1,
              "#f0f921"
             ]
            ],
            "type": "contour"
           }
          ],
          "contourcarpet": [
           {
            "colorbar": {
             "outlinewidth": 0,
             "ticks": ""
            },
            "type": "contourcarpet"
           }
          ],
          "heatmap": [
           {
            "colorbar": {
             "outlinewidth": 0,
             "ticks": ""
            },
            "colorscale": [
             [
              0,
              "#0d0887"
             ],
             [
              0.1111111111111111,
              "#46039f"
             ],
             [
              0.2222222222222222,
              "#7201a8"
             ],
             [
              0.3333333333333333,
              "#9c179e"
             ],
             [
              0.4444444444444444,
              "#bd3786"
             ],
             [
              0.5555555555555556,
              "#d8576b"
             ],
             [
              0.6666666666666666,
              "#ed7953"
             ],
             [
              0.7777777777777778,
              "#fb9f3a"
             ],
             [
              0.8888888888888888,
              "#fdca26"
             ],
             [
              1,
              "#f0f921"
             ]
            ],
            "type": "heatmap"
           }
          ],
          "heatmapgl": [
           {
            "colorbar": {
             "outlinewidth": 0,
             "ticks": ""
            },
            "colorscale": [
             [
              0,
              "#0d0887"
             ],
             [
              0.1111111111111111,
              "#46039f"
             ],
             [
              0.2222222222222222,
              "#7201a8"
             ],
             [
              0.3333333333333333,
              "#9c179e"
             ],
             [
              0.4444444444444444,
              "#bd3786"
             ],
             [
              0.5555555555555556,
              "#d8576b"
             ],
             [
              0.6666666666666666,
              "#ed7953"
             ],
             [
              0.7777777777777778,
              "#fb9f3a"
             ],
             [
              0.8888888888888888,
              "#fdca26"
             ],
             [
              1,
              "#f0f921"
             ]
            ],
            "type": "heatmapgl"
           }
          ],
          "histogram": [
           {
            "marker": {
             "colorbar": {
              "outlinewidth": 0,
              "ticks": ""
             }
            },
            "type": "histogram"
           }
          ],
          "histogram2d": [
           {
            "colorbar": {
             "outlinewidth": 0,
             "ticks": ""
            },
            "colorscale": [
             [
              0,
              "#0d0887"
             ],
             [
              0.1111111111111111,
              "#46039f"
             ],
             [
              0.2222222222222222,
              "#7201a8"
             ],
             [
              0.3333333333333333,
              "#9c179e"
             ],
             [
              0.4444444444444444,
              "#bd3786"
             ],
             [
              0.5555555555555556,
              "#d8576b"
             ],
             [
              0.6666666666666666,
              "#ed7953"
             ],
             [
              0.7777777777777778,
              "#fb9f3a"
             ],
             [
              0.8888888888888888,
              "#fdca26"
             ],
             [
              1,
              "#f0f921"
             ]
            ],
            "type": "histogram2d"
           }
          ],
          "histogram2dcontour": [
           {
            "colorbar": {
             "outlinewidth": 0,
             "ticks": ""
            },
            "colorscale": [
             [
              0,
              "#0d0887"
             ],
             [
              0.1111111111111111,
              "#46039f"
             ],
             [
              0.2222222222222222,
              "#7201a8"
             ],
             [
              0.3333333333333333,
              "#9c179e"
             ],
             [
              0.4444444444444444,
              "#bd3786"
             ],
             [
              0.5555555555555556,
              "#d8576b"
             ],
             [
              0.6666666666666666,
              "#ed7953"
             ],
             [
              0.7777777777777778,
              "#fb9f3a"
             ],
             [
              0.8888888888888888,
              "#fdca26"
             ],
             [
              1,
              "#f0f921"
             ]
            ],
            "type": "histogram2dcontour"
           }
          ],
          "mesh3d": [
           {
            "colorbar": {
             "outlinewidth": 0,
             "ticks": ""
            },
            "type": "mesh3d"
           }
          ],
          "parcoords": [
           {
            "line": {
             "colorbar": {
              "outlinewidth": 0,
              "ticks": ""
             }
            },
            "type": "parcoords"
           }
          ],
          "pie": [
           {
            "automargin": true,
            "type": "pie"
           }
          ],
          "scatter": [
           {
            "marker": {
             "colorbar": {
              "outlinewidth": 0,
              "ticks": ""
             }
            },
            "type": "scatter"
           }
          ],
          "scatter3d": [
           {
            "line": {
             "colorbar": {
              "outlinewidth": 0,
              "ticks": ""
             }
            },
            "marker": {
             "colorbar": {
              "outlinewidth": 0,
              "ticks": ""
             }
            },
            "type": "scatter3d"
           }
          ],
          "scattercarpet": [
           {
            "marker": {
             "colorbar": {
              "outlinewidth": 0,
              "ticks": ""
             }
            },
            "type": "scattercarpet"
           }
          ],
          "scattergeo": [
           {
            "marker": {
             "colorbar": {
              "outlinewidth": 0,
              "ticks": ""
             }
            },
            "type": "scattergeo"
           }
          ],
          "scattergl": [
           {
            "marker": {
             "colorbar": {
              "outlinewidth": 0,
              "ticks": ""
             }
            },
            "type": "scattergl"
           }
          ],
          "scattermapbox": [
           {
            "marker": {
             "colorbar": {
              "outlinewidth": 0,
              "ticks": ""
             }
            },
            "type": "scattermapbox"
           }
          ],
          "scatterpolar": [
           {
            "marker": {
             "colorbar": {
              "outlinewidth": 0,
              "ticks": ""
             }
            },
            "type": "scatterpolar"
           }
          ],
          "scatterpolargl": [
           {
            "marker": {
             "colorbar": {
              "outlinewidth": 0,
              "ticks": ""
             }
            },
            "type": "scatterpolargl"
           }
          ],
          "scatterternary": [
           {
            "marker": {
             "colorbar": {
              "outlinewidth": 0,
              "ticks": ""
             }
            },
            "type": "scatterternary"
           }
          ],
          "surface": [
           {
            "colorbar": {
             "outlinewidth": 0,
             "ticks": ""
            },
            "colorscale": [
             [
              0,
              "#0d0887"
             ],
             [
              0.1111111111111111,
              "#46039f"
             ],
             [
              0.2222222222222222,
              "#7201a8"
             ],
             [
              0.3333333333333333,
              "#9c179e"
             ],
             [
              0.4444444444444444,
              "#bd3786"
             ],
             [
              0.5555555555555556,
              "#d8576b"
             ],
             [
              0.6666666666666666,
              "#ed7953"
             ],
             [
              0.7777777777777778,
              "#fb9f3a"
             ],
             [
              0.8888888888888888,
              "#fdca26"
             ],
             [
              1,
              "#f0f921"
             ]
            ],
            "type": "surface"
           }
          ],
          "table": [
           {
            "cells": {
             "fill": {
              "color": "#EBF0F8"
             },
             "line": {
              "color": "white"
             }
            },
            "header": {
             "fill": {
              "color": "#C8D4E3"
             },
             "line": {
              "color": "white"
             }
            },
            "type": "table"
           }
          ]
         },
         "layout": {
          "annotationdefaults": {
           "arrowcolor": "#2a3f5f",
           "arrowhead": 0,
           "arrowwidth": 1
          },
          "coloraxis": {
           "colorbar": {
            "outlinewidth": 0,
            "ticks": ""
           }
          },
          "colorscale": {
           "diverging": [
            [
             0,
             "#8e0152"
            ],
            [
             0.1,
             "#c51b7d"
            ],
            [
             0.2,
             "#de77ae"
            ],
            [
             0.3,
             "#f1b6da"
            ],
            [
             0.4,
             "#fde0ef"
            ],
            [
             0.5,
             "#f7f7f7"
            ],
            [
             0.6,
             "#e6f5d0"
            ],
            [
             0.7,
             "#b8e186"
            ],
            [
             0.8,
             "#7fbc41"
            ],
            [
             0.9,
             "#4d9221"
            ],
            [
             1,
             "#276419"
            ]
           ],
           "sequential": [
            [
             0,
             "#0d0887"
            ],
            [
             0.1111111111111111,
             "#46039f"
            ],
            [
             0.2222222222222222,
             "#7201a8"
            ],
            [
             0.3333333333333333,
             "#9c179e"
            ],
            [
             0.4444444444444444,
             "#bd3786"
            ],
            [
             0.5555555555555556,
             "#d8576b"
            ],
            [
             0.6666666666666666,
             "#ed7953"
            ],
            [
             0.7777777777777778,
             "#fb9f3a"
            ],
            [
             0.8888888888888888,
             "#fdca26"
            ],
            [
             1,
             "#f0f921"
            ]
           ],
           "sequentialminus": [
            [
             0,
             "#0d0887"
            ],
            [
             0.1111111111111111,
             "#46039f"
            ],
            [
             0.2222222222222222,
             "#7201a8"
            ],
            [
             0.3333333333333333,
             "#9c179e"
            ],
            [
             0.4444444444444444,
             "#bd3786"
            ],
            [
             0.5555555555555556,
             "#d8576b"
            ],
            [
             0.6666666666666666,
             "#ed7953"
            ],
            [
             0.7777777777777778,
             "#fb9f3a"
            ],
            [
             0.8888888888888888,
             "#fdca26"
            ],
            [
             1,
             "#f0f921"
            ]
           ]
          },
          "colorway": [
           "#636efa",
           "#EF553B",
           "#00cc96",
           "#ab63fa",
           "#FFA15A",
           "#19d3f3",
           "#FF6692",
           "#B6E880",
           "#FF97FF",
           "#FECB52"
          ],
          "font": {
           "color": "#2a3f5f"
          },
          "geo": {
           "bgcolor": "white",
           "lakecolor": "white",
           "landcolor": "#E5ECF6",
           "showlakes": true,
           "showland": true,
           "subunitcolor": "white"
          },
          "hoverlabel": {
           "align": "left"
          },
          "hovermode": "closest",
          "mapbox": {
           "style": "light"
          },
          "paper_bgcolor": "white",
          "plot_bgcolor": "#E5ECF6",
          "polar": {
           "angularaxis": {
            "gridcolor": "white",
            "linecolor": "white",
            "ticks": ""
           },
           "bgcolor": "#E5ECF6",
           "radialaxis": {
            "gridcolor": "white",
            "linecolor": "white",
            "ticks": ""
           }
          },
          "scene": {
           "xaxis": {
            "backgroundcolor": "#E5ECF6",
            "gridcolor": "white",
            "gridwidth": 2,
            "linecolor": "white",
            "showbackground": true,
            "ticks": "",
            "zerolinecolor": "white"
           },
           "yaxis": {
            "backgroundcolor": "#E5ECF6",
            "gridcolor": "white",
            "gridwidth": 2,
            "linecolor": "white",
            "showbackground": true,
            "ticks": "",
            "zerolinecolor": "white"
           },
           "zaxis": {
            "backgroundcolor": "#E5ECF6",
            "gridcolor": "white",
            "gridwidth": 2,
            "linecolor": "white",
            "showbackground": true,
            "ticks": "",
            "zerolinecolor": "white"
           }
          },
          "shapedefaults": {
           "line": {
            "color": "#2a3f5f"
           }
          },
          "ternary": {
           "aaxis": {
            "gridcolor": "white",
            "linecolor": "white",
            "ticks": ""
           },
           "baxis": {
            "gridcolor": "white",
            "linecolor": "white",
            "ticks": ""
           },
           "bgcolor": "#E5ECF6",
           "caxis": {
            "gridcolor": "white",
            "linecolor": "white",
            "ticks": ""
           }
          },
          "title": {
           "x": 0.05
          },
          "xaxis": {
           "automargin": true,
           "gridcolor": "white",
           "linecolor": "white",
           "ticks": "",
           "title": {
            "standoff": 15
           },
           "zerolinecolor": "white",
           "zerolinewidth": 2
          },
          "yaxis": {
           "automargin": true,
           "gridcolor": "white",
           "linecolor": "white",
           "ticks": "",
           "title": {
            "standoff": 15
           },
           "zerolinecolor": "white",
           "zerolinewidth": 2
          }
         }
        },
        "title": {
         "font": {
          "color": "#4D5663"
         }
        },
        "xaxis": {
         "anchor": "y",
         "domain": [
          0,
          0.2125
         ],
         "gridcolor": "#E1E5ED",
         "showgrid": false,
         "tickfont": {
          "color": "#4D5663"
         },
         "title": {
          "font": {
           "color": "#4D5663"
          },
          "text": ""
         },
         "zerolinecolor": "#E1E5ED"
        },
        "xaxis10": {
         "anchor": "y10",
         "domain": [
          0.2625,
          0.475
         ],
         "gridcolor": "#E1E5ED",
         "showgrid": false,
         "tickfont": {
          "color": "#4D5663"
         },
         "title": {
          "font": {
           "color": "#4D5663"
          },
          "text": ""
         },
         "zerolinecolor": "#E1E5ED"
        },
        "xaxis11": {
         "anchor": "y11",
         "domain": [
          0.525,
          0.7375
         ],
         "gridcolor": "#E1E5ED",
         "showgrid": false,
         "tickfont": {
          "color": "#4D5663"
         },
         "title": {
          "font": {
           "color": "#4D5663"
          },
          "text": ""
         },
         "zerolinecolor": "#E1E5ED"
        },
        "xaxis12": {
         "anchor": "y12",
         "domain": [
          0.7875,
          1
         ],
         "gridcolor": "#E1E5ED",
         "showgrid": false,
         "tickfont": {
          "color": "#4D5663"
         },
         "title": {
          "font": {
           "color": "#4D5663"
          },
          "text": ""
         },
         "zerolinecolor": "#E1E5ED"
        },
        "xaxis13": {
         "anchor": "y13",
         "domain": [
          0,
          0.2125
         ],
         "gridcolor": "#E1E5ED",
         "showgrid": false,
         "tickfont": {
          "color": "#4D5663"
         },
         "title": {
          "font": {
           "color": "#4D5663"
          },
          "text": ""
         },
         "zerolinecolor": "#E1E5ED"
        },
        "xaxis14": {
         "anchor": "y14",
         "domain": [
          0.2625,
          0.475
         ],
         "gridcolor": "#E1E5ED",
         "showgrid": false,
         "tickfont": {
          "color": "#4D5663"
         },
         "title": {
          "font": {
           "color": "#4D5663"
          },
          "text": ""
         },
         "zerolinecolor": "#E1E5ED"
        },
        "xaxis15": {
         "anchor": "y15",
         "domain": [
          0.525,
          0.7375
         ],
         "gridcolor": "#E1E5ED",
         "showgrid": false,
         "tickfont": {
          "color": "#4D5663"
         },
         "title": {
          "font": {
           "color": "#4D5663"
          },
          "text": ""
         },
         "zerolinecolor": "#E1E5ED"
        },
        "xaxis16": {
         "anchor": "y16",
         "domain": [
          0.7875,
          1
         ],
         "gridcolor": "#E1E5ED",
         "showgrid": false,
         "tickfont": {
          "color": "#4D5663"
         },
         "title": {
          "font": {
           "color": "#4D5663"
          },
          "text": ""
         },
         "zerolinecolor": "#E1E5ED"
        },
        "xaxis2": {
         "anchor": "y2",
         "domain": [
          0.2625,
          0.475
         ],
         "gridcolor": "#E1E5ED",
         "showgrid": false,
         "tickfont": {
          "color": "#4D5663"
         },
         "title": {
          "font": {
           "color": "#4D5663"
          },
          "text": ""
         },
         "zerolinecolor": "#E1E5ED"
        },
        "xaxis3": {
         "anchor": "y3",
         "domain": [
          0.525,
          0.7375
         ],
         "gridcolor": "#E1E5ED",
         "showgrid": false,
         "tickfont": {
          "color": "#4D5663"
         },
         "title": {
          "font": {
           "color": "#4D5663"
          },
          "text": ""
         },
         "zerolinecolor": "#E1E5ED"
        },
        "xaxis4": {
         "anchor": "y4",
         "domain": [
          0.7875,
          1
         ],
         "gridcolor": "#E1E5ED",
         "showgrid": false,
         "tickfont": {
          "color": "#4D5663"
         },
         "title": {
          "font": {
           "color": "#4D5663"
          },
          "text": ""
         },
         "zerolinecolor": "#E1E5ED"
        },
        "xaxis5": {
         "anchor": "y5",
         "domain": [
          0,
          0.2125
         ],
         "gridcolor": "#E1E5ED",
         "showgrid": false,
         "tickfont": {
          "color": "#4D5663"
         },
         "title": {
          "font": {
           "color": "#4D5663"
          },
          "text": ""
         },
         "zerolinecolor": "#E1E5ED"
        },
        "xaxis6": {
         "anchor": "y6",
         "domain": [
          0.2625,
          0.475
         ],
         "gridcolor": "#E1E5ED",
         "showgrid": false,
         "tickfont": {
          "color": "#4D5663"
         },
         "title": {
          "font": {
           "color": "#4D5663"
          },
          "text": ""
         },
         "zerolinecolor": "#E1E5ED"
        },
        "xaxis7": {
         "anchor": "y7",
         "domain": [
          0.525,
          0.7375
         ],
         "gridcolor": "#E1E5ED",
         "showgrid": false,
         "tickfont": {
          "color": "#4D5663"
         },
         "title": {
          "font": {
           "color": "#4D5663"
          },
          "text": ""
         },
         "zerolinecolor": "#E1E5ED"
        },
        "xaxis8": {
         "anchor": "y8",
         "domain": [
          0.7875,
          1
         ],
         "gridcolor": "#E1E5ED",
         "showgrid": false,
         "tickfont": {
          "color": "#4D5663"
         },
         "title": {
          "font": {
           "color": "#4D5663"
          },
          "text": ""
         },
         "zerolinecolor": "#E1E5ED"
        },
        "xaxis9": {
         "anchor": "y9",
         "domain": [
          0,
          0.2125
         ],
         "gridcolor": "#E1E5ED",
         "showgrid": false,
         "tickfont": {
          "color": "#4D5663"
         },
         "title": {
          "font": {
           "color": "#4D5663"
          },
          "text": ""
         },
         "zerolinecolor": "#E1E5ED"
        },
        "yaxis": {
         "anchor": "x",
         "domain": [
          0.8025,
          1
         ],
         "gridcolor": "#E1E5ED",
         "showgrid": false,
         "tickfont": {
          "color": "#4D5663"
         },
         "title": {
          "font": {
           "color": "#4D5663"
          },
          "text": ""
         },
         "zerolinecolor": "#E1E5ED"
        },
        "yaxis10": {
         "anchor": "x10",
         "domain": [
          0.2675,
          0.465
         ],
         "gridcolor": "#E1E5ED",
         "showgrid": false,
         "tickfont": {
          "color": "#4D5663"
         },
         "title": {
          "font": {
           "color": "#4D5663"
          },
          "text": ""
         },
         "zerolinecolor": "#E1E5ED"
        },
        "yaxis11": {
         "anchor": "x11",
         "domain": [
          0.2675,
          0.465
         ],
         "gridcolor": "#E1E5ED",
         "showgrid": false,
         "tickfont": {
          "color": "#4D5663"
         },
         "title": {
          "font": {
           "color": "#4D5663"
          },
          "text": ""
         },
         "zerolinecolor": "#E1E5ED"
        },
        "yaxis12": {
         "anchor": "x12",
         "domain": [
          0.2675,
          0.465
         ],
         "gridcolor": "#E1E5ED",
         "showgrid": false,
         "tickfont": {
          "color": "#4D5663"
         },
         "title": {
          "font": {
           "color": "#4D5663"
          },
          "text": ""
         },
         "zerolinecolor": "#E1E5ED"
        },
        "yaxis13": {
         "anchor": "x13",
         "domain": [
          0,
          0.1975
         ],
         "gridcolor": "#E1E5ED",
         "showgrid": false,
         "tickfont": {
          "color": "#4D5663"
         },
         "title": {
          "font": {
           "color": "#4D5663"
          },
          "text": ""
         },
         "zerolinecolor": "#E1E5ED"
        },
        "yaxis14": {
         "anchor": "x14",
         "domain": [
          0,
          0.1975
         ],
         "gridcolor": "#E1E5ED",
         "showgrid": false,
         "tickfont": {
          "color": "#4D5663"
         },
         "title": {
          "font": {
           "color": "#4D5663"
          },
          "text": ""
         },
         "zerolinecolor": "#E1E5ED"
        },
        "yaxis15": {
         "anchor": "x15",
         "domain": [
          0,
          0.1975
         ],
         "gridcolor": "#E1E5ED",
         "showgrid": false,
         "tickfont": {
          "color": "#4D5663"
         },
         "title": {
          "font": {
           "color": "#4D5663"
          },
          "text": ""
         },
         "zerolinecolor": "#E1E5ED"
        },
        "yaxis16": {
         "anchor": "x16",
         "domain": [
          0,
          0.1975
         ],
         "gridcolor": "#E1E5ED",
         "showgrid": false,
         "tickfont": {
          "color": "#4D5663"
         },
         "title": {
          "font": {
           "color": "#4D5663"
          },
          "text": ""
         },
         "zerolinecolor": "#E1E5ED"
        },
        "yaxis2": {
         "anchor": "x2",
         "domain": [
          0.8025,
          1
         ],
         "gridcolor": "#E1E5ED",
         "showgrid": false,
         "tickfont": {
          "color": "#4D5663"
         },
         "title": {
          "font": {
           "color": "#4D5663"
          },
          "text": ""
         },
         "zerolinecolor": "#E1E5ED"
        },
        "yaxis3": {
         "anchor": "x3",
         "domain": [
          0.8025,
          1
         ],
         "gridcolor": "#E1E5ED",
         "showgrid": false,
         "tickfont": {
          "color": "#4D5663"
         },
         "title": {
          "font": {
           "color": "#4D5663"
          },
          "text": ""
         },
         "zerolinecolor": "#E1E5ED"
        },
        "yaxis4": {
         "anchor": "x4",
         "domain": [
          0.8025,
          1
         ],
         "gridcolor": "#E1E5ED",
         "showgrid": false,
         "tickfont": {
          "color": "#4D5663"
         },
         "title": {
          "font": {
           "color": "#4D5663"
          },
          "text": ""
         },
         "zerolinecolor": "#E1E5ED"
        },
        "yaxis5": {
         "anchor": "x5",
         "domain": [
          0.535,
          0.7325
         ],
         "gridcolor": "#E1E5ED",
         "showgrid": false,
         "tickfont": {
          "color": "#4D5663"
         },
         "title": {
          "font": {
           "color": "#4D5663"
          },
          "text": ""
         },
         "zerolinecolor": "#E1E5ED"
        },
        "yaxis6": {
         "anchor": "x6",
         "domain": [
          0.535,
          0.7325
         ],
         "gridcolor": "#E1E5ED",
         "showgrid": false,
         "tickfont": {
          "color": "#4D5663"
         },
         "title": {
          "font": {
           "color": "#4D5663"
          },
          "text": ""
         },
         "zerolinecolor": "#E1E5ED"
        },
        "yaxis7": {
         "anchor": "x7",
         "domain": [
          0.535,
          0.7325
         ],
         "gridcolor": "#E1E5ED",
         "showgrid": false,
         "tickfont": {
          "color": "#4D5663"
         },
         "title": {
          "font": {
           "color": "#4D5663"
          },
          "text": ""
         },
         "zerolinecolor": "#E1E5ED"
        },
        "yaxis8": {
         "anchor": "x8",
         "domain": [
          0.535,
          0.7325
         ],
         "gridcolor": "#E1E5ED",
         "showgrid": false,
         "tickfont": {
          "color": "#4D5663"
         },
         "title": {
          "font": {
           "color": "#4D5663"
          },
          "text": ""
         },
         "zerolinecolor": "#E1E5ED"
        },
        "yaxis9": {
         "anchor": "x9",
         "domain": [
          0.2675,
          0.465
         ],
         "gridcolor": "#E1E5ED",
         "showgrid": false,
         "tickfont": {
          "color": "#4D5663"
         },
         "title": {
          "font": {
           "color": "#4D5663"
          },
          "text": ""
         },
         "zerolinecolor": "#E1E5ED"
        }
       }
      },
      "text/html": [
       "<div>                            <div id=\"7d3a6250-f2b3-40f9-8478-17a7c673a3b6\" class=\"plotly-graph-div\" style=\"height:525px; width:100%;\"></div>            <script type=\"text/javascript\">                require([\"plotly\"], function(Plotly) {                    window.PLOTLYENV=window.PLOTLYENV || {};\n",
       "                    window.PLOTLYENV.BASE_URL='https://plot.ly';                                    if (document.getElementById(\"7d3a6250-f2b3-40f9-8478-17a7c673a3b6\")) {                    Plotly.newPlot(                        \"7d3a6250-f2b3-40f9-8478-17a7c673a3b6\",                        [{\"histfunc\": \"count\", \"histnorm\": \"\", \"marker\": {\"color\": \"rgba(255, 153, 51, 1.0)\", \"line\": {\"color\": \"#4D5663\", \"width\": 1.3}}, \"name\": \"A\", \"nbinsx\": 10, \"opacity\": 0.8, \"orientation\": \"v\", \"type\": \"histogram\", \"x\": [1.0306268310521411, -0.009779592803279932, -0.2790768811322032, -1.0139740466904634, 0.0900692504783834, -0.2535851169626924, -1.6467454574663618, 1.7307237074588178, 1.9502548897209437, -0.19755479047900773, 0.2398666841948917, 0.7010948394146828, -1.1451707605139148, 0.46661900006528834, -0.8657550022928382, -1.6038650824285154, 0.27757731154907933, -0.3431836968023546, -0.23005393886187692, 1.0417258828980622, -0.8420841231491191, 0.8152608031368365, -0.9625178400335987, -1.1404010459367615, 0.050065537297441697, -2.370511621398351, -0.14919235354725413, 0.41704549449768563, -0.6054188923136063, 1.1554385786210146, 0.7844642545459046, -1.475697549467589, 0.04357284219822051, 0.6794088833644034, 0.6088565243362992, -1.1236414266064494, -0.8645947981730004, -0.189315236879113, -1.6210608672291478, 0.9826668024309222, -0.6583173023179347, -0.5261504456906693, -0.03469245259160687, -0.6441359781479439, 2.1734528796420545, -0.695189681213425, -0.46387873617425734, -1.4406688499833342, -1.2366946841550048, -0.10445908435134638, 1.4251663204192084, 0.5459100358998471, -0.8142886165167468, 1.6532780391932245, -0.1756159152534916, 1.3322517121474091, -1.4189570454958202, -0.4365752199462574, 0.9537908960745699, -0.3539941043674274, -1.7317323557753117, -1.6056342883818238, -0.14249131405174065, 0.757385761017589, 0.9217206398940825, 0.8344690988574576, -1.2899900493073886, -0.5943831892006142, -0.30372445542656695, -0.6417063779059349, -0.7037207687010433, 1.1647604326551553, 1.6423197600571988, 1.5706789394322735, 0.1367178711685339, -0.27323866815150344, -0.6314346286156403, 0.4479905105725482, 0.5890067573599885, 0.2851593629595951, 0.21447051208841894, -0.33151322309343284, 0.5286453144797023, -1.06397649923059, 0.5211095633016483, 0.11631777499822968, 0.42275350128486044, -0.6165342792073051, -1.6774563192891445, -0.4449128911114853, -0.3718594486932189, -0.3548745644616727, -0.0653257564023129, -1.380490514092773, 1.2171934013759687, -0.19344980330040593, -1.0615002168273389, -0.7803014574950484, 1.0018898744196458, -0.005603546937125365], \"xaxis\": \"x\", \"yaxis\": \"y\"}, {\"line\": {\"color\": \"rgba(128, 128, 128, 1.0)\", \"dash\": \"solid\", \"shape\": \"linear\", \"width\": 1.3}, \"marker\": {\"size\": 2, \"symbol\": \"circle\"}, \"mode\": \"markers\", \"name\": \"A\", \"text\": \"\", \"type\": \"scatter\", \"x\": [-1.3171858117403332, 0.7624380978698583, -0.26598712621796905, -0.5264968283634126, 0.10775038884771772, -0.41831917087155723, -0.13336026616854868, -2.052679358839702, -0.2308750629501153, 0.2902137081421649, 0.5462280675460035, 1.565509826018809, -1.4187648886808986, -1.423344160179114, 0.5147971814034639, -1.1955784398830605, 0.08841387852632229, 0.9668380080455504, -2.0063648569849772, 0.6808736919461532, 0.18781766388703022, 0.5614171365614565, -0.6444394608278725, -0.9555977425121828, 0.5299791506581135, 0.41850851624872903, -1.5661227844941723, 0.5843187666974453, -1.4004706879941347, 0.8719603928383804, 0.12816736803148948, -0.6104649553361966, 0.39821361249434495, 0.3606846856900817, 0.7413036225859474, 0.1627576812495385, -0.11822845890206685, 0.7059999893225765, 0.7170034475706563, -0.5027599164597009, 0.10001385944510605, 0.005207958097552748, 1.6930322553144348, 0.29635397928301377, 0.30803560854128187, -0.36681447693814095, -1.890051113809245, 0.7540909096954302, -0.1773227273363077, -0.23349584546769653, -0.5713628964543889, -1.4716137756569088, 0.9304562545373743, 0.4995878163784225, 0.65980085367938, -1.4262329597400663, 0.4473009688035141, 0.9388857213269526, -0.449652377171511, -0.41019978026484133, 1.3454325846951676, -1.734053342435024, -0.35576304849981377, 1.9486922219268799, 0.5737692643406617, 0.9393293725888838, -0.8987704602488126, -1.2179927775473998, -0.3154686479242465, 0.11496694956077251, 0.868292857634255, 0.38527378173858845, 0.6327010724068767, 0.6067968510291968, 0.1742604029204123, 0.7507414554072483, 0.0793466639492751, 0.05341761777299585, -1.1964557802321034, 1.6445281574639363, 0.71006173073308, 0.09181605215087117, 0.15398334088760324, -0.3343350278170103, -1.4134082457416612, 0.5162593987334545, -1.0231974241693471, 1.736265472251738, -1.2743123078491674, -1.1200108534882374, 0.284539525306163, 0.28641559822266427, -0.10302174914339148, 1.1760968400628866, 0.31675765561830554, 1.1281775757982864, -0.9114292516561148, -0.09818298589490093, 1.4896167556584419, 0.1509599741757448], \"xaxis\": \"x2\", \"y\": [1.0306268310521411, -0.009779592803279932, -0.2790768811322032, -1.0139740466904634, 0.0900692504783834, -0.2535851169626924, -1.6467454574663618, 1.7307237074588178, 1.9502548897209437, -0.19755479047900773, 0.2398666841948917, 0.7010948394146828, -1.1451707605139148, 0.46661900006528834, -0.8657550022928382, -1.6038650824285154, 0.27757731154907933, -0.3431836968023546, -0.23005393886187692, 1.0417258828980622, -0.8420841231491191, 0.8152608031368365, -0.9625178400335987, -1.1404010459367615, 0.050065537297441697, -2.370511621398351, -0.14919235354725413, 0.41704549449768563, -0.6054188923136063, 1.1554385786210146, 0.7844642545459046, -1.475697549467589, 0.04357284219822051, 0.6794088833644034, 0.6088565243362992, -1.1236414266064494, -0.8645947981730004, -0.189315236879113, -1.6210608672291478, 0.9826668024309222, -0.6583173023179347, -0.5261504456906693, -0.03469245259160687, -0.6441359781479439, 2.1734528796420545, -0.695189681213425, -0.46387873617425734, -1.4406688499833342, -1.2366946841550048, -0.10445908435134638, 1.4251663204192084, 0.5459100358998471, -0.8142886165167468, 1.6532780391932245, -0.1756159152534916, 1.3322517121474091, -1.4189570454958202, -0.4365752199462574, 0.9537908960745699, -0.3539941043674274, -1.7317323557753117, -1.6056342883818238, -0.14249131405174065, 0.757385761017589, 0.9217206398940825, 0.8344690988574576, -1.2899900493073886, -0.5943831892006142, -0.30372445542656695, -0.6417063779059349, -0.7037207687010433, 1.1647604326551553, 1.6423197600571988, 1.5706789394322735, 0.1367178711685339, -0.27323866815150344, -0.6314346286156403, 0.4479905105725482, 0.5890067573599885, 0.2851593629595951, 0.21447051208841894, -0.33151322309343284, 0.5286453144797023, -1.06397649923059, 0.5211095633016483, 0.11631777499822968, 0.42275350128486044, -0.6165342792073051, -1.6774563192891445, -0.4449128911114853, -0.3718594486932189, -0.3548745644616727, -0.0653257564023129, -1.380490514092773, 1.2171934013759687, -0.19344980330040593, -1.0615002168273389, -0.7803014574950484, 1.0018898744196458, -0.005603546937125365], \"yaxis\": \"y2\"}, {\"line\": {\"color\": \"rgba(128, 128, 128, 1.0)\", \"dash\": \"solid\", \"shape\": \"linear\", \"width\": 1.3}, \"marker\": {\"size\": 2, \"symbol\": \"circle\"}, \"mode\": \"markers\", \"name\": \"A\", \"text\": \"\", \"type\": \"scatter\", \"x\": [0.08379242003873957, 0.2148785331592744, 0.05037764227737709, 0.8756341253893809, 0.8590465590528559, 0.4391174055308217, 0.189431450404587, -0.3718155703527072, -0.5550634508530573, -1.3794441465660177, -1.0563146350461485, 0.14681120692010374, 0.3131553635618999, 0.5585557787930133, 0.07722880995042875, -0.04392131380774122, 1.1243569267065112, 0.4253139715551968, 0.11595870860059217, 0.03402107108713042, -1.152168023984466, -0.14102868678892333, 0.32125039377044723, -0.015777088712871118, 1.9589536177600075, -0.43206789180190025, 0.12749666112522964, 0.60374343136248, 0.7276624395022874, -0.8553924209946996, -1.5239420978185667, 2.3059002372762567, 1.7657544426604617, 1.4176804265866652, -0.14577675495265452, -2.5488718386666656, 0.21232980357778392, 0.27948468183738157, -1.1662977440321178, -0.02682624947907975, -0.07801098168006376, -1.5299524615332178, 0.19086992639333702, -1.422834386813165, 0.3651424582753189, -0.03978866054513912, -0.21945194172803012, -0.9001789899014709, 0.3656287775959234, 0.015043418972787223, -0.6988972675541378, -1.099385561047347, 0.46100314491139704, 0.08494565785337806, 0.6599596689566934, 1.1876021244161188, 1.271634126184984, -0.2795533824193319, -1.9056263876115092, 1.0947587027067796, -0.372279956072975, 0.8078982842393541, 0.24586963761177888, 1.2312321136396454, -0.17447290390264522, -0.38122086074732653, -0.7851067104971744, -0.30677339413517046, -1.1153469541785526, -1.268705753155011, -1.0516340367499943, 0.8078730526908118, -0.6654810773103337, 0.4765200681845515, 0.20662969875360157, 0.27918620297987795, 0.40802133707589155, 1.2763581430226278, 1.3378200142549608, -1.0643769902927183, -1.1549667214964872, 1.6004757569170087, -0.42593731310572397, 0.713247303276228, -0.4372100489811118, 1.0021751145910691, 1.3354722150222882, -0.3560516664855117, 0.9911564978729335, 0.6106046459167388, -0.2650783288238696, 1.4191519832449284, 0.7093530482147238, 1.2937644648767108, -0.15111663264208083, 2.0370254465584474, 0.906193520781411, 1.2115197524753947, 1.4246594347089725, 0.4487685507219152], \"xaxis\": \"x3\", \"y\": [1.0306268310521411, -0.009779592803279932, -0.2790768811322032, -1.0139740466904634, 0.0900692504783834, -0.2535851169626924, -1.6467454574663618, 1.7307237074588178, 1.9502548897209437, -0.19755479047900773, 0.2398666841948917, 0.7010948394146828, -1.1451707605139148, 0.46661900006528834, -0.8657550022928382, -1.6038650824285154, 0.27757731154907933, -0.3431836968023546, -0.23005393886187692, 1.0417258828980622, -0.8420841231491191, 0.8152608031368365, -0.9625178400335987, -1.1404010459367615, 0.050065537297441697, -2.370511621398351, -0.14919235354725413, 0.41704549449768563, -0.6054188923136063, 1.1554385786210146, 0.7844642545459046, -1.475697549467589, 0.04357284219822051, 0.6794088833644034, 0.6088565243362992, -1.1236414266064494, -0.8645947981730004, -0.189315236879113, -1.6210608672291478, 0.9826668024309222, -0.6583173023179347, -0.5261504456906693, -0.03469245259160687, -0.6441359781479439, 2.1734528796420545, -0.695189681213425, -0.46387873617425734, -1.4406688499833342, -1.2366946841550048, -0.10445908435134638, 1.4251663204192084, 0.5459100358998471, -0.8142886165167468, 1.6532780391932245, -0.1756159152534916, 1.3322517121474091, -1.4189570454958202, -0.4365752199462574, 0.9537908960745699, -0.3539941043674274, -1.7317323557753117, -1.6056342883818238, -0.14249131405174065, 0.757385761017589, 0.9217206398940825, 0.8344690988574576, -1.2899900493073886, -0.5943831892006142, -0.30372445542656695, -0.6417063779059349, -0.7037207687010433, 1.1647604326551553, 1.6423197600571988, 1.5706789394322735, 0.1367178711685339, -0.27323866815150344, -0.6314346286156403, 0.4479905105725482, 0.5890067573599885, 0.2851593629595951, 0.21447051208841894, -0.33151322309343284, 0.5286453144797023, -1.06397649923059, 0.5211095633016483, 0.11631777499822968, 0.42275350128486044, -0.6165342792073051, -1.6774563192891445, -0.4449128911114853, -0.3718594486932189, -0.3548745644616727, -0.0653257564023129, -1.380490514092773, 1.2171934013759687, -0.19344980330040593, -1.0615002168273389, -0.7803014574950484, 1.0018898744196458, -0.005603546937125365], \"yaxis\": \"y3\"}, {\"line\": {\"color\": \"rgba(128, 128, 128, 1.0)\", \"dash\": \"solid\", \"shape\": \"linear\", \"width\": 1.3}, \"marker\": {\"size\": 2, \"symbol\": \"circle\"}, \"mode\": \"markers\", \"name\": \"A\", \"text\": \"\", \"type\": \"scatter\", \"x\": [-0.6920634091911322, -1.2328974794541194, -0.13337965401471033, -0.10718312588982684, -1.1869959369538874, -1.2194779182027682, 0.5538225567018522, 0.3086265573058003, 1.5501011090909576, -0.6188799170130024, -0.6330510694501634, 0.12190495414005852, -0.8340665719451371, -0.3052587727563927, 0.17048465739114646, 2.5484889581440995, -0.4001988622871872, 0.2232020074270806, 3.3378359210526516, -1.9951039860201403, 0.46669753757252347, 0.06643153558470793, -1.0212754397753374, -0.8596795616002902, -0.5809913983199892, 1.660379232405525, -1.0206828293145023, -0.5165516692500176, -0.35563432592567235, 0.900963391813983, -2.0907566992355546, 1.9526024683829384, 0.7572391375796467, 0.16457927543657624, -0.709574445714888, -0.1324330263073747, 0.37522399686406444, -0.467457646527938, -1.2034728568367308, -0.18682761445402954, 0.2676089357964147, 0.9354848298876832, -0.1614825418692389, -0.15935046380828055, -0.2066973243556901, 2.1138228595046757, 0.8146101088711156, 0.2621977456669178, -0.40524829672051826, -0.4473821199867852, -0.8188050705844425, -0.8228830639219495, 0.5150953876104498, -0.49697570517748263, 0.8236699217037411, 0.7968981169892387, 0.19963003476156377, -1.3086846374128205, 0.3658069863924726, -0.30014818602960625, 1.0366037965313704, 1.108217546936431, 1.6402622395793887, -1.464246518706611, 0.44741047498891323, 0.6655792148732772, 0.29205688147747827, 1.0465287173815978, -1.0972484624244334, 0.9843079937413093, 0.4005397110947668, 0.6240958337027928, -1.4907753096251966, -0.04531497643233301, 1.5577867100749405, 0.560085435865454, 0.8600067975891267, 1.4101724955969688, 0.5181935464130717, -0.7583553846233285, 1.267470197937567, 2.107735225249204, -1.604037594672744, -1.1246188870452987, -0.8027894261801742, -0.45016955447510903, -0.5291651388810777, 0.4511046557632813, -0.4976688751059435, -0.12838705752481272, -0.6467687349316987, -0.6546091808489067, -0.3383808775917049, -0.313860301853834, -0.7818949483473627, -1.1774540958497328, 1.58084798605212, -0.18530178334993333, 1.7055280861592752, -1.4050532797125146], \"xaxis\": \"x4\", \"y\": [1.0306268310521411, -0.009779592803279932, -0.2790768811322032, -1.0139740466904634, 0.0900692504783834, -0.2535851169626924, -1.6467454574663618, 1.7307237074588178, 1.9502548897209437, -0.19755479047900773, 0.2398666841948917, 0.7010948394146828, -1.1451707605139148, 0.46661900006528834, -0.8657550022928382, -1.6038650824285154, 0.27757731154907933, -0.3431836968023546, -0.23005393886187692, 1.0417258828980622, -0.8420841231491191, 0.8152608031368365, -0.9625178400335987, -1.1404010459367615, 0.050065537297441697, -2.370511621398351, -0.14919235354725413, 0.41704549449768563, -0.6054188923136063, 1.1554385786210146, 0.7844642545459046, -1.475697549467589, 0.04357284219822051, 0.6794088833644034, 0.6088565243362992, -1.1236414266064494, -0.8645947981730004, -0.189315236879113, -1.6210608672291478, 0.9826668024309222, -0.6583173023179347, -0.5261504456906693, -0.03469245259160687, -0.6441359781479439, 2.1734528796420545, -0.695189681213425, -0.46387873617425734, -1.4406688499833342, -1.2366946841550048, -0.10445908435134638, 1.4251663204192084, 0.5459100358998471, -0.8142886165167468, 1.6532780391932245, -0.1756159152534916, 1.3322517121474091, -1.4189570454958202, -0.4365752199462574, 0.9537908960745699, -0.3539941043674274, -1.7317323557753117, -1.6056342883818238, -0.14249131405174065, 0.757385761017589, 0.9217206398940825, 0.8344690988574576, -1.2899900493073886, -0.5943831892006142, -0.30372445542656695, -0.6417063779059349, -0.7037207687010433, 1.1647604326551553, 1.6423197600571988, 1.5706789394322735, 0.1367178711685339, -0.27323866815150344, -0.6314346286156403, 0.4479905105725482, 0.5890067573599885, 0.2851593629595951, 0.21447051208841894, -0.33151322309343284, 0.5286453144797023, -1.06397649923059, 0.5211095633016483, 0.11631777499822968, 0.42275350128486044, -0.6165342792073051, -1.6774563192891445, -0.4449128911114853, -0.3718594486932189, -0.3548745644616727, -0.0653257564023129, -1.380490514092773, 1.2171934013759687, -0.19344980330040593, -1.0615002168273389, -0.7803014574950484, 1.0018898744196458, -0.005603546937125365], \"yaxis\": \"y4\"}, {\"line\": {\"color\": \"rgba(128, 128, 128, 1.0)\", \"dash\": \"solid\", \"shape\": \"linear\", \"width\": 1.3}, \"marker\": {\"size\": 2, \"symbol\": \"circle\"}, \"mode\": \"markers\", \"name\": \"B\", \"text\": \"\", \"type\": \"scatter\", \"x\": [1.0306268310521411, -0.009779592803279932, -0.2790768811322032, -1.0139740466904634, 0.0900692504783834, -0.2535851169626924, -1.6467454574663618, 1.7307237074588178, 1.9502548897209437, -0.19755479047900773, 0.2398666841948917, 0.7010948394146828, -1.1451707605139148, 0.46661900006528834, -0.8657550022928382, -1.6038650824285154, 0.27757731154907933, -0.3431836968023546, -0.23005393886187692, 1.0417258828980622, -0.8420841231491191, 0.8152608031368365, -0.9625178400335987, -1.1404010459367615, 0.050065537297441697, -2.370511621398351, -0.14919235354725413, 0.41704549449768563, -0.6054188923136063, 1.1554385786210146, 0.7844642545459046, -1.475697549467589, 0.04357284219822051, 0.6794088833644034, 0.6088565243362992, -1.1236414266064494, -0.8645947981730004, -0.189315236879113, -1.6210608672291478, 0.9826668024309222, -0.6583173023179347, -0.5261504456906693, -0.03469245259160687, -0.6441359781479439, 2.1734528796420545, -0.695189681213425, -0.46387873617425734, -1.4406688499833342, -1.2366946841550048, -0.10445908435134638, 1.4251663204192084, 0.5459100358998471, -0.8142886165167468, 1.6532780391932245, -0.1756159152534916, 1.3322517121474091, -1.4189570454958202, -0.4365752199462574, 0.9537908960745699, -0.3539941043674274, -1.7317323557753117, -1.6056342883818238, -0.14249131405174065, 0.757385761017589, 0.9217206398940825, 0.8344690988574576, -1.2899900493073886, -0.5943831892006142, -0.30372445542656695, -0.6417063779059349, -0.7037207687010433, 1.1647604326551553, 1.6423197600571988, 1.5706789394322735, 0.1367178711685339, -0.27323866815150344, -0.6314346286156403, 0.4479905105725482, 0.5890067573599885, 0.2851593629595951, 0.21447051208841894, -0.33151322309343284, 0.5286453144797023, -1.06397649923059, 0.5211095633016483, 0.11631777499822968, 0.42275350128486044, -0.6165342792073051, -1.6774563192891445, -0.4449128911114853, -0.3718594486932189, -0.3548745644616727, -0.0653257564023129, -1.380490514092773, 1.2171934013759687, -0.19344980330040593, -1.0615002168273389, -0.7803014574950484, 1.0018898744196458, -0.005603546937125365], \"xaxis\": \"x5\", \"y\": [-1.3171858117403332, 0.7624380978698583, -0.26598712621796905, -0.5264968283634126, 0.10775038884771772, -0.41831917087155723, -0.13336026616854868, -2.052679358839702, -0.2308750629501153, 0.2902137081421649, 0.5462280675460035, 1.565509826018809, -1.4187648886808986, -1.423344160179114, 0.5147971814034639, -1.1955784398830605, 0.08841387852632229, 0.9668380080455504, -2.0063648569849772, 0.6808736919461532, 0.18781766388703022, 0.5614171365614565, -0.6444394608278725, -0.9555977425121828, 0.5299791506581135, 0.41850851624872903, -1.5661227844941723, 0.5843187666974453, -1.4004706879941347, 0.8719603928383804, 0.12816736803148948, -0.6104649553361966, 0.39821361249434495, 0.3606846856900817, 0.7413036225859474, 0.1627576812495385, -0.11822845890206685, 0.7059999893225765, 0.7170034475706563, -0.5027599164597009, 0.10001385944510605, 0.005207958097552748, 1.6930322553144348, 0.29635397928301377, 0.30803560854128187, -0.36681447693814095, -1.890051113809245, 0.7540909096954302, -0.1773227273363077, -0.23349584546769653, -0.5713628964543889, -1.4716137756569088, 0.9304562545373743, 0.4995878163784225, 0.65980085367938, -1.4262329597400663, 0.4473009688035141, 0.9388857213269526, -0.449652377171511, -0.41019978026484133, 1.3454325846951676, -1.734053342435024, -0.35576304849981377, 1.9486922219268799, 0.5737692643406617, 0.9393293725888838, -0.8987704602488126, -1.2179927775473998, -0.3154686479242465, 0.11496694956077251, 0.868292857634255, 0.38527378173858845, 0.6327010724068767, 0.6067968510291968, 0.1742604029204123, 0.7507414554072483, 0.0793466639492751, 0.05341761777299585, -1.1964557802321034, 1.6445281574639363, 0.71006173073308, 0.09181605215087117, 0.15398334088760324, -0.3343350278170103, -1.4134082457416612, 0.5162593987334545, -1.0231974241693471, 1.736265472251738, -1.2743123078491674, -1.1200108534882374, 0.284539525306163, 0.28641559822266427, -0.10302174914339148, 1.1760968400628866, 0.31675765561830554, 1.1281775757982864, -0.9114292516561148, -0.09818298589490093, 1.4896167556584419, 0.1509599741757448], \"yaxis\": \"y5\"}, {\"histfunc\": \"count\", \"histnorm\": \"\", \"marker\": {\"color\": \"rgba(55, 128, 191, 1.0)\", \"line\": {\"color\": \"#4D5663\", \"width\": 1.3}}, \"name\": \"B\", \"nbinsx\": 10, \"opacity\": 0.8, \"orientation\": \"v\", \"type\": \"histogram\", \"x\": [-1.3171858117403332, 0.7624380978698583, -0.26598712621796905, -0.5264968283634126, 0.10775038884771772, -0.41831917087155723, -0.13336026616854868, -2.052679358839702, -0.2308750629501153, 0.2902137081421649, 0.5462280675460035, 1.565509826018809, -1.4187648886808986, -1.423344160179114, 0.5147971814034639, -1.1955784398830605, 0.08841387852632229, 0.9668380080455504, -2.0063648569849772, 0.6808736919461532, 0.18781766388703022, 0.5614171365614565, -0.6444394608278725, -0.9555977425121828, 0.5299791506581135, 0.41850851624872903, -1.5661227844941723, 0.5843187666974453, -1.4004706879941347, 0.8719603928383804, 0.12816736803148948, -0.6104649553361966, 0.39821361249434495, 0.3606846856900817, 0.7413036225859474, 0.1627576812495385, -0.11822845890206685, 0.7059999893225765, 0.7170034475706563, -0.5027599164597009, 0.10001385944510605, 0.005207958097552748, 1.6930322553144348, 0.29635397928301377, 0.30803560854128187, -0.36681447693814095, -1.890051113809245, 0.7540909096954302, -0.1773227273363077, -0.23349584546769653, -0.5713628964543889, -1.4716137756569088, 0.9304562545373743, 0.4995878163784225, 0.65980085367938, -1.4262329597400663, 0.4473009688035141, 0.9388857213269526, -0.449652377171511, -0.41019978026484133, 1.3454325846951676, -1.734053342435024, -0.35576304849981377, 1.9486922219268799, 0.5737692643406617, 0.9393293725888838, -0.8987704602488126, -1.2179927775473998, -0.3154686479242465, 0.11496694956077251, 0.868292857634255, 0.38527378173858845, 0.6327010724068767, 0.6067968510291968, 0.1742604029204123, 0.7507414554072483, 0.0793466639492751, 0.05341761777299585, -1.1964557802321034, 1.6445281574639363, 0.71006173073308, 0.09181605215087117, 0.15398334088760324, -0.3343350278170103, -1.4134082457416612, 0.5162593987334545, -1.0231974241693471, 1.736265472251738, -1.2743123078491674, -1.1200108534882374, 0.284539525306163, 0.28641559822266427, -0.10302174914339148, 1.1760968400628866, 0.31675765561830554, 1.1281775757982864, -0.9114292516561148, -0.09818298589490093, 1.4896167556584419, 0.1509599741757448], \"xaxis\": \"x6\", \"yaxis\": \"y6\"}, {\"line\": {\"color\": \"rgba(128, 128, 128, 1.0)\", \"dash\": \"solid\", \"shape\": \"linear\", \"width\": 1.3}, \"marker\": {\"size\": 2, \"symbol\": \"circle\"}, \"mode\": \"markers\", \"name\": \"B\", \"text\": \"\", \"type\": \"scatter\", \"x\": [0.08379242003873957, 0.2148785331592744, 0.05037764227737709, 0.8756341253893809, 0.8590465590528559, 0.4391174055308217, 0.189431450404587, -0.3718155703527072, -0.5550634508530573, -1.3794441465660177, -1.0563146350461485, 0.14681120692010374, 0.3131553635618999, 0.5585557787930133, 0.07722880995042875, -0.04392131380774122, 1.1243569267065112, 0.4253139715551968, 0.11595870860059217, 0.03402107108713042, -1.152168023984466, -0.14102868678892333, 0.32125039377044723, -0.015777088712871118, 1.9589536177600075, -0.43206789180190025, 0.12749666112522964, 0.60374343136248, 0.7276624395022874, -0.8553924209946996, -1.5239420978185667, 2.3059002372762567, 1.7657544426604617, 1.4176804265866652, -0.14577675495265452, -2.5488718386666656, 0.21232980357778392, 0.27948468183738157, -1.1662977440321178, -0.02682624947907975, -0.07801098168006376, -1.5299524615332178, 0.19086992639333702, -1.422834386813165, 0.3651424582753189, -0.03978866054513912, -0.21945194172803012, -0.9001789899014709, 0.3656287775959234, 0.015043418972787223, -0.6988972675541378, -1.099385561047347, 0.46100314491139704, 0.08494565785337806, 0.6599596689566934, 1.1876021244161188, 1.271634126184984, -0.2795533824193319, -1.9056263876115092, 1.0947587027067796, -0.372279956072975, 0.8078982842393541, 0.24586963761177888, 1.2312321136396454, -0.17447290390264522, -0.38122086074732653, -0.7851067104971744, -0.30677339413517046, -1.1153469541785526, -1.268705753155011, -1.0516340367499943, 0.8078730526908118, -0.6654810773103337, 0.4765200681845515, 0.20662969875360157, 0.27918620297987795, 0.40802133707589155, 1.2763581430226278, 1.3378200142549608, -1.0643769902927183, -1.1549667214964872, 1.6004757569170087, -0.42593731310572397, 0.713247303276228, -0.4372100489811118, 1.0021751145910691, 1.3354722150222882, -0.3560516664855117, 0.9911564978729335, 0.6106046459167388, -0.2650783288238696, 1.4191519832449284, 0.7093530482147238, 1.2937644648767108, -0.15111663264208083, 2.0370254465584474, 0.906193520781411, 1.2115197524753947, 1.4246594347089725, 0.4487685507219152], \"xaxis\": \"x7\", \"y\": [-1.3171858117403332, 0.7624380978698583, -0.26598712621796905, -0.5264968283634126, 0.10775038884771772, -0.41831917087155723, -0.13336026616854868, -2.052679358839702, -0.2308750629501153, 0.2902137081421649, 0.5462280675460035, 1.565509826018809, -1.4187648886808986, -1.423344160179114, 0.5147971814034639, -1.1955784398830605, 0.08841387852632229, 0.9668380080455504, -2.0063648569849772, 0.6808736919461532, 0.18781766388703022, 0.5614171365614565, -0.6444394608278725, -0.9555977425121828, 0.5299791506581135, 0.41850851624872903, -1.5661227844941723, 0.5843187666974453, -1.4004706879941347, 0.8719603928383804, 0.12816736803148948, -0.6104649553361966, 0.39821361249434495, 0.3606846856900817, 0.7413036225859474, 0.1627576812495385, -0.11822845890206685, 0.7059999893225765, 0.7170034475706563, -0.5027599164597009, 0.10001385944510605, 0.005207958097552748, 1.6930322553144348, 0.29635397928301377, 0.30803560854128187, -0.36681447693814095, -1.890051113809245, 0.7540909096954302, -0.1773227273363077, -0.23349584546769653, -0.5713628964543889, -1.4716137756569088, 0.9304562545373743, 0.4995878163784225, 0.65980085367938, -1.4262329597400663, 0.4473009688035141, 0.9388857213269526, -0.449652377171511, -0.41019978026484133, 1.3454325846951676, -1.734053342435024, -0.35576304849981377, 1.9486922219268799, 0.5737692643406617, 0.9393293725888838, -0.8987704602488126, -1.2179927775473998, -0.3154686479242465, 0.11496694956077251, 0.868292857634255, 0.38527378173858845, 0.6327010724068767, 0.6067968510291968, 0.1742604029204123, 0.7507414554072483, 0.0793466639492751, 0.05341761777299585, -1.1964557802321034, 1.6445281574639363, 0.71006173073308, 0.09181605215087117, 0.15398334088760324, -0.3343350278170103, -1.4134082457416612, 0.5162593987334545, -1.0231974241693471, 1.736265472251738, -1.2743123078491674, -1.1200108534882374, 0.284539525306163, 0.28641559822266427, -0.10302174914339148, 1.1760968400628866, 0.31675765561830554, 1.1281775757982864, -0.9114292516561148, -0.09818298589490093, 1.4896167556584419, 0.1509599741757448], \"yaxis\": \"y7\"}, {\"line\": {\"color\": \"rgba(128, 128, 128, 1.0)\", \"dash\": \"solid\", \"shape\": \"linear\", \"width\": 1.3}, \"marker\": {\"size\": 2, \"symbol\": \"circle\"}, \"mode\": \"markers\", \"name\": \"B\", \"text\": \"\", \"type\": \"scatter\", \"x\": [-0.6920634091911322, -1.2328974794541194, -0.13337965401471033, -0.10718312588982684, -1.1869959369538874, -1.2194779182027682, 0.5538225567018522, 0.3086265573058003, 1.5501011090909576, -0.6188799170130024, -0.6330510694501634, 0.12190495414005852, -0.8340665719451371, -0.3052587727563927, 0.17048465739114646, 2.5484889581440995, -0.4001988622871872, 0.2232020074270806, 3.3378359210526516, -1.9951039860201403, 0.46669753757252347, 0.06643153558470793, -1.0212754397753374, -0.8596795616002902, -0.5809913983199892, 1.660379232405525, -1.0206828293145023, -0.5165516692500176, -0.35563432592567235, 0.900963391813983, -2.0907566992355546, 1.9526024683829384, 0.7572391375796467, 0.16457927543657624, -0.709574445714888, -0.1324330263073747, 0.37522399686406444, -0.467457646527938, -1.2034728568367308, -0.18682761445402954, 0.2676089357964147, 0.9354848298876832, -0.1614825418692389, -0.15935046380828055, -0.2066973243556901, 2.1138228595046757, 0.8146101088711156, 0.2621977456669178, -0.40524829672051826, -0.4473821199867852, -0.8188050705844425, -0.8228830639219495, 0.5150953876104498, -0.49697570517748263, 0.8236699217037411, 0.7968981169892387, 0.19963003476156377, -1.3086846374128205, 0.3658069863924726, -0.30014818602960625, 1.0366037965313704, 1.108217546936431, 1.6402622395793887, -1.464246518706611, 0.44741047498891323, 0.6655792148732772, 0.29205688147747827, 1.0465287173815978, -1.0972484624244334, 0.9843079937413093, 0.4005397110947668, 0.6240958337027928, -1.4907753096251966, -0.04531497643233301, 1.5577867100749405, 0.560085435865454, 0.8600067975891267, 1.4101724955969688, 0.5181935464130717, -0.7583553846233285, 1.267470197937567, 2.107735225249204, -1.604037594672744, -1.1246188870452987, -0.8027894261801742, -0.45016955447510903, -0.5291651388810777, 0.4511046557632813, -0.4976688751059435, -0.12838705752481272, -0.6467687349316987, -0.6546091808489067, -0.3383808775917049, -0.313860301853834, -0.7818949483473627, -1.1774540958497328, 1.58084798605212, -0.18530178334993333, 1.7055280861592752, -1.4050532797125146], \"xaxis\": \"x8\", \"y\": [-1.3171858117403332, 0.7624380978698583, -0.26598712621796905, -0.5264968283634126, 0.10775038884771772, -0.41831917087155723, -0.13336026616854868, -2.052679358839702, -0.2308750629501153, 0.2902137081421649, 0.5462280675460035, 1.565509826018809, -1.4187648886808986, -1.423344160179114, 0.5147971814034639, -1.1955784398830605, 0.08841387852632229, 0.9668380080455504, -2.0063648569849772, 0.6808736919461532, 0.18781766388703022, 0.5614171365614565, -0.6444394608278725, -0.9555977425121828, 0.5299791506581135, 0.41850851624872903, -1.5661227844941723, 0.5843187666974453, -1.4004706879941347, 0.8719603928383804, 0.12816736803148948, -0.6104649553361966, 0.39821361249434495, 0.3606846856900817, 0.7413036225859474, 0.1627576812495385, -0.11822845890206685, 0.7059999893225765, 0.7170034475706563, -0.5027599164597009, 0.10001385944510605, 0.005207958097552748, 1.6930322553144348, 0.29635397928301377, 0.30803560854128187, -0.36681447693814095, -1.890051113809245, 0.7540909096954302, -0.1773227273363077, -0.23349584546769653, -0.5713628964543889, -1.4716137756569088, 0.9304562545373743, 0.4995878163784225, 0.65980085367938, -1.4262329597400663, 0.4473009688035141, 0.9388857213269526, -0.449652377171511, -0.41019978026484133, 1.3454325846951676, -1.734053342435024, -0.35576304849981377, 1.9486922219268799, 0.5737692643406617, 0.9393293725888838, -0.8987704602488126, -1.2179927775473998, -0.3154686479242465, 0.11496694956077251, 0.868292857634255, 0.38527378173858845, 0.6327010724068767, 0.6067968510291968, 0.1742604029204123, 0.7507414554072483, 0.0793466639492751, 0.05341761777299585, -1.1964557802321034, 1.6445281574639363, 0.71006173073308, 0.09181605215087117, 0.15398334088760324, -0.3343350278170103, -1.4134082457416612, 0.5162593987334545, -1.0231974241693471, 1.736265472251738, -1.2743123078491674, -1.1200108534882374, 0.284539525306163, 0.28641559822266427, -0.10302174914339148, 1.1760968400628866, 0.31675765561830554, 1.1281775757982864, -0.9114292516561148, -0.09818298589490093, 1.4896167556584419, 0.1509599741757448], \"yaxis\": \"y8\"}, {\"line\": {\"color\": \"rgba(128, 128, 128, 1.0)\", \"dash\": \"solid\", \"shape\": \"linear\", \"width\": 1.3}, \"marker\": {\"size\": 2, \"symbol\": \"circle\"}, \"mode\": \"markers\", \"name\": \"C\", \"text\": \"\", \"type\": \"scatter\", \"x\": [1.0306268310521411, -0.009779592803279932, -0.2790768811322032, -1.0139740466904634, 0.0900692504783834, -0.2535851169626924, -1.6467454574663618, 1.7307237074588178, 1.9502548897209437, -0.19755479047900773, 0.2398666841948917, 0.7010948394146828, -1.1451707605139148, 0.46661900006528834, -0.8657550022928382, -1.6038650824285154, 0.27757731154907933, -0.3431836968023546, -0.23005393886187692, 1.0417258828980622, -0.8420841231491191, 0.8152608031368365, -0.9625178400335987, -1.1404010459367615, 0.050065537297441697, -2.370511621398351, -0.14919235354725413, 0.41704549449768563, -0.6054188923136063, 1.1554385786210146, 0.7844642545459046, -1.475697549467589, 0.04357284219822051, 0.6794088833644034, 0.6088565243362992, -1.1236414266064494, -0.8645947981730004, -0.189315236879113, -1.6210608672291478, 0.9826668024309222, -0.6583173023179347, -0.5261504456906693, -0.03469245259160687, -0.6441359781479439, 2.1734528796420545, -0.695189681213425, -0.46387873617425734, -1.4406688499833342, -1.2366946841550048, -0.10445908435134638, 1.4251663204192084, 0.5459100358998471, -0.8142886165167468, 1.6532780391932245, -0.1756159152534916, 1.3322517121474091, -1.4189570454958202, -0.4365752199462574, 0.9537908960745699, -0.3539941043674274, -1.7317323557753117, -1.6056342883818238, -0.14249131405174065, 0.757385761017589, 0.9217206398940825, 0.8344690988574576, -1.2899900493073886, -0.5943831892006142, -0.30372445542656695, -0.6417063779059349, -0.7037207687010433, 1.1647604326551553, 1.6423197600571988, 1.5706789394322735, 0.1367178711685339, -0.27323866815150344, -0.6314346286156403, 0.4479905105725482, 0.5890067573599885, 0.2851593629595951, 0.21447051208841894, -0.33151322309343284, 0.5286453144797023, -1.06397649923059, 0.5211095633016483, 0.11631777499822968, 0.42275350128486044, -0.6165342792073051, -1.6774563192891445, -0.4449128911114853, -0.3718594486932189, -0.3548745644616727, -0.0653257564023129, -1.380490514092773, 1.2171934013759687, -0.19344980330040593, -1.0615002168273389, -0.7803014574950484, 1.0018898744196458, -0.005603546937125365], \"xaxis\": \"x9\", \"y\": [0.08379242003873957, 0.2148785331592744, 0.05037764227737709, 0.8756341253893809, 0.8590465590528559, 0.4391174055308217, 0.189431450404587, -0.3718155703527072, -0.5550634508530573, -1.3794441465660177, -1.0563146350461485, 0.14681120692010374, 0.3131553635618999, 0.5585557787930133, 0.07722880995042875, -0.04392131380774122, 1.1243569267065112, 0.4253139715551968, 0.11595870860059217, 0.03402107108713042, -1.152168023984466, -0.14102868678892333, 0.32125039377044723, -0.015777088712871118, 1.9589536177600075, -0.43206789180190025, 0.12749666112522964, 0.60374343136248, 0.7276624395022874, -0.8553924209946996, -1.5239420978185667, 2.3059002372762567, 1.7657544426604617, 1.4176804265866652, -0.14577675495265452, -2.5488718386666656, 0.21232980357778392, 0.27948468183738157, -1.1662977440321178, -0.02682624947907975, -0.07801098168006376, -1.5299524615332178, 0.19086992639333702, -1.422834386813165, 0.3651424582753189, -0.03978866054513912, -0.21945194172803012, -0.9001789899014709, 0.3656287775959234, 0.015043418972787223, -0.6988972675541378, -1.099385561047347, 0.46100314491139704, 0.08494565785337806, 0.6599596689566934, 1.1876021244161188, 1.271634126184984, -0.2795533824193319, -1.9056263876115092, 1.0947587027067796, -0.372279956072975, 0.8078982842393541, 0.24586963761177888, 1.2312321136396454, -0.17447290390264522, -0.38122086074732653, -0.7851067104971744, -0.30677339413517046, -1.1153469541785526, -1.268705753155011, -1.0516340367499943, 0.8078730526908118, -0.6654810773103337, 0.4765200681845515, 0.20662969875360157, 0.27918620297987795, 0.40802133707589155, 1.2763581430226278, 1.3378200142549608, -1.0643769902927183, -1.1549667214964872, 1.6004757569170087, -0.42593731310572397, 0.713247303276228, -0.4372100489811118, 1.0021751145910691, 1.3354722150222882, -0.3560516664855117, 0.9911564978729335, 0.6106046459167388, -0.2650783288238696, 1.4191519832449284, 0.7093530482147238, 1.2937644648767108, -0.15111663264208083, 2.0370254465584474, 0.906193520781411, 1.2115197524753947, 1.4246594347089725, 0.4487685507219152], \"yaxis\": \"y9\"}, {\"line\": {\"color\": \"rgba(128, 128, 128, 1.0)\", \"dash\": \"solid\", \"shape\": \"linear\", \"width\": 1.3}, \"marker\": {\"size\": 2, \"symbol\": \"circle\"}, \"mode\": \"markers\", \"name\": \"C\", \"text\": \"\", \"type\": \"scatter\", \"x\": [-1.3171858117403332, 0.7624380978698583, -0.26598712621796905, -0.5264968283634126, 0.10775038884771772, -0.41831917087155723, -0.13336026616854868, -2.052679358839702, -0.2308750629501153, 0.2902137081421649, 0.5462280675460035, 1.565509826018809, -1.4187648886808986, -1.423344160179114, 0.5147971814034639, -1.1955784398830605, 0.08841387852632229, 0.9668380080455504, -2.0063648569849772, 0.6808736919461532, 0.18781766388703022, 0.5614171365614565, -0.6444394608278725, -0.9555977425121828, 0.5299791506581135, 0.41850851624872903, -1.5661227844941723, 0.5843187666974453, -1.4004706879941347, 0.8719603928383804, 0.12816736803148948, -0.6104649553361966, 0.39821361249434495, 0.3606846856900817, 0.7413036225859474, 0.1627576812495385, -0.11822845890206685, 0.7059999893225765, 0.7170034475706563, -0.5027599164597009, 0.10001385944510605, 0.005207958097552748, 1.6930322553144348, 0.29635397928301377, 0.30803560854128187, -0.36681447693814095, -1.890051113809245, 0.7540909096954302, -0.1773227273363077, -0.23349584546769653, -0.5713628964543889, -1.4716137756569088, 0.9304562545373743, 0.4995878163784225, 0.65980085367938, -1.4262329597400663, 0.4473009688035141, 0.9388857213269526, -0.449652377171511, -0.41019978026484133, 1.3454325846951676, -1.734053342435024, -0.35576304849981377, 1.9486922219268799, 0.5737692643406617, 0.9393293725888838, -0.8987704602488126, -1.2179927775473998, -0.3154686479242465, 0.11496694956077251, 0.868292857634255, 0.38527378173858845, 0.6327010724068767, 0.6067968510291968, 0.1742604029204123, 0.7507414554072483, 0.0793466639492751, 0.05341761777299585, -1.1964557802321034, 1.6445281574639363, 0.71006173073308, 0.09181605215087117, 0.15398334088760324, -0.3343350278170103, -1.4134082457416612, 0.5162593987334545, -1.0231974241693471, 1.736265472251738, -1.2743123078491674, -1.1200108534882374, 0.284539525306163, 0.28641559822266427, -0.10302174914339148, 1.1760968400628866, 0.31675765561830554, 1.1281775757982864, -0.9114292516561148, -0.09818298589490093, 1.4896167556584419, 0.1509599741757448], \"xaxis\": \"x10\", \"y\": [0.08379242003873957, 0.2148785331592744, 0.05037764227737709, 0.8756341253893809, 0.8590465590528559, 0.4391174055308217, 0.189431450404587, -0.3718155703527072, -0.5550634508530573, -1.3794441465660177, -1.0563146350461485, 0.14681120692010374, 0.3131553635618999, 0.5585557787930133, 0.07722880995042875, -0.04392131380774122, 1.1243569267065112, 0.4253139715551968, 0.11595870860059217, 0.03402107108713042, -1.152168023984466, -0.14102868678892333, 0.32125039377044723, -0.015777088712871118, 1.9589536177600075, -0.43206789180190025, 0.12749666112522964, 0.60374343136248, 0.7276624395022874, -0.8553924209946996, -1.5239420978185667, 2.3059002372762567, 1.7657544426604617, 1.4176804265866652, -0.14577675495265452, -2.5488718386666656, 0.21232980357778392, 0.27948468183738157, -1.1662977440321178, -0.02682624947907975, -0.07801098168006376, -1.5299524615332178, 0.19086992639333702, -1.422834386813165, 0.3651424582753189, -0.03978866054513912, -0.21945194172803012, -0.9001789899014709, 0.3656287775959234, 0.015043418972787223, -0.6988972675541378, -1.099385561047347, 0.46100314491139704, 0.08494565785337806, 0.6599596689566934, 1.1876021244161188, 1.271634126184984, -0.2795533824193319, -1.9056263876115092, 1.0947587027067796, -0.372279956072975, 0.8078982842393541, 0.24586963761177888, 1.2312321136396454, -0.17447290390264522, -0.38122086074732653, -0.7851067104971744, -0.30677339413517046, -1.1153469541785526, -1.268705753155011, -1.0516340367499943, 0.8078730526908118, -0.6654810773103337, 0.4765200681845515, 0.20662969875360157, 0.27918620297987795, 0.40802133707589155, 1.2763581430226278, 1.3378200142549608, -1.0643769902927183, -1.1549667214964872, 1.6004757569170087, -0.42593731310572397, 0.713247303276228, -0.4372100489811118, 1.0021751145910691, 1.3354722150222882, -0.3560516664855117, 0.9911564978729335, 0.6106046459167388, -0.2650783288238696, 1.4191519832449284, 0.7093530482147238, 1.2937644648767108, -0.15111663264208083, 2.0370254465584474, 0.906193520781411, 1.2115197524753947, 1.4246594347089725, 0.4487685507219152], \"yaxis\": \"y10\"}, {\"histfunc\": \"count\", \"histnorm\": \"\", \"marker\": {\"color\": \"rgba(50, 171, 96, 1.0)\", \"line\": {\"color\": \"#4D5663\", \"width\": 1.3}}, \"name\": \"C\", \"nbinsx\": 10, \"opacity\": 0.8, \"orientation\": \"v\", \"type\": \"histogram\", \"x\": [0.08379242003873957, 0.2148785331592744, 0.05037764227737709, 0.8756341253893809, 0.8590465590528559, 0.4391174055308217, 0.189431450404587, -0.3718155703527072, -0.5550634508530573, -1.3794441465660177, -1.0563146350461485, 0.14681120692010374, 0.3131553635618999, 0.5585557787930133, 0.07722880995042875, -0.04392131380774122, 1.1243569267065112, 0.4253139715551968, 0.11595870860059217, 0.03402107108713042, -1.152168023984466, -0.14102868678892333, 0.32125039377044723, -0.015777088712871118, 1.9589536177600075, -0.43206789180190025, 0.12749666112522964, 0.60374343136248, 0.7276624395022874, -0.8553924209946996, -1.5239420978185667, 2.3059002372762567, 1.7657544426604617, 1.4176804265866652, -0.14577675495265452, -2.5488718386666656, 0.21232980357778392, 0.27948468183738157, -1.1662977440321178, -0.02682624947907975, -0.07801098168006376, -1.5299524615332178, 0.19086992639333702, -1.422834386813165, 0.3651424582753189, -0.03978866054513912, -0.21945194172803012, -0.9001789899014709, 0.3656287775959234, 0.015043418972787223, -0.6988972675541378, -1.099385561047347, 0.46100314491139704, 0.08494565785337806, 0.6599596689566934, 1.1876021244161188, 1.271634126184984, -0.2795533824193319, -1.9056263876115092, 1.0947587027067796, -0.372279956072975, 0.8078982842393541, 0.24586963761177888, 1.2312321136396454, -0.17447290390264522, -0.38122086074732653, -0.7851067104971744, -0.30677339413517046, -1.1153469541785526, -1.268705753155011, -1.0516340367499943, 0.8078730526908118, -0.6654810773103337, 0.4765200681845515, 0.20662969875360157, 0.27918620297987795, 0.40802133707589155, 1.2763581430226278, 1.3378200142549608, -1.0643769902927183, -1.1549667214964872, 1.6004757569170087, -0.42593731310572397, 0.713247303276228, -0.4372100489811118, 1.0021751145910691, 1.3354722150222882, -0.3560516664855117, 0.9911564978729335, 0.6106046459167388, -0.2650783288238696, 1.4191519832449284, 0.7093530482147238, 1.2937644648767108, -0.15111663264208083, 2.0370254465584474, 0.906193520781411, 1.2115197524753947, 1.4246594347089725, 0.4487685507219152], \"xaxis\": \"x11\", \"yaxis\": \"y11\"}, {\"line\": {\"color\": \"rgba(128, 128, 128, 1.0)\", \"dash\": \"solid\", \"shape\": \"linear\", \"width\": 1.3}, \"marker\": {\"size\": 2, \"symbol\": \"circle\"}, \"mode\": \"markers\", \"name\": \"C\", \"text\": \"\", \"type\": \"scatter\", \"x\": [-0.6920634091911322, -1.2328974794541194, -0.13337965401471033, -0.10718312588982684, -1.1869959369538874, -1.2194779182027682, 0.5538225567018522, 0.3086265573058003, 1.5501011090909576, -0.6188799170130024, -0.6330510694501634, 0.12190495414005852, -0.8340665719451371, -0.3052587727563927, 0.17048465739114646, 2.5484889581440995, -0.4001988622871872, 0.2232020074270806, 3.3378359210526516, -1.9951039860201403, 0.46669753757252347, 0.06643153558470793, -1.0212754397753374, -0.8596795616002902, -0.5809913983199892, 1.660379232405525, -1.0206828293145023, -0.5165516692500176, -0.35563432592567235, 0.900963391813983, -2.0907566992355546, 1.9526024683829384, 0.7572391375796467, 0.16457927543657624, -0.709574445714888, -0.1324330263073747, 0.37522399686406444, -0.467457646527938, -1.2034728568367308, -0.18682761445402954, 0.2676089357964147, 0.9354848298876832, -0.1614825418692389, -0.15935046380828055, -0.2066973243556901, 2.1138228595046757, 0.8146101088711156, 0.2621977456669178, -0.40524829672051826, -0.4473821199867852, -0.8188050705844425, -0.8228830639219495, 0.5150953876104498, -0.49697570517748263, 0.8236699217037411, 0.7968981169892387, 0.19963003476156377, -1.3086846374128205, 0.3658069863924726, -0.30014818602960625, 1.0366037965313704, 1.108217546936431, 1.6402622395793887, -1.464246518706611, 0.44741047498891323, 0.6655792148732772, 0.29205688147747827, 1.0465287173815978, -1.0972484624244334, 0.9843079937413093, 0.4005397110947668, 0.6240958337027928, -1.4907753096251966, -0.04531497643233301, 1.5577867100749405, 0.560085435865454, 0.8600067975891267, 1.4101724955969688, 0.5181935464130717, -0.7583553846233285, 1.267470197937567, 2.107735225249204, -1.604037594672744, -1.1246188870452987, -0.8027894261801742, -0.45016955447510903, -0.5291651388810777, 0.4511046557632813, -0.4976688751059435, -0.12838705752481272, -0.6467687349316987, -0.6546091808489067, -0.3383808775917049, -0.313860301853834, -0.7818949483473627, -1.1774540958497328, 1.58084798605212, -0.18530178334993333, 1.7055280861592752, -1.4050532797125146], \"xaxis\": \"x12\", \"y\": [0.08379242003873957, 0.2148785331592744, 0.05037764227737709, 0.8756341253893809, 0.8590465590528559, 0.4391174055308217, 0.189431450404587, -0.3718155703527072, -0.5550634508530573, -1.3794441465660177, -1.0563146350461485, 0.14681120692010374, 0.3131553635618999, 0.5585557787930133, 0.07722880995042875, -0.04392131380774122, 1.1243569267065112, 0.4253139715551968, 0.11595870860059217, 0.03402107108713042, -1.152168023984466, -0.14102868678892333, 0.32125039377044723, -0.015777088712871118, 1.9589536177600075, -0.43206789180190025, 0.12749666112522964, 0.60374343136248, 0.7276624395022874, -0.8553924209946996, -1.5239420978185667, 2.3059002372762567, 1.7657544426604617, 1.4176804265866652, -0.14577675495265452, -2.5488718386666656, 0.21232980357778392, 0.27948468183738157, -1.1662977440321178, -0.02682624947907975, -0.07801098168006376, -1.5299524615332178, 0.19086992639333702, -1.422834386813165, 0.3651424582753189, -0.03978866054513912, -0.21945194172803012, -0.9001789899014709, 0.3656287775959234, 0.015043418972787223, -0.6988972675541378, -1.099385561047347, 0.46100314491139704, 0.08494565785337806, 0.6599596689566934, 1.1876021244161188, 1.271634126184984, -0.2795533824193319, -1.9056263876115092, 1.0947587027067796, -0.372279956072975, 0.8078982842393541, 0.24586963761177888, 1.2312321136396454, -0.17447290390264522, -0.38122086074732653, -0.7851067104971744, -0.30677339413517046, -1.1153469541785526, -1.268705753155011, -1.0516340367499943, 0.8078730526908118, -0.6654810773103337, 0.4765200681845515, 0.20662969875360157, 0.27918620297987795, 0.40802133707589155, 1.2763581430226278, 1.3378200142549608, -1.0643769902927183, -1.1549667214964872, 1.6004757569170087, -0.42593731310572397, 0.713247303276228, -0.4372100489811118, 1.0021751145910691, 1.3354722150222882, -0.3560516664855117, 0.9911564978729335, 0.6106046459167388, -0.2650783288238696, 1.4191519832449284, 0.7093530482147238, 1.2937644648767108, -0.15111663264208083, 2.0370254465584474, 0.906193520781411, 1.2115197524753947, 1.4246594347089725, 0.4487685507219152], \"yaxis\": \"y12\"}, {\"line\": {\"color\": \"rgba(128, 128, 128, 1.0)\", \"dash\": \"solid\", \"shape\": \"linear\", \"width\": 1.3}, \"marker\": {\"size\": 2, \"symbol\": \"circle\"}, \"mode\": \"markers\", \"name\": \"D\", \"text\": \"\", \"type\": \"scatter\", \"x\": [1.0306268310521411, -0.009779592803279932, -0.2790768811322032, -1.0139740466904634, 0.0900692504783834, -0.2535851169626924, -1.6467454574663618, 1.7307237074588178, 1.9502548897209437, -0.19755479047900773, 0.2398666841948917, 0.7010948394146828, -1.1451707605139148, 0.46661900006528834, -0.8657550022928382, -1.6038650824285154, 0.27757731154907933, -0.3431836968023546, -0.23005393886187692, 1.0417258828980622, -0.8420841231491191, 0.8152608031368365, -0.9625178400335987, -1.1404010459367615, 0.050065537297441697, -2.370511621398351, -0.14919235354725413, 0.41704549449768563, -0.6054188923136063, 1.1554385786210146, 0.7844642545459046, -1.475697549467589, 0.04357284219822051, 0.6794088833644034, 0.6088565243362992, -1.1236414266064494, -0.8645947981730004, -0.189315236879113, -1.6210608672291478, 0.9826668024309222, -0.6583173023179347, -0.5261504456906693, -0.03469245259160687, -0.6441359781479439, 2.1734528796420545, -0.695189681213425, -0.46387873617425734, -1.4406688499833342, -1.2366946841550048, -0.10445908435134638, 1.4251663204192084, 0.5459100358998471, -0.8142886165167468, 1.6532780391932245, -0.1756159152534916, 1.3322517121474091, -1.4189570454958202, -0.4365752199462574, 0.9537908960745699, -0.3539941043674274, -1.7317323557753117, -1.6056342883818238, -0.14249131405174065, 0.757385761017589, 0.9217206398940825, 0.8344690988574576, -1.2899900493073886, -0.5943831892006142, -0.30372445542656695, -0.6417063779059349, -0.7037207687010433, 1.1647604326551553, 1.6423197600571988, 1.5706789394322735, 0.1367178711685339, -0.27323866815150344, -0.6314346286156403, 0.4479905105725482, 0.5890067573599885, 0.2851593629595951, 0.21447051208841894, -0.33151322309343284, 0.5286453144797023, -1.06397649923059, 0.5211095633016483, 0.11631777499822968, 0.42275350128486044, -0.6165342792073051, -1.6774563192891445, -0.4449128911114853, -0.3718594486932189, -0.3548745644616727, -0.0653257564023129, -1.380490514092773, 1.2171934013759687, -0.19344980330040593, -1.0615002168273389, -0.7803014574950484, 1.0018898744196458, -0.005603546937125365], \"xaxis\": \"x13\", \"y\": [-0.6920634091911322, -1.2328974794541194, -0.13337965401471033, -0.10718312588982684, -1.1869959369538874, -1.2194779182027682, 0.5538225567018522, 0.3086265573058003, 1.5501011090909576, -0.6188799170130024, -0.6330510694501634, 0.12190495414005852, -0.8340665719451371, -0.3052587727563927, 0.17048465739114646, 2.5484889581440995, -0.4001988622871872, 0.2232020074270806, 3.3378359210526516, -1.9951039860201403, 0.46669753757252347, 0.06643153558470793, -1.0212754397753374, -0.8596795616002902, -0.5809913983199892, 1.660379232405525, -1.0206828293145023, -0.5165516692500176, -0.35563432592567235, 0.900963391813983, -2.0907566992355546, 1.9526024683829384, 0.7572391375796467, 0.16457927543657624, -0.709574445714888, -0.1324330263073747, 0.37522399686406444, -0.467457646527938, -1.2034728568367308, -0.18682761445402954, 0.2676089357964147, 0.9354848298876832, -0.1614825418692389, -0.15935046380828055, -0.2066973243556901, 2.1138228595046757, 0.8146101088711156, 0.2621977456669178, -0.40524829672051826, -0.4473821199867852, -0.8188050705844425, -0.8228830639219495, 0.5150953876104498, -0.49697570517748263, 0.8236699217037411, 0.7968981169892387, 0.19963003476156377, -1.3086846374128205, 0.3658069863924726, -0.30014818602960625, 1.0366037965313704, 1.108217546936431, 1.6402622395793887, -1.464246518706611, 0.44741047498891323, 0.6655792148732772, 0.29205688147747827, 1.0465287173815978, -1.0972484624244334, 0.9843079937413093, 0.4005397110947668, 0.6240958337027928, -1.4907753096251966, -0.04531497643233301, 1.5577867100749405, 0.560085435865454, 0.8600067975891267, 1.4101724955969688, 0.5181935464130717, -0.7583553846233285, 1.267470197937567, 2.107735225249204, -1.604037594672744, -1.1246188870452987, -0.8027894261801742, -0.45016955447510903, -0.5291651388810777, 0.4511046557632813, -0.4976688751059435, -0.12838705752481272, -0.6467687349316987, -0.6546091808489067, -0.3383808775917049, -0.313860301853834, -0.7818949483473627, -1.1774540958497328, 1.58084798605212, -0.18530178334993333, 1.7055280861592752, -1.4050532797125146], \"yaxis\": \"y13\"}, {\"line\": {\"color\": \"rgba(128, 128, 128, 1.0)\", \"dash\": \"solid\", \"shape\": \"linear\", \"width\": 1.3}, \"marker\": {\"size\": 2, \"symbol\": \"circle\"}, \"mode\": \"markers\", \"name\": \"D\", \"text\": \"\", \"type\": \"scatter\", \"x\": [-1.3171858117403332, 0.7624380978698583, -0.26598712621796905, -0.5264968283634126, 0.10775038884771772, -0.41831917087155723, -0.13336026616854868, -2.052679358839702, -0.2308750629501153, 0.2902137081421649, 0.5462280675460035, 1.565509826018809, -1.4187648886808986, -1.423344160179114, 0.5147971814034639, -1.1955784398830605, 0.08841387852632229, 0.9668380080455504, -2.0063648569849772, 0.6808736919461532, 0.18781766388703022, 0.5614171365614565, -0.6444394608278725, -0.9555977425121828, 0.5299791506581135, 0.41850851624872903, -1.5661227844941723, 0.5843187666974453, -1.4004706879941347, 0.8719603928383804, 0.12816736803148948, -0.6104649553361966, 0.39821361249434495, 0.3606846856900817, 0.7413036225859474, 0.1627576812495385, -0.11822845890206685, 0.7059999893225765, 0.7170034475706563, -0.5027599164597009, 0.10001385944510605, 0.005207958097552748, 1.6930322553144348, 0.29635397928301377, 0.30803560854128187, -0.36681447693814095, -1.890051113809245, 0.7540909096954302, -0.1773227273363077, -0.23349584546769653, -0.5713628964543889, -1.4716137756569088, 0.9304562545373743, 0.4995878163784225, 0.65980085367938, -1.4262329597400663, 0.4473009688035141, 0.9388857213269526, -0.449652377171511, -0.41019978026484133, 1.3454325846951676, -1.734053342435024, -0.35576304849981377, 1.9486922219268799, 0.5737692643406617, 0.9393293725888838, -0.8987704602488126, -1.2179927775473998, -0.3154686479242465, 0.11496694956077251, 0.868292857634255, 0.38527378173858845, 0.6327010724068767, 0.6067968510291968, 0.1742604029204123, 0.7507414554072483, 0.0793466639492751, 0.05341761777299585, -1.1964557802321034, 1.6445281574639363, 0.71006173073308, 0.09181605215087117, 0.15398334088760324, -0.3343350278170103, -1.4134082457416612, 0.5162593987334545, -1.0231974241693471, 1.736265472251738, -1.2743123078491674, -1.1200108534882374, 0.284539525306163, 0.28641559822266427, -0.10302174914339148, 1.1760968400628866, 0.31675765561830554, 1.1281775757982864, -0.9114292516561148, -0.09818298589490093, 1.4896167556584419, 0.1509599741757448], \"xaxis\": \"x14\", \"y\": [-0.6920634091911322, -1.2328974794541194, -0.13337965401471033, -0.10718312588982684, -1.1869959369538874, -1.2194779182027682, 0.5538225567018522, 0.3086265573058003, 1.5501011090909576, -0.6188799170130024, -0.6330510694501634, 0.12190495414005852, -0.8340665719451371, -0.3052587727563927, 0.17048465739114646, 2.5484889581440995, -0.4001988622871872, 0.2232020074270806, 3.3378359210526516, -1.9951039860201403, 0.46669753757252347, 0.06643153558470793, -1.0212754397753374, -0.8596795616002902, -0.5809913983199892, 1.660379232405525, -1.0206828293145023, -0.5165516692500176, -0.35563432592567235, 0.900963391813983, -2.0907566992355546, 1.9526024683829384, 0.7572391375796467, 0.16457927543657624, -0.709574445714888, -0.1324330263073747, 0.37522399686406444, -0.467457646527938, -1.2034728568367308, -0.18682761445402954, 0.2676089357964147, 0.9354848298876832, -0.1614825418692389, -0.15935046380828055, -0.2066973243556901, 2.1138228595046757, 0.8146101088711156, 0.2621977456669178, -0.40524829672051826, -0.4473821199867852, -0.8188050705844425, -0.8228830639219495, 0.5150953876104498, -0.49697570517748263, 0.8236699217037411, 0.7968981169892387, 0.19963003476156377, -1.3086846374128205, 0.3658069863924726, -0.30014818602960625, 1.0366037965313704, 1.108217546936431, 1.6402622395793887, -1.464246518706611, 0.44741047498891323, 0.6655792148732772, 0.29205688147747827, 1.0465287173815978, -1.0972484624244334, 0.9843079937413093, 0.4005397110947668, 0.6240958337027928, -1.4907753096251966, -0.04531497643233301, 1.5577867100749405, 0.560085435865454, 0.8600067975891267, 1.4101724955969688, 0.5181935464130717, -0.7583553846233285, 1.267470197937567, 2.107735225249204, -1.604037594672744, -1.1246188870452987, -0.8027894261801742, -0.45016955447510903, -0.5291651388810777, 0.4511046557632813, -0.4976688751059435, -0.12838705752481272, -0.6467687349316987, -0.6546091808489067, -0.3383808775917049, -0.313860301853834, -0.7818949483473627, -1.1774540958497328, 1.58084798605212, -0.18530178334993333, 1.7055280861592752, -1.4050532797125146], \"yaxis\": \"y14\"}, {\"line\": {\"color\": \"rgba(128, 128, 128, 1.0)\", \"dash\": \"solid\", \"shape\": \"linear\", \"width\": 1.3}, \"marker\": {\"size\": 2, \"symbol\": \"circle\"}, \"mode\": \"markers\", \"name\": \"D\", \"text\": \"\", \"type\": \"scatter\", \"x\": [0.08379242003873957, 0.2148785331592744, 0.05037764227737709, 0.8756341253893809, 0.8590465590528559, 0.4391174055308217, 0.189431450404587, -0.3718155703527072, -0.5550634508530573, -1.3794441465660177, -1.0563146350461485, 0.14681120692010374, 0.3131553635618999, 0.5585557787930133, 0.07722880995042875, -0.04392131380774122, 1.1243569267065112, 0.4253139715551968, 0.11595870860059217, 0.03402107108713042, -1.152168023984466, -0.14102868678892333, 0.32125039377044723, -0.015777088712871118, 1.9589536177600075, -0.43206789180190025, 0.12749666112522964, 0.60374343136248, 0.7276624395022874, -0.8553924209946996, -1.5239420978185667, 2.3059002372762567, 1.7657544426604617, 1.4176804265866652, -0.14577675495265452, -2.5488718386666656, 0.21232980357778392, 0.27948468183738157, -1.1662977440321178, -0.02682624947907975, -0.07801098168006376, -1.5299524615332178, 0.19086992639333702, -1.422834386813165, 0.3651424582753189, -0.03978866054513912, -0.21945194172803012, -0.9001789899014709, 0.3656287775959234, 0.015043418972787223, -0.6988972675541378, -1.099385561047347, 0.46100314491139704, 0.08494565785337806, 0.6599596689566934, 1.1876021244161188, 1.271634126184984, -0.2795533824193319, -1.9056263876115092, 1.0947587027067796, -0.372279956072975, 0.8078982842393541, 0.24586963761177888, 1.2312321136396454, -0.17447290390264522, -0.38122086074732653, -0.7851067104971744, -0.30677339413517046, -1.1153469541785526, -1.268705753155011, -1.0516340367499943, 0.8078730526908118, -0.6654810773103337, 0.4765200681845515, 0.20662969875360157, 0.27918620297987795, 0.40802133707589155, 1.2763581430226278, 1.3378200142549608, -1.0643769902927183, -1.1549667214964872, 1.6004757569170087, -0.42593731310572397, 0.713247303276228, -0.4372100489811118, 1.0021751145910691, 1.3354722150222882, -0.3560516664855117, 0.9911564978729335, 0.6106046459167388, -0.2650783288238696, 1.4191519832449284, 0.7093530482147238, 1.2937644648767108, -0.15111663264208083, 2.0370254465584474, 0.906193520781411, 1.2115197524753947, 1.4246594347089725, 0.4487685507219152], \"xaxis\": \"x15\", \"y\": [-0.6920634091911322, -1.2328974794541194, -0.13337965401471033, -0.10718312588982684, -1.1869959369538874, -1.2194779182027682, 0.5538225567018522, 0.3086265573058003, 1.5501011090909576, -0.6188799170130024, -0.6330510694501634, 0.12190495414005852, -0.8340665719451371, -0.3052587727563927, 0.17048465739114646, 2.5484889581440995, -0.4001988622871872, 0.2232020074270806, 3.3378359210526516, -1.9951039860201403, 0.46669753757252347, 0.06643153558470793, -1.0212754397753374, -0.8596795616002902, -0.5809913983199892, 1.660379232405525, -1.0206828293145023, -0.5165516692500176, -0.35563432592567235, 0.900963391813983, -2.0907566992355546, 1.9526024683829384, 0.7572391375796467, 0.16457927543657624, -0.709574445714888, -0.1324330263073747, 0.37522399686406444, -0.467457646527938, -1.2034728568367308, -0.18682761445402954, 0.2676089357964147, 0.9354848298876832, -0.1614825418692389, -0.15935046380828055, -0.2066973243556901, 2.1138228595046757, 0.8146101088711156, 0.2621977456669178, -0.40524829672051826, -0.4473821199867852, -0.8188050705844425, -0.8228830639219495, 0.5150953876104498, -0.49697570517748263, 0.8236699217037411, 0.7968981169892387, 0.19963003476156377, -1.3086846374128205, 0.3658069863924726, -0.30014818602960625, 1.0366037965313704, 1.108217546936431, 1.6402622395793887, -1.464246518706611, 0.44741047498891323, 0.6655792148732772, 0.29205688147747827, 1.0465287173815978, -1.0972484624244334, 0.9843079937413093, 0.4005397110947668, 0.6240958337027928, -1.4907753096251966, -0.04531497643233301, 1.5577867100749405, 0.560085435865454, 0.8600067975891267, 1.4101724955969688, 0.5181935464130717, -0.7583553846233285, 1.267470197937567, 2.107735225249204, -1.604037594672744, -1.1246188870452987, -0.8027894261801742, -0.45016955447510903, -0.5291651388810777, 0.4511046557632813, -0.4976688751059435, -0.12838705752481272, -0.6467687349316987, -0.6546091808489067, -0.3383808775917049, -0.313860301853834, -0.7818949483473627, -1.1774540958497328, 1.58084798605212, -0.18530178334993333, 1.7055280861592752, -1.4050532797125146], \"yaxis\": \"y15\"}, {\"histfunc\": \"count\", \"histnorm\": \"\", \"marker\": {\"color\": \"rgba(128, 0, 128, 1.0)\", \"line\": {\"color\": \"#4D5663\", \"width\": 1.3}}, \"name\": \"D\", \"nbinsx\": 10, \"opacity\": 0.8, \"orientation\": \"v\", \"type\": \"histogram\", \"x\": [-0.6920634091911322, -1.2328974794541194, -0.13337965401471033, -0.10718312588982684, -1.1869959369538874, -1.2194779182027682, 0.5538225567018522, 0.3086265573058003, 1.5501011090909576, -0.6188799170130024, -0.6330510694501634, 0.12190495414005852, -0.8340665719451371, -0.3052587727563927, 0.17048465739114646, 2.5484889581440995, -0.4001988622871872, 0.2232020074270806, 3.3378359210526516, -1.9951039860201403, 0.46669753757252347, 0.06643153558470793, -1.0212754397753374, -0.8596795616002902, -0.5809913983199892, 1.660379232405525, -1.0206828293145023, -0.5165516692500176, -0.35563432592567235, 0.900963391813983, -2.0907566992355546, 1.9526024683829384, 0.7572391375796467, 0.16457927543657624, -0.709574445714888, -0.1324330263073747, 0.37522399686406444, -0.467457646527938, -1.2034728568367308, -0.18682761445402954, 0.2676089357964147, 0.9354848298876832, -0.1614825418692389, -0.15935046380828055, -0.2066973243556901, 2.1138228595046757, 0.8146101088711156, 0.2621977456669178, -0.40524829672051826, -0.4473821199867852, -0.8188050705844425, -0.8228830639219495, 0.5150953876104498, -0.49697570517748263, 0.8236699217037411, 0.7968981169892387, 0.19963003476156377, -1.3086846374128205, 0.3658069863924726, -0.30014818602960625, 1.0366037965313704, 1.108217546936431, 1.6402622395793887, -1.464246518706611, 0.44741047498891323, 0.6655792148732772, 0.29205688147747827, 1.0465287173815978, -1.0972484624244334, 0.9843079937413093, 0.4005397110947668, 0.6240958337027928, -1.4907753096251966, -0.04531497643233301, 1.5577867100749405, 0.560085435865454, 0.8600067975891267, 1.4101724955969688, 0.5181935464130717, -0.7583553846233285, 1.267470197937567, 2.107735225249204, -1.604037594672744, -1.1246188870452987, -0.8027894261801742, -0.45016955447510903, -0.5291651388810777, 0.4511046557632813, -0.4976688751059435, -0.12838705752481272, -0.6467687349316987, -0.6546091808489067, -0.3383808775917049, -0.313860301853834, -0.7818949483473627, -1.1774540958497328, 1.58084798605212, -0.18530178334993333, 1.7055280861592752, -1.4050532797125146], \"xaxis\": \"x16\", \"yaxis\": \"y16\"}],                        {\"bargap\": 0.02, \"legend\": {\"bgcolor\": \"#F5F6F9\", \"font\": {\"color\": \"#4D5663\"}}, \"paper_bgcolor\": \"#F5F6F9\", \"plot_bgcolor\": \"#F5F6F9\", \"showlegend\": false, \"template\": {\"data\": {\"bar\": [{\"error_x\": {\"color\": \"#2a3f5f\"}, \"error_y\": {\"color\": \"#2a3f5f\"}, \"marker\": {\"line\": {\"color\": \"#E5ECF6\", \"width\": 0.5}}, \"type\": \"bar\"}], \"barpolar\": [{\"marker\": {\"line\": {\"color\": \"#E5ECF6\", \"width\": 0.5}}, \"type\": \"barpolar\"}], \"carpet\": [{\"aaxis\": {\"endlinecolor\": \"#2a3f5f\", \"gridcolor\": \"white\", \"linecolor\": \"white\", \"minorgridcolor\": \"white\", \"startlinecolor\": \"#2a3f5f\"}, \"baxis\": {\"endlinecolor\": \"#2a3f5f\", \"gridcolor\": \"white\", \"linecolor\": \"white\", \"minorgridcolor\": \"white\", \"startlinecolor\": \"#2a3f5f\"}, \"type\": \"carpet\"}], \"choropleth\": [{\"colorbar\": {\"outlinewidth\": 0, \"ticks\": \"\"}, \"type\": \"choropleth\"}], \"contour\": [{\"colorbar\": {\"outlinewidth\": 0, \"ticks\": \"\"}, \"colorscale\": [[0.0, \"#0d0887\"], [0.1111111111111111, \"#46039f\"], [0.2222222222222222, \"#7201a8\"], [0.3333333333333333, \"#9c179e\"], [0.4444444444444444, \"#bd3786\"], [0.5555555555555556, \"#d8576b\"], [0.6666666666666666, \"#ed7953\"], [0.7777777777777778, \"#fb9f3a\"], [0.8888888888888888, \"#fdca26\"], [1.0, \"#f0f921\"]], \"type\": \"contour\"}], \"contourcarpet\": [{\"colorbar\": {\"outlinewidth\": 0, \"ticks\": \"\"}, \"type\": \"contourcarpet\"}], \"heatmap\": [{\"colorbar\": {\"outlinewidth\": 0, \"ticks\": \"\"}, \"colorscale\": [[0.0, \"#0d0887\"], [0.1111111111111111, \"#46039f\"], [0.2222222222222222, \"#7201a8\"], [0.3333333333333333, \"#9c179e\"], [0.4444444444444444, \"#bd3786\"], [0.5555555555555556, \"#d8576b\"], [0.6666666666666666, \"#ed7953\"], [0.7777777777777778, \"#fb9f3a\"], [0.8888888888888888, \"#fdca26\"], [1.0, \"#f0f921\"]], \"type\": \"heatmap\"}], \"heatmapgl\": [{\"colorbar\": {\"outlinewidth\": 0, \"ticks\": \"\"}, \"colorscale\": [[0.0, \"#0d0887\"], [0.1111111111111111, \"#46039f\"], [0.2222222222222222, \"#7201a8\"], [0.3333333333333333, \"#9c179e\"], [0.4444444444444444, \"#bd3786\"], [0.5555555555555556, \"#d8576b\"], [0.6666666666666666, \"#ed7953\"], [0.7777777777777778, \"#fb9f3a\"], [0.8888888888888888, \"#fdca26\"], [1.0, \"#f0f921\"]], \"type\": \"heatmapgl\"}], \"histogram\": [{\"marker\": {\"colorbar\": {\"outlinewidth\": 0, \"ticks\": \"\"}}, \"type\": \"histogram\"}], \"histogram2d\": [{\"colorbar\": {\"outlinewidth\": 0, \"ticks\": \"\"}, \"colorscale\": [[0.0, \"#0d0887\"], [0.1111111111111111, \"#46039f\"], [0.2222222222222222, \"#7201a8\"], [0.3333333333333333, \"#9c179e\"], [0.4444444444444444, \"#bd3786\"], [0.5555555555555556, \"#d8576b\"], [0.6666666666666666, \"#ed7953\"], [0.7777777777777778, \"#fb9f3a\"], [0.8888888888888888, \"#fdca26\"], [1.0, \"#f0f921\"]], \"type\": \"histogram2d\"}], \"histogram2dcontour\": [{\"colorbar\": {\"outlinewidth\": 0, \"ticks\": \"\"}, \"colorscale\": [[0.0, \"#0d0887\"], [0.1111111111111111, \"#46039f\"], [0.2222222222222222, \"#7201a8\"], [0.3333333333333333, \"#9c179e\"], [0.4444444444444444, \"#bd3786\"], [0.5555555555555556, \"#d8576b\"], [0.6666666666666666, \"#ed7953\"], [0.7777777777777778, \"#fb9f3a\"], [0.8888888888888888, \"#fdca26\"], [1.0, \"#f0f921\"]], \"type\": \"histogram2dcontour\"}], \"mesh3d\": [{\"colorbar\": {\"outlinewidth\": 0, \"ticks\": \"\"}, \"type\": \"mesh3d\"}], \"parcoords\": [{\"line\": {\"colorbar\": {\"outlinewidth\": 0, \"ticks\": \"\"}}, \"type\": \"parcoords\"}], \"pie\": [{\"automargin\": true, \"type\": \"pie\"}], \"scatter\": [{\"marker\": {\"colorbar\": {\"outlinewidth\": 0, \"ticks\": \"\"}}, \"type\": \"scatter\"}], \"scatter3d\": [{\"line\": {\"colorbar\": {\"outlinewidth\": 0, \"ticks\": \"\"}}, \"marker\": {\"colorbar\": {\"outlinewidth\": 0, \"ticks\": \"\"}}, \"type\": \"scatter3d\"}], \"scattercarpet\": [{\"marker\": {\"colorbar\": {\"outlinewidth\": 0, \"ticks\": \"\"}}, \"type\": \"scattercarpet\"}], \"scattergeo\": [{\"marker\": {\"colorbar\": {\"outlinewidth\": 0, \"ticks\": \"\"}}, \"type\": \"scattergeo\"}], \"scattergl\": [{\"marker\": {\"colorbar\": {\"outlinewidth\": 0, \"ticks\": \"\"}}, \"type\": \"scattergl\"}], \"scattermapbox\": [{\"marker\": {\"colorbar\": {\"outlinewidth\": 0, \"ticks\": \"\"}}, \"type\": \"scattermapbox\"}], \"scatterpolar\": [{\"marker\": {\"colorbar\": {\"outlinewidth\": 0, \"ticks\": \"\"}}, \"type\": \"scatterpolar\"}], \"scatterpolargl\": [{\"marker\": {\"colorbar\": {\"outlinewidth\": 0, \"ticks\": \"\"}}, \"type\": \"scatterpolargl\"}], \"scatterternary\": [{\"marker\": {\"colorbar\": {\"outlinewidth\": 0, \"ticks\": \"\"}}, \"type\": \"scatterternary\"}], \"surface\": [{\"colorbar\": {\"outlinewidth\": 0, \"ticks\": \"\"}, \"colorscale\": [[0.0, \"#0d0887\"], [0.1111111111111111, \"#46039f\"], [0.2222222222222222, \"#7201a8\"], [0.3333333333333333, \"#9c179e\"], [0.4444444444444444, \"#bd3786\"], [0.5555555555555556, \"#d8576b\"], [0.6666666666666666, \"#ed7953\"], [0.7777777777777778, \"#fb9f3a\"], [0.8888888888888888, \"#fdca26\"], [1.0, \"#f0f921\"]], \"type\": \"surface\"}], \"table\": [{\"cells\": {\"fill\": {\"color\": \"#EBF0F8\"}, \"line\": {\"color\": \"white\"}}, \"header\": {\"fill\": {\"color\": \"#C8D4E3\"}, \"line\": {\"color\": \"white\"}}, \"type\": \"table\"}]}, \"layout\": {\"annotationdefaults\": {\"arrowcolor\": \"#2a3f5f\", \"arrowhead\": 0, \"arrowwidth\": 1}, \"coloraxis\": {\"colorbar\": {\"outlinewidth\": 0, \"ticks\": \"\"}}, \"colorscale\": {\"diverging\": [[0, \"#8e0152\"], [0.1, \"#c51b7d\"], [0.2, \"#de77ae\"], [0.3, \"#f1b6da\"], [0.4, \"#fde0ef\"], [0.5, \"#f7f7f7\"], [0.6, \"#e6f5d0\"], [0.7, \"#b8e186\"], [0.8, \"#7fbc41\"], [0.9, \"#4d9221\"], [1, \"#276419\"]], \"sequential\": [[0.0, \"#0d0887\"], [0.1111111111111111, \"#46039f\"], [0.2222222222222222, \"#7201a8\"], [0.3333333333333333, \"#9c179e\"], [0.4444444444444444, \"#bd3786\"], [0.5555555555555556, \"#d8576b\"], [0.6666666666666666, \"#ed7953\"], [0.7777777777777778, \"#fb9f3a\"], [0.8888888888888888, \"#fdca26\"], [1.0, \"#f0f921\"]], \"sequentialminus\": [[0.0, \"#0d0887\"], [0.1111111111111111, \"#46039f\"], [0.2222222222222222, \"#7201a8\"], [0.3333333333333333, \"#9c179e\"], [0.4444444444444444, \"#bd3786\"], [0.5555555555555556, \"#d8576b\"], [0.6666666666666666, \"#ed7953\"], [0.7777777777777778, \"#fb9f3a\"], [0.8888888888888888, \"#fdca26\"], [1.0, \"#f0f921\"]]}, \"colorway\": [\"#636efa\", \"#EF553B\", \"#00cc96\", \"#ab63fa\", \"#FFA15A\", \"#19d3f3\", \"#FF6692\", \"#B6E880\", \"#FF97FF\", \"#FECB52\"], \"font\": {\"color\": \"#2a3f5f\"}, \"geo\": {\"bgcolor\": \"white\", \"lakecolor\": \"white\", \"landcolor\": \"#E5ECF6\", \"showlakes\": true, \"showland\": true, \"subunitcolor\": \"white\"}, \"hoverlabel\": {\"align\": \"left\"}, \"hovermode\": \"closest\", \"mapbox\": {\"style\": \"light\"}, \"paper_bgcolor\": \"white\", \"plot_bgcolor\": \"#E5ECF6\", \"polar\": {\"angularaxis\": {\"gridcolor\": \"white\", \"linecolor\": \"white\", \"ticks\": \"\"}, \"bgcolor\": \"#E5ECF6\", \"radialaxis\": {\"gridcolor\": \"white\", \"linecolor\": \"white\", \"ticks\": \"\"}}, \"scene\": {\"xaxis\": {\"backgroundcolor\": \"#E5ECF6\", \"gridcolor\": \"white\", \"gridwidth\": 2, \"linecolor\": \"white\", \"showbackground\": true, \"ticks\": \"\", \"zerolinecolor\": \"white\"}, \"yaxis\": {\"backgroundcolor\": \"#E5ECF6\", \"gridcolor\": \"white\", \"gridwidth\": 2, \"linecolor\": \"white\", \"showbackground\": true, \"ticks\": \"\", \"zerolinecolor\": \"white\"}, \"zaxis\": {\"backgroundcolor\": \"#E5ECF6\", \"gridcolor\": \"white\", \"gridwidth\": 2, \"linecolor\": \"white\", \"showbackground\": true, \"ticks\": \"\", \"zerolinecolor\": \"white\"}}, \"shapedefaults\": {\"line\": {\"color\": \"#2a3f5f\"}}, \"ternary\": {\"aaxis\": {\"gridcolor\": \"white\", \"linecolor\": \"white\", \"ticks\": \"\"}, \"baxis\": {\"gridcolor\": \"white\", \"linecolor\": \"white\", \"ticks\": \"\"}, \"bgcolor\": \"#E5ECF6\", \"caxis\": {\"gridcolor\": \"white\", \"linecolor\": \"white\", \"ticks\": \"\"}}, \"title\": {\"x\": 0.05}, \"xaxis\": {\"automargin\": true, \"gridcolor\": \"white\", \"linecolor\": \"white\", \"ticks\": \"\", \"title\": {\"standoff\": 15}, \"zerolinecolor\": \"white\", \"zerolinewidth\": 2}, \"yaxis\": {\"automargin\": true, \"gridcolor\": \"white\", \"linecolor\": \"white\", \"ticks\": \"\", \"title\": {\"standoff\": 15}, \"zerolinecolor\": \"white\", \"zerolinewidth\": 2}}}, \"title\": {\"font\": {\"color\": \"#4D5663\"}}, \"xaxis\": {\"anchor\": \"y\", \"domain\": [0.0, 0.2125], \"gridcolor\": \"#E1E5ED\", \"showgrid\": false, \"tickfont\": {\"color\": \"#4D5663\"}, \"title\": {\"font\": {\"color\": \"#4D5663\"}, \"text\": \"\"}, \"zerolinecolor\": \"#E1E5ED\"}, \"xaxis10\": {\"anchor\": \"y10\", \"domain\": [0.2625, 0.475], \"gridcolor\": \"#E1E5ED\", \"showgrid\": false, \"tickfont\": {\"color\": \"#4D5663\"}, \"title\": {\"font\": {\"color\": \"#4D5663\"}, \"text\": \"\"}, \"zerolinecolor\": \"#E1E5ED\"}, \"xaxis11\": {\"anchor\": \"y11\", \"domain\": [0.525, 0.7375], \"gridcolor\": \"#E1E5ED\", \"showgrid\": false, \"tickfont\": {\"color\": \"#4D5663\"}, \"title\": {\"font\": {\"color\": \"#4D5663\"}, \"text\": \"\"}, \"zerolinecolor\": \"#E1E5ED\"}, \"xaxis12\": {\"anchor\": \"y12\", \"domain\": [0.7875, 1.0], \"gridcolor\": \"#E1E5ED\", \"showgrid\": false, \"tickfont\": {\"color\": \"#4D5663\"}, \"title\": {\"font\": {\"color\": \"#4D5663\"}, \"text\": \"\"}, \"zerolinecolor\": \"#E1E5ED\"}, \"xaxis13\": {\"anchor\": \"y13\", \"domain\": [0.0, 0.2125], \"gridcolor\": \"#E1E5ED\", \"showgrid\": false, \"tickfont\": {\"color\": \"#4D5663\"}, \"title\": {\"font\": {\"color\": \"#4D5663\"}, \"text\": \"\"}, \"zerolinecolor\": \"#E1E5ED\"}, \"xaxis14\": {\"anchor\": \"y14\", \"domain\": [0.2625, 0.475], \"gridcolor\": \"#E1E5ED\", \"showgrid\": false, \"tickfont\": {\"color\": \"#4D5663\"}, \"title\": {\"font\": {\"color\": \"#4D5663\"}, \"text\": \"\"}, \"zerolinecolor\": \"#E1E5ED\"}, \"xaxis15\": {\"anchor\": \"y15\", \"domain\": [0.525, 0.7375], \"gridcolor\": \"#E1E5ED\", \"showgrid\": false, \"tickfont\": {\"color\": \"#4D5663\"}, \"title\": {\"font\": {\"color\": \"#4D5663\"}, \"text\": \"\"}, \"zerolinecolor\": \"#E1E5ED\"}, \"xaxis16\": {\"anchor\": \"y16\", \"domain\": [0.7875, 1.0], \"gridcolor\": \"#E1E5ED\", \"showgrid\": false, \"tickfont\": {\"color\": \"#4D5663\"}, \"title\": {\"font\": {\"color\": \"#4D5663\"}, \"text\": \"\"}, \"zerolinecolor\": \"#E1E5ED\"}, \"xaxis2\": {\"anchor\": \"y2\", \"domain\": [0.2625, 0.475], \"gridcolor\": \"#E1E5ED\", \"showgrid\": false, \"tickfont\": {\"color\": \"#4D5663\"}, \"title\": {\"font\": {\"color\": \"#4D5663\"}, \"text\": \"\"}, \"zerolinecolor\": \"#E1E5ED\"}, \"xaxis3\": {\"anchor\": \"y3\", \"domain\": [0.525, 0.7375], \"gridcolor\": \"#E1E5ED\", \"showgrid\": false, \"tickfont\": {\"color\": \"#4D5663\"}, \"title\": {\"font\": {\"color\": \"#4D5663\"}, \"text\": \"\"}, \"zerolinecolor\": \"#E1E5ED\"}, \"xaxis4\": {\"anchor\": \"y4\", \"domain\": [0.7875, 1.0], \"gridcolor\": \"#E1E5ED\", \"showgrid\": false, \"tickfont\": {\"color\": \"#4D5663\"}, \"title\": {\"font\": {\"color\": \"#4D5663\"}, \"text\": \"\"}, \"zerolinecolor\": \"#E1E5ED\"}, \"xaxis5\": {\"anchor\": \"y5\", \"domain\": [0.0, 0.2125], \"gridcolor\": \"#E1E5ED\", \"showgrid\": false, \"tickfont\": {\"color\": \"#4D5663\"}, \"title\": {\"font\": {\"color\": \"#4D5663\"}, \"text\": \"\"}, \"zerolinecolor\": \"#E1E5ED\"}, \"xaxis6\": {\"anchor\": \"y6\", \"domain\": [0.2625, 0.475], \"gridcolor\": \"#E1E5ED\", \"showgrid\": false, \"tickfont\": {\"color\": \"#4D5663\"}, \"title\": {\"font\": {\"color\": \"#4D5663\"}, \"text\": \"\"}, \"zerolinecolor\": \"#E1E5ED\"}, \"xaxis7\": {\"anchor\": \"y7\", \"domain\": [0.525, 0.7375], \"gridcolor\": \"#E1E5ED\", \"showgrid\": false, \"tickfont\": {\"color\": \"#4D5663\"}, \"title\": {\"font\": {\"color\": \"#4D5663\"}, \"text\": \"\"}, \"zerolinecolor\": \"#E1E5ED\"}, \"xaxis8\": {\"anchor\": \"y8\", \"domain\": [0.7875, 1.0], \"gridcolor\": \"#E1E5ED\", \"showgrid\": false, \"tickfont\": {\"color\": \"#4D5663\"}, \"title\": {\"font\": {\"color\": \"#4D5663\"}, \"text\": \"\"}, \"zerolinecolor\": \"#E1E5ED\"}, \"xaxis9\": {\"anchor\": \"y9\", \"domain\": [0.0, 0.2125], \"gridcolor\": \"#E1E5ED\", \"showgrid\": false, \"tickfont\": {\"color\": \"#4D5663\"}, \"title\": {\"font\": {\"color\": \"#4D5663\"}, \"text\": \"\"}, \"zerolinecolor\": \"#E1E5ED\"}, \"yaxis\": {\"anchor\": \"x\", \"domain\": [0.8025, 1.0], \"gridcolor\": \"#E1E5ED\", \"showgrid\": false, \"tickfont\": {\"color\": \"#4D5663\"}, \"title\": {\"font\": {\"color\": \"#4D5663\"}, \"text\": \"\"}, \"zerolinecolor\": \"#E1E5ED\"}, \"yaxis10\": {\"anchor\": \"x10\", \"domain\": [0.2675, 0.465], \"gridcolor\": \"#E1E5ED\", \"showgrid\": false, \"tickfont\": {\"color\": \"#4D5663\"}, \"title\": {\"font\": {\"color\": \"#4D5663\"}, \"text\": \"\"}, \"zerolinecolor\": \"#E1E5ED\"}, \"yaxis11\": {\"anchor\": \"x11\", \"domain\": [0.2675, 0.465], \"gridcolor\": \"#E1E5ED\", \"showgrid\": false, \"tickfont\": {\"color\": \"#4D5663\"}, \"title\": {\"font\": {\"color\": \"#4D5663\"}, \"text\": \"\"}, \"zerolinecolor\": \"#E1E5ED\"}, \"yaxis12\": {\"anchor\": \"x12\", \"domain\": [0.2675, 0.465], \"gridcolor\": \"#E1E5ED\", \"showgrid\": false, \"tickfont\": {\"color\": \"#4D5663\"}, \"title\": {\"font\": {\"color\": \"#4D5663\"}, \"text\": \"\"}, \"zerolinecolor\": \"#E1E5ED\"}, \"yaxis13\": {\"anchor\": \"x13\", \"domain\": [0.0, 0.1975], \"gridcolor\": \"#E1E5ED\", \"showgrid\": false, \"tickfont\": {\"color\": \"#4D5663\"}, \"title\": {\"font\": {\"color\": \"#4D5663\"}, \"text\": \"\"}, \"zerolinecolor\": \"#E1E5ED\"}, \"yaxis14\": {\"anchor\": \"x14\", \"domain\": [0.0, 0.1975], \"gridcolor\": \"#E1E5ED\", \"showgrid\": false, \"tickfont\": {\"color\": \"#4D5663\"}, \"title\": {\"font\": {\"color\": \"#4D5663\"}, \"text\": \"\"}, \"zerolinecolor\": \"#E1E5ED\"}, \"yaxis15\": {\"anchor\": \"x15\", \"domain\": [0.0, 0.1975], \"gridcolor\": \"#E1E5ED\", \"showgrid\": false, \"tickfont\": {\"color\": \"#4D5663\"}, \"title\": {\"font\": {\"color\": \"#4D5663\"}, \"text\": \"\"}, \"zerolinecolor\": \"#E1E5ED\"}, \"yaxis16\": {\"anchor\": \"x16\", \"domain\": [0.0, 0.1975], \"gridcolor\": \"#E1E5ED\", \"showgrid\": false, \"tickfont\": {\"color\": \"#4D5663\"}, \"title\": {\"font\": {\"color\": \"#4D5663\"}, \"text\": \"\"}, \"zerolinecolor\": \"#E1E5ED\"}, \"yaxis2\": {\"anchor\": \"x2\", \"domain\": [0.8025, 1.0], \"gridcolor\": \"#E1E5ED\", \"showgrid\": false, \"tickfont\": {\"color\": \"#4D5663\"}, \"title\": {\"font\": {\"color\": \"#4D5663\"}, \"text\": \"\"}, \"zerolinecolor\": \"#E1E5ED\"}, \"yaxis3\": {\"anchor\": \"x3\", \"domain\": [0.8025, 1.0], \"gridcolor\": \"#E1E5ED\", \"showgrid\": false, \"tickfont\": {\"color\": \"#4D5663\"}, \"title\": {\"font\": {\"color\": \"#4D5663\"}, \"text\": \"\"}, \"zerolinecolor\": \"#E1E5ED\"}, \"yaxis4\": {\"anchor\": \"x4\", \"domain\": [0.8025, 1.0], \"gridcolor\": \"#E1E5ED\", \"showgrid\": false, \"tickfont\": {\"color\": \"#4D5663\"}, \"title\": {\"font\": {\"color\": \"#4D5663\"}, \"text\": \"\"}, \"zerolinecolor\": \"#E1E5ED\"}, \"yaxis5\": {\"anchor\": \"x5\", \"domain\": [0.535, 0.7325], \"gridcolor\": \"#E1E5ED\", \"showgrid\": false, \"tickfont\": {\"color\": \"#4D5663\"}, \"title\": {\"font\": {\"color\": \"#4D5663\"}, \"text\": \"\"}, \"zerolinecolor\": \"#E1E5ED\"}, \"yaxis6\": {\"anchor\": \"x6\", \"domain\": [0.535, 0.7325], \"gridcolor\": \"#E1E5ED\", \"showgrid\": false, \"tickfont\": {\"color\": \"#4D5663\"}, \"title\": {\"font\": {\"color\": \"#4D5663\"}, \"text\": \"\"}, \"zerolinecolor\": \"#E1E5ED\"}, \"yaxis7\": {\"anchor\": \"x7\", \"domain\": [0.535, 0.7325], \"gridcolor\": \"#E1E5ED\", \"showgrid\": false, \"tickfont\": {\"color\": \"#4D5663\"}, \"title\": {\"font\": {\"color\": \"#4D5663\"}, \"text\": \"\"}, \"zerolinecolor\": \"#E1E5ED\"}, \"yaxis8\": {\"anchor\": \"x8\", \"domain\": [0.535, 0.7325], \"gridcolor\": \"#E1E5ED\", \"showgrid\": false, \"tickfont\": {\"color\": \"#4D5663\"}, \"title\": {\"font\": {\"color\": \"#4D5663\"}, \"text\": \"\"}, \"zerolinecolor\": \"#E1E5ED\"}, \"yaxis9\": {\"anchor\": \"x9\", \"domain\": [0.2675, 0.465], \"gridcolor\": \"#E1E5ED\", \"showgrid\": false, \"tickfont\": {\"color\": \"#4D5663\"}, \"title\": {\"font\": {\"color\": \"#4D5663\"}, \"text\": \"\"}, \"zerolinecolor\": \"#E1E5ED\"}},                        {\"showLink\": true, \"linkText\": \"Export to plot.ly\", \"plotlyServerURL\": \"https://plot.ly\", \"responsive\": true}                    ).then(function(){\n",
       "                            \n",
       "var gd = document.getElementById('7d3a6250-f2b3-40f9-8478-17a7c673a3b6');\n",
       "var x = new MutationObserver(function (mutations, observer) {{\n",
       "        var display = window.getComputedStyle(gd).display;\n",
       "        if (!display || display === 'none') {{\n",
       "            console.log([gd, 'removed!']);\n",
       "            Plotly.purge(gd);\n",
       "            observer.disconnect();\n",
       "        }}\n",
       "}});\n",
       "\n",
       "// Listen for the removal of the full notebook cells\n",
       "var notebookContainer = gd.closest('#notebook-container');\n",
       "if (notebookContainer) {{\n",
       "    x.observe(notebookContainer, {childList: true});\n",
       "}}\n",
       "\n",
       "// Listen for the clearing of the current output cell\n",
       "var outputEl = gd.closest('.output');\n",
       "if (outputEl) {{\n",
       "    x.observe(outputEl, {childList: true});\n",
       "}}\n",
       "\n",
       "                        })                };                });            </script>        </div>"
      ]
     },
     "metadata": {},
     "output_type": "display_data"
    }
   ],
   "source": [
    "df.scatter_matrix()"
   ]
  },
  {
   "cell_type": "markdown",
   "metadata": {
    "collapsed": true
   },
   "source": [
    "# Great Job!"
   ]
  }
 ],
 "metadata": {
  "kernelspec": {
   "display_name": "Python 3",
   "language": "python",
   "name": "python3"
  },
  "language_info": {
   "codemirror_mode": {
    "name": "ipython",
    "version": 3
   },
   "file_extension": ".py",
   "mimetype": "text/x-python",
   "name": "python",
   "nbconvert_exporter": "python",
   "pygments_lexer": "ipython3",
   "version": "3.7.6"
  }
 },
 "nbformat": 4,
 "nbformat_minor": 1
}
