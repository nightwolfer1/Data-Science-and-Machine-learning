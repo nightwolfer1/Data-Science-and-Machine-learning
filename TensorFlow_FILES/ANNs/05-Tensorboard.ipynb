{
 "cells": [
  {
   "cell_type": "markdown",
   "metadata": {},
   "source": [
    "<a href=\"https://www.pieriandata.com\"><img src=\"../Pierian_Data_Logo.PNG\"></a>\n",
    "<strong><center>Copyright by Pierian Data Inc.</center></strong> \n",
    "<strong><center>Created by Jose Marcial Portilla.</center></strong>"
   ]
  },
  {
   "cell_type": "markdown",
   "metadata": {},
   "source": [
    "# Tensorboard\n",
    "\n",
    "---\n",
    "---\n",
    "\n",
    "**NOTE: You must watch the corresponding video to understand this lecture. This notebook can't serve as a full guide. Please watch the video BEFORE posting questions to the QA forum.**\n",
    "\n",
    "---\n",
    "---\n",
    "\n",
    "Let's explore the built in data visualization capabilities that come with Tensorboard.\n",
    "\n",
    "Full official tutorial available here: https://www.tensorflow.org/tensorboard/get_started\n",
    "\n",
    "## Data"
   ]
  },
  {
   "cell_type": "code",
   "execution_count": 1,
   "metadata": {},
   "outputs": [
    {
     "name": "stdout",
     "output_type": "stream",
     "text": [
      "Note: you may need to restart the kernel to use updated packages.\n"
     ]
    },
    {
     "name": "stderr",
     "output_type": "stream",
     "text": [
      "ERROR: Could not find a version that satisfies the requirement tansorboard (from versions: none)\n",
      "ERROR: No matching distribution found for tansorboard\n"
     ]
    }
   ],
   "source": [
    "pip install tansorboard"
   ]
  },
  {
   "cell_type": "code",
   "execution_count": 1,
   "metadata": {},
   "outputs": [],
   "source": [
    "import pandas as pd\n",
    "import numpy as np"
   ]
  },
  {
   "cell_type": "code",
   "execution_count": 2,
   "metadata": {},
   "outputs": [],
   "source": [
    "df = pd.read_csv('../DATA/cancer_classification.csv')"
   ]
  },
  {
   "cell_type": "markdown",
   "metadata": {},
   "source": [
    "### Train Test Split"
   ]
  },
  {
   "cell_type": "code",
   "execution_count": 3,
   "metadata": {},
   "outputs": [],
   "source": [
    "X = df.drop('benign_0__mal_1',axis=1).values\n",
    "y = df['benign_0__mal_1'].values"
   ]
  },
  {
   "cell_type": "code",
   "execution_count": 4,
   "metadata": {},
   "outputs": [],
   "source": [
    "from sklearn.model_selection import train_test_split"
   ]
  },
  {
   "cell_type": "code",
   "execution_count": 5,
   "metadata": {},
   "outputs": [],
   "source": [
    "X_train, X_test, y_train, y_test = train_test_split(X,y,test_size=0.25,random_state=101)"
   ]
  },
  {
   "cell_type": "markdown",
   "metadata": {},
   "source": [
    "\n",
    "### Scaling Data"
   ]
  },
  {
   "cell_type": "code",
   "execution_count": 7,
   "metadata": {},
   "outputs": [],
   "source": [
    "from sklearn.preprocessing import MinMaxScaler"
   ]
  },
  {
   "cell_type": "code",
   "execution_count": 8,
   "metadata": {},
   "outputs": [],
   "source": [
    "scaler = MinMaxScaler()"
   ]
  },
  {
   "cell_type": "code",
   "execution_count": 9,
   "metadata": {},
   "outputs": [
    {
     "data": {
      "text/plain": [
       "MinMaxScaler(copy=True, feature_range=(0, 1))"
      ]
     },
     "execution_count": 9,
     "metadata": {},
     "output_type": "execute_result"
    }
   ],
   "source": [
    "scaler.fit(X_train)"
   ]
  },
  {
   "cell_type": "code",
   "execution_count": 10,
   "metadata": {},
   "outputs": [],
   "source": [
    "X_train = scaler.transform(X_train)\n",
    "X_test = scaler.transform(X_test)"
   ]
  },
  {
   "cell_type": "markdown",
   "metadata": {},
   "source": [
    "## Creating the Model"
   ]
  },
  {
   "cell_type": "code",
   "execution_count": 11,
   "metadata": {},
   "outputs": [],
   "source": [
    "import tensorflow as tf\n",
    "from tensorflow.keras.models import Sequential\n",
    "from tensorflow.keras.layers import Dense, Activation,Dropout"
   ]
  },
  {
   "cell_type": "code",
   "execution_count": 12,
   "metadata": {},
   "outputs": [],
   "source": [
    "from tensorflow.keras.callbacks import EarlyStopping,TensorBoard"
   ]
  },
  {
   "cell_type": "code",
   "execution_count": 13,
   "metadata": {},
   "outputs": [],
   "source": [
    "early_stop = EarlyStopping(monitor='val_loss', mode='min', verbose=1, patience=25)"
   ]
  },
  {
   "cell_type": "code",
   "execution_count": 14,
   "metadata": {},
   "outputs": [
    {
     "data": {
      "text/plain": [
       "'C:\\\\Users\\\\nightwolfer\\\\git\\\\Python_Machine_learning\\\\TensorFlow_FILES\\\\ANNs'"
      ]
     },
     "execution_count": 14,
     "metadata": {},
     "output_type": "execute_result"
    }
   ],
   "source": [
    "pwd"
   ]
  },
  {
   "cell_type": "markdown",
   "metadata": {},
   "source": [
    "## Creating the Tensorboard Callback\n",
    "\n",
    "TensorBoard is a visualization tool provided with TensorFlow.\n",
    "\n",
    "This callback logs events for TensorBoard, including:\n",
    "* Metrics summary plots\n",
    "* Training graph visualization\n",
    "* Activation histograms\n",
    "* Sampled profiling\n",
    "\n",
    "If you have installed TensorFlow with pip, you should be able\n",
    "to launch TensorBoard from the command line:\n",
    "\n",
    "```sh\n",
    "tensorboard --logdir=path_to_your_logs\n",
    "```\n",
    "\n",
    "You can find more information about TensorBoard\n",
    "[here](https://www.tensorflow.org/tensorboard/).\n",
    "\n",
    "    Arguments:\n",
    "        log_dir: the path of the directory where to save the log files to be\n",
    "          parsed by TensorBoard.\n",
    "        histogram_freq: frequency (in epochs) at which to compute activation and\n",
    "          weight histograms for the layers of the model. If set to 0, histograms\n",
    "          won't be computed. Validation data (or split) must be specified for\n",
    "          histogram visualizations.\n",
    "        write_graph: whether to visualize the graph in TensorBoard. The log file\n",
    "          can become quite large when write_graph is set to True.\n",
    "        write_images: whether to write model weights to visualize as image in\n",
    "          TensorBoard.\n",
    "        update_freq: `'batch'` or `'epoch'` or integer. When using `'batch'`,\n",
    "          writes the losses and metrics to TensorBoard after each batch. The same\n",
    "          applies for `'epoch'`. If using an integer, let's say `1000`, the\n",
    "          callback will write the metrics and losses to TensorBoard every 1000\n",
    "          samples. Note that writing too frequently to TensorBoard can slow down\n",
    "          your training.\n",
    "        profile_batch: Profile the batch to sample compute characteristics. By\n",
    "          default, it will profile the second batch. Set profile_batch=0 to\n",
    "          disable profiling. Must run in TensorFlow eager mode.\n",
    "        embeddings_freq: frequency (in epochs) at which embedding layers will\n",
    "          be visualized. If set to 0, embeddings won't be visualized.\n",
    "       "
   ]
  },
  {
   "cell_type": "code",
   "execution_count": 15,
   "metadata": {},
   "outputs": [],
   "source": [
    "from datetime import datetime"
   ]
  },
  {
   "cell_type": "code",
   "execution_count": 16,
   "metadata": {},
   "outputs": [
    {
     "data": {
      "text/plain": [
       "'2020-11-17--2016'"
      ]
     },
     "execution_count": 16,
     "metadata": {},
     "output_type": "execute_result"
    }
   ],
   "source": [
    "datetime.now().strftime(\"%Y-%m-%d--%H%M\")"
   ]
  },
  {
   "cell_type": "code",
   "execution_count": 17,
   "metadata": {},
   "outputs": [],
   "source": [
    "# WINDOWS: Use \"logs\\\\fit\"\n",
    "# MACOS/LINUX: Use \"logs\\fit\"\n",
    "\n",
    "log_directory = 'logs\\\\fit'\n",
    "\n",
    "# OPTIONAL: ADD A TIMESTAMP FOR UNIQUE FOLDER\n",
    "# timestamp = datetime.now().strftime(\"%Y-%m-%d--%H%M\")\n",
    "# log_directory = log_directory + '\\\\' + timestamp\n",
    "\n",
    "\n",
    "board = TensorBoard(log_dir=log_directory,histogram_freq=1,\n",
    "    write_graph=True,\n",
    "    write_images=True,\n",
    "    update_freq='epoch',\n",
    "    profile_batch=2,\n",
    "    embeddings_freq=1)"
   ]
  },
  {
   "cell_type": "markdown",
   "metadata": {},
   "source": [
    "Now create the model layers:"
   ]
  },
  {
   "cell_type": "code",
   "execution_count": 18,
   "metadata": {},
   "outputs": [],
   "source": [
    "model = Sequential()\n",
    "model.add(Dense(units=30,activation='relu'))\n",
    "model.add(Dropout(0.5))\n",
    "model.add(Dense(units=15,activation='relu'))\n",
    "model.add(Dropout(0.5))\n",
    "model.add(Dense(units=1,activation='sigmoid'))\n",
    "model.compile(loss='binary_crossentropy', optimizer='adam')"
   ]
  },
  {
   "cell_type": "markdown",
   "metadata": {},
   "source": [
    "## Train the Model"
   ]
  },
  {
   "cell_type": "code",
   "execution_count": 19,
   "metadata": {},
   "outputs": [
    {
     "name": "stdout",
     "output_type": "stream",
     "text": [
      "Epoch 1/600\n",
      " 1/14 [=>............................] - ETA: 0s - loss: 0.7448WARNING:tensorflow:From C:\\Users\\nightwolfer\\anaconda3\\lib\\site-packages\\tensorflow\\python\\ops\\summary_ops_v2.py:1277: stop (from tensorflow.python.eager.profiler) is deprecated and will be removed after 2020-07-01.\n",
      "Instructions for updating:\n",
      "use `tf.profiler.experimental.stop` instead.\n",
      " 2/14 [===>..........................] - ETA: 1s - loss: 0.6966WARNING:tensorflow:Callbacks method `on_train_batch_end` is slow compared to the batch time (batch time: 0.0221s vs `on_train_batch_end` time: 0.1850s). Check your callbacks.\n",
      "14/14 [==============================] - 1s 47ms/step - loss: 0.6959 - val_loss: 0.6712\n",
      "Epoch 2/600\n",
      "14/14 [==============================] - 0s 7ms/step - loss: 0.6803 - val_loss: 0.6593\n",
      "Epoch 3/600\n",
      "14/14 [==============================] - 0s 7ms/step - loss: 0.6656 - val_loss: 0.6437\n",
      "Epoch 4/600\n",
      "14/14 [==============================] - 0s 6ms/step - loss: 0.6465 - val_loss: 0.6263\n",
      "Epoch 5/600\n",
      "14/14 [==============================] - 0s 6ms/step - loss: 0.6356 - val_loss: 0.6081\n",
      "Epoch 6/600\n",
      "14/14 [==============================] - 0s 6ms/step - loss: 0.6264 - val_loss: 0.5889\n",
      "Epoch 7/600\n",
      "14/14 [==============================] - 0s 6ms/step - loss: 0.6031 - val_loss: 0.5747\n",
      "Epoch 8/600\n",
      "14/14 [==============================] - 0s 6ms/step - loss: 0.6005 - val_loss: 0.5542\n",
      "Epoch 9/600\n",
      "14/14 [==============================] - 0s 6ms/step - loss: 0.5864 - val_loss: 0.5400\n",
      "Epoch 10/600\n",
      "14/14 [==============================] - 0s 6ms/step - loss: 0.5660 - val_loss: 0.5251\n",
      "Epoch 11/600\n",
      "14/14 [==============================] - 0s 7ms/step - loss: 0.5520 - val_loss: 0.5039\n",
      "Epoch 12/600\n",
      "14/14 [==============================] - 0s 6ms/step - loss: 0.5432 - val_loss: 0.4863\n",
      "Epoch 13/600\n",
      "14/14 [==============================] - 0s 6ms/step - loss: 0.5303 - val_loss: 0.4709\n",
      "Epoch 14/600\n",
      "14/14 [==============================] - 0s 6ms/step - loss: 0.5096 - val_loss: 0.4516\n",
      "Epoch 15/600\n",
      "14/14 [==============================] - 0s 7ms/step - loss: 0.4950 - val_loss: 0.4334\n",
      "Epoch 16/600\n",
      "14/14 [==============================] - 0s 7ms/step - loss: 0.4865 - val_loss: 0.4114\n",
      "Epoch 17/600\n",
      "14/14 [==============================] - 0s 8ms/step - loss: 0.4618 - val_loss: 0.3916\n",
      "Epoch 18/600\n",
      "14/14 [==============================] - 0s 7ms/step - loss: 0.4503 - val_loss: 0.3719\n",
      "Epoch 19/600\n",
      "14/14 [==============================] - 0s 6ms/step - loss: 0.4337 - val_loss: 0.3524\n",
      "Epoch 20/600\n",
      "14/14 [==============================] - 0s 6ms/step - loss: 0.4188 - val_loss: 0.3375\n",
      "Epoch 21/600\n",
      "14/14 [==============================] - 0s 7ms/step - loss: 0.4077 - val_loss: 0.3218\n",
      "Epoch 22/600\n",
      "14/14 [==============================] - 0s 7ms/step - loss: 0.3829 - val_loss: 0.3031\n",
      "Epoch 23/600\n",
      "14/14 [==============================] - 0s 9ms/step - loss: 0.3773 - val_loss: 0.2807\n",
      "Epoch 24/600\n",
      "14/14 [==============================] - 0s 6ms/step - loss: 0.3631 - val_loss: 0.2700\n",
      "Epoch 25/600\n",
      "14/14 [==============================] - 0s 10ms/step - loss: 0.3673 - val_loss: 0.2574\n",
      "Epoch 26/600\n",
      "14/14 [==============================] - 0s 9ms/step - loss: 0.3256 - val_loss: 0.2452\n",
      "Epoch 27/600\n",
      "14/14 [==============================] - 0s 8ms/step - loss: 0.3258 - val_loss: 0.2354\n",
      "Epoch 28/600\n",
      "14/14 [==============================] - 0s 7ms/step - loss: 0.3086 - val_loss: 0.2199\n",
      "Epoch 29/600\n",
      "14/14 [==============================] - 0s 7ms/step - loss: 0.2828 - val_loss: 0.2073\n",
      "Epoch 30/600\n",
      "14/14 [==============================] - 0s 7ms/step - loss: 0.2976 - val_loss: 0.1991\n",
      "Epoch 31/600\n",
      "14/14 [==============================] - 0s 8ms/step - loss: 0.2787 - val_loss: 0.1948\n",
      "Epoch 32/600\n",
      "14/14 [==============================] - 0s 7ms/step - loss: 0.2938 - val_loss: 0.1822\n",
      "Epoch 33/600\n",
      "14/14 [==============================] - 0s 6ms/step - loss: 0.2832 - val_loss: 0.1802\n",
      "Epoch 34/600\n",
      "14/14 [==============================] - 0s 10ms/step - loss: 0.2845 - val_loss: 0.1777\n",
      "Epoch 35/600\n",
      "14/14 [==============================] - 0s 7ms/step - loss: 0.2770 - val_loss: 0.1679\n",
      "Epoch 36/600\n",
      "14/14 [==============================] - 0s 7ms/step - loss: 0.2490 - val_loss: 0.1625\n",
      "Epoch 37/600\n",
      "14/14 [==============================] - 0s 7ms/step - loss: 0.2447 - val_loss: 0.1588\n",
      "Epoch 38/600\n",
      "14/14 [==============================] - 0s 9ms/step - loss: 0.2331 - val_loss: 0.1546\n",
      "Epoch 39/600\n",
      "14/14 [==============================] - 0s 7ms/step - loss: 0.2389 - val_loss: 0.1457\n",
      "Epoch 40/600\n",
      "14/14 [==============================] - 0s 7ms/step - loss: 0.2270 - val_loss: 0.1439\n",
      "Epoch 41/600\n",
      "14/14 [==============================] - 0s 12ms/step - loss: 0.2379 - val_loss: 0.1435\n",
      "Epoch 42/600\n",
      "14/14 [==============================] - 0s 6ms/step - loss: 0.2199 - val_loss: 0.1348\n",
      "Epoch 43/600\n",
      "14/14 [==============================] - 0s 6ms/step - loss: 0.2142 - val_loss: 0.1296\n",
      "Epoch 44/600\n",
      "14/14 [==============================] - 0s 6ms/step - loss: 0.2489 - val_loss: 0.1342\n",
      "Epoch 45/600\n",
      "14/14 [==============================] - 0s 6ms/step - loss: 0.2108 - val_loss: 0.1372\n",
      "Epoch 46/600\n",
      "14/14 [==============================] - 0s 7ms/step - loss: 0.2284 - val_loss: 0.1403\n",
      "Epoch 47/600\n",
      "14/14 [==============================] - 0s 6ms/step - loss: 0.2316 - val_loss: 0.1266\n",
      "Epoch 48/600\n",
      "14/14 [==============================] - 0s 6ms/step - loss: 0.1908 - val_loss: 0.1190\n",
      "Epoch 49/600\n",
      "14/14 [==============================] - 0s 6ms/step - loss: 0.2068 - val_loss: 0.1198\n",
      "Epoch 50/600\n",
      "14/14 [==============================] - 0s 6ms/step - loss: 0.1894 - val_loss: 0.1208\n",
      "Epoch 51/600\n",
      "14/14 [==============================] - 0s 6ms/step - loss: 0.1959 - val_loss: 0.1220\n",
      "Epoch 52/600\n",
      "14/14 [==============================] - 0s 7ms/step - loss: 0.1701 - val_loss: 0.1140\n",
      "Epoch 53/600\n",
      "14/14 [==============================] - 0s 7ms/step - loss: 0.1865 - val_loss: 0.1075\n",
      "Epoch 54/600\n",
      "14/14 [==============================] - 0s 7ms/step - loss: 0.1652 - val_loss: 0.1106\n",
      "Epoch 55/600\n",
      "14/14 [==============================] - 0s 6ms/step - loss: 0.1684 - val_loss: 0.1120\n",
      "Epoch 56/600\n",
      "14/14 [==============================] - 0s 6ms/step - loss: 0.1742 - val_loss: 0.1045\n",
      "Epoch 57/600\n",
      "14/14 [==============================] - 0s 6ms/step - loss: 0.1839 - val_loss: 0.1069\n",
      "Epoch 58/600\n",
      "14/14 [==============================] - 0s 7ms/step - loss: 0.1771 - val_loss: 0.1162\n",
      "Epoch 59/600\n",
      "14/14 [==============================] - 0s 11ms/step - loss: 0.1716 - val_loss: 0.1092\n",
      "Epoch 60/600\n",
      "14/14 [==============================] - 0s 8ms/step - loss: 0.1724 - val_loss: 0.1065\n",
      "Epoch 61/600\n",
      "14/14 [==============================] - 0s 12ms/step - loss: 0.1981 - val_loss: 0.1050\n",
      "Epoch 62/600\n",
      "14/14 [==============================] - 0s 10ms/step - loss: 0.1835 - val_loss: 0.1089\n",
      "Epoch 63/600\n",
      "14/14 [==============================] - 0s 10ms/step - loss: 0.1682 - val_loss: 0.0995\n",
      "Epoch 64/600\n",
      "14/14 [==============================] - 0s 7ms/step - loss: 0.1623 - val_loss: 0.1012\n",
      "Epoch 65/600\n",
      "14/14 [==============================] - 0s 8ms/step - loss: 0.1488 - val_loss: 0.1091\n",
      "Epoch 66/600\n",
      "14/14 [==============================] - 0s 7ms/step - loss: 0.1557 - val_loss: 0.1012\n",
      "Epoch 67/600\n",
      "14/14 [==============================] - 0s 7ms/step - loss: 0.1759 - val_loss: 0.0958\n",
      "Epoch 68/600\n",
      "14/14 [==============================] - 0s 7ms/step - loss: 0.1369 - val_loss: 0.0929\n",
      "Epoch 69/600\n",
      "14/14 [==============================] - 0s 6ms/step - loss: 0.1906 - val_loss: 0.0950\n",
      "Epoch 70/600\n",
      "14/14 [==============================] - 0s 8ms/step - loss: 0.1469 - val_loss: 0.0978\n",
      "Epoch 71/600\n",
      "14/14 [==============================] - 0s 7ms/step - loss: 0.1771 - val_loss: 0.0926\n",
      "Epoch 72/600\n",
      "14/14 [==============================] - 0s 8ms/step - loss: 0.1421 - val_loss: 0.0971\n",
      "Epoch 73/600\n",
      "14/14 [==============================] - 0s 7ms/step - loss: 0.1698 - val_loss: 0.0938\n",
      "Epoch 74/600\n",
      "14/14 [==============================] - 0s 7ms/step - loss: 0.1294 - val_loss: 0.0932\n",
      "Epoch 75/600\n",
      "14/14 [==============================] - 0s 9ms/step - loss: 0.1493 - val_loss: 0.0990\n",
      "Epoch 76/600\n",
      "14/14 [==============================] - 0s 10ms/step - loss: 0.1404 - val_loss: 0.0949\n",
      "Epoch 77/600\n"
     ]
    },
    {
     "name": "stdout",
     "output_type": "stream",
     "text": [
      "14/14 [==============================] - 0s 9ms/step - loss: 0.1485 - val_loss: 0.0871\n",
      "Epoch 78/600\n",
      "14/14 [==============================] - 0s 10ms/step - loss: 0.1434 - val_loss: 0.0930\n",
      "Epoch 79/600\n",
      "14/14 [==============================] - 0s 12ms/step - loss: 0.1483 - val_loss: 0.1017\n",
      "Epoch 80/600\n",
      "14/14 [==============================] - 0s 11ms/step - loss: 0.1414 - val_loss: 0.1091\n",
      "Epoch 81/600\n",
      "14/14 [==============================] - 0s 13ms/step - loss: 0.1549 - val_loss: 0.0876\n",
      "Epoch 82/600\n",
      "14/14 [==============================] - 0s 11ms/step - loss: 0.1797 - val_loss: 0.0883\n",
      "Epoch 83/600\n",
      "14/14 [==============================] - 0s 6ms/step - loss: 0.1379 - val_loss: 0.0966\n",
      "Epoch 84/600\n",
      "14/14 [==============================] - 0s 6ms/step - loss: 0.1415 - val_loss: 0.1014\n",
      "Epoch 85/600\n",
      "14/14 [==============================] - 0s 6ms/step - loss: 0.1297 - val_loss: 0.0918\n",
      "Epoch 86/600\n",
      "14/14 [==============================] - 0s 6ms/step - loss: 0.1296 - val_loss: 0.0900\n",
      "Epoch 87/600\n",
      "14/14 [==============================] - 0s 7ms/step - loss: 0.1532 - val_loss: 0.0851\n",
      "Epoch 88/600\n",
      "14/14 [==============================] - 0s 9ms/step - loss: 0.1248 - val_loss: 0.0878\n",
      "Epoch 89/600\n",
      "14/14 [==============================] - 0s 12ms/step - loss: 0.1449 - val_loss: 0.1039\n",
      "Epoch 90/600\n",
      "14/14 [==============================] - 0s 14ms/step - loss: 0.1446 - val_loss: 0.0860\n",
      "Epoch 91/600\n",
      "14/14 [==============================] - 0s 12ms/step - loss: 0.1318 - val_loss: 0.0905\n",
      "Epoch 92/600\n",
      "14/14 [==============================] - 0s 12ms/step - loss: 0.1149 - val_loss: 0.0870\n",
      "Epoch 93/600\n",
      "14/14 [==============================] - 0s 7ms/step - loss: 0.1107 - val_loss: 0.0852\n",
      "Epoch 94/600\n",
      "14/14 [==============================] - 0s 8ms/step - loss: 0.1248 - val_loss: 0.0995\n",
      "Epoch 95/600\n",
      "14/14 [==============================] - 0s 8ms/step - loss: 0.1253 - val_loss: 0.0816\n",
      "Epoch 96/600\n",
      "14/14 [==============================] - 0s 8ms/step - loss: 0.1311 - val_loss: 0.0859\n",
      "Epoch 97/600\n",
      "14/14 [==============================] - 0s 12ms/step - loss: 0.1447 - val_loss: 0.0849\n",
      "Epoch 98/600\n",
      "14/14 [==============================] - 0s 9ms/step - loss: 0.1476 - val_loss: 0.0870\n",
      "Epoch 99/600\n",
      "14/14 [==============================] - 0s 7ms/step - loss: 0.1536 - val_loss: 0.0841\n",
      "Epoch 100/600\n",
      "14/14 [==============================] - 0s 6ms/step - loss: 0.1527 - val_loss: 0.1126\n",
      "Epoch 101/600\n",
      "14/14 [==============================] - 0s 11ms/step - loss: 0.1352 - val_loss: 0.1020\n",
      "Epoch 102/600\n",
      "14/14 [==============================] - 0s 9ms/step - loss: 0.1306 - val_loss: 0.0884\n",
      "Epoch 103/600\n",
      "14/14 [==============================] - 0s 7ms/step - loss: 0.1301 - val_loss: 0.0888\n",
      "Epoch 104/600\n",
      "14/14 [==============================] - 0s 6ms/step - loss: 0.1229 - val_loss: 0.0934\n",
      "Epoch 105/600\n",
      "14/14 [==============================] - 0s 12ms/step - loss: 0.1235 - val_loss: 0.0831\n",
      "Epoch 106/600\n",
      "14/14 [==============================] - 0s 12ms/step - loss: 0.1129 - val_loss: 0.0827\n",
      "Epoch 107/600\n",
      "14/14 [==============================] - 0s 6ms/step - loss: 0.1249 - val_loss: 0.1056\n",
      "Epoch 108/600\n",
      "14/14 [==============================] - 0s 6ms/step - loss: 0.1277 - val_loss: 0.0799\n",
      "Epoch 109/600\n",
      "14/14 [==============================] - 0s 6ms/step - loss: 0.1053 - val_loss: 0.0807\n",
      "Epoch 110/600\n",
      "14/14 [==============================] - 0s 8ms/step - loss: 0.1039 - val_loss: 0.0982\n",
      "Epoch 111/600\n",
      "14/14 [==============================] - 0s 7ms/step - loss: 0.1241 - val_loss: 0.0855\n",
      "Epoch 112/600\n",
      "14/14 [==============================] - 0s 7ms/step - loss: 0.1355 - val_loss: 0.0906\n",
      "Epoch 113/600\n",
      "14/14 [==============================] - 0s 8ms/step - loss: 0.1290 - val_loss: 0.0904\n",
      "Epoch 114/600\n",
      "14/14 [==============================] - 0s 8ms/step - loss: 0.1273 - val_loss: 0.0824\n",
      "Epoch 115/600\n",
      "14/14 [==============================] - 0s 7ms/step - loss: 0.1278 - val_loss: 0.0809\n",
      "Epoch 116/600\n",
      "14/14 [==============================] - 0s 8ms/step - loss: 0.1259 - val_loss: 0.0849\n",
      "Epoch 117/600\n",
      "14/14 [==============================] - 0s 8ms/step - loss: 0.1240 - val_loss: 0.0855\n",
      "Epoch 118/600\n",
      "14/14 [==============================] - 0s 8ms/step - loss: 0.1102 - val_loss: 0.0901\n",
      "Epoch 119/600\n",
      "14/14 [==============================] - 0s 8ms/step - loss: 0.1360 - val_loss: 0.0846\n",
      "Epoch 120/600\n",
      "14/14 [==============================] - 0s 6ms/step - loss: 0.1019 - val_loss: 0.0937\n",
      "Epoch 121/600\n",
      "14/14 [==============================] - 0s 6ms/step - loss: 0.1146 - val_loss: 0.0914\n",
      "Epoch 122/600\n",
      "14/14 [==============================] - 0s 7ms/step - loss: 0.1190 - val_loss: 0.0889\n",
      "Epoch 123/600\n",
      "14/14 [==============================] - 0s 6ms/step - loss: 0.1092 - val_loss: 0.0870\n",
      "Epoch 124/600\n",
      "14/14 [==============================] - 0s 8ms/step - loss: 0.0967 - val_loss: 0.0850\n",
      "Epoch 125/600\n",
      "14/14 [==============================] - 0s 9ms/step - loss: 0.0892 - val_loss: 0.0895\n",
      "Epoch 126/600\n",
      "14/14 [==============================] - 0s 6ms/step - loss: 0.1049 - val_loss: 0.0805\n",
      "Epoch 127/600\n",
      "14/14 [==============================] - 0s 8ms/step - loss: 0.1205 - val_loss: 0.1009\n",
      "Epoch 128/600\n",
      "14/14 [==============================] - 0s 8ms/step - loss: 0.0978 - val_loss: 0.0904\n",
      "Epoch 129/600\n",
      "14/14 [==============================] - 0s 7ms/step - loss: 0.1122 - val_loss: 0.0797\n",
      "Epoch 130/600\n",
      "14/14 [==============================] - 0s 8ms/step - loss: 0.1111 - val_loss: 0.0825\n",
      "Epoch 131/600\n",
      "14/14 [==============================] - 0s 10ms/step - loss: 0.1242 - val_loss: 0.1004\n",
      "Epoch 132/600\n",
      "14/14 [==============================] - 0s 9ms/step - loss: 0.1097 - val_loss: 0.0999\n",
      "Epoch 133/600\n",
      "14/14 [==============================] - 0s 11ms/step - loss: 0.1104 - val_loss: 0.0852\n",
      "Epoch 134/600\n",
      "14/14 [==============================] - 0s 12ms/step - loss: 0.1121 - val_loss: 0.0904\n",
      "Epoch 135/600\n",
      "14/14 [==============================] - 0s 9ms/step - loss: 0.1211 - val_loss: 0.0996\n",
      "Epoch 136/600\n",
      "14/14 [==============================] - 0s 9ms/step - loss: 0.0973 - val_loss: 0.0857\n",
      "Epoch 137/600\n",
      "14/14 [==============================] - 0s 8ms/step - loss: 0.1124 - val_loss: 0.0950\n",
      "Epoch 138/600\n",
      "14/14 [==============================] - 0s 8ms/step - loss: 0.1122 - val_loss: 0.0912\n",
      "Epoch 139/600\n",
      "14/14 [==============================] - 0s 8ms/step - loss: 0.0947 - val_loss: 0.0924\n",
      "Epoch 140/600\n",
      "14/14 [==============================] - 0s 8ms/step - loss: 0.1145 - val_loss: 0.0841\n",
      "Epoch 141/600\n",
      "14/14 [==============================] - 0s 11ms/step - loss: 0.0961 - val_loss: 0.0839\n",
      "Epoch 142/600\n",
      "14/14 [==============================] - 0s 8ms/step - loss: 0.1106 - val_loss: 0.0961\n",
      "Epoch 143/600\n",
      "14/14 [==============================] - 0s 11ms/step - loss: 0.1044 - val_loss: 0.0859\n",
      "Epoch 144/600\n",
      "14/14 [==============================] - 0s 9ms/step - loss: 0.0932 - val_loss: 0.0867\n",
      "Epoch 145/600\n",
      "14/14 [==============================] - 0s 11ms/step - loss: 0.1156 - val_loss: 0.0814\n",
      "Epoch 146/600\n",
      "14/14 [==============================] - 0s 10ms/step - loss: 0.0982 - val_loss: 0.0840\n",
      "Epoch 147/600\n",
      "14/14 [==============================] - 0s 15ms/step - loss: 0.0960 - val_loss: 0.0929\n",
      "Epoch 148/600\n",
      "14/14 [==============================] - 0s 12ms/step - loss: 0.1095 - val_loss: 0.0805\n",
      "Epoch 149/600\n",
      "14/14 [==============================] - 0s 7ms/step - loss: 0.1333 - val_loss: 0.0992\n",
      "Epoch 150/600\n",
      "14/14 [==============================] - 0s 8ms/step - loss: 0.0970 - val_loss: 0.0844\n",
      "Epoch 151/600\n",
      "14/14 [==============================] - 0s 7ms/step - loss: 0.1098 - val_loss: 0.0943\n",
      "Epoch 152/600\n",
      "14/14 [==============================] - 0s 9ms/step - loss: 0.1003 - val_loss: 0.0935\n",
      "Epoch 153/600\n",
      "14/14 [==============================] - 0s 6ms/step - loss: 0.0888 - val_loss: 0.0933\n",
      "Epoch 154/600\n",
      "14/14 [==============================] - 0s 6ms/step - loss: 0.0898 - val_loss: 0.0940\n",
      "Epoch 00154: early stopping\n"
     ]
    },
    {
     "data": {
      "text/plain": [
       "<tensorflow.python.keras.callbacks.History at 0x149c7d6c9c8>"
      ]
     },
     "execution_count": 19,
     "metadata": {},
     "output_type": "execute_result"
    }
   ],
   "source": [
    "model.fit(x=X_train, \n",
    "          y=y_train, \n",
    "          epochs=600,\n",
    "          validation_data=(X_test, y_test), verbose=1,\n",
    "          callbacks=[early_stop,board]\n",
    "          )"
   ]
  },
  {
   "cell_type": "markdown",
   "metadata": {},
   "source": [
    "# Running Tensorboard\n"
   ]
  },
  {
   "cell_type": "markdown",
   "metadata": {},
   "source": [
    "## Running through the Command Line\n",
    "\n",
    "**Watch video to see how to run Tensorboard through a command line call.**"
   ]
  },
  {
   "cell_type": "markdown",
   "metadata": {},
   "source": [
    "Tensorboard will run locally in your browser at [http://localhost:6006/](http://localhost:6006/)\n"
   ]
  },
  {
   "cell_type": "code",
   "execution_count": 19,
   "metadata": {},
   "outputs": [
    {
     "name": "stdout",
     "output_type": "stream",
     "text": [
      "logs\\fit\n"
     ]
    }
   ],
   "source": [
    "print(log_directory)"
   ]
  },
  {
   "cell_type": "code",
   "execution_count": 20,
   "metadata": {},
   "outputs": [
    {
     "data": {
      "text/plain": [
       "'C:\\\\Users\\\\nightwolfer\\\\git\\\\Python_Machine_learning\\\\TensorFlow_FILES\\\\ANNs'"
      ]
     },
     "execution_count": 20,
     "metadata": {},
     "output_type": "execute_result"
    }
   ],
   "source": [
    "pwd"
   ]
  },
  {
   "cell_type": "markdown",
   "metadata": {},
   "source": [
    "### Use cd at your command line to change directory to the file path reported back by pwd or your current .py file location.\n",
    "### Then run this code at your command line or terminal"
   ]
  },
  {
   "cell_type": "code",
   "execution_count": 25,
   "metadata": {},
   "outputs": [],
   "source": [
    "import os\n",
    "_ = os.system(\"conda env list | grep '*'\")"
   ]
  },
  {
   "cell_type": "code",
   "execution_count": null,
   "metadata": {},
   "outputs": [],
   "source": [
    "tensorboard --logdir logs\\fit "
   ]
  }
 ],
 "metadata": {
  "kernelspec": {
   "display_name": "Python 3",
   "language": "python",
   "name": "python3"
  },
  "language_info": {
   "codemirror_mode": {
    "name": "ipython",
    "version": 3
   },
   "file_extension": ".py",
   "mimetype": "text/x-python",
   "name": "python",
   "nbconvert_exporter": "python",
   "pygments_lexer": "ipython3",
   "version": "3.7.6"
  }
 },
 "nbformat": 4,
 "nbformat_minor": 2
}
